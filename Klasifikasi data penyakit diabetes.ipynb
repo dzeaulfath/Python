{
  "nbformat": 4,
  "nbformat_minor": 0,
  "metadata": {
    "colab": {
      "name": "Klasifikasi data penyakit diabetes",
      "provenance": [],
      "include_colab_link": true
    },
    "kernelspec": {
      "name": "python3",
      "display_name": "Python 3"
    },
    "language_info": {
      "name": "python"
    }
  },
  "cells": [
    {
      "cell_type": "markdown",
      "metadata": {
        "id": "view-in-github",
        "colab_type": "text"
      },
      "source": [
        "<a href=\"https://colab.research.google.com/github/dzeaulfath/Python/blob/main/Klasifikasi%20data%20penyakit%20diabetes.ipynb\" target=\"_parent\"><img src=\"https://colab.research.google.com/assets/colab-badge.svg\" alt=\"Open In Colab\"/></a>"
      ]
    },
    {
      "cell_type": "markdown",
      "metadata": {
        "id": "UPeebkNNZcV2"
      },
      "source": [
        "**Import Library Pandas dan Numpy**"
      ]
    },
    {
      "cell_type": "code",
      "metadata": {
        "id": "4_uulZNCxeHx"
      },
      "source": [
        "import pandas as pd\n",
        "import numpy as np"
      ],
      "execution_count": 1,
      "outputs": []
    },
    {
      "cell_type": "markdown",
      "metadata": {
        "id": "hESCcIWiZno6"
      },
      "source": [
        "**Import Data dari GitHub**\n",
        "\n",
        "Disini mengimport data yang akan digunakan untuk melatih data (Training Data Set)"
      ]
    },
    {
      "cell_type": "code",
      "metadata": {
        "colab": {
          "base_uri": "https://localhost:8080/"
        },
        "id": "5BztGpWwPLK0",
        "outputId": "4eeed72a-05f6-4393-f9c4-6add8ef0be02"
      },
      "source": [
        "!wget -O diabetes_latih.csv https://raw.githubusercontent.com/jumadi-cloud/Fundamental-Python/main/Dataset/diabetes_latih.csv"
      ],
      "execution_count": 2,
      "outputs": [
        {
          "output_type": "stream",
          "name": "stdout",
          "text": [
            "--2021-09-30 06:35:59--  https://raw.githubusercontent.com/jumadi-cloud/Fundamental-Python/main/Dataset/diabetes_latih.csv\n",
            "Resolving raw.githubusercontent.com (raw.githubusercontent.com)... 185.199.108.133, 185.199.109.133, 185.199.111.133, ...\n",
            "Connecting to raw.githubusercontent.com (raw.githubusercontent.com)|185.199.108.133|:443... connected.\n",
            "HTTP request sent, awaiting response... 200 OK\n",
            "Length: 18518 (18K) [text/plain]\n",
            "Saving to: ‘diabetes_latih.csv’\n",
            "\n",
            "diabetes_latih.csv  100%[===================>]  18.08K  --.-KB/s    in 0.001s  \n",
            "\n",
            "2021-09-30 06:36:00 (13.4 MB/s) - ‘diabetes_latih.csv’ saved [18518/18518]\n",
            "\n"
          ]
        }
      ]
    },
    {
      "cell_type": "markdown",
      "metadata": {
        "id": "etTwR61VZ6hi"
      },
      "source": [
        "**Import Data dari Github**\n",
        "\n",
        "Lalu disini mengimpor disini digunakan untuk mengimpor data dari github yang akan digunakan untuk data uji (Testing Data Set)"
      ]
    },
    {
      "cell_type": "code",
      "metadata": {
        "colab": {
          "base_uri": "https://localhost:8080/"
        },
        "id": "2krHqeyXQi0I",
        "outputId": "8e11a9c9-1e57-4a47-8681-8d53af451b3a"
      },
      "source": [
        "!wget -O diabetes_uji.csv https://raw.githubusercontent.com/jumadi-cloud/Fundamental-Python/main/Dataset/diabetes_uji.csv"
      ],
      "execution_count": 3,
      "outputs": [
        {
          "output_type": "stream",
          "name": "stdout",
          "text": [
            "--2021-09-30 06:36:00--  https://raw.githubusercontent.com/jumadi-cloud/Fundamental-Python/main/Dataset/diabetes_uji.csv\n",
            "Resolving raw.githubusercontent.com (raw.githubusercontent.com)... 185.199.108.133, 185.199.110.133, 185.199.109.133, ...\n",
            "Connecting to raw.githubusercontent.com (raw.githubusercontent.com)|185.199.108.133|:443... connected.\n",
            "HTTP request sent, awaiting response... 200 OK\n",
            "Length: 4685 (4.6K) [text/plain]\n",
            "Saving to: ‘diabetes_uji.csv’\n",
            "\n",
            "diabetes_uji.csv    100%[===================>]   4.58K  --.-KB/s    in 0s      \n",
            "\n",
            "2021-09-30 06:36:00 (30.8 MB/s) - ‘diabetes_uji.csv’ saved [4685/4685]\n",
            "\n"
          ]
        }
      ]
    },
    {
      "cell_type": "markdown",
      "metadata": {
        "id": "es73KsXde_xV"
      },
      "source": [
        "**Run Untuk Latihan**"
      ]
    },
    {
      "cell_type": "code",
      "metadata": {
        "id": "XkWjKYwLPPvl"
      },
      "source": [
        "df = pd.read_csv('diabetes_latih.csv')\n",
        "\n",
        "X_train = df.values\n",
        "X_train = np.delete(X_train,8, axis=1)\n",
        "\n",
        "y_train = df['Outcome'].values\n",
        "\n",
        "df = pd.read_csv('diabetes_uji.csv')\n",
        "\n",
        "X_test = df.values\n",
        "X_test = np.delete(X_test,8,axis=1)\n",
        "\n",
        "y_test = df['Outcome'].values"
      ],
      "execution_count": 4,
      "outputs": []
    },
    {
      "cell_type": "code",
      "metadata": {
        "id": "dkYfQIEwRKMO"
      },
      "source": [
        "from sklearn.preprocessing import MinMaxScaler\n",
        "X_train = MinMaxScaler().fit_transform(X_train)\n",
        "X_test = MinMaxScaler().fit_transform(X_test)"
      ],
      "execution_count": 5,
      "outputs": []
    },
    {
      "cell_type": "code",
      "metadata": {
        "id": "Sc5NDhONRbHJ"
      },
      "source": [
        "from keras.models import Sequential\n",
        "from keras.layers import Dense\n",
        "\n",
        "model = Sequential()\n",
        "\n",
        "model.add(Dense(12, activation='relu', input_shape=(8,)))\n",
        "\n",
        "model.add(Dense(8, activation='relu'))\n",
        "model.add(Dense(8, activation='relu'))\n",
        "\n",
        "model.add(Dense(1, activation='sigmoid'))\n",
        "\n",
        "model.compile(loss='binary_crossentropy', optimizer='adam', metrics=['accuracy'])"
      ],
      "execution_count": 6,
      "outputs": []
    },
    {
      "cell_type": "code",
      "metadata": {
        "colab": {
          "base_uri": "https://localhost:8080/"
        },
        "id": "7zvk9lhyRgm7",
        "outputId": "7de38d17-3260-43a8-a0bc-6512ad92eeb9"
      },
      "source": [
        "model.summary()\n"
      ],
      "execution_count": 7,
      "outputs": [
        {
          "output_type": "stream",
          "name": "stdout",
          "text": [
            "Model: \"sequential\"\n",
            "_________________________________________________________________\n",
            "Layer (type)                 Output Shape              Param #   \n",
            "=================================================================\n",
            "dense (Dense)                (None, 12)                108       \n",
            "_________________________________________________________________\n",
            "dense_1 (Dense)              (None, 8)                 104       \n",
            "_________________________________________________________________\n",
            "dense_2 (Dense)              (None, 8)                 72        \n",
            "_________________________________________________________________\n",
            "dense_3 (Dense)              (None, 1)                 9         \n",
            "=================================================================\n",
            "Total params: 293\n",
            "Trainable params: 293\n",
            "Non-trainable params: 0\n",
            "_________________________________________________________________\n"
          ]
        }
      ]
    },
    {
      "cell_type": "markdown",
      "metadata": {
        "id": "PiwssiDpfMwR"
      },
      "source": [
        "**Menampilkan Isi dari Tabel**"
      ]
    },
    {
      "cell_type": "code",
      "metadata": {
        "colab": {
          "base_uri": "https://localhost:8080/",
          "height": 206
        },
        "id": "FG0HcFPRRiWV",
        "outputId": "18655a39-d9cc-41ce-9c43-d2e702fb4c43"
      },
      "source": [
        "df.head()\n"
      ],
      "execution_count": 8,
      "outputs": [
        {
          "output_type": "execute_result",
          "data": {
            "text/html": [
              "<div>\n",
              "<style scoped>\n",
              "    .dataframe tbody tr th:only-of-type {\n",
              "        vertical-align: middle;\n",
              "    }\n",
              "\n",
              "    .dataframe tbody tr th {\n",
              "        vertical-align: top;\n",
              "    }\n",
              "\n",
              "    .dataframe thead th {\n",
              "        text-align: right;\n",
              "    }\n",
              "</style>\n",
              "<table border=\"1\" class=\"dataframe\">\n",
              "  <thead>\n",
              "    <tr style=\"text-align: right;\">\n",
              "      <th></th>\n",
              "      <th>Pregnancies</th>\n",
              "      <th>Glucose</th>\n",
              "      <th>BloodPressure</th>\n",
              "      <th>SkinThickness</th>\n",
              "      <th>Insulin</th>\n",
              "      <th>BMI</th>\n",
              "      <th>DiabetesPedigreeFunction</th>\n",
              "      <th>Age</th>\n",
              "      <th>Outcome</th>\n",
              "    </tr>\n",
              "  </thead>\n",
              "  <tbody>\n",
              "    <tr>\n",
              "      <th>0</th>\n",
              "      <td>6</td>\n",
              "      <td>148</td>\n",
              "      <td>72</td>\n",
              "      <td>35</td>\n",
              "      <td>0</td>\n",
              "      <td>33.6</td>\n",
              "      <td>0.627</td>\n",
              "      <td>50</td>\n",
              "      <td>1</td>\n",
              "    </tr>\n",
              "    <tr>\n",
              "      <th>1</th>\n",
              "      <td>1</td>\n",
              "      <td>85</td>\n",
              "      <td>66</td>\n",
              "      <td>29</td>\n",
              "      <td>0</td>\n",
              "      <td>26.6</td>\n",
              "      <td>0.351</td>\n",
              "      <td>31</td>\n",
              "      <td>0</td>\n",
              "    </tr>\n",
              "    <tr>\n",
              "      <th>2</th>\n",
              "      <td>8</td>\n",
              "      <td>183</td>\n",
              "      <td>64</td>\n",
              "      <td>0</td>\n",
              "      <td>0</td>\n",
              "      <td>23.3</td>\n",
              "      <td>0.672</td>\n",
              "      <td>32</td>\n",
              "      <td>1</td>\n",
              "    </tr>\n",
              "    <tr>\n",
              "      <th>3</th>\n",
              "      <td>1</td>\n",
              "      <td>89</td>\n",
              "      <td>66</td>\n",
              "      <td>23</td>\n",
              "      <td>94</td>\n",
              "      <td>28.1</td>\n",
              "      <td>0.167</td>\n",
              "      <td>21</td>\n",
              "      <td>0</td>\n",
              "    </tr>\n",
              "    <tr>\n",
              "      <th>4</th>\n",
              "      <td>0</td>\n",
              "      <td>137</td>\n",
              "      <td>40</td>\n",
              "      <td>35</td>\n",
              "      <td>168</td>\n",
              "      <td>43.1</td>\n",
              "      <td>2.288</td>\n",
              "      <td>33</td>\n",
              "      <td>1</td>\n",
              "    </tr>\n",
              "  </tbody>\n",
              "</table>\n",
              "</div>"
            ],
            "text/plain": [
              "   Pregnancies  Glucose  BloodPressure  ...  DiabetesPedigreeFunction  Age  Outcome\n",
              "0            6      148             72  ...                     0.627   50        1\n",
              "1            1       85             66  ...                     0.351   31        0\n",
              "2            8      183             64  ...                     0.672   32        1\n",
              "3            1       89             66  ...                     0.167   21        0\n",
              "4            0      137             40  ...                     2.288   33        1\n",
              "\n",
              "[5 rows x 9 columns]"
            ]
          },
          "metadata": {},
          "execution_count": 8
        }
      ]
    },
    {
      "cell_type": "code",
      "metadata": {
        "colab": {
          "base_uri": "https://localhost:8080/"
        },
        "id": "YtVcZGu8RqUz",
        "outputId": "d2d7e254-23a3-4983-8cfc-9e2c65996a9f"
      },
      "source": [
        "model.fit(X_train, y_train, epochs=200, verbose=1, batch_size=20)\n",
        "\n",
        "y_pred = model.predict(X_test)\n",
        "y_pred = y_pred >= 0.13"
      ],
      "execution_count": 9,
      "outputs": [
        {
          "output_type": "stream",
          "name": "stdout",
          "text": [
            "Epoch 1/200\n",
            "31/31 [==============================] - 1s 2ms/step - loss: 0.6933 - accuracy: 0.5277\n",
            "Epoch 2/200\n",
            "31/31 [==============================] - 0s 2ms/step - loss: 0.6701 - accuracy: 0.6515\n",
            "Epoch 3/200\n",
            "31/31 [==============================] - 0s 1ms/step - loss: 0.6585 - accuracy: 0.6515\n",
            "Epoch 4/200\n",
            "31/31 [==============================] - 0s 1ms/step - loss: 0.6530 - accuracy: 0.6515\n",
            "Epoch 5/200\n",
            "31/31 [==============================] - 0s 1ms/step - loss: 0.6493 - accuracy: 0.6515\n",
            "Epoch 6/200\n",
            "31/31 [==============================] - 0s 2ms/step - loss: 0.6462 - accuracy: 0.6515\n",
            "Epoch 7/200\n",
            "31/31 [==============================] - 0s 1ms/step - loss: 0.6421 - accuracy: 0.6515\n",
            "Epoch 8/200\n",
            "31/31 [==============================] - 0s 1ms/step - loss: 0.6385 - accuracy: 0.6515\n",
            "Epoch 9/200\n",
            "31/31 [==============================] - 0s 2ms/step - loss: 0.6337 - accuracy: 0.6515\n",
            "Epoch 10/200\n",
            "31/31 [==============================] - 0s 1ms/step - loss: 0.6284 - accuracy: 0.6515\n",
            "Epoch 11/200\n",
            "31/31 [==============================] - 0s 1ms/step - loss: 0.6219 - accuracy: 0.6515\n",
            "Epoch 12/200\n",
            "31/31 [==============================] - 0s 1ms/step - loss: 0.6149 - accuracy: 0.6564\n",
            "Epoch 13/200\n",
            "31/31 [==============================] - 0s 2ms/step - loss: 0.6069 - accuracy: 0.6645\n",
            "Epoch 14/200\n",
            "31/31 [==============================] - 0s 1ms/step - loss: 0.5974 - accuracy: 0.7068\n",
            "Epoch 15/200\n",
            "31/31 [==============================] - 0s 2ms/step - loss: 0.5879 - accuracy: 0.6922\n",
            "Epoch 16/200\n",
            "31/31 [==============================] - 0s 1ms/step - loss: 0.5788 - accuracy: 0.7101\n",
            "Epoch 17/200\n",
            "31/31 [==============================] - 0s 2ms/step - loss: 0.5681 - accuracy: 0.7068\n",
            "Epoch 18/200\n",
            "31/31 [==============================] - 0s 1ms/step - loss: 0.5581 - accuracy: 0.7101\n",
            "Epoch 19/200\n",
            "31/31 [==============================] - 0s 2ms/step - loss: 0.5488 - accuracy: 0.7215\n",
            "Epoch 20/200\n",
            "31/31 [==============================] - 0s 2ms/step - loss: 0.5379 - accuracy: 0.7231\n",
            "Epoch 21/200\n",
            "31/31 [==============================] - 0s 1ms/step - loss: 0.5294 - accuracy: 0.7329\n",
            "Epoch 22/200\n",
            "31/31 [==============================] - 0s 2ms/step - loss: 0.5213 - accuracy: 0.7345\n",
            "Epoch 23/200\n",
            "31/31 [==============================] - 0s 2ms/step - loss: 0.5147 - accuracy: 0.7378\n",
            "Epoch 24/200\n",
            "31/31 [==============================] - 0s 2ms/step - loss: 0.5042 - accuracy: 0.7541\n",
            "Epoch 25/200\n",
            "31/31 [==============================] - 0s 3ms/step - loss: 0.4977 - accuracy: 0.7622\n",
            "Epoch 26/200\n",
            "31/31 [==============================] - 0s 2ms/step - loss: 0.4954 - accuracy: 0.7638\n",
            "Epoch 27/200\n",
            "31/31 [==============================] - 0s 2ms/step - loss: 0.4855 - accuracy: 0.7655\n",
            "Epoch 28/200\n",
            "31/31 [==============================] - 0s 1ms/step - loss: 0.4840 - accuracy: 0.7671\n",
            "Epoch 29/200\n",
            "31/31 [==============================] - 0s 1ms/step - loss: 0.4813 - accuracy: 0.7752\n",
            "Epoch 30/200\n",
            "31/31 [==============================] - 0s 2ms/step - loss: 0.4782 - accuracy: 0.7671\n",
            "Epoch 31/200\n",
            "31/31 [==============================] - 0s 1ms/step - loss: 0.4712 - accuracy: 0.7769\n",
            "Epoch 32/200\n",
            "31/31 [==============================] - 0s 1ms/step - loss: 0.4687 - accuracy: 0.7801\n",
            "Epoch 33/200\n",
            "31/31 [==============================] - 0s 1ms/step - loss: 0.4653 - accuracy: 0.7801\n",
            "Epoch 34/200\n",
            "31/31 [==============================] - 0s 1ms/step - loss: 0.4632 - accuracy: 0.7785\n",
            "Epoch 35/200\n",
            "31/31 [==============================] - 0s 1ms/step - loss: 0.4586 - accuracy: 0.7915\n",
            "Epoch 36/200\n",
            "31/31 [==============================] - 0s 1ms/step - loss: 0.4634 - accuracy: 0.7850\n",
            "Epoch 37/200\n",
            "31/31 [==============================] - 0s 2ms/step - loss: 0.4578 - accuracy: 0.7915\n",
            "Epoch 38/200\n",
            "31/31 [==============================] - 0s 2ms/step - loss: 0.4571 - accuracy: 0.7964\n",
            "Epoch 39/200\n",
            "31/31 [==============================] - 0s 1ms/step - loss: 0.4553 - accuracy: 0.7834\n",
            "Epoch 40/200\n",
            "31/31 [==============================] - 0s 2ms/step - loss: 0.4544 - accuracy: 0.7899\n",
            "Epoch 41/200\n",
            "31/31 [==============================] - 0s 2ms/step - loss: 0.4497 - accuracy: 0.7915\n",
            "Epoch 42/200\n",
            "31/31 [==============================] - 0s 1ms/step - loss: 0.4486 - accuracy: 0.7980\n",
            "Epoch 43/200\n",
            "31/31 [==============================] - 0s 1ms/step - loss: 0.4525 - accuracy: 0.7899\n",
            "Epoch 44/200\n",
            "31/31 [==============================] - 0s 1ms/step - loss: 0.4495 - accuracy: 0.7834\n",
            "Epoch 45/200\n",
            "31/31 [==============================] - 0s 1ms/step - loss: 0.4454 - accuracy: 0.8046\n",
            "Epoch 46/200\n",
            "31/31 [==============================] - 0s 1ms/step - loss: 0.4472 - accuracy: 0.7948\n",
            "Epoch 47/200\n",
            "31/31 [==============================] - 0s 1ms/step - loss: 0.4453 - accuracy: 0.7980\n",
            "Epoch 48/200\n",
            "31/31 [==============================] - 0s 1ms/step - loss: 0.4446 - accuracy: 0.7980\n",
            "Epoch 49/200\n",
            "31/31 [==============================] - 0s 2ms/step - loss: 0.4447 - accuracy: 0.7964\n",
            "Epoch 50/200\n",
            "31/31 [==============================] - 0s 2ms/step - loss: 0.4472 - accuracy: 0.7899\n",
            "Epoch 51/200\n",
            "31/31 [==============================] - 0s 2ms/step - loss: 0.4478 - accuracy: 0.8046\n",
            "Epoch 52/200\n",
            "31/31 [==============================] - 0s 2ms/step - loss: 0.4446 - accuracy: 0.8013\n",
            "Epoch 53/200\n",
            "31/31 [==============================] - 0s 1ms/step - loss: 0.4458 - accuracy: 0.7883\n",
            "Epoch 54/200\n",
            "31/31 [==============================] - 0s 1ms/step - loss: 0.4428 - accuracy: 0.7964\n",
            "Epoch 55/200\n",
            "31/31 [==============================] - 0s 2ms/step - loss: 0.4500 - accuracy: 0.7850\n",
            "Epoch 56/200\n",
            "31/31 [==============================] - 0s 2ms/step - loss: 0.4391 - accuracy: 0.8046\n",
            "Epoch 57/200\n",
            "31/31 [==============================] - 0s 1ms/step - loss: 0.4449 - accuracy: 0.7899\n",
            "Epoch 58/200\n",
            "31/31 [==============================] - 0s 1ms/step - loss: 0.4416 - accuracy: 0.7948\n",
            "Epoch 59/200\n",
            "31/31 [==============================] - 0s 1ms/step - loss: 0.4407 - accuracy: 0.7915\n",
            "Epoch 60/200\n",
            "31/31 [==============================] - 0s 2ms/step - loss: 0.4405 - accuracy: 0.7932\n",
            "Epoch 61/200\n",
            "31/31 [==============================] - 0s 2ms/step - loss: 0.4393 - accuracy: 0.7980\n",
            "Epoch 62/200\n",
            "31/31 [==============================] - 0s 1ms/step - loss: 0.4378 - accuracy: 0.7980\n",
            "Epoch 63/200\n",
            "31/31 [==============================] - 0s 2ms/step - loss: 0.4373 - accuracy: 0.7997\n",
            "Epoch 64/200\n",
            "31/31 [==============================] - 0s 1ms/step - loss: 0.4470 - accuracy: 0.8062\n",
            "Epoch 65/200\n",
            "31/31 [==============================] - 0s 1ms/step - loss: 0.4372 - accuracy: 0.7932\n",
            "Epoch 66/200\n",
            "31/31 [==============================] - 0s 1ms/step - loss: 0.4358 - accuracy: 0.7866\n",
            "Epoch 67/200\n",
            "31/31 [==============================] - 0s 2ms/step - loss: 0.4404 - accuracy: 0.7899\n",
            "Epoch 68/200\n",
            "31/31 [==============================] - 0s 2ms/step - loss: 0.4418 - accuracy: 0.7932\n",
            "Epoch 69/200\n",
            "31/31 [==============================] - 0s 2ms/step - loss: 0.4352 - accuracy: 0.7964\n",
            "Epoch 70/200\n",
            "31/31 [==============================] - 0s 1ms/step - loss: 0.4364 - accuracy: 0.7980\n",
            "Epoch 71/200\n",
            "31/31 [==============================] - 0s 1ms/step - loss: 0.4368 - accuracy: 0.7964\n",
            "Epoch 72/200\n",
            "31/31 [==============================] - 0s 2ms/step - loss: 0.4390 - accuracy: 0.8029\n",
            "Epoch 73/200\n",
            "31/31 [==============================] - 0s 2ms/step - loss: 0.4380 - accuracy: 0.7883\n",
            "Epoch 74/200\n",
            "31/31 [==============================] - 0s 2ms/step - loss: 0.4341 - accuracy: 0.7932\n",
            "Epoch 75/200\n",
            "31/31 [==============================] - 0s 2ms/step - loss: 0.4355 - accuracy: 0.7997\n",
            "Epoch 76/200\n",
            "31/31 [==============================] - 0s 2ms/step - loss: 0.4318 - accuracy: 0.8013\n",
            "Epoch 77/200\n",
            "31/31 [==============================] - 0s 1ms/step - loss: 0.4388 - accuracy: 0.7818\n",
            "Epoch 78/200\n",
            "31/31 [==============================] - 0s 2ms/step - loss: 0.4316 - accuracy: 0.8013\n",
            "Epoch 79/200\n",
            "31/31 [==============================] - 0s 2ms/step - loss: 0.4322 - accuracy: 0.7915\n",
            "Epoch 80/200\n",
            "31/31 [==============================] - 0s 1ms/step - loss: 0.4345 - accuracy: 0.8062\n",
            "Epoch 81/200\n",
            "31/31 [==============================] - 0s 2ms/step - loss: 0.4334 - accuracy: 0.7899\n",
            "Epoch 82/200\n",
            "31/31 [==============================] - 0s 2ms/step - loss: 0.4318 - accuracy: 0.7980\n",
            "Epoch 83/200\n",
            "31/31 [==============================] - 0s 1ms/step - loss: 0.4345 - accuracy: 0.7948\n",
            "Epoch 84/200\n",
            "31/31 [==============================] - 0s 1ms/step - loss: 0.4322 - accuracy: 0.7997\n",
            "Epoch 85/200\n",
            "31/31 [==============================] - 0s 2ms/step - loss: 0.4322 - accuracy: 0.7980\n",
            "Epoch 86/200\n",
            "31/31 [==============================] - 0s 2ms/step - loss: 0.4294 - accuracy: 0.7915\n",
            "Epoch 87/200\n",
            "31/31 [==============================] - 0s 1ms/step - loss: 0.4306 - accuracy: 0.7964\n",
            "Epoch 88/200\n",
            "31/31 [==============================] - 0s 2ms/step - loss: 0.4284 - accuracy: 0.7948\n",
            "Epoch 89/200\n",
            "31/31 [==============================] - 0s 1ms/step - loss: 0.4330 - accuracy: 0.7964\n",
            "Epoch 90/200\n",
            "31/31 [==============================] - 0s 2ms/step - loss: 0.4312 - accuracy: 0.7948\n",
            "Epoch 91/200\n",
            "31/31 [==============================] - 0s 2ms/step - loss: 0.4274 - accuracy: 0.7997\n",
            "Epoch 92/200\n",
            "31/31 [==============================] - 0s 2ms/step - loss: 0.4399 - accuracy: 0.7915\n",
            "Epoch 93/200\n",
            "31/31 [==============================] - 0s 1ms/step - loss: 0.4284 - accuracy: 0.7964\n",
            "Epoch 94/200\n",
            "31/31 [==============================] - 0s 2ms/step - loss: 0.4311 - accuracy: 0.7964\n",
            "Epoch 95/200\n",
            "31/31 [==============================] - 0s 2ms/step - loss: 0.4281 - accuracy: 0.8029\n",
            "Epoch 96/200\n",
            "31/31 [==============================] - 0s 2ms/step - loss: 0.4287 - accuracy: 0.8046\n",
            "Epoch 97/200\n",
            "31/31 [==============================] - 0s 1ms/step - loss: 0.4281 - accuracy: 0.8046\n",
            "Epoch 98/200\n",
            "31/31 [==============================] - 0s 2ms/step - loss: 0.4264 - accuracy: 0.7997\n",
            "Epoch 99/200\n",
            "31/31 [==============================] - 0s 1ms/step - loss: 0.4260 - accuracy: 0.8029\n",
            "Epoch 100/200\n",
            "31/31 [==============================] - 0s 1ms/step - loss: 0.4280 - accuracy: 0.7948\n",
            "Epoch 101/200\n",
            "31/31 [==============================] - 0s 2ms/step - loss: 0.4263 - accuracy: 0.8029\n",
            "Epoch 102/200\n",
            "31/31 [==============================] - 0s 1ms/step - loss: 0.4276 - accuracy: 0.8013\n",
            "Epoch 103/200\n",
            "31/31 [==============================] - 0s 1ms/step - loss: 0.4249 - accuracy: 0.7948\n",
            "Epoch 104/200\n",
            "31/31 [==============================] - 0s 2ms/step - loss: 0.4254 - accuracy: 0.7980\n",
            "Epoch 105/200\n",
            "31/31 [==============================] - 0s 1ms/step - loss: 0.4253 - accuracy: 0.7997\n",
            "Epoch 106/200\n",
            "31/31 [==============================] - 0s 2ms/step - loss: 0.4267 - accuracy: 0.7948\n",
            "Epoch 107/200\n",
            "31/31 [==============================] - 0s 1ms/step - loss: 0.4276 - accuracy: 0.7964\n",
            "Epoch 108/200\n",
            "31/31 [==============================] - 0s 1ms/step - loss: 0.4276 - accuracy: 0.7980\n",
            "Epoch 109/200\n",
            "31/31 [==============================] - 0s 1ms/step - loss: 0.4276 - accuracy: 0.7883\n",
            "Epoch 110/200\n",
            "31/31 [==============================] - 0s 2ms/step - loss: 0.4271 - accuracy: 0.7964\n",
            "Epoch 111/200\n",
            "31/31 [==============================] - 0s 1ms/step - loss: 0.4352 - accuracy: 0.7883\n",
            "Epoch 112/200\n",
            "31/31 [==============================] - 0s 2ms/step - loss: 0.4237 - accuracy: 0.7980\n",
            "Epoch 113/200\n",
            "31/31 [==============================] - 0s 1ms/step - loss: 0.4264 - accuracy: 0.8094\n",
            "Epoch 114/200\n",
            "31/31 [==============================] - 0s 2ms/step - loss: 0.4256 - accuracy: 0.8013\n",
            "Epoch 115/200\n",
            "31/31 [==============================] - 0s 1ms/step - loss: 0.4231 - accuracy: 0.7997\n",
            "Epoch 116/200\n",
            "31/31 [==============================] - 0s 2ms/step - loss: 0.4229 - accuracy: 0.8046\n",
            "Epoch 117/200\n",
            "31/31 [==============================] - 0s 2ms/step - loss: 0.4258 - accuracy: 0.7997\n",
            "Epoch 118/200\n",
            "31/31 [==============================] - 0s 1ms/step - loss: 0.4216 - accuracy: 0.8013\n",
            "Epoch 119/200\n",
            "31/31 [==============================] - 0s 2ms/step - loss: 0.4223 - accuracy: 0.8046\n",
            "Epoch 120/200\n",
            "31/31 [==============================] - 0s 2ms/step - loss: 0.4220 - accuracy: 0.7980\n",
            "Epoch 121/200\n",
            "31/31 [==============================] - 0s 2ms/step - loss: 0.4218 - accuracy: 0.7997\n",
            "Epoch 122/200\n",
            "31/31 [==============================] - 0s 2ms/step - loss: 0.4223 - accuracy: 0.8013\n",
            "Epoch 123/200\n",
            "31/31 [==============================] - 0s 2ms/step - loss: 0.4208 - accuracy: 0.7980\n",
            "Epoch 124/200\n",
            "31/31 [==============================] - 0s 2ms/step - loss: 0.4220 - accuracy: 0.8029\n",
            "Epoch 125/200\n",
            "31/31 [==============================] - 0s 1ms/step - loss: 0.4204 - accuracy: 0.8062\n",
            "Epoch 126/200\n",
            "31/31 [==============================] - 0s 2ms/step - loss: 0.4190 - accuracy: 0.8111\n",
            "Epoch 127/200\n",
            "31/31 [==============================] - 0s 2ms/step - loss: 0.4196 - accuracy: 0.7980\n",
            "Epoch 128/200\n",
            "31/31 [==============================] - 0s 2ms/step - loss: 0.4202 - accuracy: 0.7997\n",
            "Epoch 129/200\n",
            "31/31 [==============================] - 0s 1ms/step - loss: 0.4260 - accuracy: 0.8078\n",
            "Epoch 130/200\n",
            "31/31 [==============================] - 0s 1ms/step - loss: 0.4181 - accuracy: 0.8046\n",
            "Epoch 131/200\n",
            "31/31 [==============================] - 0s 1ms/step - loss: 0.4163 - accuracy: 0.7980\n",
            "Epoch 132/200\n",
            "31/31 [==============================] - 0s 1ms/step - loss: 0.4216 - accuracy: 0.7997\n",
            "Epoch 133/200\n",
            "31/31 [==============================] - 0s 1ms/step - loss: 0.4210 - accuracy: 0.7997\n",
            "Epoch 134/200\n",
            "31/31 [==============================] - 0s 2ms/step - loss: 0.4163 - accuracy: 0.7997\n",
            "Epoch 135/200\n",
            "31/31 [==============================] - 0s 1ms/step - loss: 0.4180 - accuracy: 0.8078\n",
            "Epoch 136/200\n",
            "31/31 [==============================] - 0s 2ms/step - loss: 0.4171 - accuracy: 0.7980\n",
            "Epoch 137/200\n",
            "31/31 [==============================] - 0s 1ms/step - loss: 0.4169 - accuracy: 0.7980\n",
            "Epoch 138/200\n",
            "31/31 [==============================] - 0s 1ms/step - loss: 0.4143 - accuracy: 0.8029\n",
            "Epoch 139/200\n",
            "31/31 [==============================] - 0s 1ms/step - loss: 0.4147 - accuracy: 0.8046\n",
            "Epoch 140/200\n",
            "31/31 [==============================] - 0s 1ms/step - loss: 0.4164 - accuracy: 0.8078\n",
            "Epoch 141/200\n",
            "31/31 [==============================] - 0s 2ms/step - loss: 0.4146 - accuracy: 0.8029\n",
            "Epoch 142/200\n",
            "31/31 [==============================] - 0s 1ms/step - loss: 0.4170 - accuracy: 0.8062\n",
            "Epoch 143/200\n",
            "31/31 [==============================] - 0s 2ms/step - loss: 0.4148 - accuracy: 0.8013\n",
            "Epoch 144/200\n",
            "31/31 [==============================] - 0s 2ms/step - loss: 0.4137 - accuracy: 0.8046\n",
            "Epoch 145/200\n",
            "31/31 [==============================] - 0s 2ms/step - loss: 0.4144 - accuracy: 0.7964\n",
            "Epoch 146/200\n",
            "31/31 [==============================] - 0s 1ms/step - loss: 0.4129 - accuracy: 0.8013\n",
            "Epoch 147/200\n",
            "31/31 [==============================] - 0s 2ms/step - loss: 0.4138 - accuracy: 0.7932\n",
            "Epoch 148/200\n",
            "31/31 [==============================] - 0s 2ms/step - loss: 0.4149 - accuracy: 0.8013\n",
            "Epoch 149/200\n",
            "31/31 [==============================] - 0s 2ms/step - loss: 0.4150 - accuracy: 0.8046\n",
            "Epoch 150/200\n",
            "31/31 [==============================] - 0s 2ms/step - loss: 0.4195 - accuracy: 0.8013\n",
            "Epoch 151/200\n",
            "31/31 [==============================] - 0s 2ms/step - loss: 0.4167 - accuracy: 0.7964\n",
            "Epoch 152/200\n",
            "31/31 [==============================] - 0s 2ms/step - loss: 0.4142 - accuracy: 0.8046\n",
            "Epoch 153/200\n",
            "31/31 [==============================] - 0s 1ms/step - loss: 0.4250 - accuracy: 0.7997\n",
            "Epoch 154/200\n",
            "31/31 [==============================] - 0s 2ms/step - loss: 0.4150 - accuracy: 0.8046\n",
            "Epoch 155/200\n",
            "31/31 [==============================] - 0s 2ms/step - loss: 0.4116 - accuracy: 0.8029\n",
            "Epoch 156/200\n",
            "31/31 [==============================] - 0s 2ms/step - loss: 0.4162 - accuracy: 0.8094\n",
            "Epoch 157/200\n",
            "31/31 [==============================] - 0s 2ms/step - loss: 0.4182 - accuracy: 0.8094\n",
            "Epoch 158/200\n",
            "31/31 [==============================] - 0s 2ms/step - loss: 0.4126 - accuracy: 0.8062\n",
            "Epoch 159/200\n",
            "31/31 [==============================] - 0s 2ms/step - loss: 0.4157 - accuracy: 0.8078\n",
            "Epoch 160/200\n",
            "31/31 [==============================] - 0s 2ms/step - loss: 0.4112 - accuracy: 0.8094\n",
            "Epoch 161/200\n",
            "31/31 [==============================] - 0s 1ms/step - loss: 0.4124 - accuracy: 0.7980\n",
            "Epoch 162/200\n",
            "31/31 [==============================] - 0s 1ms/step - loss: 0.4134 - accuracy: 0.8029\n",
            "Epoch 163/200\n",
            "31/31 [==============================] - 0s 2ms/step - loss: 0.4129 - accuracy: 0.8111\n",
            "Epoch 164/200\n",
            "31/31 [==============================] - 0s 2ms/step - loss: 0.4113 - accuracy: 0.8062\n",
            "Epoch 165/200\n",
            "31/31 [==============================] - 0s 2ms/step - loss: 0.4113 - accuracy: 0.8062\n",
            "Epoch 166/200\n",
            "31/31 [==============================] - 0s 2ms/step - loss: 0.4210 - accuracy: 0.7980\n",
            "Epoch 167/200\n",
            "31/31 [==============================] - 0s 2ms/step - loss: 0.4099 - accuracy: 0.8046\n",
            "Epoch 168/200\n",
            "31/31 [==============================] - 0s 2ms/step - loss: 0.4103 - accuracy: 0.8029\n",
            "Epoch 169/200\n",
            "31/31 [==============================] - 0s 2ms/step - loss: 0.4091 - accuracy: 0.8111\n",
            "Epoch 170/200\n",
            "31/31 [==============================] - 0s 1ms/step - loss: 0.4096 - accuracy: 0.8062\n",
            "Epoch 171/200\n",
            "31/31 [==============================] - 0s 2ms/step - loss: 0.4106 - accuracy: 0.7997\n",
            "Epoch 172/200\n",
            "31/31 [==============================] - 0s 2ms/step - loss: 0.4180 - accuracy: 0.8143\n",
            "Epoch 173/200\n",
            "31/31 [==============================] - 0s 2ms/step - loss: 0.4080 - accuracy: 0.8046\n",
            "Epoch 174/200\n",
            "31/31 [==============================] - 0s 2ms/step - loss: 0.4073 - accuracy: 0.8078\n",
            "Epoch 175/200\n",
            "31/31 [==============================] - 0s 2ms/step - loss: 0.4144 - accuracy: 0.8029\n",
            "Epoch 176/200\n",
            "31/31 [==============================] - 0s 2ms/step - loss: 0.4067 - accuracy: 0.8078\n",
            "Epoch 177/200\n",
            "31/31 [==============================] - 0s 1ms/step - loss: 0.4111 - accuracy: 0.8029\n",
            "Epoch 178/200\n",
            "31/31 [==============================] - 0s 1ms/step - loss: 0.4076 - accuracy: 0.8078\n",
            "Epoch 179/200\n",
            "31/31 [==============================] - 0s 2ms/step - loss: 0.4086 - accuracy: 0.8029\n",
            "Epoch 180/200\n",
            "31/31 [==============================] - 0s 1ms/step - loss: 0.4086 - accuracy: 0.8078\n",
            "Epoch 181/200\n",
            "31/31 [==============================] - 0s 2ms/step - loss: 0.4112 - accuracy: 0.8046\n",
            "Epoch 182/200\n",
            "31/31 [==============================] - 0s 2ms/step - loss: 0.4071 - accuracy: 0.8111\n",
            "Epoch 183/200\n",
            "31/31 [==============================] - 0s 1ms/step - loss: 0.4060 - accuracy: 0.8029\n",
            "Epoch 184/200\n",
            "31/31 [==============================] - 0s 1ms/step - loss: 0.4109 - accuracy: 0.8111\n",
            "Epoch 185/200\n",
            "31/31 [==============================] - 0s 2ms/step - loss: 0.4098 - accuracy: 0.7980\n",
            "Epoch 186/200\n",
            "31/31 [==============================] - 0s 2ms/step - loss: 0.4088 - accuracy: 0.8111\n",
            "Epoch 187/200\n",
            "31/31 [==============================] - 0s 1ms/step - loss: 0.4081 - accuracy: 0.7964\n",
            "Epoch 188/200\n",
            "31/31 [==============================] - 0s 2ms/step - loss: 0.4087 - accuracy: 0.8094\n",
            "Epoch 189/200\n",
            "31/31 [==============================] - 0s 2ms/step - loss: 0.4108 - accuracy: 0.8013\n",
            "Epoch 190/200\n",
            "31/31 [==============================] - 0s 2ms/step - loss: 0.4055 - accuracy: 0.8062\n",
            "Epoch 191/200\n",
            "31/31 [==============================] - 0s 1ms/step - loss: 0.4074 - accuracy: 0.8029\n",
            "Epoch 192/200\n",
            "31/31 [==============================] - 0s 2ms/step - loss: 0.4084 - accuracy: 0.8062\n",
            "Epoch 193/200\n",
            "31/31 [==============================] - 0s 2ms/step - loss: 0.4089 - accuracy: 0.8046\n",
            "Epoch 194/200\n",
            "31/31 [==============================] - 0s 1ms/step - loss: 0.4078 - accuracy: 0.8062\n",
            "Epoch 195/200\n",
            "31/31 [==============================] - 0s 1ms/step - loss: 0.4052 - accuracy: 0.7997\n",
            "Epoch 196/200\n",
            "31/31 [==============================] - 0s 2ms/step - loss: 0.4116 - accuracy: 0.7948\n",
            "Epoch 197/200\n",
            "31/31 [==============================] - 0s 1ms/step - loss: 0.4035 - accuracy: 0.8078\n",
            "Epoch 198/200\n",
            "31/31 [==============================] - 0s 2ms/step - loss: 0.4078 - accuracy: 0.8062\n",
            "Epoch 199/200\n",
            "31/31 [==============================] - 0s 1ms/step - loss: 0.4044 - accuracy: 0.8078\n",
            "Epoch 200/200\n",
            "31/31 [==============================] - 0s 2ms/step - loss: 0.4038 - accuracy: 0.8078\n"
          ]
        }
      ]
    },
    {
      "cell_type": "markdown",
      "metadata": {
        "id": "uZ-eWA_gfTLI"
      },
      "source": [
        "**Mengetahui Akurasi dari Model Data**"
      ]
    },
    {
      "cell_type": "code",
      "metadata": {
        "colab": {
          "base_uri": "https://localhost:8080/"
        },
        "id": "n6iXe9vJRxcx",
        "outputId": "b36b7467-6a7e-4bea-e290-385cd707ed9c"
      },
      "source": [
        "from sklearn.metrics import accuracy_score\n",
        "\n",
        "round(accuracy_score(y_test, y_pred),3)"
      ],
      "execution_count": 10,
      "outputs": [
        {
          "output_type": "execute_result",
          "data": {
            "text/plain": [
              "0.591"
            ]
          },
          "metadata": {},
          "execution_count": 10
        }
      ]
    }
  ]
}
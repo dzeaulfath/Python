{
  "nbformat": 4,
  "nbformat_minor": 0,
  "metadata": {
    "colab": {
      "name": "EDA, ARIMA, and Classification Forecasting.ipynb",
      "provenance": [],
      "collapsed_sections": [],
      "authorship_tag": "ABX9TyOuQ8I6593QYN/R+kK+8BFv"
    },
    "kernelspec": {
      "name": "python3",
      "display_name": "Python 3"
    },
    "language_info": {
      "name": "python"
    }
  },
  "cells": [
    {
      "cell_type": "code",
      "metadata": {
        "id": "toWfrBwn96ZM"
      },
      "source": [
        "# Basic Library\n",
        "import pandas as pd \n",
        "import numpy as np \n",
        "\n",
        "# Library untuk visualisasi\n",
        "import matplotlib.pyplot as plt \n",
        "import seaborn as sns\n",
        "\n",
        "# Library untuk MBA\n",
        "from mlxtend.frequent_patterns import apriori\n",
        "from mlxtend.frequent_patterns import association_rules\n"
      ],
      "execution_count": null,
      "outputs": []
    },
    {
      "cell_type": "code",
      "metadata": {
        "colab": {
          "base_uri": "https://localhost:8080/"
        },
        "id": "iZsY5KKA-wJk",
        "outputId": "c9c7cba6-e2b0-4df9-c506-a1e05b3bf72f"
      },
      "source": [
        "# Import data dari Kaggle\n",
        "\n",
        "!wget -O supermarket.csv https://raw.githubusercontent.com/dzeaulfath/Python/main/DataSet/supermarket_sales%20-%20Sheet1.csv"
      ],
      "execution_count": null,
      "outputs": [
        {
          "output_type": "stream",
          "name": "stdout",
          "text": [
            "--2021-10-17 03:43:13--  https://raw.githubusercontent.com/dzeaulfath/Python/main/DataSet/supermarket_sales%20-%20Sheet1.csv\n",
            "Resolving raw.githubusercontent.com (raw.githubusercontent.com)... 185.199.108.133, 185.199.109.133, 185.199.110.133, ...\n",
            "Connecting to raw.githubusercontent.com (raw.githubusercontent.com)|185.199.108.133|:443... connected.\n",
            "HTTP request sent, awaiting response... 200 OK\n",
            "Length: 131528 (128K) [text/plain]\n",
            "Saving to: ‘supermarket.csv’\n",
            "\n",
            "\rsupermarket.csv       0%[                    ]       0  --.-KB/s               \rsupermarket.csv     100%[===================>] 128.45K  --.-KB/s    in 0.02s   \n",
            "\n",
            "2021-10-17 03:43:13 (5.84 MB/s) - ‘supermarket.csv’ saved [131528/131528]\n",
            "\n"
          ]
        }
      ]
    },
    {
      "cell_type": "markdown",
      "metadata": {
        "id": "Udx0WqFFeosH"
      },
      "source": [
        "**General Insight**"
      ]
    },
    {
      "cell_type": "code",
      "metadata": {
        "colab": {
          "base_uri": "https://localhost:8080/",
          "height": 302
        },
        "id": "FSdTcqh8_C7U",
        "outputId": "7cc8ef1b-2183-4d3f-c615-c903dcd9776e"
      },
      "source": [
        "#Menampilkan Data\n",
        "\n",
        "df = pd.read_csv('supermarket.csv')\n",
        "df.head()"
      ],
      "execution_count": null,
      "outputs": [
        {
          "output_type": "execute_result",
          "data": {
            "text/html": [
              "<div>\n",
              "<style scoped>\n",
              "    .dataframe tbody tr th:only-of-type {\n",
              "        vertical-align: middle;\n",
              "    }\n",
              "\n",
              "    .dataframe tbody tr th {\n",
              "        vertical-align: top;\n",
              "    }\n",
              "\n",
              "    .dataframe thead th {\n",
              "        text-align: right;\n",
              "    }\n",
              "</style>\n",
              "<table border=\"1\" class=\"dataframe\">\n",
              "  <thead>\n",
              "    <tr style=\"text-align: right;\">\n",
              "      <th></th>\n",
              "      <th>Invoice ID</th>\n",
              "      <th>Branch</th>\n",
              "      <th>City</th>\n",
              "      <th>Customer type</th>\n",
              "      <th>Gender</th>\n",
              "      <th>Product line</th>\n",
              "      <th>Unit price</th>\n",
              "      <th>Quantity</th>\n",
              "      <th>Tax 5%</th>\n",
              "      <th>Total</th>\n",
              "      <th>Date</th>\n",
              "      <th>Time</th>\n",
              "      <th>Payment</th>\n",
              "      <th>cogs</th>\n",
              "      <th>gross margin percentage</th>\n",
              "      <th>gross income</th>\n",
              "      <th>Rating</th>\n",
              "    </tr>\n",
              "  </thead>\n",
              "  <tbody>\n",
              "    <tr>\n",
              "      <th>0</th>\n",
              "      <td>750-67-8428</td>\n",
              "      <td>A</td>\n",
              "      <td>Yangon</td>\n",
              "      <td>Member</td>\n",
              "      <td>Female</td>\n",
              "      <td>Health and beauty</td>\n",
              "      <td>74.69</td>\n",
              "      <td>7</td>\n",
              "      <td>26.1415</td>\n",
              "      <td>548.9715</td>\n",
              "      <td>1/5/2019</td>\n",
              "      <td>13:08</td>\n",
              "      <td>Ewallet</td>\n",
              "      <td>522.83</td>\n",
              "      <td>4.761905</td>\n",
              "      <td>26.1415</td>\n",
              "      <td>9.1</td>\n",
              "    </tr>\n",
              "    <tr>\n",
              "      <th>1</th>\n",
              "      <td>226-31-3081</td>\n",
              "      <td>C</td>\n",
              "      <td>Naypyitaw</td>\n",
              "      <td>Normal</td>\n",
              "      <td>Female</td>\n",
              "      <td>Electronic accessories</td>\n",
              "      <td>15.28</td>\n",
              "      <td>5</td>\n",
              "      <td>3.8200</td>\n",
              "      <td>80.2200</td>\n",
              "      <td>3/8/2019</td>\n",
              "      <td>10:29</td>\n",
              "      <td>Cash</td>\n",
              "      <td>76.40</td>\n",
              "      <td>4.761905</td>\n",
              "      <td>3.8200</td>\n",
              "      <td>9.6</td>\n",
              "    </tr>\n",
              "    <tr>\n",
              "      <th>2</th>\n",
              "      <td>631-41-3108</td>\n",
              "      <td>A</td>\n",
              "      <td>Yangon</td>\n",
              "      <td>Normal</td>\n",
              "      <td>Male</td>\n",
              "      <td>Home and lifestyle</td>\n",
              "      <td>46.33</td>\n",
              "      <td>7</td>\n",
              "      <td>16.2155</td>\n",
              "      <td>340.5255</td>\n",
              "      <td>3/3/2019</td>\n",
              "      <td>13:23</td>\n",
              "      <td>Credit card</td>\n",
              "      <td>324.31</td>\n",
              "      <td>4.761905</td>\n",
              "      <td>16.2155</td>\n",
              "      <td>7.4</td>\n",
              "    </tr>\n",
              "    <tr>\n",
              "      <th>3</th>\n",
              "      <td>123-19-1176</td>\n",
              "      <td>A</td>\n",
              "      <td>Yangon</td>\n",
              "      <td>Member</td>\n",
              "      <td>Male</td>\n",
              "      <td>Health and beauty</td>\n",
              "      <td>58.22</td>\n",
              "      <td>8</td>\n",
              "      <td>23.2880</td>\n",
              "      <td>489.0480</td>\n",
              "      <td>1/27/2019</td>\n",
              "      <td>20:33</td>\n",
              "      <td>Ewallet</td>\n",
              "      <td>465.76</td>\n",
              "      <td>4.761905</td>\n",
              "      <td>23.2880</td>\n",
              "      <td>8.4</td>\n",
              "    </tr>\n",
              "    <tr>\n",
              "      <th>4</th>\n",
              "      <td>373-73-7910</td>\n",
              "      <td>A</td>\n",
              "      <td>Yangon</td>\n",
              "      <td>Normal</td>\n",
              "      <td>Male</td>\n",
              "      <td>Sports and travel</td>\n",
              "      <td>86.31</td>\n",
              "      <td>7</td>\n",
              "      <td>30.2085</td>\n",
              "      <td>634.3785</td>\n",
              "      <td>2/8/2019</td>\n",
              "      <td>10:37</td>\n",
              "      <td>Ewallet</td>\n",
              "      <td>604.17</td>\n",
              "      <td>4.761905</td>\n",
              "      <td>30.2085</td>\n",
              "      <td>5.3</td>\n",
              "    </tr>\n",
              "  </tbody>\n",
              "</table>\n",
              "</div>"
            ],
            "text/plain": [
              "    Invoice ID Branch       City  ... gross margin percentage gross income Rating\n",
              "0  750-67-8428      A     Yangon  ...                4.761905      26.1415    9.1\n",
              "1  226-31-3081      C  Naypyitaw  ...                4.761905       3.8200    9.6\n",
              "2  631-41-3108      A     Yangon  ...                4.761905      16.2155    7.4\n",
              "3  123-19-1176      A     Yangon  ...                4.761905      23.2880    8.4\n",
              "4  373-73-7910      A     Yangon  ...                4.761905      30.2085    5.3\n",
              "\n",
              "[5 rows x 17 columns]"
            ]
          },
          "metadata": {},
          "execution_count": 3
        }
      ]
    },
    {
      "cell_type": "code",
      "metadata": {
        "colab": {
          "base_uri": "https://localhost:8080/"
        },
        "id": "GKZU9fG1_Hao",
        "outputId": "ddcf1147-a7ea-4b07-edc2-328db38c96ac"
      },
      "source": [
        "  #For Search duplicate Row\n",
        "\n",
        "  df.duplicated().sum()"
      ],
      "execution_count": null,
      "outputs": [
        {
          "output_type": "execute_result",
          "data": {
            "text/plain": [
              "0"
            ]
          },
          "metadata": {},
          "execution_count": 4
        }
      ]
    },
    {
      "cell_type": "code",
      "metadata": {
        "colab": {
          "base_uri": "https://localhost:8080/"
        },
        "id": "hof9eoG9_LQp",
        "outputId": "39988119-aab5-4948-b729-cffe5e14ddc1"
      },
      "source": [
        "#For Search Missing value from data\n",
        "\n",
        "df.isna().sum()"
      ],
      "execution_count": null,
      "outputs": [
        {
          "output_type": "execute_result",
          "data": {
            "text/plain": [
              "Invoice ID                 0\n",
              "Branch                     0\n",
              "City                       0\n",
              "Customer type              0\n",
              "Gender                     0\n",
              "Product line               0\n",
              "Unit price                 0\n",
              "Quantity                   0\n",
              "Tax 5%                     0\n",
              "Total                      0\n",
              "Date                       0\n",
              "Time                       0\n",
              "Payment                    0\n",
              "cogs                       0\n",
              "gross margin percentage    0\n",
              "gross income               0\n",
              "Rating                     0\n",
              "dtype: int64"
            ]
          },
          "metadata": {},
          "execution_count": 5
        }
      ]
    },
    {
      "cell_type": "markdown",
      "metadata": {
        "id": "mS_qbO0apRlt"
      },
      "source": [
        "**Analysis Next Step**"
      ]
    },
    {
      "cell_type": "code",
      "metadata": {
        "colab": {
          "base_uri": "https://localhost:8080/"
        },
        "id": "OeAQHbtA_GW8",
        "outputId": "1d6210ac-9961-40b2-bc58-90a2ffbb8c55"
      },
      "source": [
        "#Menghitung gender dari data\n",
        "\n",
        "df['Gender'].value_counts()"
      ],
      "execution_count": null,
      "outputs": [
        {
          "output_type": "execute_result",
          "data": {
            "text/plain": [
              "Female    501\n",
              "Male      499\n",
              "Name: Gender, dtype: int64"
            ]
          },
          "metadata": {},
          "execution_count": 6
        }
      ]
    },
    {
      "cell_type": "code",
      "metadata": {
        "colab": {
          "base_uri": "https://localhost:8080/",
          "height": 202
        },
        "id": "AZhQZrWZAr_m",
        "outputId": "aa13712b-ba93-4408-a472-0cf9441d6dd2"
      },
      "source": [
        "# Membuat dummies dari gender\n",
        "\n",
        "gender_dummies=pd.get_dummies(df['Gender'])\n",
        "gender_dummies.head()"
      ],
      "execution_count": null,
      "outputs": [
        {
          "output_type": "execute_result",
          "data": {
            "text/html": [
              "<div>\n",
              "<style scoped>\n",
              "    .dataframe tbody tr th:only-of-type {\n",
              "        vertical-align: middle;\n",
              "    }\n",
              "\n",
              "    .dataframe tbody tr th {\n",
              "        vertical-align: top;\n",
              "    }\n",
              "\n",
              "    .dataframe thead th {\n",
              "        text-align: right;\n",
              "    }\n",
              "</style>\n",
              "<table border=\"1\" class=\"dataframe\">\n",
              "  <thead>\n",
              "    <tr style=\"text-align: right;\">\n",
              "      <th></th>\n",
              "      <th>Female</th>\n",
              "      <th>Male</th>\n",
              "    </tr>\n",
              "  </thead>\n",
              "  <tbody>\n",
              "    <tr>\n",
              "      <th>0</th>\n",
              "      <td>1</td>\n",
              "      <td>0</td>\n",
              "    </tr>\n",
              "    <tr>\n",
              "      <th>1</th>\n",
              "      <td>1</td>\n",
              "      <td>0</td>\n",
              "    </tr>\n",
              "    <tr>\n",
              "      <th>2</th>\n",
              "      <td>0</td>\n",
              "      <td>1</td>\n",
              "    </tr>\n",
              "    <tr>\n",
              "      <th>3</th>\n",
              "      <td>0</td>\n",
              "      <td>1</td>\n",
              "    </tr>\n",
              "    <tr>\n",
              "      <th>4</th>\n",
              "      <td>0</td>\n",
              "      <td>1</td>\n",
              "    </tr>\n",
              "  </tbody>\n",
              "</table>\n",
              "</div>"
            ],
            "text/plain": [
              "   Female  Male\n",
              "0       1     0\n",
              "1       1     0\n",
              "2       0     1\n",
              "3       0     1\n",
              "4       0     1"
            ]
          },
          "metadata": {},
          "execution_count": 7
        }
      ]
    },
    {
      "cell_type": "code",
      "metadata": {
        "colab": {
          "base_uri": "https://localhost:8080/",
          "height": 160
        },
        "id": "1Q-2aoh2Awbh",
        "outputId": "c5461f2f-3f39-44ff-8ab2-a8355931b1dd"
      },
      "source": [
        "#Menampilkan Table berdasarkan Gender\n",
        "\n",
        "df=pd.concat([df,gender_dummies],axis=1)\n",
        "df.head(2)"
      ],
      "execution_count": null,
      "outputs": [
        {
          "output_type": "execute_result",
          "data": {
            "text/html": [
              "<div>\n",
              "<style scoped>\n",
              "    .dataframe tbody tr th:only-of-type {\n",
              "        vertical-align: middle;\n",
              "    }\n",
              "\n",
              "    .dataframe tbody tr th {\n",
              "        vertical-align: top;\n",
              "    }\n",
              "\n",
              "    .dataframe thead th {\n",
              "        text-align: right;\n",
              "    }\n",
              "</style>\n",
              "<table border=\"1\" class=\"dataframe\">\n",
              "  <thead>\n",
              "    <tr style=\"text-align: right;\">\n",
              "      <th></th>\n",
              "      <th>Invoice ID</th>\n",
              "      <th>Branch</th>\n",
              "      <th>City</th>\n",
              "      <th>Customer type</th>\n",
              "      <th>Gender</th>\n",
              "      <th>Product line</th>\n",
              "      <th>Unit price</th>\n",
              "      <th>Quantity</th>\n",
              "      <th>Tax 5%</th>\n",
              "      <th>Total</th>\n",
              "      <th>Date</th>\n",
              "      <th>Time</th>\n",
              "      <th>Payment</th>\n",
              "      <th>cogs</th>\n",
              "      <th>gross margin percentage</th>\n",
              "      <th>gross income</th>\n",
              "      <th>Rating</th>\n",
              "      <th>Female</th>\n",
              "      <th>Male</th>\n",
              "    </tr>\n",
              "  </thead>\n",
              "  <tbody>\n",
              "    <tr>\n",
              "      <th>0</th>\n",
              "      <td>750-67-8428</td>\n",
              "      <td>A</td>\n",
              "      <td>Yangon</td>\n",
              "      <td>Member</td>\n",
              "      <td>Female</td>\n",
              "      <td>Health and beauty</td>\n",
              "      <td>74.69</td>\n",
              "      <td>7</td>\n",
              "      <td>26.1415</td>\n",
              "      <td>548.9715</td>\n",
              "      <td>1/5/2019</td>\n",
              "      <td>13:08</td>\n",
              "      <td>Ewallet</td>\n",
              "      <td>522.83</td>\n",
              "      <td>4.761905</td>\n",
              "      <td>26.1415</td>\n",
              "      <td>9.1</td>\n",
              "      <td>1</td>\n",
              "      <td>0</td>\n",
              "    </tr>\n",
              "    <tr>\n",
              "      <th>1</th>\n",
              "      <td>226-31-3081</td>\n",
              "      <td>C</td>\n",
              "      <td>Naypyitaw</td>\n",
              "      <td>Normal</td>\n",
              "      <td>Female</td>\n",
              "      <td>Electronic accessories</td>\n",
              "      <td>15.28</td>\n",
              "      <td>5</td>\n",
              "      <td>3.8200</td>\n",
              "      <td>80.2200</td>\n",
              "      <td>3/8/2019</td>\n",
              "      <td>10:29</td>\n",
              "      <td>Cash</td>\n",
              "      <td>76.40</td>\n",
              "      <td>4.761905</td>\n",
              "      <td>3.8200</td>\n",
              "      <td>9.6</td>\n",
              "      <td>1</td>\n",
              "      <td>0</td>\n",
              "    </tr>\n",
              "  </tbody>\n",
              "</table>\n",
              "</div>"
            ],
            "text/plain": [
              "    Invoice ID Branch       City  ... Rating Female Male\n",
              "0  750-67-8428      A     Yangon  ...    9.1      1    0\n",
              "1  226-31-3081      C  Naypyitaw  ...    9.6      1    0\n",
              "\n",
              "[2 rows x 19 columns]"
            ]
          },
          "metadata": {},
          "execution_count": 8
        }
      ]
    },
    {
      "cell_type": "code",
      "metadata": {
        "colab": {
          "base_uri": "https://localhost:8080/",
          "height": 405
        },
        "id": "o7s3KtwlA1u0",
        "outputId": "e2324368-e370-4433-b827-372a5226ef7b"
      },
      "source": [
        "#Menampilkan Grafik dari Gender Perempuan\n",
        "\n",
        "plt.figure(figsize=(14,6))\n",
        "sns.barplot(x='Product line',y='Female',data=df)"
      ],
      "execution_count": null,
      "outputs": [
        {
          "output_type": "execute_result",
          "data": {
            "text/plain": [
              "<matplotlib.axes._subplots.AxesSubplot at 0x7fada59dc3d0>"
            ]
          },
          "metadata": {},
          "execution_count": 9
        },
        {
          "output_type": "display_data",
          "data": {
            "image/png": "[encoded data removed]",
            "text/plain": [
              "<Figure size 1008x432 with 1 Axes>"
            ]
          },
          "metadata": {
            "needs_background": "light"
          }
        }
      ]
    },
    {
      "cell_type": "code",
      "metadata": {
        "colab": {
          "base_uri": "https://localhost:8080/",
          "height": 405
        },
        "id": "8LhT_1DjA4a_",
        "outputId": "77cb90bd-91f0-4f08-9c19-08eeb3660850"
      },
      "source": [
        "# Menampilkan Grafik dari gender Laki- Laki\n",
        "\n",
        "plt.figure(figsize=(14,6))\n",
        "sns.barplot(x='Product line',y='Male',data=df)"
      ],
      "execution_count": null,
      "outputs": [
        {
          "output_type": "execute_result",
          "data": {
            "text/plain": [
              "<matplotlib.axes._subplots.AxesSubplot at 0x7fad93dd5390>"
            ]
          },
          "metadata": {},
          "execution_count": 10
        },
        {
          "output_type": "display_data",
          "data": {
            "image/png": "[encoded data removed]",
            "text/plain": [
              "<Figure size 1008x432 with 1 Axes>"
            ]
          },
          "metadata": {
            "needs_background": "light"
          }
        }
      ]
    },
    {
      "cell_type": "code",
      "metadata": {
        "colab": {
          "base_uri": "https://localhost:8080/",
          "height": 405
        },
        "id": "niGdRpn7A-B3",
        "outputId": "a646c320-828a-4c97-d64a-b078cca2e412"
      },
      "source": [
        "#Mencari Gross Income tertinggi dari Penjualan\n",
        "\n",
        "plt.figure(figsize=(13,6))\n",
        "sns.barplot(x=\"Product line\",y=\"gross income\",data=df)"
      ],
      "execution_count": null,
      "outputs": [
        {
          "output_type": "execute_result",
          "data": {
            "text/plain": [
              "<matplotlib.axes._subplots.AxesSubplot at 0x7fad93dd5d50>"
            ]
          },
          "metadata": {},
          "execution_count": 11
        },
        {
          "output_type": "display_data",
          "data": {
            "image/png": "[encoded data removed]",
            "text/plain": [
              "<Figure size 936x432 with 1 Axes>"
            ]
          },
          "metadata": {
            "needs_background": "light"
          }
        }
      ]
    },
    {
      "cell_type": "code",
      "metadata": {
        "colab": {
          "base_uri": "https://localhost:8080/",
          "height": 387
        },
        "id": "qCdKFehyBA6o",
        "outputId": "e7f292eb-c5c3-4970-8755-ed86bc299339"
      },
      "source": [
        "# Mencari Rating dari Jenis Produk\n",
        "\n",
        "xdata=[0,1,2,3,4,5,6,7,8,9,10]\n",
        "plt.figure(figsize=(10,6))\n",
        "sns.barplot(y=df['Product line'],x=df['Rating'])\n",
        "plt.xticks(xdata)\n",
        "plt.show()"
      ],
      "execution_count": null,
      "outputs": [
        {
          "output_type": "display_data",
          "data": {
            "image/png": "[encoded data removed]",
            "text/plain": [
              "<Figure size 720x432 with 1 Axes>"
            ]
          },
          "metadata": {
            "needs_background": "light"
          }
        }
      ]
    },
    {
      "cell_type": "code",
      "metadata": {
        "colab": {
          "base_uri": "https://localhost:8080/",
          "height": 355
        },
        "id": "_5w5Ew1gBEx1",
        "outputId": "fc113c6b-4286-4c99-fc79-fabee0b18e5d"
      },
      "source": [
        "#Menampilkan Quantity\n",
        "\n",
        "dv=pd.DataFrame(df['Quantity'].value_counts())\n",
        "dv"
      ],
      "execution_count": null,
      "outputs": [
        {
          "output_type": "execute_result",
          "data": {
            "text/html": [
              "<div>\n",
              "<style scoped>\n",
              "    .dataframe tbody tr th:only-of-type {\n",
              "        vertical-align: middle;\n",
              "    }\n",
              "\n",
              "    .dataframe tbody tr th {\n",
              "        vertical-align: top;\n",
              "    }\n",
              "\n",
              "    .dataframe thead th {\n",
              "        text-align: right;\n",
              "    }\n",
              "</style>\n",
              "<table border=\"1\" class=\"dataframe\">\n",
              "  <thead>\n",
              "    <tr style=\"text-align: right;\">\n",
              "      <th></th>\n",
              "      <th>Quantity</th>\n",
              "    </tr>\n",
              "  </thead>\n",
              "  <tbody>\n",
              "    <tr>\n",
              "      <th>10</th>\n",
              "      <td>119</td>\n",
              "    </tr>\n",
              "    <tr>\n",
              "      <th>1</th>\n",
              "      <td>112</td>\n",
              "    </tr>\n",
              "    <tr>\n",
              "      <th>4</th>\n",
              "      <td>109</td>\n",
              "    </tr>\n",
              "    <tr>\n",
              "      <th>7</th>\n",
              "      <td>102</td>\n",
              "    </tr>\n",
              "    <tr>\n",
              "      <th>5</th>\n",
              "      <td>102</td>\n",
              "    </tr>\n",
              "    <tr>\n",
              "      <th>6</th>\n",
              "      <td>98</td>\n",
              "    </tr>\n",
              "    <tr>\n",
              "      <th>9</th>\n",
              "      <td>92</td>\n",
              "    </tr>\n",
              "    <tr>\n",
              "      <th>2</th>\n",
              "      <td>91</td>\n",
              "    </tr>\n",
              "    <tr>\n",
              "      <th>3</th>\n",
              "      <td>90</td>\n",
              "    </tr>\n",
              "    <tr>\n",
              "      <th>8</th>\n",
              "      <td>85</td>\n",
              "    </tr>\n",
              "  </tbody>\n",
              "</table>\n",
              "</div>"
            ],
            "text/plain": [
              "    Quantity\n",
              "10       119\n",
              "1        112\n",
              "4        109\n",
              "7        102\n",
              "5        102\n",
              "6         98\n",
              "9         92\n",
              "2         91\n",
              "3         90\n",
              "8         85"
            ]
          },
          "metadata": {},
          "execution_count": 13
        }
      ]
    },
    {
      "cell_type": "code",
      "metadata": {
        "colab": {
          "base_uri": "https://localhost:8080/",
          "height": 392
        },
        "id": "THkPMU5gBIsf",
        "outputId": "0b9f46f5-0be3-464b-aef5-25cbf32702cd"
      },
      "source": [
        "#Menampilkan Grafik dari Kuantitas\n",
        "\n",
        "plt.figure(figsize=(10,6))\n",
        "sns.barplot(x=dv.index,y=dv['Quantity'],palette='inferno')"
      ],
      "execution_count": null,
      "outputs": [
        {
          "output_type": "execute_result",
          "data": {
            "text/plain": [
              "<matplotlib.axes._subplots.AxesSubplot at 0x7fada710fe90>"
            ]
          },
          "metadata": {},
          "execution_count": 14
        },
        {
          "output_type": "display_data",
          "data": {
            "image/png": "[encoded data removed]",
            "text/plain": [
              "<Figure size 720x432 with 1 Axes>"
            ]
          },
          "metadata": {
            "needs_background": "light"
          }
        }
      ]
    },
    {
      "cell_type": "markdown",
      "metadata": {
        "id": "u0d8oILhtXiY"
      },
      "source": [
        "**Insight Dari data diatas**"
      ]
    },
    {
      "cell_type": "markdown",
      "metadata": {
        "id": "Zp-T6B1ztKk7"
      },
      "source": [
        "* Total Customers = 1000\n",
        "* Total Females = 501\n",
        "* Total Males = 499\n",
        "* Min Rating = 4\n",
        "* Max Rating = 10\n",
        "* Average Rating = 6.97\n",
        "* Best Average Rating in Food & Beverages\n",
        "* Max Average Gross Income in Home & Lifestyle\n",
        "* Min Average Gross Income in Fashion Accessories\n",
        "* Maximum customers buys 10 quantities\n",
        "* Max Average total bill in Home and lifestyle\n",
        "* Min Average total bill in Fashion Accessories\n",
        "* Maximum People pays through e-wallet\n",
        "* Maximum people comes from Yangon City\n",
        "* Max Average Sales of Fashion Accessories is from Females\n",
        "* Max Average Sales of Health & Beauty is from Males"
      ]
    },
    {
      "cell_type": "markdown",
      "metadata": {
        "id": "paCHL-J5yx17"
      },
      "source": [
        "\n",
        "\n",
        "\n",
        "---\n",
        "\n",
        "\n",
        "---\n",
        "\n",
        "\n",
        "\n",
        "---\n",
        "\n",
        "\n",
        "\n",
        "---\n",
        "\n"
      ]
    },
    {
      "cell_type": "markdown",
      "metadata": {
        "id": "fU8Grngsy1kW"
      },
      "source": [
        "**Payment Section**"
      ]
    },
    {
      "cell_type": "code",
      "metadata": {
        "colab": {
          "base_uri": "https://localhost:8080/"
        },
        "id": "W1Pv2-scBMLi",
        "outputId": "3107db46-0984-44da-9606-7f2573c56306"
      },
      "source": [
        "#Show index/ jenis jenis dari Payment\n",
        "\n",
        "df['Payment'].value_counts().keys()"
      ],
      "execution_count": null,
      "outputs": [
        {
          "output_type": "execute_result",
          "data": {
            "text/plain": [
              "Index(['Ewallet', 'Cash', 'Credit card'], dtype='object')"
            ]
          },
          "metadata": {},
          "execution_count": 15
        }
      ]
    },
    {
      "cell_type": "code",
      "metadata": {
        "colab": {
          "base_uri": "https://localhost:8080/"
        },
        "id": "FtcX_vJEBO7x",
        "outputId": "62f6c74c-5cf7-4b5b-9dde-6749c6d9e8cd"
      },
      "source": [
        "#Cek seberapa banyak pelanggan menggunakan masing-masing metode Payment\n",
        "\n",
        "df['Payment'].value_counts()"
      ],
      "execution_count": null,
      "outputs": [
        {
          "output_type": "execute_result",
          "data": {
            "text/plain": [
              "Ewallet        345\n",
              "Cash           344\n",
              "Credit card    311\n",
              "Name: Payment, dtype: int64"
            ]
          },
          "metadata": {},
          "execution_count": 16
        }
      ]
    },
    {
      "cell_type": "code",
      "metadata": {
        "colab": {
          "base_uri": "https://localhost:8080/",
          "height": 294
        },
        "id": "RfiNWzg2BRfa",
        "outputId": "e76e628a-0600-48f0-ed3e-813867ffb37e"
      },
      "source": [
        "#Menampilkan Pie Chart dari masing masing Payment\n",
        "\n",
        "plt.pie(df['Payment'].value_counts(),labels=df['Payment'].value_counts().keys(),autopct='%1.0f%%',radius=1.5)\n",
        "plt.legend()\n",
        "plt.show()"
      ],
      "execution_count": null,
      "outputs": [
        {
          "output_type": "display_data",
          "data": {
            "image/png": "[encoded data removed]",
            "text/plain": [
              "<Figure size 432x288 with 1 Axes>"
            ]
          },
          "metadata": {}
        }
      ]
    },
    {
      "cell_type": "code",
      "metadata": {
        "colab": {
          "base_uri": "https://localhost:8080/"
        },
        "id": "WExH7l6RBVYN",
        "outputId": "5c73e7e9-8330-47f1-f4d9-f515ed8163ba"
      },
      "source": [
        "#Menampilkan rata-rata Kuantitas Pembelian dari masing-masing payment\n",
        "\n",
        "df.groupby('Payment')['Quantity'].mean()"
      ],
      "execution_count": null,
      "outputs": [
        {
          "output_type": "execute_result",
          "data": {
            "text/plain": [
              "Payment\n",
              "Cash           5.511628\n",
              "Credit card    5.536977\n",
              "Ewallet        5.484058\n",
              "Name: Quantity, dtype: float64"
            ]
          },
          "metadata": {},
          "execution_count": 18
        }
      ]
    },
    {
      "cell_type": "code",
      "metadata": {
        "colab": {
          "base_uri": "https://localhost:8080/"
        },
        "id": "RBS8rQBHBYMs",
        "outputId": "6b75ca54-580e-48ec-b688-115fb5231522"
      },
      "source": [
        "#Menampilkan mean dari masing masing metode payment\n",
        "\n",
        "df.groupby('Payment')['Total'].mean()"
      ],
      "execution_count": null,
      "outputs": [
        {
          "output_type": "execute_result",
          "data": {
            "text/plain": [
              "Payment\n",
              "Cash           326.181890\n",
              "Credit card    324.009878\n",
              "Ewallet        318.820600\n",
              "Name: Total, dtype: float64"
            ]
          },
          "metadata": {},
          "execution_count": 19
        }
      ]
    },
    {
      "cell_type": "markdown",
      "metadata": {
        "id": "1mA4AKyX1asT"
      },
      "source": [
        "**Insight Dari Payment diatas**"
      ]
    },
    {
      "cell_type": "markdown",
      "metadata": {
        "id": "kePvT8FF1jqg"
      },
      "source": [
        "* Tidak ada perbedaan antara kuantitas pada masing masing jumlah pembayaran\n",
        "* Tidak ada perbedaan yang mencolok terhadap total uang yang digunakan dalam setiap metode pembayaran\n"
      ]
    },
    {
      "cell_type": "markdown",
      "metadata": {
        "id": "2iRlqsd32B-p"
      },
      "source": [
        "\n",
        "\n",
        "---\n",
        "\n",
        "\n",
        "\n",
        "---\n",
        "\n",
        "\n",
        "\n",
        "---\n",
        "\n"
      ]
    },
    {
      "cell_type": "markdown",
      "metadata": {
        "id": "8tVvdHDL2IVB"
      },
      "source": [
        "**Customer Type**"
      ]
    },
    {
      "cell_type": "code",
      "metadata": {
        "colab": {
          "base_uri": "https://localhost:8080/",
          "height": 352
        },
        "id": "XqEv9HXJBeKr",
        "outputId": "f08be403-87d8-43f8-a6e1-42f1b7235003"
      },
      "source": [
        "#Menampilkan Grafik berdasarkan Customer Type dan Gender\n",
        "\n",
        "fig1, ax1 = plt.subplots(figsize=(10,5))\n",
        "sns.countplot(x = 'Customer type',hue='Gender',data=df)"
      ],
      "execution_count": null,
      "outputs": [
        {
          "output_type": "execute_result",
          "data": {
            "text/plain": [
              "<matplotlib.axes._subplots.AxesSubplot at 0x7fad93796b50>"
            ]
          },
          "metadata": {},
          "execution_count": 20
        },
        {
          "output_type": "display_data",
          "data": {
            "image/png": "[encoded data removed]",
            "text/plain": [
              "<Figure size 720x360 with 1 Axes>"
            ]
          },
          "metadata": {
            "needs_background": "light"
          }
        }
      ]
    },
    {
      "cell_type": "code",
      "metadata": {
        "colab": {
          "base_uri": "https://localhost:8080/"
        },
        "id": "QSvOCtsYBl8R",
        "outputId": "2fa6ead6-e472-4ff9-a46b-ffd80c997fe6"
      },
      "source": [
        "#Menampilkan Gross income dari Tipe Customer\n",
        "\n",
        "df.groupby('Customer type')['gross income'].sum()"
      ],
      "execution_count": null,
      "outputs": [
        {
          "output_type": "execute_result",
          "data": {
            "text/plain": [
              "Customer type\n",
              "Member    7820.164\n",
              "Normal    7559.205\n",
              "Name: gross income, dtype: float64"
            ]
          },
          "metadata": {},
          "execution_count": 21
        }
      ]
    },
    {
      "cell_type": "code",
      "metadata": {
        "colab": {
          "base_uri": "https://localhost:8080/"
        },
        "id": "a6H1RHk3Brg3",
        "outputId": "9ed009dc-dbe7-41ac-fd81-8abaf48d74bb"
      },
      "source": [
        "# Menampilkan Pembayar Pajak terbanyak pada tipe Customer\n",
        "\n",
        "df.groupby('Customer type')['Tax 5%'].sum()"
      ],
      "execution_count": null,
      "outputs": [
        {
          "output_type": "execute_result",
          "data": {
            "text/plain": [
              "Customer type\n",
              "Member    7820.164\n",
              "Normal    7559.205\n",
              "Name: Tax 5%, dtype: float64"
            ]
          },
          "metadata": {},
          "execution_count": 22
        }
      ]
    },
    {
      "cell_type": "markdown",
      "metadata": {
        "id": "m3L8fKIp2_tS"
      },
      "source": [
        "**Insight dari Costumer Type**"
      ]
    },
    {
      "cell_type": "markdown",
      "metadata": {
        "id": "u6e8zzyq3GZK"
      },
      "source": [
        "* Perempuan lebih banyak sebagai customer membership daripada laki laki\n",
        "* Pemasukan dari membership customer lebih banyak dari customer biasa, maka dari itu supermarket harus memperbanyak promo untuk mendapatkan membership baru\n",
        "* Dan juga sudah sangat jelas bahwa customer membership lebih banyak membayar pajak dari customer biasa"
      ]
    },
    {
      "cell_type": "markdown",
      "metadata": {
        "id": "uXJhAbkl4cHf"
      },
      "source": [
        "\n",
        "\n",
        "\n",
        "---\n",
        "\n",
        "\n",
        "---\n",
        "\n",
        "\n",
        "\n",
        "---\n",
        "\n"
      ]
    },
    {
      "cell_type": "markdown",
      "metadata": {
        "id": "1-PX7Pyj4d5o"
      },
      "source": [
        "**Branch and City Type**"
      ]
    },
    {
      "cell_type": "code",
      "metadata": {
        "colab": {
          "base_uri": "https://localhost:8080/",
          "height": 352
        },
        "id": "JLEA6uaKLimX",
        "outputId": "37d88549-070f-4440-ce15-c10ecc177874"
      },
      "source": [
        "#Membandingkan Jumlah customer berdasarkan gender yang datang di tiap branch\n",
        "\n",
        "fig1, ax1 = plt.subplots(figsize=(10,5))\n",
        "sns.countplot(x='Branch',hue='Gender',data=df)"
      ],
      "execution_count": null,
      "outputs": [
        {
          "output_type": "execute_result",
          "data": {
            "text/plain": [
              "<matplotlib.axes._subplots.AxesSubplot at 0x7fad936b48d0>"
            ]
          },
          "metadata": {},
          "execution_count": 23
        },
        {
          "output_type": "display_data",
          "data": {
            "image/png": "[encoded data removed]",
            "text/plain": [
              "<Figure size 720x360 with 1 Axes>"
            ]
          },
          "metadata": {
            "needs_background": "light"
          }
        }
      ]
    },
    {
      "cell_type": "code",
      "metadata": {
        "colab": {
          "base_uri": "https://localhost:8080/",
          "height": 407
        },
        "id": "a1i9GzADLlmg",
        "outputId": "c55140fe-c191-4c4a-dbff-bb05ffc656b8"
      },
      "source": [
        "#Membandingkan Jumlah customer berdasarkan gender yang datang di tiap kota\n",
        "\n",
        "fig1, ax1 = plt.subplots(figsize=(10,5))\n",
        "sns.countplot(df['City'],hue=df['Gender'])"
      ],
      "execution_count": null,
      "outputs": [
        {
          "output_type": "stream",
          "name": "stderr",
          "text": [
            "/usr/local/lib/python3.7/dist-packages/seaborn/_decorators.py:43: FutureWarning: Pass the following variable as a keyword arg: x. From version 0.12, the only valid positional argument will be `data`, and passing other arguments without an explicit keyword will result in an error or misinterpretation.\n",
            "  FutureWarning\n"
          ]
        },
        {
          "output_type": "execute_result",
          "data": {
            "text/plain": [
              "<matplotlib.axes._subplots.AxesSubplot at 0x7fad9364b3d0>"
            ]
          },
          "metadata": {},
          "execution_count": 24
        },
        {
          "output_type": "display_data",
          "data": {
            "image/png": "[encoded data removed]",
            "text/plain": [
              "<Figure size 720x360 with 1 Axes>"
            ]
          },
          "metadata": {
            "needs_background": "light"
          }
        }
      ]
    },
    {
      "cell_type": "code",
      "metadata": {
        "colab": {
          "base_uri": "https://localhost:8080/",
          "height": 372
        },
        "id": "0r4HgshMLnjo",
        "outputId": "7378dd0e-c1da-4862-8706-71e6948b7e90"
      },
      "source": [
        "#Menampilkan Kota dengan pendapatan tertinggi\n",
        "\n",
        "explode = (0.1, 0, 0)\n",
        "fig1, ax1 = plt.subplots(figsize=(10,5))\n",
        "ax1.pie(df.groupby('City')['gross income'].sum(),explode=explode, labels=df['City'].unique(), autopct='%1.1f%%',\n",
        "        shadow=True, startangle=90)\n",
        "\n",
        "# Equal digunakan agar pie chart berbentuk lingkaran\n",
        "ax1.axis('equal')  \n",
        "plt.tight_layout()\n",
        "plt.legend()\n",
        "plt.show()"
      ],
      "execution_count": null,
      "outputs": [
        {
          "output_type": "display_data",
          "data": {
            "image/png": "[encoded data removed]",
            "text/plain": [
              "<Figure size 720x360 with 1 Axes>"
            ]
          },
          "metadata": {}
        }
      ]
    },
    {
      "cell_type": "code",
      "metadata": {
        "colab": {
          "base_uri": "https://localhost:8080/"
        },
        "id": "013Pc2KPLsDQ",
        "outputId": "82b90cde-d570-44a5-f960-f6631d20889b"
      },
      "source": [
        "# Menampilkan Total Quantitas Pembelian di setiap branch\n",
        "\n",
        "df.groupby('City')['Quantity'].sum()"
      ],
      "execution_count": null,
      "outputs": [
        {
          "output_type": "execute_result",
          "data": {
            "text/plain": [
              "City\n",
              "Mandalay     1820\n",
              "Naypyitaw    1831\n",
              "Yangon       1859\n",
              "Name: Quantity, dtype: int64"
            ]
          },
          "metadata": {},
          "execution_count": 26
        }
      ]
    },
    {
      "cell_type": "code",
      "metadata": {
        "colab": {
          "base_uri": "https://localhost:8080/"
        },
        "id": "OJevLKa3Lup7",
        "outputId": "91444905-23d5-4ea2-c805-d4115255134f"
      },
      "source": [
        "#Menampilkan rata-rata Rating yang diberikan Pelanggan pada setiap branch\n",
        "\n",
        "df.groupby('Branch')['Rating'].mean()"
      ],
      "execution_count": null,
      "outputs": [
        {
          "output_type": "execute_result",
          "data": {
            "text/plain": [
              "Branch\n",
              "A    7.027059\n",
              "B    6.818072\n",
              "C    7.072866\n",
              "Name: Rating, dtype: float64"
            ]
          },
          "metadata": {},
          "execution_count": 27
        }
      ]
    },
    {
      "cell_type": "code",
      "metadata": {
        "id": "u-8AFloeLxHc"
      },
      "source": [
        ""
      ],
      "execution_count": null,
      "outputs": []
    },
    {
      "cell_type": "markdown",
      "metadata": {
        "id": "rJaRO17SB9dM"
      },
      "source": [
        "**Insight Dari Branch Type**"
      ]
    },
    {
      "cell_type": "markdown",
      "metadata": {
        "id": "nsZxDCEoCCcj"
      },
      "source": [
        "* Pada branch C pembeli perempuan lebih banyak, sehingga jika branch C difokuskan ke pembeli perempuan maka akan lebih meraup banyak keuntungan\n",
        "* Kemudian Kota Napyitaw menghasilkan keuntungan sedikit lebih banyak dari yang lain\n",
        "* Branch C mendapatkan penilaian paling buruk dari yang lain, sehingga branch C harus memperbaiki kinerjanya"
      ]
    },
    {
      "cell_type": "markdown",
      "metadata": {
        "id": "Tdc6GNw3th2p"
      },
      "source": [
        "\n",
        "\n",
        "\n",
        "---\n",
        "\n",
        "\n",
        "---\n",
        "\n",
        "\n",
        "\n",
        "---\n",
        "\n"
      ]
    },
    {
      "cell_type": "markdown",
      "metadata": {
        "id": "bHVB94YCtj-u"
      },
      "source": [
        "**Rule Based Persona**"
      ]
    },
    {
      "cell_type": "code",
      "metadata": {
        "id": "SclBBOPmtzOo"
      },
      "source": [
        "# Mendefinisikan Kategori features dengan function\n",
        "\n",
        "def grab_cat_names(dataframe, cat_th = 10, car_th = 20):\n",
        "\n",
        "  # Masukan Semua Kolom Kategori  \n",
        "    cat_cols = [col for col in dataframe.columns if dataframe[col].dtypes == 'O']  \n",
        "\n",
        " #Masukan jenis data non-categoric dengan unique value dibawah 10   \n",
        "\n",
        "    num_but_cat =  [col for col in dataframe.columns if dataframe[col].nunique() < cat_th and\n",
        "                    dataframe[col].dtypes != 'O' ]\n",
        "\n",
        " # Masukan jenis data kategorik dengan unique values lebih dari 20   \n",
        "    cat_but_car = [col for col in dataframe.columns if dataframe[col].nunique() > car_th and\n",
        "                   dataframe[col].dtypes == 'O']      \n",
        "\n",
        " # Masukan Semua jenis data dari kolom categorical dan non-categorical dengan unique values kurang dari 10   \n",
        "    final_cat_cols = cat_cols + num_but_cat   \n",
        "    \n",
        " # Tanpa variable cat_but_car\n",
        "    final_cat_cols =  [col for col in final_cat_cols if col not in cat_but_car]   \n",
        "    return  cat_cols, num_but_cat, cat_but_car, final_cat_cols\n",
        "\n",
        "cat_cols, num_but_cat, cat_but_car, final_cat_cols = grab_cat_names(df)\n"
      ],
      "execution_count": null,
      "outputs": []
    },
    {
      "cell_type": "code",
      "metadata": {
        "colab": {
          "base_uri": "https://localhost:8080/"
        },
        "id": "y9mbzVQcvllW",
        "outputId": "887b54af-b2aa-4c96-8336-396e1f2573ac"
      },
      "source": [
        "# Menampilkan semua coloumn \n",
        "cat_cols"
      ],
      "execution_count": null,
      "outputs": [
        {
          "output_type": "execute_result",
          "data": {
            "text/plain": [
              "['Invoice ID',\n",
              " 'Branch',\n",
              " 'City',\n",
              " 'Customer type',\n",
              " 'Gender',\n",
              " 'Product line',\n",
              " 'Date',\n",
              " 'Time',\n",
              " 'Payment']"
            ]
          },
          "metadata": {},
          "execution_count": 29
        }
      ]
    },
    {
      "cell_type": "code",
      "metadata": {
        "colab": {
          "base_uri": "https://localhost:8080/"
        },
        "id": "gza-ptzMv7XD",
        "outputId": "b8d11061-781d-4e17-a7b6-8139bf15622e"
      },
      "source": [
        "# Menampilkan data non kategori \n",
        "num_but_cat"
      ],
      "execution_count": null,
      "outputs": [
        {
          "output_type": "execute_result",
          "data": {
            "text/plain": [
              "['gross margin percentage', 'Female', 'Male']"
            ]
          },
          "metadata": {},
          "execution_count": 30
        }
      ]
    },
    {
      "cell_type": "code",
      "metadata": {
        "colab": {
          "base_uri": "https://localhost:8080/"
        },
        "id": "0fBuMzLkwEig",
        "outputId": "9745df8d-16cf-4cb2-e53d-705ffef3465a"
      },
      "source": [
        "# Menampilkan jenis data kategorik\n",
        "cat_but_car"
      ],
      "execution_count": null,
      "outputs": [
        {
          "output_type": "execute_result",
          "data": {
            "text/plain": [
              "['Invoice ID', 'Date', 'Time']"
            ]
          },
          "metadata": {},
          "execution_count": 31
        }
      ]
    },
    {
      "cell_type": "code",
      "metadata": {
        "colab": {
          "base_uri": "https://localhost:8080/"
        },
        "id": "Szwuji-ewWVz",
        "outputId": "f67b687a-d479-4b1a-8b64-58460b7722ad"
      },
      "source": [
        "# Menampilkan semua data dari jenis kategori dan non-kategori\n",
        "final_cat_cols"
      ],
      "execution_count": null,
      "outputs": [
        {
          "output_type": "execute_result",
          "data": {
            "text/plain": [
              "['Branch',\n",
              " 'City',\n",
              " 'Customer type',\n",
              " 'Gender',\n",
              " 'Product line',\n",
              " 'Payment',\n",
              " 'gross margin percentage',\n",
              " 'Female',\n",
              " 'Male']"
            ]
          },
          "metadata": {},
          "execution_count": 32
        }
      ]
    },
    {
      "cell_type": "code",
      "metadata": {
        "id": "W_ydx9TJwize"
      },
      "source": [
        "final_cat_cols=['Branch', 'City', 'Customer type', 'Gender', 'Product line', 'Payment']"
      ],
      "execution_count": null,
      "outputs": []
    },
    {
      "cell_type": "code",
      "metadata": {
        "colab": {
          "base_uri": "https://localhost:8080/",
          "height": 232
        },
        "id": "k2tEpmGsxJDO",
        "outputId": "65af8491-679e-4369-8598-2dcb348e5092"
      },
      "source": [
        "# Memasukan data kategorik yang telah dipilih dimbah total revenue dan rating\n",
        "\n",
        "agg_df = df.groupby(by=['Branch', 'City', 'Customer type',\n",
        "                          'Gender', 'Product line', 'Payment', 'Rating']).\\\n",
        "                          agg({\"Total\" : \"sum\"}).sort_values(\"Total\", ascending=False)\n",
        "agg_df.head()"
      ],
      "execution_count": null,
      "outputs": [
        {
          "output_type": "execute_result",
          "data": {
            "text/html": [
              "<div>\n",
              "<style scoped>\n",
              "    .dataframe tbody tr th:only-of-type {\n",
              "        vertical-align: middle;\n",
              "    }\n",
              "\n",
              "    .dataframe tbody tr th {\n",
              "        vertical-align: top;\n",
              "    }\n",
              "\n",
              "    .dataframe thead th {\n",
              "        text-align: right;\n",
              "    }\n",
              "</style>\n",
              "<table border=\"1\" class=\"dataframe\">\n",
              "  <thead>\n",
              "    <tr style=\"text-align: right;\">\n",
              "      <th></th>\n",
              "      <th></th>\n",
              "      <th></th>\n",
              "      <th></th>\n",
              "      <th></th>\n",
              "      <th></th>\n",
              "      <th></th>\n",
              "      <th>Total</th>\n",
              "    </tr>\n",
              "    <tr>\n",
              "      <th>Branch</th>\n",
              "      <th>City</th>\n",
              "      <th>Customer type</th>\n",
              "      <th>Gender</th>\n",
              "      <th>Product line</th>\n",
              "      <th>Payment</th>\n",
              "      <th>Rating</th>\n",
              "      <th></th>\n",
              "    </tr>\n",
              "  </thead>\n",
              "  <tbody>\n",
              "    <tr>\n",
              "      <th rowspan=\"3\" valign=\"top\">B</th>\n",
              "      <th rowspan=\"3\" valign=\"top\">Mandalay</th>\n",
              "      <th>Member</th>\n",
              "      <th>Male</th>\n",
              "      <th>Health and beauty</th>\n",
              "      <th>Credit card</th>\n",
              "      <th>8.4</th>\n",
              "      <td>1572.7005</td>\n",
              "    </tr>\n",
              "    <tr>\n",
              "      <th rowspan=\"2\" valign=\"top\">Normal</th>\n",
              "      <th>Male</th>\n",
              "      <th>Health and beauty</th>\n",
              "      <th>Ewallet</th>\n",
              "      <th>5.1</th>\n",
              "      <td>1199.7720</td>\n",
              "    </tr>\n",
              "    <tr>\n",
              "      <th>Female</th>\n",
              "      <th>Home and lifestyle</th>\n",
              "      <th>Ewallet</th>\n",
              "      <th>4.4</th>\n",
              "      <td>1107.1200</td>\n",
              "    </tr>\n",
              "    <tr>\n",
              "      <th>C</th>\n",
              "      <th>Naypyitaw</th>\n",
              "      <th>Member</th>\n",
              "      <th>Female</th>\n",
              "      <th>Fashion accessories</th>\n",
              "      <th>Credit card</th>\n",
              "      <th>6.6</th>\n",
              "      <td>1042.6500</td>\n",
              "    </tr>\n",
              "    <tr>\n",
              "      <th>A</th>\n",
              "      <th>Yangon</th>\n",
              "      <th>Normal</th>\n",
              "      <th>Male</th>\n",
              "      <th>Fashion accessories</th>\n",
              "      <th>Credit card</th>\n",
              "      <th>8.7</th>\n",
              "      <td>1039.2900</td>\n",
              "    </tr>\n",
              "  </tbody>\n",
              "</table>\n",
              "</div>"
            ],
            "text/plain": [
              "                                                                                  Total\n",
              "Branch City      Customer type Gender Product line        Payment     Rating           \n",
              "B      Mandalay  Member        Male   Health and beauty   Credit card 8.4     1572.7005\n",
              "                 Normal        Male   Health and beauty   Ewallet     5.1     1199.7720\n",
              "                               Female Home and lifestyle  Ewallet     4.4     1107.1200\n",
              "C      Naypyitaw Member        Female Fashion accessories Credit card 6.6     1042.6500\n",
              "A      Yangon    Normal        Male   Fashion accessories Credit card 8.7     1039.2900"
            ]
          },
          "metadata": {},
          "execution_count": 34
        }
      ]
    },
    {
      "cell_type": "code",
      "metadata": {
        "id": "kPHvJmH9_POL"
      },
      "source": [
        ""
      ],
      "execution_count": null,
      "outputs": []
    },
    {
      "cell_type": "markdown",
      "metadata": {
        "id": "1ZeIRp79MPrZ"
      },
      "source": [
        "**ARIMA**"
      ]
    },
    {
      "cell_type": "code",
      "metadata": {
        "colab": {
          "base_uri": "https://localhost:8080/",
          "height": 160
        },
        "id": "5gvEf0SnhMgc",
        "outputId": "7bca394f-be81-4a28-ebd6-88691b279c7f"
      },
      "source": [
        "#Merubah Tipe data Date \n",
        "\n",
        "df['Date'] = pd.to_datetime(df['Date'])\n",
        "df.head(2)"
      ],
      "execution_count": null,
      "outputs": [
        {
          "output_type": "execute_result",
          "data": {
            "text/html": [
              "<div>\n",
              "<style scoped>\n",
              "    .dataframe tbody tr th:only-of-type {\n",
              "        vertical-align: middle;\n",
              "    }\n",
              "\n",
              "    .dataframe tbody tr th {\n",
              "        vertical-align: top;\n",
              "    }\n",
              "\n",
              "    .dataframe thead th {\n",
              "        text-align: right;\n",
              "    }\n",
              "</style>\n",
              "<table border=\"1\" class=\"dataframe\">\n",
              "  <thead>\n",
              "    <tr style=\"text-align: right;\">\n",
              "      <th></th>\n",
              "      <th>Invoice ID</th>\n",
              "      <th>Branch</th>\n",
              "      <th>City</th>\n",
              "      <th>Customer type</th>\n",
              "      <th>Gender</th>\n",
              "      <th>Product line</th>\n",
              "      <th>Unit price</th>\n",
              "      <th>Quantity</th>\n",
              "      <th>Tax 5%</th>\n",
              "      <th>Total</th>\n",
              "      <th>Date</th>\n",
              "      <th>Time</th>\n",
              "      <th>Payment</th>\n",
              "      <th>cogs</th>\n",
              "      <th>gross margin percentage</th>\n",
              "      <th>gross income</th>\n",
              "      <th>Rating</th>\n",
              "      <th>Female</th>\n",
              "      <th>Male</th>\n",
              "    </tr>\n",
              "  </thead>\n",
              "  <tbody>\n",
              "    <tr>\n",
              "      <th>0</th>\n",
              "      <td>750-67-8428</td>\n",
              "      <td>A</td>\n",
              "      <td>Yangon</td>\n",
              "      <td>Member</td>\n",
              "      <td>Female</td>\n",
              "      <td>Health and beauty</td>\n",
              "      <td>74.69</td>\n",
              "      <td>7</td>\n",
              "      <td>26.1415</td>\n",
              "      <td>548.9715</td>\n",
              "      <td>2019-01-05</td>\n",
              "      <td>13:08</td>\n",
              "      <td>Ewallet</td>\n",
              "      <td>522.83</td>\n",
              "      <td>4.761905</td>\n",
              "      <td>26.1415</td>\n",
              "      <td>9.1</td>\n",
              "      <td>1</td>\n",
              "      <td>0</td>\n",
              "    </tr>\n",
              "    <tr>\n",
              "      <th>1</th>\n",
              "      <td>226-31-3081</td>\n",
              "      <td>C</td>\n",
              "      <td>Naypyitaw</td>\n",
              "      <td>Normal</td>\n",
              "      <td>Female</td>\n",
              "      <td>Electronic accessories</td>\n",
              "      <td>15.28</td>\n",
              "      <td>5</td>\n",
              "      <td>3.8200</td>\n",
              "      <td>80.2200</td>\n",
              "      <td>2019-03-08</td>\n",
              "      <td>10:29</td>\n",
              "      <td>Cash</td>\n",
              "      <td>76.40</td>\n",
              "      <td>4.761905</td>\n",
              "      <td>3.8200</td>\n",
              "      <td>9.6</td>\n",
              "      <td>1</td>\n",
              "      <td>0</td>\n",
              "    </tr>\n",
              "  </tbody>\n",
              "</table>\n",
              "</div>"
            ],
            "text/plain": [
              "    Invoice ID Branch       City  ... Rating Female Male\n",
              "0  750-67-8428      A     Yangon  ...    9.1      1    0\n",
              "1  226-31-3081      C  Naypyitaw  ...    9.6      1    0\n",
              "\n",
              "[2 rows x 19 columns]"
            ]
          },
          "metadata": {},
          "execution_count": 35
        }
      ]
    },
    {
      "cell_type": "code",
      "metadata": {
        "colab": {
          "base_uri": "https://localhost:8080/",
          "height": 302
        },
        "id": "LUb1gwkiJaFd",
        "outputId": "4aee673d-23af-4a0f-e8a9-ed897018e3ec"
      },
      "source": [
        "yangon = df.loc[df['City'] == 'Yangon']\n",
        "yangon.head()"
      ],
      "execution_count": null,
      "outputs": [
        {
          "output_type": "execute_result",
          "data": {
            "text/html": [
              "<div>\n",
              "<style scoped>\n",
              "    .dataframe tbody tr th:only-of-type {\n",
              "        vertical-align: middle;\n",
              "    }\n",
              "\n",
              "    .dataframe tbody tr th {\n",
              "        vertical-align: top;\n",
              "    }\n",
              "\n",
              "    .dataframe thead th {\n",
              "        text-align: right;\n",
              "    }\n",
              "</style>\n",
              "<table border=\"1\" class=\"dataframe\">\n",
              "  <thead>\n",
              "    <tr style=\"text-align: right;\">\n",
              "      <th></th>\n",
              "      <th>Invoice ID</th>\n",
              "      <th>Branch</th>\n",
              "      <th>City</th>\n",
              "      <th>Customer type</th>\n",
              "      <th>Gender</th>\n",
              "      <th>Product line</th>\n",
              "      <th>Unit price</th>\n",
              "      <th>Quantity</th>\n",
              "      <th>Tax 5%</th>\n",
              "      <th>Total</th>\n",
              "      <th>Date</th>\n",
              "      <th>Time</th>\n",
              "      <th>Payment</th>\n",
              "      <th>cogs</th>\n",
              "      <th>gross margin percentage</th>\n",
              "      <th>gross income</th>\n",
              "      <th>Rating</th>\n",
              "      <th>Female</th>\n",
              "      <th>Male</th>\n",
              "    </tr>\n",
              "  </thead>\n",
              "  <tbody>\n",
              "    <tr>\n",
              "      <th>0</th>\n",
              "      <td>750-67-8428</td>\n",
              "      <td>A</td>\n",
              "      <td>Yangon</td>\n",
              "      <td>Member</td>\n",
              "      <td>Female</td>\n",
              "      <td>Health and beauty</td>\n",
              "      <td>74.69</td>\n",
              "      <td>7</td>\n",
              "      <td>26.1415</td>\n",
              "      <td>548.9715</td>\n",
              "      <td>2019-01-05</td>\n",
              "      <td>13:08</td>\n",
              "      <td>Ewallet</td>\n",
              "      <td>522.83</td>\n",
              "      <td>4.761905</td>\n",
              "      <td>26.1415</td>\n",
              "      <td>9.1</td>\n",
              "      <td>1</td>\n",
              "      <td>0</td>\n",
              "    </tr>\n",
              "    <tr>\n",
              "      <th>2</th>\n",
              "      <td>631-41-3108</td>\n",
              "      <td>A</td>\n",
              "      <td>Yangon</td>\n",
              "      <td>Normal</td>\n",
              "      <td>Male</td>\n",
              "      <td>Home and lifestyle</td>\n",
              "      <td>46.33</td>\n",
              "      <td>7</td>\n",
              "      <td>16.2155</td>\n",
              "      <td>340.5255</td>\n",
              "      <td>2019-03-03</td>\n",
              "      <td>13:23</td>\n",
              "      <td>Credit card</td>\n",
              "      <td>324.31</td>\n",
              "      <td>4.761905</td>\n",
              "      <td>16.2155</td>\n",
              "      <td>7.4</td>\n",
              "      <td>0</td>\n",
              "      <td>1</td>\n",
              "    </tr>\n",
              "    <tr>\n",
              "      <th>3</th>\n",
              "      <td>123-19-1176</td>\n",
              "      <td>A</td>\n",
              "      <td>Yangon</td>\n",
              "      <td>Member</td>\n",
              "      <td>Male</td>\n",
              "      <td>Health and beauty</td>\n",
              "      <td>58.22</td>\n",
              "      <td>8</td>\n",
              "      <td>23.2880</td>\n",
              "      <td>489.0480</td>\n",
              "      <td>2019-01-27</td>\n",
              "      <td>20:33</td>\n",
              "      <td>Ewallet</td>\n",
              "      <td>465.76</td>\n",
              "      <td>4.761905</td>\n",
              "      <td>23.2880</td>\n",
              "      <td>8.4</td>\n",
              "      <td>0</td>\n",
              "      <td>1</td>\n",
              "    </tr>\n",
              "    <tr>\n",
              "      <th>4</th>\n",
              "      <td>373-73-7910</td>\n",
              "      <td>A</td>\n",
              "      <td>Yangon</td>\n",
              "      <td>Normal</td>\n",
              "      <td>Male</td>\n",
              "      <td>Sports and travel</td>\n",
              "      <td>86.31</td>\n",
              "      <td>7</td>\n",
              "      <td>30.2085</td>\n",
              "      <td>634.3785</td>\n",
              "      <td>2019-02-08</td>\n",
              "      <td>10:37</td>\n",
              "      <td>Ewallet</td>\n",
              "      <td>604.17</td>\n",
              "      <td>4.761905</td>\n",
              "      <td>30.2085</td>\n",
              "      <td>5.3</td>\n",
              "      <td>0</td>\n",
              "      <td>1</td>\n",
              "    </tr>\n",
              "    <tr>\n",
              "      <th>6</th>\n",
              "      <td>355-53-5943</td>\n",
              "      <td>A</td>\n",
              "      <td>Yangon</td>\n",
              "      <td>Member</td>\n",
              "      <td>Female</td>\n",
              "      <td>Electronic accessories</td>\n",
              "      <td>68.84</td>\n",
              "      <td>6</td>\n",
              "      <td>20.6520</td>\n",
              "      <td>433.6920</td>\n",
              "      <td>2019-02-25</td>\n",
              "      <td>14:36</td>\n",
              "      <td>Ewallet</td>\n",
              "      <td>413.04</td>\n",
              "      <td>4.761905</td>\n",
              "      <td>20.6520</td>\n",
              "      <td>5.8</td>\n",
              "      <td>1</td>\n",
              "      <td>0</td>\n",
              "    </tr>\n",
              "  </tbody>\n",
              "</table>\n",
              "</div>"
            ],
            "text/plain": [
              "    Invoice ID Branch    City Customer type  ... gross income Rating  Female  Male\n",
              "0  750-67-8428      A  Yangon        Member  ...      26.1415    9.1       1     0\n",
              "2  631-41-3108      A  Yangon        Normal  ...      16.2155    7.4       0     1\n",
              "3  123-19-1176      A  Yangon        Member  ...      23.2880    8.4       0     1\n",
              "4  373-73-7910      A  Yangon        Normal  ...      30.2085    5.3       0     1\n",
              "6  355-53-5943      A  Yangon        Member  ...      20.6520    5.8       1     0\n",
              "\n",
              "[5 rows x 19 columns]"
            ]
          },
          "metadata": {},
          "execution_count": 36
        }
      ]
    },
    {
      "cell_type": "code",
      "metadata": {
        "id": "Jcbx3nKzhJYg"
      },
      "source": [
        ""
      ],
      "execution_count": null,
      "outputs": []
    },
    {
      "cell_type": "code",
      "metadata": {
        "colab": {
          "base_uri": "https://localhost:8080/",
          "height": 291
        },
        "id": "XuXIWiXSXF66",
        "outputId": "b3968ad6-f580-47ad-acad-2dbc01cb506b"
      },
      "source": [
        "#Membuang seluruh rows dan hanya mengambil data date dan Total\n",
        "\n",
        "r_col = ['Invoice ID', 'Branch', 'City', 'Customer type', 'Gender',\n",
        "       'Product line', 'Unit price', 'Quantity', 'Tax 5%',\n",
        "       'Time', 'Payment', 'cogs', 'gross margin percentage', 'gross income',\n",
        "       'Rating', 'Female', 'Male']\n",
        "\n",
        "\n",
        "yangon.drop(r_col, axis =1 , inplace=True)\n",
        "yangon.head()"
      ],
      "execution_count": null,
      "outputs": [
        {
          "output_type": "stream",
          "name": "stderr",
          "text": [
            "/usr/local/lib/python3.7/dist-packages/pandas/core/frame.py:4174: SettingWithCopyWarning: \n",
            "A value is trying to be set on a copy of a slice from a DataFrame\n",
            "\n",
            "See the caveats in the documentation: https://pandas.pydata.org/pandas-docs/stable/user_guide/indexing.html#returning-a-view-versus-a-copy\n",
            "  errors=errors,\n"
          ]
        },
        {
          "output_type": "execute_result",
          "data": {
            "text/html": [
              "<div>\n",
              "<style scoped>\n",
              "    .dataframe tbody tr th:only-of-type {\n",
              "        vertical-align: middle;\n",
              "    }\n",
              "\n",
              "    .dataframe tbody tr th {\n",
              "        vertical-align: top;\n",
              "    }\n",
              "\n",
              "    .dataframe thead th {\n",
              "        text-align: right;\n",
              "    }\n",
              "</style>\n",
              "<table border=\"1\" class=\"dataframe\">\n",
              "  <thead>\n",
              "    <tr style=\"text-align: right;\">\n",
              "      <th></th>\n",
              "      <th>Total</th>\n",
              "      <th>Date</th>\n",
              "    </tr>\n",
              "  </thead>\n",
              "  <tbody>\n",
              "    <tr>\n",
              "      <th>0</th>\n",
              "      <td>548.9715</td>\n",
              "      <td>2019-01-05</td>\n",
              "    </tr>\n",
              "    <tr>\n",
              "      <th>2</th>\n",
              "      <td>340.5255</td>\n",
              "      <td>2019-03-03</td>\n",
              "    </tr>\n",
              "    <tr>\n",
              "      <th>3</th>\n",
              "      <td>489.0480</td>\n",
              "      <td>2019-01-27</td>\n",
              "    </tr>\n",
              "    <tr>\n",
              "      <th>4</th>\n",
              "      <td>634.3785</td>\n",
              "      <td>2019-02-08</td>\n",
              "    </tr>\n",
              "    <tr>\n",
              "      <th>6</th>\n",
              "      <td>433.6920</td>\n",
              "      <td>2019-02-25</td>\n",
              "    </tr>\n",
              "  </tbody>\n",
              "</table>\n",
              "</div>"
            ],
            "text/plain": [
              "      Total       Date\n",
              "0  548.9715 2019-01-05\n",
              "2  340.5255 2019-03-03\n",
              "3  489.0480 2019-01-27\n",
              "4  634.3785 2019-02-08\n",
              "6  433.6920 2019-02-25"
            ]
          },
          "metadata": {},
          "execution_count": 37
        }
      ]
    },
    {
      "cell_type": "code",
      "metadata": {
        "colab": {
          "base_uri": "https://localhost:8080/",
          "height": 202
        },
        "id": "zRu6ZVCcX6OZ",
        "outputId": "d77f732a-7918-43cb-f59f-c5ae6f9bc4c0"
      },
      "source": [
        "#Merapikan bentuk table dan mensortir berdasarkan tanggal\n",
        "\n",
        "yangon = yangon[[\"Date\",\"Total\"]].sort_values('Date')\n",
        "yangon.head()"
      ],
      "execution_count": null,
      "outputs": [
        {
          "output_type": "execute_result",
          "data": {
            "text/html": [
              "<div>\n",
              "<style scoped>\n",
              "    .dataframe tbody tr th:only-of-type {\n",
              "        vertical-align: middle;\n",
              "    }\n",
              "\n",
              "    .dataframe tbody tr th {\n",
              "        vertical-align: top;\n",
              "    }\n",
              "\n",
              "    .dataframe thead th {\n",
              "        text-align: right;\n",
              "    }\n",
              "</style>\n",
              "<table border=\"1\" class=\"dataframe\">\n",
              "  <thead>\n",
              "    <tr style=\"text-align: right;\">\n",
              "      <th></th>\n",
              "      <th>Date</th>\n",
              "      <th>Total</th>\n",
              "    </tr>\n",
              "  </thead>\n",
              "  <tbody>\n",
              "    <tr>\n",
              "      <th>696</th>\n",
              "      <td>2019-01-01</td>\n",
              "      <td>113.568</td>\n",
              "    </tr>\n",
              "    <tr>\n",
              "      <th>245</th>\n",
              "      <td>2019-01-01</td>\n",
              "      <td>399.756</td>\n",
              "    </tr>\n",
              "    <tr>\n",
              "      <th>567</th>\n",
              "      <td>2019-01-01</td>\n",
              "      <td>621.243</td>\n",
              "    </tr>\n",
              "    <tr>\n",
              "      <th>17</th>\n",
              "      <td>2019-01-01</td>\n",
              "      <td>457.443</td>\n",
              "    </tr>\n",
              "    <tr>\n",
              "      <th>829</th>\n",
              "      <td>2019-01-01</td>\n",
              "      <td>779.310</td>\n",
              "    </tr>\n",
              "  </tbody>\n",
              "</table>\n",
              "</div>"
            ],
            "text/plain": [
              "          Date    Total\n",
              "696 2019-01-01  113.568\n",
              "245 2019-01-01  399.756\n",
              "567 2019-01-01  621.243\n",
              "17  2019-01-01  457.443\n",
              "829 2019-01-01  779.310"
            ]
          },
          "metadata": {},
          "execution_count": 38
        }
      ]
    },
    {
      "cell_type": "code",
      "metadata": {
        "colab": {
          "base_uri": "https://localhost:8080/",
          "height": 445
        },
        "id": "l9g_TFHrZixL",
        "outputId": "a63cbb43-52df-44b5-90f6-fc91ef9c0564"
      },
      "source": [
        "# Untuk memasukan hasil sorting kedalam table yangon\n",
        "\n",
        "yangon.set_index('Date', inplace=True)\n",
        "yangon"
      ],
      "execution_count": null,
      "outputs": [
        {
          "output_type": "execute_result",
          "data": {
            "text/html": [
              "<div>\n",
              "<style scoped>\n",
              "    .dataframe tbody tr th:only-of-type {\n",
              "        vertical-align: middle;\n",
              "    }\n",
              "\n",
              "    .dataframe tbody tr th {\n",
              "        vertical-align: top;\n",
              "    }\n",
              "\n",
              "    .dataframe thead th {\n",
              "        text-align: right;\n",
              "    }\n",
              "</style>\n",
              "<table border=\"1\" class=\"dataframe\">\n",
              "  <thead>\n",
              "    <tr style=\"text-align: right;\">\n",
              "      <th></th>\n",
              "      <th>Total</th>\n",
              "    </tr>\n",
              "    <tr>\n",
              "      <th>Date</th>\n",
              "      <th></th>\n",
              "    </tr>\n",
              "  </thead>\n",
              "  <tbody>\n",
              "    <tr>\n",
              "      <th>2019-01-01</th>\n",
              "      <td>113.5680</td>\n",
              "    </tr>\n",
              "    <tr>\n",
              "      <th>2019-01-01</th>\n",
              "      <td>399.7560</td>\n",
              "    </tr>\n",
              "    <tr>\n",
              "      <th>2019-01-01</th>\n",
              "      <td>621.2430</td>\n",
              "    </tr>\n",
              "    <tr>\n",
              "      <th>2019-01-01</th>\n",
              "      <td>457.4430</td>\n",
              "    </tr>\n",
              "    <tr>\n",
              "      <th>2019-01-01</th>\n",
              "      <td>779.3100</td>\n",
              "    </tr>\n",
              "    <tr>\n",
              "      <th>...</th>\n",
              "      <td>...</td>\n",
              "    </tr>\n",
              "    <tr>\n",
              "      <th>2019-03-29</th>\n",
              "      <td>228.1230</td>\n",
              "    </tr>\n",
              "    <tr>\n",
              "      <th>2019-03-30</th>\n",
              "      <td>469.7700</td>\n",
              "    </tr>\n",
              "    <tr>\n",
              "      <th>2019-03-30</th>\n",
              "      <td>216.8460</td>\n",
              "    </tr>\n",
              "    <tr>\n",
              "      <th>2019-03-30</th>\n",
              "      <td>338.3100</td>\n",
              "    </tr>\n",
              "    <tr>\n",
              "      <th>2019-03-30</th>\n",
              "      <td>295.6905</td>\n",
              "    </tr>\n",
              "  </tbody>\n",
              "</table>\n",
              "<p>340 rows × 1 columns</p>\n",
              "</div>"
            ],
            "text/plain": [
              "               Total\n",
              "Date                \n",
              "2019-01-01  113.5680\n",
              "2019-01-01  399.7560\n",
              "2019-01-01  621.2430\n",
              "2019-01-01  457.4430\n",
              "2019-01-01  779.3100\n",
              "...              ...\n",
              "2019-03-29  228.1230\n",
              "2019-03-30  469.7700\n",
              "2019-03-30  216.8460\n",
              "2019-03-30  338.3100\n",
              "2019-03-30  295.6905\n",
              "\n",
              "[340 rows x 1 columns]"
            ]
          },
          "metadata": {},
          "execution_count": 39
        }
      ]
    },
    {
      "cell_type": "code",
      "metadata": {
        "colab": {
          "base_uri": "https://localhost:8080/",
          "height": 412
        },
        "id": "bfcsEdlAYlFj",
        "outputId": "b3eaf658-44d0-47d4-e56f-930d5ec9d79e"
      },
      "source": [
        "# Membuat grafik dari yangob\n",
        "\n",
        "yangon.plot(figsize=(15,6),legend=True)\n",
        "plt.ylabel(\"Sales\",fontsize=18)\n",
        "plt.xlabel(\"Date\",fontsize=18)\n",
        "plt.title(\"Date Vs Sales\",fontsize=20)\n",
        "plt.show()"
      ],
      "execution_count": null,
      "outputs": [
        {
          "output_type": "display_data",
          "data": {
            "image/png": "[encoded data removed]",
            "text/plain": [
              "<Figure size 1080x432 with 1 Axes>"
            ]
          },
          "metadata": {
            "needs_background": "light"
          }
        }
      ]
    },
    {
      "cell_type": "code",
      "metadata": {
        "id": "xVV8TPbnac-T"
      },
      "source": [
        ""
      ],
      "execution_count": null,
      "outputs": []
    },
    {
      "cell_type": "markdown",
      "metadata": {
        "id": "l10AocHBb7zQ"
      },
      "source": [
        "**Test Stationary**"
      ]
    },
    {
      "cell_type": "code",
      "metadata": {
        "id": "2oIZC-3gb-3b",
        "colab": {
          "base_uri": "https://localhost:8080/"
        },
        "outputId": "8d999ada-573c-49cf-f4c6-48326e29a80b"
      },
      "source": [
        "#Import Library untuk testing\n",
        "\n",
        "from statsmodels.tsa.stattools import adfuller"
      ],
      "execution_count": null,
      "outputs": [
        {
          "output_type": "stream",
          "name": "stderr",
          "text": [
            "/usr/local/lib/python3.7/dist-packages/statsmodels/tools/_testing.py:19: FutureWarning: pandas.util.testing is deprecated. Use the functions in the public API at pandas.testing instead.\n",
            "  import pandas.util.testing as tm\n"
          ]
        }
      ]
    },
    {
      "cell_type": "code",
      "metadata": {
        "colab": {
          "base_uri": "https://localhost:8080/"
        },
        "id": "ub3lzjF1cErq",
        "outputId": "c1f68ea8-34d1-43cc-82de-ea7632e5a6bf"
      },
      "source": [
        "test_result = adfuller(yangon['Total'])\n",
        "test_result"
      ],
      "execution_count": null,
      "outputs": [
        {
          "output_type": "execute_result",
          "data": {
            "text/plain": [
              "(-18.713510280720463,\n",
              " 2.034195712964938e-30,\n",
              " 0,\n",
              " 339,\n",
              " {'1%': -3.4497880749874628,\n",
              "  '10%': -2.571332495975496,\n",
              "  '5%': -2.870103829170425},\n",
              " 4427.586483799787)"
            ]
          },
          "metadata": {},
          "execution_count": 42
        }
      ]
    },
    {
      "cell_type": "code",
      "metadata": {
        "id": "7AI8H5stcvlk"
      },
      "source": [
        ""
      ],
      "execution_count": null,
      "outputs": []
    },
    {
      "cell_type": "markdown",
      "metadata": {
        "id": "Rl1WY-3ndS-L"
      },
      "source": [
        "**We're using Dickey Fuller Test here to test for stationarity. The Dickey Fuller Test gives us 5 values, namely - ADF Test Statitic, p-value, #Lags used & Number of Observations used. However, our main focus here is on the p-value.**\n",
        ".\n",
        "\n",
        ".\n",
        "\n",
        "\n",
        "\n",
        "\n",
        "\n",
        "\n",
        "\n",
        "\n",
        "\n",
        "\n",
        "\n",
        "\n",
        "\n",
        "We are assuming our H0 as \"Our data is not stationary\" and H1 as \"Our data is stationary\".\n",
        "\n",
        ".\n",
        "\n",
        ".\n",
        "\n",
        "\n",
        "\n",
        "\n",
        "\n",
        "\n",
        "\n",
        "\n",
        "\n",
        "From the above 5 values, we see that our p-value is 2.034195712964938e-30 which is 0.000000000000000000000000000002034195712964938 in real numbers. Therefore, we can see that our p-value is less than 0.05 and hence we cannot accept our null hypothesis and that the data is stationary."
      ]
    },
    {
      "cell_type": "code",
      "metadata": {
        "id": "vgtrwcKteGhL"
      },
      "source": [
        ""
      ],
      "execution_count": null,
      "outputs": []
    },
    {
      "cell_type": "markdown",
      "metadata": {
        "id": "rVLCXHroeHkT"
      },
      "source": [
        "**Resampling Data**"
      ]
    },
    {
      "cell_type": "code",
      "metadata": {
        "colab": {
          "base_uri": "https://localhost:8080/"
        },
        "id": "k-WqUJEceM8t",
        "outputId": "c42aba16-c63e-4634-d44a-6f3f956aabff"
      },
      "source": [
        "#Resampling the data using Calender Day Frequency and taking their average\n",
        "yangon = yangon['Total'].resample('D').mean()\n",
        "yangon.head()\n",
        "# D = Calendar Day frequency"
      ],
      "execution_count": null,
      "outputs": [
        {
          "output_type": "execute_result",
          "data": {
            "text/plain": [
              "Date\n",
              "2019-01-01    474.26400\n",
              "2019-01-02    153.52575\n",
              "2019-01-03    312.46950\n",
              "2019-01-04    241.63125\n",
              "2019-01-05    404.90100\n",
              "Freq: D, Name: Total, dtype: float64"
            ]
          },
          "metadata": {},
          "execution_count": 43
        }
      ]
    },
    {
      "cell_type": "code",
      "metadata": {
        "id": "crQZSr7rixAw"
      },
      "source": [
        "# Import Libray\n",
        "\n",
        "import statsmodels.api as sm\n",
        "from pylab import rcParams as rc\n"
      ],
      "execution_count": null,
      "outputs": []
    },
    {
      "cell_type": "code",
      "metadata": {
        "colab": {
          "base_uri": "https://localhost:8080/",
          "height": 1000
        },
        "id": "u87zGBFZi64C",
        "outputId": "16bd763d-152d-49cc-e108-24dae64e3723"
      },
      "source": [
        "rc['figure.figsize'] = 10, 14\n",
        "decomposition = sm.tsa.seasonal_decompose(yangon,model='additive', freq=30)\n",
        "\n",
        "#Finding trend,seasonal,observed and residual values\n",
        "fig = decomposition.plot()\n",
        "plt.show()\n",
        "# y(t) = Level + Trend + Seasonality + Noise --> Additive"
      ],
      "execution_count": null,
      "outputs": [
        {
          "output_type": "display_data",
          "data": {
            "image/png": "[encoded data removed]",
            "text/plain": [
              "<Figure size 720x1008 with 4 Axes>"
            ]
          },
          "metadata": {
            "needs_background": "light"
          }
        }
      ]
    },
    {
      "cell_type": "code",
      "metadata": {
        "id": "lzzrRtRcjyGy"
      },
      "source": [
        ""
      ],
      "execution_count": null,
      "outputs": []
    },
    {
      "cell_type": "markdown",
      "metadata": {
        "id": "yttb67v9jywm"
      },
      "source": [
        "**Forecasting with Arima**"
      ]
    },
    {
      "cell_type": "code",
      "metadata": {
        "id": "6rhFQ8Yhj2gO"
      },
      "source": [
        "# Import Library\n",
        "from statsmodels.graphics.tsaplots import plot_acf, plot_pacf\n",
        "import itertools"
      ],
      "execution_count": null,
      "outputs": []
    },
    {
      "cell_type": "code",
      "metadata": {
        "colab": {
          "base_uri": "https://localhost:8080/",
          "height": 824
        },
        "id": "4AK-IWh4j891",
        "outputId": "063b4492-8fe2-43da-ec61-81215e03041d"
      },
      "source": [
        "fig = sm.graphics.tsa.plot_acf(yangon, lags=40)"
      ],
      "execution_count": null,
      "outputs": [
        {
          "output_type": "display_data",
          "data": {
            "image/png": "[encoded data removed]",
            "text/plain": [
              "<Figure size 720x1008 with 1 Axes>"
            ]
          },
          "metadata": {
            "needs_background": "light"
          }
        }
      ]
    },
    {
      "cell_type": "code",
      "metadata": {
        "colab": {
          "base_uri": "https://localhost:8080/",
          "height": 824
        },
        "id": "c7PDzwT1j-Tb",
        "outputId": "80d2e996-3209-4772-e2f9-57b8fafa5dd1"
      },
      "source": [
        "fig = sm.graphics.tsa.plot_pacf(yangon, lags=40)"
      ],
      "execution_count": null,
      "outputs": [
        {
          "output_type": "display_data",
          "data": {
            "image/png": "[encoded data removed]",
            "text/plain": [
              "<Figure size 720x1008 with 1 Axes>"
            ]
          },
          "metadata": {
            "needs_background": "light"
          }
        }
      ]
    },
    {
      "cell_type": "code",
      "metadata": {
        "colab": {
          "base_uri": "https://localhost:8080/"
        },
        "id": "mW-wVzXNkCxW",
        "outputId": "58267ac2-90d2-4469-db49-8e640f855309"
      },
      "source": [
        "p=d=q=range(0,2)\n",
        "p,d,q"
      ],
      "execution_count": null,
      "outputs": [
        {
          "output_type": "execute_result",
          "data": {
            "text/plain": [
              "(range(0, 2), range(0, 2), range(0, 2))"
            ]
          },
          "metadata": {},
          "execution_count": 49
        }
      ]
    },
    {
      "cell_type": "code",
      "metadata": {
        "colab": {
          "base_uri": "https://localhost:8080/"
        },
        "id": "uSHGvzvQkIEc",
        "outputId": "c325ab34-188d-4b15-cba1-b2f41096341a"
      },
      "source": [
        "pdq = list(itertools.product(p,d,q))\n",
        "pdq"
      ],
      "execution_count": null,
      "outputs": [
        {
          "output_type": "execute_result",
          "data": {
            "text/plain": [
              "[(0, 0, 0),\n",
              " (0, 0, 1),\n",
              " (0, 1, 0),\n",
              " (0, 1, 1),\n",
              " (1, 0, 0),\n",
              " (1, 0, 1),\n",
              " (1, 1, 0),\n",
              " (1, 1, 1)]"
            ]
          },
          "metadata": {},
          "execution_count": 50
        }
      ]
    },
    {
      "cell_type": "code",
      "metadata": {
        "colab": {
          "base_uri": "https://localhost:8080/"
        },
        "id": "Ob232CrJkNND",
        "outputId": "720f6fcf-e5aa-4f94-d5bb-8900b8e6e1e3"
      },
      "source": [
        "seasonal_pdq = [(x[0],x[1],x[2], 12) for x in pdq]\n",
        "seasonal_pdq"
      ],
      "execution_count": null,
      "outputs": [
        {
          "output_type": "execute_result",
          "data": {
            "text/plain": [
              "[(0, 0, 0, 12),\n",
              " (0, 0, 1, 12),\n",
              " (0, 1, 0, 12),\n",
              " (0, 1, 1, 12),\n",
              " (1, 0, 0, 12),\n",
              " (1, 0, 1, 12),\n",
              " (1, 1, 0, 12),\n",
              " (1, 1, 1, 12)]"
            ]
          },
          "metadata": {},
          "execution_count": 51
        }
      ]
    },
    {
      "cell_type": "code",
      "metadata": {
        "colab": {
          "base_uri": "https://localhost:8080/"
        },
        "id": "U2C4gm1pkY-g",
        "outputId": "5272ef35-bb4a-42c8-e8f0-6586b2822d56"
      },
      "source": [
        "for param in pdq:\n",
        "    for param_seasonal in seasonal_pdq:\n",
        "        try:\n",
        "            mod = sm.tsa.statespace.SARIMAX(yangon,order = param, seasonal_order = param_seasonal ,\n",
        "                                            enforce_stationarity= False , enforce_invertibility= False )\n",
        "            results = mod.fit()\n",
        "            \n",
        "            print('ARIMA{} x {} 12 -- AIC : {}'.format(param, param_seasonal, results.aic))\n",
        "            \n",
        "        except:\n",
        "             continue"
      ],
      "execution_count": null,
      "outputs": [
        {
          "output_type": "stream",
          "name": "stdout",
          "text": [
            "ARIMA(0, 0, 0) x (0, 0, 0, 12) 12 -- AIC : 1268.479050622681\n",
            "ARIMA(0, 0, 0) x (0, 0, 1, 12) 12 -- AIC : 1060.634308829041\n",
            "ARIMA(0, 0, 0) x (0, 1, 0, 12) 12 -- AIC : 1001.7140380352396\n",
            "ARIMA(0, 0, 0) x (0, 1, 1, 12) 12 -- AIC : 812.078415674389\n",
            "ARIMA(0, 0, 0) x (1, 0, 0, 12) 12 -- AIC : 1011.0389629292398\n",
            "ARIMA(0, 0, 0) x (1, 0, 1, 12) 12 -- AIC : 969.5012887375198\n",
            "ARIMA(0, 0, 0) x (1, 1, 0, 12) 12 -- AIC : 836.4208813787811\n",
            "ARIMA(0, 0, 0) x (1, 1, 1, 12) 12 -- AIC : 813.0990512243527\n",
            "ARIMA(0, 0, 1) x (0, 0, 0, 12) 12 -- AIC : 1200.7139050206024\n",
            "ARIMA(0, 0, 1) x (0, 0, 1, 12) 12 -- AIC : 1019.4304477214064\n",
            "ARIMA(0, 0, 1) x (0, 1, 0, 12) 12 -- AIC : 985.613964285467\n",
            "ARIMA(0, 0, 1) x (0, 1, 1, 12) 12 -- AIC : 800.4399802017226\n",
            "ARIMA(0, 0, 1) x (1, 0, 0, 12) 12 -- AIC : 1011.7301409283691\n",
            "ARIMA(0, 0, 1) x (1, 0, 1, 12) 12 -- AIC : 957.2214485153137\n",
            "ARIMA(0, 0, 1) x (1, 1, 0, 12) 12 -- AIC : 838.1879348450053\n",
            "ARIMA(0, 0, 1) x (1, 1, 1, 12) 12 -- AIC : 801.4092204435947\n",
            "ARIMA(0, 1, 0) x (0, 0, 0, 12) 12 -- AIC : 1130.996120182948\n",
            "ARIMA(0, 1, 0) x (0, 0, 1, 12) 12 -- AIC : 978.0368493444107\n",
            "ARIMA(0, 1, 0) x (0, 1, 0, 12) 12 -- AIC : 1030.255833467066\n",
            "ARIMA(0, 1, 0) x (0, 1, 1, 12) 12 -- AIC : 843.2278966945213\n",
            "ARIMA(0, 1, 0) x (1, 0, 0, 12) 12 -- AIC : 992.8170107640422\n",
            "ARIMA(0, 1, 0) x (1, 0, 1, 12) 12 -- AIC : 979.5530802291397\n",
            "ARIMA(0, 1, 0) x (1, 1, 0, 12) 12 -- AIC : 863.6754086256483\n",
            "ARIMA(0, 1, 0) x (1, 1, 1, 12) 12 -- AIC : 844.3628430205167\n",
            "ARIMA(0, 1, 1) x (0, 0, 0, 12) 12 -- AIC : 1067.1454480531163\n",
            "ARIMA(0, 1, 1) x (0, 0, 1, 12) 12 -- AIC : 924.1866212499478\n",
            "ARIMA(0, 1, 1) x (0, 1, 0, 12) 12 -- AIC : 978.0996198444487\n",
            "ARIMA(0, 1, 1) x (0, 1, 1, 12) 12 -- AIC : 792.6141325182077\n",
            "ARIMA(0, 1, 1) x (1, 0, 0, 12) 12 -- AIC : 948.3801533123105\n",
            "ARIMA(0, 1, 1) x (1, 0, 1, 12) 12 -- AIC : 926.0288680454817\n",
            "ARIMA(0, 1, 1) x (1, 1, 0, 12) 12 -- AIC : 828.8449454513736\n",
            "ARIMA(0, 1, 1) x (1, 1, 1, 12) 12 -- AIC : 794.5303131114248\n",
            "ARIMA(1, 0, 0) x (0, 0, 0, 12) 12 -- AIC : 1142.743244198498\n",
            "ARIMA(1, 0, 0) x (0, 0, 1, 12) 12 -- AIC : 990.1424556531294\n",
            "ARIMA(1, 0, 0) x (0, 1, 0, 12) 12 -- AIC : 1003.363718436723\n",
            "ARIMA(1, 0, 0) x (0, 1, 1, 12) 12 -- AIC : 814.056836922917\n",
            "ARIMA(1, 0, 0) x (1, 0, 0, 12) 12 -- AIC : 990.1598520779082\n",
            "ARIMA(1, 0, 0) x (1, 0, 1, 12) 12 -- AIC : 971.4454180529365\n",
            "ARIMA(1, 0, 0) x (1, 1, 0, 12) 12 -- AIC : 824.4525953378127\n",
            "ARIMA(1, 0, 0) x (1, 1, 1, 12) 12 -- AIC : 815.0847901290633\n",
            "ARIMA(1, 0, 1) x (0, 0, 0, 12) 12 -- AIC : 1084.488986821751\n",
            "ARIMA(1, 0, 1) x (0, 0, 1, 12) 12 -- AIC : 940.216051000794\n",
            "ARIMA(1, 0, 1) x (0, 1, 0, 12) 12 -- AIC : 986.8055431315624\n",
            "ARIMA(1, 0, 1) x (0, 1, 1, 12) 12 -- AIC : 802.1174238399437\n",
            "ARIMA(1, 0, 1) x (1, 0, 0, 12) 12 -- AIC : 951.4903331944922\n",
            "ARIMA(1, 0, 1) x (1, 0, 1, 12) 12 -- AIC : 939.6556704697787\n",
            "ARIMA(1, 0, 1) x (1, 1, 0, 12) 12 -- AIC : 825.1020296889453\n",
            "ARIMA(1, 0, 1) x (1, 1, 1, 12) 12 -- AIC : 802.9129032985071\n",
            "ARIMA(1, 1, 0) x (0, 0, 0, 12) 12 -- AIC : 1106.31986156656\n",
            "ARIMA(1, 1, 0) x (0, 0, 1, 12) 12 -- AIC : 960.6263497606502\n",
            "ARIMA(1, 1, 0) x (0, 1, 0, 12) 12 -- AIC : 1007.98830368339\n",
            "ARIMA(1, 1, 0) x (0, 1, 1, 12) 12 -- AIC : 827.867617320593\n",
            "ARIMA(1, 1, 0) x (1, 0, 0, 12) 12 -- AIC : 960.4984373479741\n",
            "ARIMA(1, 1, 0) x (1, 0, 1, 12) 12 -- AIC : 962.1877818689395\n",
            "ARIMA(1, 1, 0) x (1, 1, 0, 12) 12 -- AIC : 837.0098726123978\n",
            "ARIMA(1, 1, 0) x (1, 1, 1, 12) 12 -- AIC : 829.4172404166618\n",
            "ARIMA(1, 1, 1) x (0, 0, 0, 12) 12 -- AIC : 1069.0955341903118\n",
            "ARIMA(1, 1, 1) x (0, 0, 1, 12) 12 -- AIC : 925.9891504960235\n",
            "ARIMA(1, 1, 1) x (0, 1, 0, 12) 12 -- AIC : 978.9991241631155\n",
            "ARIMA(1, 1, 1) x (0, 1, 1, 12) 12 -- AIC : 794.5924511068022\n",
            "ARIMA(1, 1, 1) x (1, 0, 0, 12) 12 -- AIC : 936.2087089271853\n",
            "ARIMA(1, 1, 1) x (1, 0, 1, 12) 12 -- AIC : 927.8943420597205\n",
            "ARIMA(1, 1, 1) x (1, 1, 0, 12) 12 -- AIC : 818.4454912019656\n",
            "ARIMA(1, 1, 1) x (1, 1, 1, 12) 12 -- AIC : 796.508158801151\n"
          ]
        }
      ]
    },
    {
      "cell_type": "code",
      "metadata": {
        "colab": {
          "base_uri": "https://localhost:8080/"
        },
        "id": "XMS1Dkhekjkh",
        "outputId": "c4e2833b-39e3-4110-e8d9-8f4f633f3d64"
      },
      "source": [
        "mod = sm.tsa.statespace.SARIMAX(yangon,\n",
        "                               order=(1,0,1),\n",
        "                               seasonal_order= (1,1,1,12),\n",
        "                               enforce_stationarity = False,\n",
        "                               enforce_invertibility=False)\n",
        "results = mod.fit()\n",
        "print(results.summary().tables[1])"
      ],
      "execution_count": null,
      "outputs": [
        {
          "output_type": "stream",
          "name": "stdout",
          "text": [
            "==============================================================================\n",
            "                 coef    std err          z      P>|z|      [0.025      0.975]\n",
            "------------------------------------------------------------------------------\n",
            "ar.L1         -0.7799      0.291     -2.678      0.007      -1.351      -0.209\n",
            "ma.L1          0.8661      0.252      3.432      0.001       0.371       1.361\n",
            "ar.S.L12      -0.1447      0.180     -0.804      0.421      -0.498       0.208\n",
            "ma.S.L12      -0.7988      0.352     -2.271      0.023      -1.488      -0.109\n",
            "sigma2       1.52e+04   4263.273      3.565      0.000    6841.570    2.36e+04\n",
            "==============================================================================\n"
          ]
        }
      ]
    },
    {
      "cell_type": "code",
      "metadata": {
        "colab": {
          "base_uri": "https://localhost:8080/",
          "height": 513
        },
        "id": "duRqRgA6ksNB",
        "outputId": "2cebdba6-f2c7-40a1-b6f9-48715ca9f2b2"
      },
      "source": [
        "results.plot_diagnostics(figsize=(16,8))\n",
        "plt.show()"
      ],
      "execution_count": null,
      "outputs": [
        {
          "output_type": "display_data",
          "data": {
            "image/png": "[encoded data removed]",
            "text/plain": [
              "<Figure size 1152x576 with 4 Axes>"
            ]
          },
          "metadata": {
            "needs_background": "light"
          }
        }
      ]
    },
    {
      "cell_type": "code",
      "metadata": {
        "colab": {
          "base_uri": "https://localhost:8080/",
          "height": 476
        },
        "id": "389dsjqRk26w",
        "outputId": "e47f9d66-85f6-4231-f205-fbad609f955e"
      },
      "source": [
        "pred = results.get_prediction(start = pd.to_datetime('2019-01-01'), dynamic = False)\n",
        "pred_ci = pred.conf_int()\n",
        "\n",
        "ax = yangon['2019':].plot(label= 'observed')\n",
        "\n",
        "pred.predicted_mean.plot(ax = ax, label = 'One step ahead Forecast',\n",
        "                        alpha = 7, figsize= (14,7))\n",
        "\n",
        "ax.fill_between(pred_ci.index,\n",
        "               pred_ci.iloc[:,0],\n",
        "               pred_ci.iloc[:,1],color = 'k', alpha= 0.2)\n",
        "\n",
        "ax.set_xlabel('Date')\n",
        "ax.set_ylabel('Total')\n",
        "plt.legend()\n",
        "\n",
        "plt.show()"
      ],
      "execution_count": null,
      "outputs": [
        {
          "output_type": "display_data",
          "data": {
            "image/png": "[encoded data removed]",
            "text/plain": [
              "<Figure size 1008x504 with 1 Axes>"
            ]
          },
          "metadata": {
            "needs_background": "light"
          }
        }
      ]
    },
    {
      "cell_type": "code",
      "metadata": {
        "colab": {
          "base_uri": "https://localhost:8080/"
        },
        "id": "L_KL-MHhk-Bz",
        "outputId": "cc27185c-98cc-476e-a91e-85ffb8f821ee"
      },
      "source": [
        "yangon_forecasted = pred.predicted_mean\n",
        "yangon_truth = yangon['2019-01-01':]\n",
        "mse = ((yangon_forecasted - yangon_truth) ** 2).mean()\n",
        "\n",
        "print('MSE of forecast :{}'.format(round(mse,2)))"
      ],
      "execution_count": null,
      "outputs": [
        {
          "output_type": "stream",
          "name": "stdout",
          "text": [
            "MSE of forecast :38326.08\n"
          ]
        }
      ]
    },
    {
      "cell_type": "code",
      "metadata": {
        "colab": {
          "base_uri": "https://localhost:8080/",
          "height": 507
        },
        "id": "L-mQbQ5ulDhA",
        "outputId": "782936d9-b19d-4eea-aebb-407373ca08f2"
      },
      "source": [
        "#Menggunakan 10 steps untuk memprediksi 10 hari kedepan\n",
        "\n",
        "pred_uc = results.get_forecast(steps = 10)\n",
        "pred_ci = pred_uc.conf_int()\n",
        "\n",
        "ax = yangon.plot(label='observed', figsize=(10,8))\n",
        "pred_uc.predicted_mean.plot(ax=ax, label='Forecast')\n",
        "ax.fill_between(pred_ci.index,\n",
        "               pred_ci.iloc[:,0],\n",
        "               pred_ci.iloc[:,1],color='k',alpha=0.6)\n",
        "ax.set_xlabel('Date')\n",
        "ax.set_ylabel('Total')\n",
        "\n",
        "plt.legend()\n",
        "plt.show()"
      ],
      "execution_count": null,
      "outputs": [
        {
          "output_type": "display_data",
          "data": {
            "image/png": "[encoded data removed]",
            "text/plain": [
              "<Figure size 720x576 with 1 Axes>"
            ]
          },
          "metadata": {
            "needs_background": "light"
          }
        }
      ]
    },
    {
      "cell_type": "code",
      "metadata": {
        "colab": {
          "base_uri": "https://localhost:8080/",
          "height": 507
        },
        "id": "yxE-AFdTlNfZ",
        "outputId": "66c6e72d-eef0-4075-d36a-6aee388b56f2"
      },
      "source": [
        "# Menganlisa Dengan 60 Steps atau 2 bulan\n",
        "\n",
        "pred_uc = results.get_forecast(steps = 60)\n",
        "pred_ci = pred_uc.conf_int()\n",
        "\n",
        "ax = yangon.plot(label='observed', figsize=(10,8))\n",
        "pred_uc.predicted_mean.plot(ax=ax, label='Forecast')\n",
        "ax.fill_between(pred_ci.index,\n",
        "               pred_ci.iloc[:,0],\n",
        "               pred_ci.iloc[:,1],color='k',alpha=0.6)\n",
        "ax.set_xlabel('Date')\n",
        "ax.set_ylabel('Total')\n",
        "\n",
        "plt.legend()\n",
        "plt.show()"
      ],
      "execution_count": null,
      "outputs": [
        {
          "output_type": "display_data",
          "data": {
            "image/png": "[encoded data removed]",
            "text/plain": [
              "<Figure size 720x576 with 1 Axes>"
            ]
          },
          "metadata": {
            "needs_background": "light"
          }
        }
      ]
    },
    {
      "cell_type": "markdown",
      "metadata": {
        "id": "xy5EL46ARMX5"
      },
      "source": [
        "# Finding Perfect Model"
      ]
    },
    {
      "cell_type": "markdown",
      "metadata": {
        "id": "mVdLaMYCTlam"
      },
      "source": [
        "**Data Preparation**"
      ]
    },
    {
      "cell_type": "code",
      "metadata": {
        "id": "HgFRv48DV7sr"
      },
      "source": [
        "#Merubah tipe data Date menjadi Int\n",
        "\n",
        "df['Date']=df['Date'].apply(lambda x: x.toordinal())"
      ],
      "execution_count": null,
      "outputs": []
    },
    {
      "cell_type": "code",
      "metadata": {
        "id": "xiUeapzqTA1a"
      },
      "source": [
        "#Menghapus Kolom Female dan Male\n",
        "\n",
        "df.drop(['Female','Male'], axis=1, inplace=True)\n"
      ],
      "execution_count": null,
      "outputs": []
    },
    {
      "cell_type": "code",
      "metadata": {
        "colab": {
          "base_uri": "https://localhost:8080/",
          "height": 597
        },
        "id": "_vDv-2orTbL4",
        "outputId": "75903840-fe8f-46e1-ca49-a8a7801261cb"
      },
      "source": [
        "df"
      ],
      "execution_count": null,
      "outputs": [
        {
          "output_type": "execute_result",
          "data": {
            "text/html": [
              "<div>\n",
              "<style scoped>\n",
              "    .dataframe tbody tr th:only-of-type {\n",
              "        vertical-align: middle;\n",
              "    }\n",
              "\n",
              "    .dataframe tbody tr th {\n",
              "        vertical-align: top;\n",
              "    }\n",
              "\n",
              "    .dataframe thead th {\n",
              "        text-align: right;\n",
              "    }\n",
              "</style>\n",
              "<table border=\"1\" class=\"dataframe\">\n",
              "  <thead>\n",
              "    <tr style=\"text-align: right;\">\n",
              "      <th></th>\n",
              "      <th>Invoice ID</th>\n",
              "      <th>Branch</th>\n",
              "      <th>City</th>\n",
              "      <th>Customer type</th>\n",
              "      <th>Gender</th>\n",
              "      <th>Product line</th>\n",
              "      <th>Unit price</th>\n",
              "      <th>Quantity</th>\n",
              "      <th>Tax 5%</th>\n",
              "      <th>Total</th>\n",
              "      <th>Date</th>\n",
              "      <th>Time</th>\n",
              "      <th>Payment</th>\n",
              "      <th>cogs</th>\n",
              "      <th>gross margin percentage</th>\n",
              "      <th>gross income</th>\n",
              "      <th>Rating</th>\n",
              "    </tr>\n",
              "  </thead>\n",
              "  <tbody>\n",
              "    <tr>\n",
              "      <th>0</th>\n",
              "      <td>750-67-8428</td>\n",
              "      <td>A</td>\n",
              "      <td>Yangon</td>\n",
              "      <td>Member</td>\n",
              "      <td>Female</td>\n",
              "      <td>Health and beauty</td>\n",
              "      <td>74.69</td>\n",
              "      <td>7</td>\n",
              "      <td>26.1415</td>\n",
              "      <td>548.9715</td>\n",
              "      <td>2019-01-05</td>\n",
              "      <td>13:08</td>\n",
              "      <td>Ewallet</td>\n",
              "      <td>522.83</td>\n",
              "      <td>4.761905</td>\n",
              "      <td>26.1415</td>\n",
              "      <td>9.1</td>\n",
              "    </tr>\n",
              "    <tr>\n",
              "      <th>1</th>\n",
              "      <td>226-31-3081</td>\n",
              "      <td>C</td>\n",
              "      <td>Naypyitaw</td>\n",
              "      <td>Normal</td>\n",
              "      <td>Female</td>\n",
              "      <td>Electronic accessories</td>\n",
              "      <td>15.28</td>\n",
              "      <td>5</td>\n",
              "      <td>3.8200</td>\n",
              "      <td>80.2200</td>\n",
              "      <td>2019-03-08</td>\n",
              "      <td>10:29</td>\n",
              "      <td>Cash</td>\n",
              "      <td>76.40</td>\n",
              "      <td>4.761905</td>\n",
              "      <td>3.8200</td>\n",
              "      <td>9.6</td>\n",
              "    </tr>\n",
              "    <tr>\n",
              "      <th>2</th>\n",
              "      <td>631-41-3108</td>\n",
              "      <td>A</td>\n",
              "      <td>Yangon</td>\n",
              "      <td>Normal</td>\n",
              "      <td>Male</td>\n",
              "      <td>Home and lifestyle</td>\n",
              "      <td>46.33</td>\n",
              "      <td>7</td>\n",
              "      <td>16.2155</td>\n",
              "      <td>340.5255</td>\n",
              "      <td>2019-03-03</td>\n",
              "      <td>13:23</td>\n",
              "      <td>Credit card</td>\n",
              "      <td>324.31</td>\n",
              "      <td>4.761905</td>\n",
              "      <td>16.2155</td>\n",
              "      <td>7.4</td>\n",
              "    </tr>\n",
              "    <tr>\n",
              "      <th>3</th>\n",
              "      <td>123-19-1176</td>\n",
              "      <td>A</td>\n",
              "      <td>Yangon</td>\n",
              "      <td>Member</td>\n",
              "      <td>Male</td>\n",
              "      <td>Health and beauty</td>\n",
              "      <td>58.22</td>\n",
              "      <td>8</td>\n",
              "      <td>23.2880</td>\n",
              "      <td>489.0480</td>\n",
              "      <td>2019-01-27</td>\n",
              "      <td>20:33</td>\n",
              "      <td>Ewallet</td>\n",
              "      <td>465.76</td>\n",
              "      <td>4.761905</td>\n",
              "      <td>23.2880</td>\n",
              "      <td>8.4</td>\n",
              "    </tr>\n",
              "    <tr>\n",
              "      <th>4</th>\n",
              "      <td>373-73-7910</td>\n",
              "      <td>A</td>\n",
              "      <td>Yangon</td>\n",
              "      <td>Normal</td>\n",
              "      <td>Male</td>\n",
              "      <td>Sports and travel</td>\n",
              "      <td>86.31</td>\n",
              "      <td>7</td>\n",
              "      <td>30.2085</td>\n",
              "      <td>634.3785</td>\n",
              "      <td>2019-02-08</td>\n",
              "      <td>10:37</td>\n",
              "      <td>Ewallet</td>\n",
              "      <td>604.17</td>\n",
              "      <td>4.761905</td>\n",
              "      <td>30.2085</td>\n",
              "      <td>5.3</td>\n",
              "    </tr>\n",
              "    <tr>\n",
              "      <th>...</th>\n",
              "      <td>...</td>\n",
              "      <td>...</td>\n",
              "      <td>...</td>\n",
              "      <td>...</td>\n",
              "      <td>...</td>\n",
              "      <td>...</td>\n",
              "      <td>...</td>\n",
              "      <td>...</td>\n",
              "      <td>...</td>\n",
              "      <td>...</td>\n",
              "      <td>...</td>\n",
              "      <td>...</td>\n",
              "      <td>...</td>\n",
              "      <td>...</td>\n",
              "      <td>...</td>\n",
              "      <td>...</td>\n",
              "      <td>...</td>\n",
              "    </tr>\n",
              "    <tr>\n",
              "      <th>995</th>\n",
              "      <td>233-67-5758</td>\n",
              "      <td>C</td>\n",
              "      <td>Naypyitaw</td>\n",
              "      <td>Normal</td>\n",
              "      <td>Male</td>\n",
              "      <td>Health and beauty</td>\n",
              "      <td>40.35</td>\n",
              "      <td>1</td>\n",
              "      <td>2.0175</td>\n",
              "      <td>42.3675</td>\n",
              "      <td>2019-01-29</td>\n",
              "      <td>13:46</td>\n",
              "      <td>Ewallet</td>\n",
              "      <td>40.35</td>\n",
              "      <td>4.761905</td>\n",
              "      <td>2.0175</td>\n",
              "      <td>6.2</td>\n",
              "    </tr>\n",
              "    <tr>\n",
              "      <th>996</th>\n",
              "      <td>303-96-2227</td>\n",
              "      <td>B</td>\n",
              "      <td>Mandalay</td>\n",
              "      <td>Normal</td>\n",
              "      <td>Female</td>\n",
              "      <td>Home and lifestyle</td>\n",
              "      <td>97.38</td>\n",
              "      <td>10</td>\n",
              "      <td>48.6900</td>\n",
              "      <td>1022.4900</td>\n",
              "      <td>2019-03-02</td>\n",
              "      <td>17:16</td>\n",
              "      <td>Ewallet</td>\n",
              "      <td>973.80</td>\n",
              "      <td>4.761905</td>\n",
              "      <td>48.6900</td>\n",
              "      <td>4.4</td>\n",
              "    </tr>\n",
              "    <tr>\n",
              "      <th>997</th>\n",
              "      <td>727-02-1313</td>\n",
              "      <td>A</td>\n",
              "      <td>Yangon</td>\n",
              "      <td>Member</td>\n",
              "      <td>Male</td>\n",
              "      <td>Food and beverages</td>\n",
              "      <td>31.84</td>\n",
              "      <td>1</td>\n",
              "      <td>1.5920</td>\n",
              "      <td>33.4320</td>\n",
              "      <td>2019-02-09</td>\n",
              "      <td>13:22</td>\n",
              "      <td>Cash</td>\n",
              "      <td>31.84</td>\n",
              "      <td>4.761905</td>\n",
              "      <td>1.5920</td>\n",
              "      <td>7.7</td>\n",
              "    </tr>\n",
              "    <tr>\n",
              "      <th>998</th>\n",
              "      <td>347-56-2442</td>\n",
              "      <td>A</td>\n",
              "      <td>Yangon</td>\n",
              "      <td>Normal</td>\n",
              "      <td>Male</td>\n",
              "      <td>Home and lifestyle</td>\n",
              "      <td>65.82</td>\n",
              "      <td>1</td>\n",
              "      <td>3.2910</td>\n",
              "      <td>69.1110</td>\n",
              "      <td>2019-02-22</td>\n",
              "      <td>15:33</td>\n",
              "      <td>Cash</td>\n",
              "      <td>65.82</td>\n",
              "      <td>4.761905</td>\n",
              "      <td>3.2910</td>\n",
              "      <td>4.1</td>\n",
              "    </tr>\n",
              "    <tr>\n",
              "      <th>999</th>\n",
              "      <td>849-09-3807</td>\n",
              "      <td>A</td>\n",
              "      <td>Yangon</td>\n",
              "      <td>Member</td>\n",
              "      <td>Female</td>\n",
              "      <td>Fashion accessories</td>\n",
              "      <td>88.34</td>\n",
              "      <td>7</td>\n",
              "      <td>30.9190</td>\n",
              "      <td>649.2990</td>\n",
              "      <td>2019-02-18</td>\n",
              "      <td>13:28</td>\n",
              "      <td>Cash</td>\n",
              "      <td>618.38</td>\n",
              "      <td>4.761905</td>\n",
              "      <td>30.9190</td>\n",
              "      <td>6.6</td>\n",
              "    </tr>\n",
              "  </tbody>\n",
              "</table>\n",
              "<p>1000 rows × 17 columns</p>\n",
              "</div>"
            ],
            "text/plain": [
              "      Invoice ID Branch  ... gross income Rating\n",
              "0    750-67-8428      A  ...      26.1415    9.1\n",
              "1    226-31-3081      C  ...       3.8200    9.6\n",
              "2    631-41-3108      A  ...      16.2155    7.4\n",
              "3    123-19-1176      A  ...      23.2880    8.4\n",
              "4    373-73-7910      A  ...      30.2085    5.3\n",
              "..           ...    ...  ...          ...    ...\n",
              "995  233-67-5758      C  ...       2.0175    6.2\n",
              "996  303-96-2227      B  ...      48.6900    4.4\n",
              "997  727-02-1313      A  ...       1.5920    7.7\n",
              "998  347-56-2442      A  ...       3.2910    4.1\n",
              "999  849-09-3807      A  ...      30.9190    6.6\n",
              "\n",
              "[1000 rows x 17 columns]"
            ]
          },
          "metadata": {},
          "execution_count": 60
        }
      ]
    },
    {
      "cell_type": "code",
      "metadata": {
        "id": "ThbnWIptSojG"
      },
      "source": [
        "#Mengencode Data Kategorikal\n",
        "\n",
        "list_1=list(df.columns)"
      ],
      "execution_count": null,
      "outputs": []
    },
    {
      "cell_type": "code",
      "metadata": {
        "id": "gFtP-TCISqdE"
      },
      "source": [
        "list_cate=[]\n",
        "for i in list_1:\n",
        "    if df[i].dtype=='object':\n",
        "        list_cate.append(i)"
      ],
      "execution_count": null,
      "outputs": []
    },
    {
      "cell_type": "code",
      "metadata": {
        "id": "g9TdO7aNSpMe"
      },
      "source": [
        "from sklearn.preprocessing import LabelEncoder\n",
        "le=LabelEncoder()"
      ],
      "execution_count": null,
      "outputs": []
    },
    {
      "cell_type": "code",
      "metadata": {
        "id": "3oLLa0SFSxgt"
      },
      "source": [
        "for i in list_cate:\n",
        "    df[i]=le.fit_transform(df[i])"
      ],
      "execution_count": null,
      "outputs": []
    },
    {
      "cell_type": "code",
      "metadata": {
        "colab": {
          "base_uri": "https://localhost:8080/",
          "height": 431
        },
        "id": "TnP5mj-jS1xg",
        "outputId": "aa9f9840-c11c-48f1-dc6e-66de0ac1bdff"
      },
      "source": [
        "df"
      ],
      "execution_count": null,
      "outputs": [
        {
          "output_type": "execute_result",
          "data": {
            "text/html": [
              "<div>\n",
              "<style scoped>\n",
              "    .dataframe tbody tr th:only-of-type {\n",
              "        vertical-align: middle;\n",
              "    }\n",
              "\n",
              "    .dataframe tbody tr th {\n",
              "        vertical-align: top;\n",
              "    }\n",
              "\n",
              "    .dataframe thead th {\n",
              "        text-align: right;\n",
              "    }\n",
              "</style>\n",
              "<table border=\"1\" class=\"dataframe\">\n",
              "  <thead>\n",
              "    <tr style=\"text-align: right;\">\n",
              "      <th></th>\n",
              "      <th>Invoice ID</th>\n",
              "      <th>Branch</th>\n",
              "      <th>City</th>\n",
              "      <th>Customer type</th>\n",
              "      <th>Gender</th>\n",
              "      <th>Product line</th>\n",
              "      <th>Unit price</th>\n",
              "      <th>Quantity</th>\n",
              "      <th>Tax 5%</th>\n",
              "      <th>Total</th>\n",
              "      <th>Date</th>\n",
              "      <th>Time</th>\n",
              "      <th>Payment</th>\n",
              "      <th>cogs</th>\n",
              "      <th>gross margin percentage</th>\n",
              "      <th>gross income</th>\n",
              "      <th>Rating</th>\n",
              "    </tr>\n",
              "  </thead>\n",
              "  <tbody>\n",
              "    <tr>\n",
              "      <th>0</th>\n",
              "      <td>814</td>\n",
              "      <td>0</td>\n",
              "      <td>2</td>\n",
              "      <td>0</td>\n",
              "      <td>0</td>\n",
              "      <td>3</td>\n",
              "      <td>74.69</td>\n",
              "      <td>7</td>\n",
              "      <td>26.1415</td>\n",
              "      <td>548.9715</td>\n",
              "      <td>737064</td>\n",
              "      <td>146</td>\n",
              "      <td>2</td>\n",
              "      <td>522.83</td>\n",
              "      <td>4.761905</td>\n",
              "      <td>26.1415</td>\n",
              "      <td>9.1</td>\n",
              "    </tr>\n",
              "    <tr>\n",
              "      <th>1</th>\n",
              "      <td>142</td>\n",
              "      <td>2</td>\n",
              "      <td>1</td>\n",
              "      <td>1</td>\n",
              "      <td>0</td>\n",
              "      <td>0</td>\n",
              "      <td>15.28</td>\n",
              "      <td>5</td>\n",
              "      <td>3.8200</td>\n",
              "      <td>80.2200</td>\n",
              "      <td>737126</td>\n",
              "      <td>23</td>\n",
              "      <td>0</td>\n",
              "      <td>76.40</td>\n",
              "      <td>4.761905</td>\n",
              "      <td>3.8200</td>\n",
              "      <td>9.6</td>\n",
              "    </tr>\n",
              "    <tr>\n",
              "      <th>2</th>\n",
              "      <td>653</td>\n",
              "      <td>0</td>\n",
              "      <td>2</td>\n",
              "      <td>1</td>\n",
              "      <td>1</td>\n",
              "      <td>4</td>\n",
              "      <td>46.33</td>\n",
              "      <td>7</td>\n",
              "      <td>16.2155</td>\n",
              "      <td>340.5255</td>\n",
              "      <td>737121</td>\n",
              "      <td>155</td>\n",
              "      <td>1</td>\n",
              "      <td>324.31</td>\n",
              "      <td>4.761905</td>\n",
              "      <td>16.2155</td>\n",
              "      <td>7.4</td>\n",
              "    </tr>\n",
              "    <tr>\n",
              "      <th>3</th>\n",
              "      <td>18</td>\n",
              "      <td>0</td>\n",
              "      <td>2</td>\n",
              "      <td>0</td>\n",
              "      <td>1</td>\n",
              "      <td>3</td>\n",
              "      <td>58.22</td>\n",
              "      <td>8</td>\n",
              "      <td>23.2880</td>\n",
              "      <td>489.0480</td>\n",
              "      <td>737086</td>\n",
              "      <td>485</td>\n",
              "      <td>2</td>\n",
              "      <td>465.76</td>\n",
              "      <td>4.761905</td>\n",
              "      <td>23.2880</td>\n",
              "      <td>8.4</td>\n",
              "    </tr>\n",
              "    <tr>\n",
              "      <th>4</th>\n",
              "      <td>339</td>\n",
              "      <td>0</td>\n",
              "      <td>2</td>\n",
              "      <td>1</td>\n",
              "      <td>1</td>\n",
              "      <td>5</td>\n",
              "      <td>86.31</td>\n",
              "      <td>7</td>\n",
              "      <td>30.2085</td>\n",
              "      <td>634.3785</td>\n",
              "      <td>737098</td>\n",
              "      <td>29</td>\n",
              "      <td>2</td>\n",
              "      <td>604.17</td>\n",
              "      <td>4.761905</td>\n",
              "      <td>30.2085</td>\n",
              "      <td>5.3</td>\n",
              "    </tr>\n",
              "    <tr>\n",
              "      <th>...</th>\n",
              "      <td>...</td>\n",
              "      <td>...</td>\n",
              "      <td>...</td>\n",
              "      <td>...</td>\n",
              "      <td>...</td>\n",
              "      <td>...</td>\n",
              "      <td>...</td>\n",
              "      <td>...</td>\n",
              "      <td>...</td>\n",
              "      <td>...</td>\n",
              "      <td>...</td>\n",
              "      <td>...</td>\n",
              "      <td>...</td>\n",
              "      <td>...</td>\n",
              "      <td>...</td>\n",
              "      <td>...</td>\n",
              "      <td>...</td>\n",
              "    </tr>\n",
              "    <tr>\n",
              "      <th>995</th>\n",
              "      <td>153</td>\n",
              "      <td>2</td>\n",
              "      <td>1</td>\n",
              "      <td>1</td>\n",
              "      <td>1</td>\n",
              "      <td>3</td>\n",
              "      <td>40.35</td>\n",
              "      <td>1</td>\n",
              "      <td>2.0175</td>\n",
              "      <td>42.3675</td>\n",
              "      <td>737088</td>\n",
              "      <td>174</td>\n",
              "      <td>2</td>\n",
              "      <td>40.35</td>\n",
              "      <td>4.761905</td>\n",
              "      <td>2.0175</td>\n",
              "      <td>6.2</td>\n",
              "    </tr>\n",
              "    <tr>\n",
              "      <th>996</th>\n",
              "      <td>250</td>\n",
              "      <td>1</td>\n",
              "      <td>0</td>\n",
              "      <td>1</td>\n",
              "      <td>0</td>\n",
              "      <td>4</td>\n",
              "      <td>97.38</td>\n",
              "      <td>10</td>\n",
              "      <td>48.6900</td>\n",
              "      <td>1022.4900</td>\n",
              "      <td>737120</td>\n",
              "      <td>342</td>\n",
              "      <td>2</td>\n",
              "      <td>973.80</td>\n",
              "      <td>4.761905</td>\n",
              "      <td>48.6900</td>\n",
              "      <td>4.4</td>\n",
              "    </tr>\n",
              "    <tr>\n",
              "      <th>997</th>\n",
              "      <td>767</td>\n",
              "      <td>0</td>\n",
              "      <td>2</td>\n",
              "      <td>0</td>\n",
              "      <td>1</td>\n",
              "      <td>2</td>\n",
              "      <td>31.84</td>\n",
              "      <td>1</td>\n",
              "      <td>1.5920</td>\n",
              "      <td>33.4320</td>\n",
              "      <td>737099</td>\n",
              "      <td>154</td>\n",
              "      <td>0</td>\n",
              "      <td>31.84</td>\n",
              "      <td>4.761905</td>\n",
              "      <td>1.5920</td>\n",
              "      <td>7.7</td>\n",
              "    </tr>\n",
              "    <tr>\n",
              "      <th>998</th>\n",
              "      <td>308</td>\n",
              "      <td>0</td>\n",
              "      <td>2</td>\n",
              "      <td>1</td>\n",
              "      <td>1</td>\n",
              "      <td>4</td>\n",
              "      <td>65.82</td>\n",
              "      <td>1</td>\n",
              "      <td>3.2910</td>\n",
              "      <td>69.1110</td>\n",
              "      <td>737112</td>\n",
              "      <td>261</td>\n",
              "      <td>0</td>\n",
              "      <td>65.82</td>\n",
              "      <td>4.761905</td>\n",
              "      <td>3.2910</td>\n",
              "      <td>4.1</td>\n",
              "    </tr>\n",
              "    <tr>\n",
              "      <th>999</th>\n",
              "      <td>935</td>\n",
              "      <td>0</td>\n",
              "      <td>2</td>\n",
              "      <td>0</td>\n",
              "      <td>0</td>\n",
              "      <td>1</td>\n",
              "      <td>88.34</td>\n",
              "      <td>7</td>\n",
              "      <td>30.9190</td>\n",
              "      <td>649.2990</td>\n",
              "      <td>737108</td>\n",
              "      <td>160</td>\n",
              "      <td>0</td>\n",
              "      <td>618.38</td>\n",
              "      <td>4.761905</td>\n",
              "      <td>30.9190</td>\n",
              "      <td>6.6</td>\n",
              "    </tr>\n",
              "  </tbody>\n",
              "</table>\n",
              "<p>1000 rows × 17 columns</p>\n",
              "</div>"
            ],
            "text/plain": [
              "     Invoice ID  Branch  City  ...  gross margin percentage  gross income  Rating\n",
              "0           814       0     2  ...                 4.761905       26.1415     9.1\n",
              "1           142       2     1  ...                 4.761905        3.8200     9.6\n",
              "2           653       0     2  ...                 4.761905       16.2155     7.4\n",
              "3            18       0     2  ...                 4.761905       23.2880     8.4\n",
              "4           339       0     2  ...                 4.761905       30.2085     5.3\n",
              "..          ...     ...   ...  ...                      ...           ...     ...\n",
              "995         153       2     1  ...                 4.761905        2.0175     6.2\n",
              "996         250       1     0  ...                 4.761905       48.6900     4.4\n",
              "997         767       0     2  ...                 4.761905        1.5920     7.7\n",
              "998         308       0     2  ...                 4.761905        3.2910     4.1\n",
              "999         935       0     2  ...                 4.761905       30.9190     6.6\n",
              "\n",
              "[1000 rows x 17 columns]"
            ]
          },
          "metadata": {},
          "execution_count": 66
        }
      ]
    },
    {
      "cell_type": "markdown",
      "metadata": {
        "id": "jHI-cZ6lTrKL"
      },
      "source": [
        "**Splitting Data**"
      ]
    },
    {
      "cell_type": "code",
      "metadata": {
        "id": "mnQaXumLRVkE"
      },
      "source": [
        "y=df['Gender']\n",
        "x=df.drop('Gender',axis=1)"
      ],
      "execution_count": null,
      "outputs": []
    },
    {
      "cell_type": "code",
      "metadata": {
        "id": "ZNrapG28RSX9"
      },
      "source": [
        "from sklearn.model_selection import train_test_split\n",
        "x_train,x_test,y_train,y_test=train_test_split(x,y,random_state=0,test_size=0.2)\n"
      ],
      "execution_count": null,
      "outputs": []
    },
    {
      "cell_type": "code",
      "metadata": {
        "colab": {
          "base_uri": "https://localhost:8080/"
        },
        "id": "8Xyw62qlRuZQ",
        "outputId": "e578b336-504f-4f14-8335-182371e6d0ee"
      },
      "source": [
        "print(len(x_train))\n",
        "print(len(x_test))\n",
        "print(len(y_train))\n",
        "print(len(y_test))"
      ],
      "execution_count": null,
      "outputs": [
        {
          "output_type": "stream",
          "name": "stdout",
          "text": [
            "800\n",
            "200\n",
            "800\n",
            "200\n"
          ]
        }
      ]
    },
    {
      "cell_type": "code",
      "metadata": {
        "colab": {
          "base_uri": "https://localhost:8080/",
          "height": 202
        },
        "id": "tD8kCKiJSAuL",
        "outputId": "246b54b9-f9fa-4a01-d4b3-38104b8e5a7e"
      },
      "source": [
        "df.head()"
      ],
      "execution_count": null,
      "outputs": [
        {
          "output_type": "execute_result",
          "data": {
            "text/html": [
              "<div>\n",
              "<style scoped>\n",
              "    .dataframe tbody tr th:only-of-type {\n",
              "        vertical-align: middle;\n",
              "    }\n",
              "\n",
              "    .dataframe tbody tr th {\n",
              "        vertical-align: top;\n",
              "    }\n",
              "\n",
              "    .dataframe thead th {\n",
              "        text-align: right;\n",
              "    }\n",
              "</style>\n",
              "<table border=\"1\" class=\"dataframe\">\n",
              "  <thead>\n",
              "    <tr style=\"text-align: right;\">\n",
              "      <th></th>\n",
              "      <th>Invoice ID</th>\n",
              "      <th>Branch</th>\n",
              "      <th>City</th>\n",
              "      <th>Customer type</th>\n",
              "      <th>Gender</th>\n",
              "      <th>Product line</th>\n",
              "      <th>Unit price</th>\n",
              "      <th>Quantity</th>\n",
              "      <th>Tax 5%</th>\n",
              "      <th>Total</th>\n",
              "      <th>Date</th>\n",
              "      <th>Time</th>\n",
              "      <th>Payment</th>\n",
              "      <th>cogs</th>\n",
              "      <th>gross margin percentage</th>\n",
              "      <th>gross income</th>\n",
              "      <th>Rating</th>\n",
              "    </tr>\n",
              "  </thead>\n",
              "  <tbody>\n",
              "    <tr>\n",
              "      <th>0</th>\n",
              "      <td>814</td>\n",
              "      <td>0</td>\n",
              "      <td>2</td>\n",
              "      <td>0</td>\n",
              "      <td>0</td>\n",
              "      <td>3</td>\n",
              "      <td>74.69</td>\n",
              "      <td>7</td>\n",
              "      <td>26.1415</td>\n",
              "      <td>548.9715</td>\n",
              "      <td>737064</td>\n",
              "      <td>146</td>\n",
              "      <td>2</td>\n",
              "      <td>522.83</td>\n",
              "      <td>4.761905</td>\n",
              "      <td>26.1415</td>\n",
              "      <td>9.1</td>\n",
              "    </tr>\n",
              "    <tr>\n",
              "      <th>1</th>\n",
              "      <td>142</td>\n",
              "      <td>2</td>\n",
              "      <td>1</td>\n",
              "      <td>1</td>\n",
              "      <td>0</td>\n",
              "      <td>0</td>\n",
              "      <td>15.28</td>\n",
              "      <td>5</td>\n",
              "      <td>3.8200</td>\n",
              "      <td>80.2200</td>\n",
              "      <td>737126</td>\n",
              "      <td>23</td>\n",
              "      <td>0</td>\n",
              "      <td>76.40</td>\n",
              "      <td>4.761905</td>\n",
              "      <td>3.8200</td>\n",
              "      <td>9.6</td>\n",
              "    </tr>\n",
              "    <tr>\n",
              "      <th>2</th>\n",
              "      <td>653</td>\n",
              "      <td>0</td>\n",
              "      <td>2</td>\n",
              "      <td>1</td>\n",
              "      <td>1</td>\n",
              "      <td>4</td>\n",
              "      <td>46.33</td>\n",
              "      <td>7</td>\n",
              "      <td>16.2155</td>\n",
              "      <td>340.5255</td>\n",
              "      <td>737121</td>\n",
              "      <td>155</td>\n",
              "      <td>1</td>\n",
              "      <td>324.31</td>\n",
              "      <td>4.761905</td>\n",
              "      <td>16.2155</td>\n",
              "      <td>7.4</td>\n",
              "    </tr>\n",
              "    <tr>\n",
              "      <th>3</th>\n",
              "      <td>18</td>\n",
              "      <td>0</td>\n",
              "      <td>2</td>\n",
              "      <td>0</td>\n",
              "      <td>1</td>\n",
              "      <td>3</td>\n",
              "      <td>58.22</td>\n",
              "      <td>8</td>\n",
              "      <td>23.2880</td>\n",
              "      <td>489.0480</td>\n",
              "      <td>737086</td>\n",
              "      <td>485</td>\n",
              "      <td>2</td>\n",
              "      <td>465.76</td>\n",
              "      <td>4.761905</td>\n",
              "      <td>23.2880</td>\n",
              "      <td>8.4</td>\n",
              "    </tr>\n",
              "    <tr>\n",
              "      <th>4</th>\n",
              "      <td>339</td>\n",
              "      <td>0</td>\n",
              "      <td>2</td>\n",
              "      <td>1</td>\n",
              "      <td>1</td>\n",
              "      <td>5</td>\n",
              "      <td>86.31</td>\n",
              "      <td>7</td>\n",
              "      <td>30.2085</td>\n",
              "      <td>634.3785</td>\n",
              "      <td>737098</td>\n",
              "      <td>29</td>\n",
              "      <td>2</td>\n",
              "      <td>604.17</td>\n",
              "      <td>4.761905</td>\n",
              "      <td>30.2085</td>\n",
              "      <td>5.3</td>\n",
              "    </tr>\n",
              "  </tbody>\n",
              "</table>\n",
              "</div>"
            ],
            "text/plain": [
              "   Invoice ID  Branch  City  ...  gross margin percentage  gross income  Rating\n",
              "0         814       0     2  ...                 4.761905       26.1415     9.1\n",
              "1         142       2     1  ...                 4.761905        3.8200     9.6\n",
              "2         653       0     2  ...                 4.761905       16.2155     7.4\n",
              "3          18       0     2  ...                 4.761905       23.2880     8.4\n",
              "4         339       0     2  ...                 4.761905       30.2085     5.3\n",
              "\n",
              "[5 rows x 17 columns]"
            ]
          },
          "metadata": {},
          "execution_count": 108
        }
      ]
    },
    {
      "cell_type": "markdown",
      "metadata": {
        "id": "wzhZPp0nR0NR"
      },
      "source": [
        "**1. KNN**"
      ]
    },
    {
      "cell_type": "markdown",
      "metadata": {
        "id": "UEuZ5Is7bKg_"
      },
      "source": [
        "By default, the KNeighborsClassifier looks for the 5 nearest neighbors. We must explicitly tell the classifier to use Euclidean distance for determining the proximity between neighboring points"
      ]
    },
    {
      "cell_type": "code",
      "metadata": {
        "colab": {
          "base_uri": "https://localhost:8080/"
        },
        "id": "zMR0gB3-RxaK",
        "outputId": "2be9feb0-56ad-4689-be71-d5bdc9f47a3c"
      },
      "source": [
        "from sklearn.neighbors import KNeighborsClassifier\n",
        "knn=KNeighborsClassifier(n_neighbors=7)\n",
        "\n",
        "knn.fit(x_train,y_train)"
      ],
      "execution_count": null,
      "outputs": [
        {
          "output_type": "execute_result",
          "data": {
            "text/plain": [
              "KNeighborsClassifier(algorithm='auto', leaf_size=30, metric='minkowski',\n",
              "                     metric_params=None, n_jobs=None, n_neighbors=7, p=2,\n",
              "                     weights='uniform')"
            ]
          },
          "metadata": {},
          "execution_count": 109
        }
      ]
    },
    {
      "cell_type": "code",
      "metadata": {
        "colab": {
          "base_uri": "https://localhost:8080/"
        },
        "id": "80AFaripR5QD",
        "outputId": "dbc0d0ca-04ea-4dee-9bfb-6714917d3979"
      },
      "source": [
        "y_pred=knn.predict(x_test)\n",
        "from sklearn.metrics import accuracy_score,classification_report,confusion_matrix\n",
        "from sklearn.metrics import r2_score\n",
        "from sklearn.metrics import mean_squared_error\n",
        "print(\"Classification Report is:\\n\",classification_report(y_test,y_pred))\n",
        "print(\"Confusion Matrix:\\n\",confusion_matrix(y_test,y_pred))\n",
        "print(\"Training Score:\\n\",knn.score(x_train,y_train)*100)"
      ],
      "execution_count": null,
      "outputs": [
        {
          "output_type": "stream",
          "name": "stdout",
          "text": [
            "Classification Report is:\n",
            "               precision    recall  f1-score   support\n",
            "\n",
            "           0       0.48      0.48      0.48       100\n",
            "           1       0.47      0.47      0.47       100\n",
            "\n",
            "    accuracy                           0.48       200\n",
            "   macro avg       0.47      0.47      0.47       200\n",
            "weighted avg       0.47      0.47      0.47       200\n",
            "\n",
            "Confusion Matrix:\n",
            " [[48 52]\n",
            " [53 47]]\n",
            "Training Score:\n",
            " 64.5\n"
          ]
        }
      ]
    },
    {
      "cell_type": "markdown",
      "metadata": {
        "id": "G-9TTUNvX0-Z"
      },
      "source": [
        "**2. SVC**"
      ]
    },
    {
      "cell_type": "markdown",
      "metadata": {
        "id": "HXkwT5ombRY-"
      },
      "source": [
        "In machine learning, support-vector machines (SVMs, also support-vector networks) are supervised learning models with associated learning algorithms that analyze data for classification and regression analysis."
      ]
    },
    {
      "cell_type": "code",
      "metadata": {
        "id": "QNY4LvmUXAZc"
      },
      "source": [
        "from sklearn.svm import SVC"
      ],
      "execution_count": null,
      "outputs": []
    },
    {
      "cell_type": "code",
      "metadata": {
        "colab": {
          "base_uri": "https://localhost:8080/"
        },
        "id": "cifB1-Z7X3RH",
        "outputId": "661a7c70-be8d-4cba-c202-ae452a71ed67"
      },
      "source": [
        "svc = SVC()\n",
        "svc.fit(x_train, y_train)"
      ],
      "execution_count": null,
      "outputs": [
        {
          "output_type": "execute_result",
          "data": {
            "text/plain": [
              "SVC(C=1.0, break_ties=False, cache_size=200, class_weight=None, coef0=0.0,\n",
              "    decision_function_shape='ovr', degree=3, gamma='scale', kernel='rbf',\n",
              "    max_iter=-1, probability=False, random_state=None, shrinking=True,\n",
              "    tol=0.001, verbose=False)"
            ]
          },
          "metadata": {},
          "execution_count": 112
        }
      ]
    },
    {
      "cell_type": "code",
      "metadata": {
        "colab": {
          "base_uri": "https://localhost:8080/"
        },
        "id": "bbRSY0TmX5oU",
        "outputId": "f4c8930f-ff9a-494b-84b2-2518e0aac61d"
      },
      "source": [
        "y_pred=svc.predict(x_test)\n",
        "from sklearn.metrics import accuracy_score,classification_report,confusion_matrix\n",
        "from sklearn.metrics import r2_score\n",
        "from sklearn.metrics import mean_squared_error\n",
        "print(\"Classification Report is:\\n\",classification_report(y_test,y_pred))\n",
        "print(\"Confusion Matrix:\\n\",confusion_matrix(y_test,y_pred))\n",
        "print(\"Training Score:\\n\",svc.score(x_train,y_train)*100)"
      ],
      "execution_count": null,
      "outputs": [
        {
          "output_type": "stream",
          "name": "stdout",
          "text": [
            "Classification Report is:\n",
            "               precision    recall  f1-score   support\n",
            "\n",
            "           0       0.50      1.00      0.67       100\n",
            "           1       0.00      0.00      0.00       100\n",
            "\n",
            "    accuracy                           0.50       200\n",
            "   macro avg       0.25      0.50      0.33       200\n",
            "weighted avg       0.25      0.50      0.33       200\n",
            "\n",
            "Confusion Matrix:\n",
            " [[100   0]\n",
            " [100   0]]\n",
            "Training Score:\n",
            " 50.125\n"
          ]
        },
        {
          "output_type": "stream",
          "name": "stderr",
          "text": [
            "/usr/local/lib/python3.7/dist-packages/sklearn/metrics/_classification.py:1272: UndefinedMetricWarning: Precision and F-score are ill-defined and being set to 0.0 in labels with no predicted samples. Use `zero_division` parameter to control this behavior.\n",
            "  _warn_prf(average, modifier, msg_start, len(result))\n"
          ]
        }
      ]
    },
    {
      "cell_type": "markdown",
      "metadata": {
        "id": "jaW7GywNYFzQ"
      },
      "source": [
        "**3. Naive Bayes**"
      ]
    },
    {
      "cell_type": "markdown",
      "metadata": {
        "id": "0dYGo8T1bb5g"
      },
      "source": [
        "It is a classification technique based on Bayes' Theorem with an assumption of independence among predictors. In simple terms, a Naive Bayes classifier assumes that the presence of a particular feature in a class is unrelated to the presence of any other feature"
      ]
    },
    {
      "cell_type": "code",
      "metadata": {
        "colab": {
          "base_uri": "https://localhost:8080/"
        },
        "id": "-bsQT3rqX-Ga",
        "outputId": "2d7c4e91-740c-4f4c-bdb3-ec2cebea9c1b"
      },
      "source": [
        "from sklearn.naive_bayes import GaussianNB\n",
        "gnb = GaussianNB()\n",
        "gnb.fit(x_train,y_train)"
      ],
      "execution_count": null,
      "outputs": [
        {
          "output_type": "execute_result",
          "data": {
            "text/plain": [
              "GaussianNB(priors=None, var_smoothing=1e-09)"
            ]
          },
          "metadata": {},
          "execution_count": 114
        }
      ]
    },
    {
      "cell_type": "code",
      "metadata": {
        "colab": {
          "base_uri": "https://localhost:8080/"
        },
        "id": "jvknJriKYLXZ",
        "outputId": "88c9f186-c16e-4efa-8c00-cabdd5bc1329"
      },
      "source": [
        "y_pred=gnb.predict(x_test)\n",
        "from sklearn.metrics import accuracy_score,classification_report,confusion_matrix\n",
        "from sklearn.metrics import r2_score\n",
        "from sklearn.metrics import mean_squared_error\n",
        "print(\"Classification Report is:\\n\",classification_report(y_test,y_pred))\n",
        "print(\"Confusion Matrix:\\n\",confusion_matrix(y_test,y_pred))\n",
        "print(\"Training Score:\\n\",gnb.score(x_train,y_train)*100)"
      ],
      "execution_count": null,
      "outputs": [
        {
          "output_type": "stream",
          "name": "stdout",
          "text": [
            "Classification Report is:\n",
            "               precision    recall  f1-score   support\n",
            "\n",
            "           0       0.51      0.35      0.42       100\n",
            "           1       0.51      0.67      0.58       100\n",
            "\n",
            "    accuracy                           0.51       200\n",
            "   macro avg       0.51      0.51      0.50       200\n",
            "weighted avg       0.51      0.51      0.50       200\n",
            "\n",
            "Confusion Matrix:\n",
            " [[35 65]\n",
            " [33 67]]\n",
            "Training Score:\n",
            " 54.25\n"
          ]
        }
      ]
    },
    {
      "cell_type": "markdown",
      "metadata": {
        "id": "M6VcWrrtYQt3"
      },
      "source": [
        "**4. Decision Tree Classifier**"
      ]
    },
    {
      "cell_type": "markdown",
      "metadata": {
        "id": "BKKcqfVgbkNW"
      },
      "source": [
        "Decision trees use multiple algorithms to decide to split a node into two or more sub-nodes. The creation of sub-nodes increases the homogeneity of resultant sub-nodes. ... The decision tree splits the nodes on all available variables and then selects the split which results in most homogeneous sub-nodes"
      ]
    },
    {
      "cell_type": "code",
      "metadata": {
        "colab": {
          "base_uri": "https://localhost:8080/"
        },
        "id": "3Om2mw2lYOWh",
        "outputId": "3805a36d-fa57-47f0-c497-a7c2ee4d1293"
      },
      "source": [
        "from sklearn.tree import DecisionTreeClassifier\n",
        "dtree = DecisionTreeClassifier(max_depth=6, random_state=123,criterion='entropy')\n",
        "\n",
        "dtree.fit(x_train,y_train)"
      ],
      "execution_count": null,
      "outputs": [
        {
          "output_type": "execute_result",
          "data": {
            "text/plain": [
              "DecisionTreeClassifier(ccp_alpha=0.0, class_weight=None, criterion='entropy',\n",
              "                       max_depth=6, max_features=None, max_leaf_nodes=None,\n",
              "                       min_impurity_decrease=0.0, min_impurity_split=None,\n",
              "                       min_samples_leaf=1, min_samples_split=2,\n",
              "                       min_weight_fraction_leaf=0.0, presort='deprecated',\n",
              "                       random_state=123, splitter='best')"
            ]
          },
          "metadata": {},
          "execution_count": 116
        }
      ]
    },
    {
      "cell_type": "code",
      "metadata": {
        "colab": {
          "base_uri": "https://localhost:8080/"
        },
        "id": "gLVE8P2QYXuE",
        "outputId": "51ad4c5d-fc65-414f-959b-b2a2680ffd14"
      },
      "source": [
        "y_pred=dtree.predict(x_test)\n",
        "from sklearn.metrics import accuracy_score,classification_report,confusion_matrix\n",
        "from sklearn.metrics import r2_score\n",
        "from sklearn.metrics import mean_squared_error\n",
        "print(\"Classification Report is:\\n\",classification_report(y_test,y_pred))\n",
        "print(\"Confusion Matrix:\\n\",confusion_matrix(y_test,y_pred))\n",
        "print(\"Training Score:\\n\",dtree.score(x_train,y_train)*100)"
      ],
      "execution_count": null,
      "outputs": [
        {
          "output_type": "stream",
          "name": "stdout",
          "text": [
            "Classification Report is:\n",
            "               precision    recall  f1-score   support\n",
            "\n",
            "           0       0.57      0.69      0.62       100\n",
            "           1       0.61      0.48      0.54       100\n",
            "\n",
            "    accuracy                           0.58       200\n",
            "   macro avg       0.59      0.58      0.58       200\n",
            "weighted avg       0.59      0.58      0.58       200\n",
            "\n",
            "Confusion Matrix:\n",
            " [[69 31]\n",
            " [52 48]]\n",
            "Training Score:\n",
            " 69.125\n"
          ]
        }
      ]
    },
    {
      "cell_type": "markdown",
      "metadata": {
        "id": "u2474j6XYb-q"
      },
      "source": [
        "**5. Random Forest Classifier**"
      ]
    },
    {
      "cell_type": "markdown",
      "metadata": {
        "id": "CuXCR0M-bslE"
      },
      "source": [
        "A random forest classifier. A random forest is a meta estimator that fits a number of decision tree classifiers on various sub-samples of the dataset and uses averaging to improve the predictive accuracy and control over-fitting."
      ]
    },
    {
      "cell_type": "code",
      "metadata": {
        "colab": {
          "base_uri": "https://localhost:8080/"
        },
        "id": "7igOnhHOYZ99",
        "outputId": "4f537429-6897-492a-973b-a21970264272"
      },
      "source": [
        "from sklearn.ensemble import RandomForestClassifier\n",
        "rfc=RandomForestClassifier()\n",
        "rfc.fit(x_train,y_train)"
      ],
      "execution_count": null,
      "outputs": [
        {
          "output_type": "execute_result",
          "data": {
            "text/plain": [
              "RandomForestClassifier(bootstrap=True, ccp_alpha=0.0, class_weight=None,\n",
              "                       criterion='gini', max_depth=None, max_features='auto',\n",
              "                       max_leaf_nodes=None, max_samples=None,\n",
              "                       min_impurity_decrease=0.0, min_impurity_split=None,\n",
              "                       min_samples_leaf=1, min_samples_split=2,\n",
              "                       min_weight_fraction_leaf=0.0, n_estimators=100,\n",
              "                       n_jobs=None, oob_score=False, random_state=None,\n",
              "                       verbose=0, warm_start=False)"
            ]
          },
          "metadata": {},
          "execution_count": 118
        }
      ]
    },
    {
      "cell_type": "code",
      "metadata": {
        "colab": {
          "base_uri": "https://localhost:8080/"
        },
        "id": "IOgf_WXhYiUr",
        "outputId": "d9f3d18e-0325-424e-c853-d946b2e85db4"
      },
      "source": [
        "y_pred=rfc.predict(x_test)\n",
        "from sklearn.metrics import accuracy_score,classification_report,confusion_matrix\n",
        "from sklearn.metrics import r2_score\n",
        "from sklearn.metrics import mean_squared_error\n",
        "print(\"Classification Report is:\\n\",classification_report(y_test,y_pred))\n",
        "print(\"Confusion Matrix:\\n\",confusion_matrix(y_test,y_pred))\n",
        "print(\"Training Score:\\n\",rfc.score(x_train,y_train)*100)"
      ],
      "execution_count": null,
      "outputs": [
        {
          "output_type": "stream",
          "name": "stdout",
          "text": [
            "Classification Report is:\n",
            "               precision    recall  f1-score   support\n",
            "\n",
            "           0       0.51      0.50      0.50       100\n",
            "           1       0.50      0.51      0.51       100\n",
            "\n",
            "    accuracy                           0.51       200\n",
            "   macro avg       0.51      0.51      0.50       200\n",
            "weighted avg       0.51      0.51      0.50       200\n",
            "\n",
            "Confusion Matrix:\n",
            " [[50 50]\n",
            " [49 51]]\n",
            "Training Score:\n",
            " 100.0\n"
          ]
        }
      ]
    },
    {
      "cell_type": "markdown",
      "metadata": {
        "id": "r2Ji6FLzZXUD"
      },
      "source": [
        "**6. AdaBoost Classifier**"
      ]
    },
    {
      "cell_type": "markdown",
      "metadata": {
        "id": "wnBvAmHRbzRn"
      },
      "source": [
        "An AdaBoost classifier is a meta-estimator that begins by fitting a classifier on the original dataset and then fits additional copies of the classifier on the same dataset but where the weights of incorrectly classified instances are adjusted such that subsequent classifiers focus more on difficult cases."
      ]
    },
    {
      "cell_type": "code",
      "metadata": {
        "colab": {
          "base_uri": "https://localhost:8080/"
        },
        "id": "wraH4CG6YkjJ",
        "outputId": "16bd0ba4-3c80-431e-b893-b9acdb1e4aa6"
      },
      "source": [
        "from sklearn.ensemble import AdaBoostClassifier\n",
        "adb = AdaBoostClassifier(base_estimator = None)\n",
        "adb.fit(x_train,y_train)"
      ],
      "execution_count": null,
      "outputs": [
        {
          "output_type": "execute_result",
          "data": {
            "text/plain": [
              "AdaBoostClassifier(algorithm='SAMME.R', base_estimator=None, learning_rate=1.0,\n",
              "                   n_estimators=50, random_state=None)"
            ]
          },
          "metadata": {},
          "execution_count": 120
        }
      ]
    },
    {
      "cell_type": "code",
      "metadata": {
        "colab": {
          "base_uri": "https://localhost:8080/"
        },
        "id": "hWRsDvAnZcbm",
        "outputId": "a81b875e-d623-447b-e709-178d0c84b28e"
      },
      "source": [
        "y_pred=adb.predict(x_test)\n",
        "from sklearn.metrics import accuracy_score,classification_report,confusion_matrix\n",
        "from sklearn.metrics import r2_score\n",
        "from sklearn.metrics import mean_squared_error\n",
        "print(\"Classification Report is:\\n\",classification_report(y_test,y_pred))\n",
        "print(\"Confusion Matrix:\\n\",confusion_matrix(y_test,y_pred))\n",
        "print(\"Training Score:\\n\",adb.score(x_train,y_train)*100)"
      ],
      "execution_count": null,
      "outputs": [
        {
          "output_type": "stream",
          "name": "stdout",
          "text": [
            "Classification Report is:\n",
            "               precision    recall  f1-score   support\n",
            "\n",
            "           0       0.50      0.51      0.50       100\n",
            "           1       0.49      0.48      0.49       100\n",
            "\n",
            "    accuracy                           0.49       200\n",
            "   macro avg       0.49      0.49      0.49       200\n",
            "weighted avg       0.49      0.49      0.49       200\n",
            "\n",
            "Confusion Matrix:\n",
            " [[51 49]\n",
            " [52 48]]\n",
            "Training Score:\n",
            " 66.625\n"
          ]
        }
      ]
    },
    {
      "cell_type": "markdown",
      "metadata": {
        "id": "zigJ9iv7Zhk8"
      },
      "source": [
        "**7. Gradient Boosting Classifier**"
      ]
    },
    {
      "cell_type": "markdown",
      "metadata": {
        "id": "TeKAknkhb-eJ"
      },
      "source": [
        "Gradient boosting classifiers are a group of machine learning algorithms that combine many weak learning models together to create a strong predictive model. Decision trees are usually used when doing gradient boosting."
      ]
    },
    {
      "cell_type": "code",
      "metadata": {
        "colab": {
          "base_uri": "https://localhost:8080/"
        },
        "id": "da0q9wUjZfTT",
        "outputId": "5cf52a68-3932-46a2-f479-d3dc4aed926d"
      },
      "source": [
        "from sklearn.ensemble import GradientBoostingClassifier\n",
        "gbc=GradientBoostingClassifier()\n",
        "gbc.fit(x_train,y_train)"
      ],
      "execution_count": null,
      "outputs": [
        {
          "output_type": "execute_result",
          "data": {
            "text/plain": [
              "GradientBoostingClassifier(ccp_alpha=0.0, criterion='friedman_mse', init=None,\n",
              "                           learning_rate=0.1, loss='deviance', max_depth=3,\n",
              "                           max_features=None, max_leaf_nodes=None,\n",
              "                           min_impurity_decrease=0.0, min_impurity_split=None,\n",
              "                           min_samples_leaf=1, min_samples_split=2,\n",
              "                           min_weight_fraction_leaf=0.0, n_estimators=100,\n",
              "                           n_iter_no_change=None, presort='deprecated',\n",
              "                           random_state=None, subsample=1.0, tol=0.0001,\n",
              "                           validation_fraction=0.1, verbose=0,\n",
              "                           warm_start=False)"
            ]
          },
          "metadata": {},
          "execution_count": 122
        }
      ]
    },
    {
      "cell_type": "code",
      "metadata": {
        "colab": {
          "base_uri": "https://localhost:8080/"
        },
        "id": "pnU7EWY3ZmHM",
        "outputId": "d6c784f5-6082-447b-e5c5-5ce9ff17e840"
      },
      "source": [
        "y_pred=gbc.predict(x_test)\n",
        "from sklearn.metrics import accuracy_score,classification_report,confusion_matrix\n",
        "from sklearn.metrics import r2_score\n",
        "from sklearn.metrics import mean_squared_error\n",
        "print(\"Classification Report is:\\n\",classification_report(y_test,y_pred))\n",
        "print(\"Confusion Matrix:\\n\",confusion_matrix(y_test,y_pred))\n",
        "print(\"Training Score:\\n\",gbc.score(x_train,y_train)*100)"
      ],
      "execution_count": null,
      "outputs": [
        {
          "output_type": "stream",
          "name": "stdout",
          "text": [
            "Classification Report is:\n",
            "               precision    recall  f1-score   support\n",
            "\n",
            "           0       0.47      0.42      0.44       100\n",
            "           1       0.47      0.52      0.50       100\n",
            "\n",
            "    accuracy                           0.47       200\n",
            "   macro avg       0.47      0.47      0.47       200\n",
            "weighted avg       0.47      0.47      0.47       200\n",
            "\n",
            "Confusion Matrix:\n",
            " [[42 58]\n",
            " [48 52]]\n",
            "Training Score:\n",
            " 86.75\n"
          ]
        }
      ]
    },
    {
      "cell_type": "code",
      "metadata": {
        "colab": {
          "base_uri": "https://localhost:8080/",
          "height": 414
        },
        "id": "-2QHxqK4Zo1G",
        "outputId": "fd164034-6647-45f0-d481-0c3ece99567e"
      },
      "source": [
        "data = pd.DataFrame({'Actual': y_test, 'Predicted': y_pred})\n",
        "data"
      ],
      "execution_count": null,
      "outputs": [
        {
          "output_type": "execute_result",
          "data": {
            "text/html": [
              "<div>\n",
              "<style scoped>\n",
              "    .dataframe tbody tr th:only-of-type {\n",
              "        vertical-align: middle;\n",
              "    }\n",
              "\n",
              "    .dataframe tbody tr th {\n",
              "        vertical-align: top;\n",
              "    }\n",
              "\n",
              "    .dataframe thead th {\n",
              "        text-align: right;\n",
              "    }\n",
              "</style>\n",
              "<table border=\"1\" class=\"dataframe\">\n",
              "  <thead>\n",
              "    <tr style=\"text-align: right;\">\n",
              "      <th></th>\n",
              "      <th>Actual</th>\n",
              "      <th>Predicted</th>\n",
              "    </tr>\n",
              "  </thead>\n",
              "  <tbody>\n",
              "    <tr>\n",
              "      <th>993</th>\n",
              "      <td>1</td>\n",
              "      <td>1</td>\n",
              "    </tr>\n",
              "    <tr>\n",
              "      <th>859</th>\n",
              "      <td>0</td>\n",
              "      <td>0</td>\n",
              "    </tr>\n",
              "    <tr>\n",
              "      <th>298</th>\n",
              "      <td>1</td>\n",
              "      <td>1</td>\n",
              "    </tr>\n",
              "    <tr>\n",
              "      <th>553</th>\n",
              "      <td>1</td>\n",
              "      <td>0</td>\n",
              "    </tr>\n",
              "    <tr>\n",
              "      <th>672</th>\n",
              "      <td>0</td>\n",
              "      <td>0</td>\n",
              "    </tr>\n",
              "    <tr>\n",
              "      <th>...</th>\n",
              "      <td>...</td>\n",
              "      <td>...</td>\n",
              "    </tr>\n",
              "    <tr>\n",
              "      <th>679</th>\n",
              "      <td>1</td>\n",
              "      <td>0</td>\n",
              "    </tr>\n",
              "    <tr>\n",
              "      <th>722</th>\n",
              "      <td>1</td>\n",
              "      <td>1</td>\n",
              "    </tr>\n",
              "    <tr>\n",
              "      <th>215</th>\n",
              "      <td>1</td>\n",
              "      <td>1</td>\n",
              "    </tr>\n",
              "    <tr>\n",
              "      <th>653</th>\n",
              "      <td>1</td>\n",
              "      <td>0</td>\n",
              "    </tr>\n",
              "    <tr>\n",
              "      <th>150</th>\n",
              "      <td>0</td>\n",
              "      <td>1</td>\n",
              "    </tr>\n",
              "  </tbody>\n",
              "</table>\n",
              "<p>200 rows × 2 columns</p>\n",
              "</div>"
            ],
            "text/plain": [
              "     Actual  Predicted\n",
              "993       1          1\n",
              "859       0          0\n",
              "298       1          1\n",
              "553       1          0\n",
              "672       0          0\n",
              "..      ...        ...\n",
              "679       1          0\n",
              "722       1          1\n",
              "215       1          1\n",
              "653       1          0\n",
              "150       0          1\n",
              "\n",
              "[200 rows x 2 columns]"
            ]
          },
          "metadata": {},
          "execution_count": 124
        }
      ]
    },
    {
      "cell_type": "markdown",
      "metadata": {
        "id": "SEhuRvt9Z1GQ"
      },
      "source": [
        "**8. XGB Classifier**"
      ]
    },
    {
      "cell_type": "markdown",
      "metadata": {
        "id": "YcWWmNTRcF8Z"
      },
      "source": [
        "XGBoost is a popular and efficient open-source implementation of the gradient boosted trees algorithm. Gradient boosting is a supervised learning algorithm, which attempts to accurately predict a target variable by combining the estimates of a set of simpler, weaker models."
      ]
    },
    {
      "cell_type": "code",
      "metadata": {
        "colab": {
          "base_uri": "https://localhost:8080/"
        },
        "id": "8N7JHP9FZvK1",
        "outputId": "f685112f-eaf9-47bb-9b83-2e8d3ac9b387"
      },
      "source": [
        "from xgboost import XGBClassifier\n",
        "\n",
        "xgb =XGBClassifier(objective ='reg:linear', colsample_bytree = 0.3, learning_rate = 0.1,\n",
        "                max_depth = 5, alpha = 10, n_estimators = 10)\n",
        "\n",
        "xgb.fit(x_train, y_train)"
      ],
      "execution_count": null,
      "outputs": [
        {
          "output_type": "stream",
          "name": "stdout",
          "text": [
            "[04:04:31] WARNING: /workspace/src/objective/regression_obj.cu:152: reg:linear is now deprecated in favor of reg:squarederror.\n"
          ]
        },
        {
          "output_type": "execute_result",
          "data": {
            "text/plain": [
              "XGBClassifier(alpha=10, base_score=0.5, booster='gbtree', colsample_bylevel=1,\n",
              "              colsample_bynode=1, colsample_bytree=0.3, gamma=0,\n",
              "              learning_rate=0.1, max_delta_step=0, max_depth=5,\n",
              "              min_child_weight=1, missing=None, n_estimators=10, n_jobs=1,\n",
              "              nthread=None, objective='reg:linear', random_state=0, reg_alpha=0,\n",
              "              reg_lambda=1, scale_pos_weight=1, seed=None, silent=None,\n",
              "              subsample=1, verbosity=1)"
            ]
          },
          "metadata": {},
          "execution_count": 125
        }
      ]
    },
    {
      "cell_type": "code",
      "metadata": {
        "colab": {
          "base_uri": "https://localhost:8080/"
        },
        "id": "YgCrzQPRZ5_4",
        "outputId": "426e3a82-74a6-4b55-faef-bc5fa92a742e"
      },
      "source": [
        "y_pred=xgb.predict(x_test)\n",
        "from sklearn.metrics import accuracy_score,classification_report,confusion_matrix\n",
        "from sklearn.metrics import r2_score\n",
        "from sklearn.metrics import mean_squared_error\n",
        "print(\"Classification Report is:\\n\",classification_report(y_test,y_pred))\n",
        "print(\"Confusion Matrix:\\n\",confusion_matrix(y_test,y_pred))\n",
        "print(\"Training Score:\\n\",xgb.score(x_train,y_train)*100)"
      ],
      "execution_count": null,
      "outputs": [
        {
          "output_type": "stream",
          "name": "stdout",
          "text": [
            "Classification Report is:\n",
            "               precision    recall  f1-score   support\n",
            "\n",
            "           0       0.47      0.49      0.48       100\n",
            "           1       0.47      0.45      0.46       100\n",
            "\n",
            "    accuracy                           0.47       200\n",
            "   macro avg       0.47      0.47      0.47       200\n",
            "weighted avg       0.47      0.47      0.47       200\n",
            "\n",
            "Confusion Matrix:\n",
            " [[49 51]\n",
            " [55 45]]\n",
            "Training Score:\n",
            " 78.75\n"
          ]
        }
      ]
    },
    {
      "cell_type": "markdown",
      "metadata": {
        "id": "eGI6i9KiaAwe"
      },
      "source": [
        " **9. Extra Trees Classifier**"
      ]
    },
    {
      "cell_type": "markdown",
      "metadata": {
        "id": "4lNiQE7zcO6R"
      },
      "source": [
        "Extremely Randomized Trees Classifier(Extra Trees Classifier) is a type of ensemble learning technique which aggregates the results of multiple de-correlated decision trees collected in a “forest” to output it's classification result"
      ]
    },
    {
      "cell_type": "code",
      "metadata": {
        "colab": {
          "base_uri": "https://localhost:8080/"
        },
        "id": "FOQGdWODZ8lD",
        "outputId": "c048bb29-fd60-4234-fa59-a50daa11dbbd"
      },
      "source": [
        "from sklearn.ensemble import ExtraTreesClassifier\n",
        "etc = ExtraTreesClassifier(n_estimators=100, random_state=0)\n",
        "etc.fit(x_train,y_train)"
      ],
      "execution_count": null,
      "outputs": [
        {
          "output_type": "execute_result",
          "data": {
            "text/plain": [
              "ExtraTreesClassifier(bootstrap=False, ccp_alpha=0.0, class_weight=None,\n",
              "                     criterion='gini', max_depth=None, max_features='auto',\n",
              "                     max_leaf_nodes=None, max_samples=None,\n",
              "                     min_impurity_decrease=0.0, min_impurity_split=None,\n",
              "                     min_samples_leaf=1, min_samples_split=2,\n",
              "                     min_weight_fraction_leaf=0.0, n_estimators=100,\n",
              "                     n_jobs=None, oob_score=False, random_state=0, verbose=0,\n",
              "                     warm_start=False)"
            ]
          },
          "metadata": {},
          "execution_count": 127
        }
      ]
    },
    {
      "cell_type": "code",
      "metadata": {
        "colab": {
          "base_uri": "https://localhost:8080/"
        },
        "id": "yjo7LcI7aGej",
        "outputId": "0b0832c3-802d-4550-f9ab-2d091b773c2e"
      },
      "source": [
        "y_pred=etc.predict(x_test)\n",
        "from sklearn.metrics import accuracy_score,classification_report,confusion_matrix\n",
        "from sklearn.metrics import r2_score\n",
        "from sklearn.metrics import mean_squared_error\n",
        "print(\"Classification Report is:\\n\",classification_report(y_test,y_pred))\n",
        "print(\"Confusion Matrix:\\n\",confusion_matrix(y_test,y_pred))\n",
        "print(\"Training Score:\\n\",etc.score(x_train,y_train)*100)"
      ],
      "execution_count": null,
      "outputs": [
        {
          "output_type": "stream",
          "name": "stdout",
          "text": [
            "Classification Report is:\n",
            "               precision    recall  f1-score   support\n",
            "\n",
            "           0       0.49      0.48      0.49       100\n",
            "           1       0.50      0.51      0.50       100\n",
            "\n",
            "    accuracy                           0.49       200\n",
            "   macro avg       0.49      0.49      0.49       200\n",
            "weighted avg       0.49      0.49      0.49       200\n",
            "\n",
            "Confusion Matrix:\n",
            " [[48 52]\n",
            " [49 51]]\n",
            "Training Score:\n",
            " 100.0\n"
          ]
        }
      ]
    },
    {
      "cell_type": "markdown",
      "metadata": {
        "id": "_gyWTZVjaW2e"
      },
      "source": [
        "**10. Bagging Classifier**"
      ]
    },
    {
      "cell_type": "markdown",
      "metadata": {
        "id": "CJKtKnWucUkH"
      },
      "source": [
        "Extremely Randomized Trees Classifier(Extra Trees Classifier) is a type of ensemble learning technique which aggregates the results of multiple de-correlated decision trees collected in a “forest” to output it's classification result"
      ]
    },
    {
      "cell_type": "code",
      "metadata": {
        "colab": {
          "base_uri": "https://localhost:8080/"
        },
        "id": "DwjSFj8caIu8",
        "outputId": "dd39d2a7-7f79-4993-f17a-ed3f22726751"
      },
      "source": [
        "from sklearn.ensemble import BaggingClassifier\n",
        "from sklearn import tree\n",
        "model = BaggingClassifier(tree.DecisionTreeClassifier(random_state=1))\n",
        "model.fit(x_train, y_train)\n",
        "model.score(x_test,y_test)"
      ],
      "execution_count": null,
      "outputs": [
        {
          "output_type": "execute_result",
          "data": {
            "text/plain": [
              "0.53"
            ]
          },
          "metadata": {},
          "execution_count": 129
        }
      ]
    },
    {
      "cell_type": "code",
      "metadata": {
        "colab": {
          "base_uri": "https://localhost:8080/",
          "height": 414
        },
        "id": "Obu8vSAWabkr",
        "outputId": "dd50938f-cf20-43ea-e6db-0e16face9dd3"
      },
      "source": [
        "data = pd.DataFrame({'Actual': y_test, 'Predicted': y_pred})\n",
        "data"
      ],
      "execution_count": null,
      "outputs": [
        {
          "output_type": "execute_result",
          "data": {
            "text/html": [
              "<div>\n",
              "<style scoped>\n",
              "    .dataframe tbody tr th:only-of-type {\n",
              "        vertical-align: middle;\n",
              "    }\n",
              "\n",
              "    .dataframe tbody tr th {\n",
              "        vertical-align: top;\n",
              "    }\n",
              "\n",
              "    .dataframe thead th {\n",
              "        text-align: right;\n",
              "    }\n",
              "</style>\n",
              "<table border=\"1\" class=\"dataframe\">\n",
              "  <thead>\n",
              "    <tr style=\"text-align: right;\">\n",
              "      <th></th>\n",
              "      <th>Actual</th>\n",
              "      <th>Predicted</th>\n",
              "    </tr>\n",
              "  </thead>\n",
              "  <tbody>\n",
              "    <tr>\n",
              "      <th>993</th>\n",
              "      <td>1</td>\n",
              "      <td>1</td>\n",
              "    </tr>\n",
              "    <tr>\n",
              "      <th>859</th>\n",
              "      <td>0</td>\n",
              "      <td>0</td>\n",
              "    </tr>\n",
              "    <tr>\n",
              "      <th>298</th>\n",
              "      <td>1</td>\n",
              "      <td>1</td>\n",
              "    </tr>\n",
              "    <tr>\n",
              "      <th>553</th>\n",
              "      <td>1</td>\n",
              "      <td>0</td>\n",
              "    </tr>\n",
              "    <tr>\n",
              "      <th>672</th>\n",
              "      <td>0</td>\n",
              "      <td>1</td>\n",
              "    </tr>\n",
              "    <tr>\n",
              "      <th>...</th>\n",
              "      <td>...</td>\n",
              "      <td>...</td>\n",
              "    </tr>\n",
              "    <tr>\n",
              "      <th>679</th>\n",
              "      <td>1</td>\n",
              "      <td>0</td>\n",
              "    </tr>\n",
              "    <tr>\n",
              "      <th>722</th>\n",
              "      <td>1</td>\n",
              "      <td>1</td>\n",
              "    </tr>\n",
              "    <tr>\n",
              "      <th>215</th>\n",
              "      <td>1</td>\n",
              "      <td>0</td>\n",
              "    </tr>\n",
              "    <tr>\n",
              "      <th>653</th>\n",
              "      <td>1</td>\n",
              "      <td>0</td>\n",
              "    </tr>\n",
              "    <tr>\n",
              "      <th>150</th>\n",
              "      <td>0</td>\n",
              "      <td>0</td>\n",
              "    </tr>\n",
              "  </tbody>\n",
              "</table>\n",
              "<p>200 rows × 2 columns</p>\n",
              "</div>"
            ],
            "text/plain": [
              "     Actual  Predicted\n",
              "993       1          1\n",
              "859       0          0\n",
              "298       1          1\n",
              "553       1          0\n",
              "672       0          1\n",
              "..      ...        ...\n",
              "679       1          0\n",
              "722       1          1\n",
              "215       1          0\n",
              "653       1          0\n",
              "150       0          0\n",
              "\n",
              "[200 rows x 2 columns]"
            ]
          },
          "metadata": {},
          "execution_count": 130
        }
      ]
    },
    {
      "cell_type": "markdown",
      "metadata": {
        "id": "c5b2Jzw6cXzl"
      },
      "source": [
        "We got a good accuracy of about 100 % using Random Forest Classifier and Extra Trees Classifier which is quite well for the given dataset.\n",
        "\n",
        "The accuracy of other models can be increased further by HyperTuning."
      ]
    }
  ]
}
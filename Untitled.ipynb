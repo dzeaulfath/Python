{
 "cells": [
  {
   "cell_type": "markdown",
   "id": "790c55f3",
   "metadata": {},
   "source": [
    "### Data Science Notebook"
   ]
  },
  {
   "cell_type": "markdown",
   "id": "b50111aa",
   "metadata": {},
   "source": [
    "Data science is a dynamic field that encompasses various techniques and tools to extract insights and knowledge from data. It involves a multidisciplinary approach that combines statistics, computer science, and domain expertise to analyze complex datasets.\n"
   ]
  },
  {
   "cell_type": "markdown",
   "id": "7a8ed441",
   "metadata": {},
   "source": [
    "Data science relies on various programming languages for analysis, modeling, and visualization. Here are some commonly used languages in data science:\n",
    "\n",
    "1. **Python:** Widely known for its simplicity and extensive libraries like Pandas, NumPy, and scikit-learn.\n",
    "2. **R:** Particularly popular for statistical analysis, visualization, and machine learning tasks.\n",
    "3. **SQL (Structured Query Language):** Essential for managing and querying databases efficiently.\n",
    "4. **Julia:** Known for its high-performance numerical and scientific computing capabilities.\n",
    "5. **Scala:** Often used in big data processing and analysis, especially with Apache Spark.\n",
    "6. **SAS (Statistical Analysis System):** Historically used in data management, advanced analytics, and business intelligence.\n",
    "\n",
    "Each language serves specific purposes and has its strengths in the realm of data science, catering to different aspects of the data analysis workflow.\n"
   ]
  },
  {
   "cell_type": "markdown",
   "id": "08089a8e",
   "metadata": {},
   "source": [
    "In the realm of data science, various libraries provide powerful tools and functionalities to analyze, manipulate, and visualize data. Here's an ordered list of some widely used data science libraries:\n",
    "\n",
    "1. **Pandas:** A powerful library for data manipulation and analysis, offering data structures and operations for manipulating numerical tables and time series data.\n",
    "2. **NumPy:** Essential for numerical computing in Python, providing support for multi-dimensional arrays and matrices, along with a wide range of mathematical functions.\n",
    "3. **Matplotlib:** A widely-used plotting library for creating visualizations, histograms, bar charts, scatterplots, and more.\n",
    "4. **Seaborn:** Built on top of Matplotlib, it offers a high-level interface for drawing attractive and informative statistical graphics.\n",
    "5. **Scikit-learn:** A machine learning library that provides simple and efficient tools for data mining and data analysis.\n",
    "6. **TensorFlow:** An open-source machine learning library developed by Google, widely used for building and training neural networks.\n",
    "7. **PyTorch:** Another popular open-source machine learning library that offers flexibility and speed in building deep learning models.\n",
    "8. **Keras:** An easy-to-use neural network library that acts as an interface for TensorFlow, Theano, or Microsoft Cognitive Toolkit.\n",
    "9. **Statsmodels:** Offers statistical models and tests for performing data analysis and exploring relationships within data.\n",
    "\n",
    "These libraries play a pivotal role in various stages of the data science workflow, empowering analysts and data scientists with efficient tools for exploration, analysis, and modeling."
   ]
  },
  {
   "cell_type": "markdown",
   "id": "0e2a0ab4",
   "metadata": {},
   "source": [
    "\n",
    "| Tool Category                | Tools                                                   |\n",
    "|------------------------------|---------------------------------------------------------|\n",
    "| Programming Languages        | Python, R, SQL, Julia, Scala, SAS                       |\n",
    "| Data Manipulation/Analysis    | Pandas, NumPy, dplyr (R), data.table (R), Spark         |\n",
    "| Data Visualization           | Matplotlib, Seaborn, Plotly, ggplot2 (R), Tableau       |\n",
    "| Machine Learning Libraries   | Scikit-learn, TensorFlow, PyTorch, Keras, XGBoost       |\n",
    "| Big Data Tools               | Hadoop, Spark, Hive, HBase, Kafka                       |\n",
    "| Statistical Computing        | SciPy, Statsmodels (Python), R's stats package           |\n",
    "| Integrated Development Environment (IDE) | Jupyter Notebook, RStudio, PyCharm, Spyder          |\n",
    "\n",
    "This table provides an overview of various tools categorized by their respective functions within the field of Data Science.\n"
   ]
  },
  {
   "cell_type": "markdown",
   "id": "d5fb2100",
   "metadata": {},
   "source": [
    "\n",
    "Arithmetic expressions involve mathematical operations like addition, subtraction, multiplication, and division. Here are a few examples of such expressions:\n",
    "\n",
    "1. Addition: `2 + 3 = 5`\n",
    "2. Subtraction: `7 - 4 = 3`\n",
    "3. Multiplication: `5 * 6 = 30`\n",
    "4. Division: `10 / 2 = 5`\n",
    "5. Mixed Operations: `3 * (4 + 2) - 8 / 2 = 18`\n",
    "\n",
    "Arithmetic expressions can include various mathematical operations and follow specific rules for computation.\n"
   ]
  },
  {
   "cell_type": "code",
   "execution_count": 1,
   "id": "65d08b3c",
   "metadata": {},
   "outputs": [
    {
     "name": "stdout",
     "output_type": "stream",
     "text": [
      "Result of multiplication: 50\n",
      "Result of addition: 22\n"
     ]
    }
   ],
   "source": [
    "# Multiplication\n",
    "result_multiply = 5 * 10  # Multiply 5 by 10\n",
    "print(\"Result of multiplication:\", result_multiply)\n",
    "\n",
    "# Addition\n",
    "result_add = 15 + 7  # Add 15 and 7\n",
    "print(\"Result of addition:\", result_add)\n"
   ]
  },
  {
   "cell_type": "code",
   "execution_count": 2,
   "id": "1386efcd",
   "metadata": {},
   "outputs": [
    {
     "name": "stdout",
     "output_type": "stream",
     "text": [
      "180 minutes is equal to 3.0 hours.\n"
     ]
    }
   ],
   "source": [
    "def convert_minutes_to_hours(minutes):\n",
    "    hours = minutes / 60  # 1 hour = 60 minutes\n",
    "    return hours\n",
    "\n",
    "# Example usage:\n",
    "minutes_input = 180  # Change this value to the number of minutes you want to convert\n",
    "result_hours = convert_minutes_to_hours(minutes_input)\n",
    "print(f\"{minutes_input} minutes is equal to {result_hours} hours.\")\n"
   ]
  },
  {
   "cell_type": "markdown",
   "id": "1683fe13",
   "metadata": {},
   "source": [
    "Unordered lists in Markdown are created using asterisks, dashes, or plus signs as list markers. They are a great way to present information in a non-sequential manner. Here's an example:\n",
    "\n",
    "- **Python**\n",
    "- **R**\n",
    "- **SQL**\n",
    "- **Java**\n",
    "- **JavaScript**\n",
    "\n",
    "Unordered lists are versatile and provide a clear, easy-to-read format for presenting information without any inherent order or sequence.\n"
   ]
  },
  {
   "cell_type": "markdown",
   "id": "21aa048c",
   "metadata": {},
   "source": [
    "**Author:** *Dzeaulfath*\n"
   ]
  }
 ],
 "metadata": {
  "kernelspec": {
   "display_name": "Python 3 (ipykernel)",
   "language": "python",
   "name": "python3"
  },
  "language_info": {
   "codemirror_mode": {
    "name": "ipython",
    "version": 3
   },
   "file_extension": ".py",
   "mimetype": "text/x-python",
   "name": "python",
   "nbconvert_exporter": "python",
   "pygments_lexer": "ipython3",
   "version": "3.10.9"
  }
 },
 "nbformat": 4,
 "nbformat_minor": 5
}

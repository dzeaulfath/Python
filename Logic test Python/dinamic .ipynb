{
 "cells": [
  {
   "cell_type": "code",
   "execution_count": 1,
   "metadata": {},
   "outputs": [],
   "source": [
    "def crange(a,b):\n",
    "    return range(a,b+1)\n",
    "def printnln(a):\n",
    "    return print(a,end=\" \")\n",
    "def ganjil(a):\n",
    "    return a*2-1\n",
    "def fib(a):\n",
    "    if a<=2:\n",
    "        return 1\n",
    "    else:\n",
    "        return fib(a-1)+fib(a-2)\n",
    "def m(a):\n",
    "    return a*(a-1)//2"
   ]
  },
  {
   "cell_type": "code",
   "execution_count": 2,
   "metadata": {},
   "outputs": [
    {
     "name": "stdout",
     "output_type": "stream",
     "text": [
      "* \n",
      "  * * \n",
      "  * * \n",
      "      * * * \n",
      "      * * * \n",
      "      * * * \n",
      "            * * * * \n",
      "            * * * * \n",
      "            * * * * \n",
      "            * * * * \n",
      "                    * * * * * \n",
      "                    * * * * * \n",
      "                    * * * * * \n",
      "                    * * * * * \n",
      "                    * * * * * \n",
      "                              * * * * * * \n",
      "                              * * * * * * \n",
      "                              * * * * * * \n",
      "                              * * * * * * \n",
      "                              * * * * * * \n",
      "                              * * * * * * \n"
     ]
    }
   ],
   "source": [
    "def din(a):\n",
    "    for y in crange(1,a):\n",
    "        for x in crange(1,y):\n",
    "            for w in crange(1,m(y)):\n",
    "                printnln(\" \")\n",
    "            for b in crange(1,y):\n",
    "                printnln(\"*\")\n",
    "            print()\n",
    "din(6)"
   ]
  },
  {
   "cell_type": "code",
   "execution_count": 3,
   "metadata": {},
   "outputs": [
    {
     "name": "stdout",
     "output_type": "stream",
     "text": [
      "                                        * \n",
      "                                    * * \n",
      "                                    * * \n",
      "                              * * * \n",
      "                              * * * \n",
      "                              * * * \n",
      "                      * * * * \n",
      "                      * * * * \n",
      "                      * * * * \n",
      "                      * * * * \n",
      "            * * * * * \n",
      "            * * * * * \n",
      "            * * * * * \n",
      "            * * * * * \n",
      "            * * * * * \n",
      "* * * * * * \n",
      "* * * * * * \n",
      "* * * * * * \n",
      "* * * * * * \n",
      "* * * * * * \n",
      "* * * * * * \n"
     ]
    }
   ],
   "source": [
    "def din(a):\n",
    "    for y in crange(1,a):\n",
    "        for x in crange(1,y):\n",
    "            for w in crange(1,m(a+1)-m(y+1)):\n",
    "                printnln(\" \")\n",
    "            for b in crange(1,y):\n",
    "                printnln(\"*\")\n",
    "            print()\n",
    "din(6)"
   ]
  },
  {
   "cell_type": "code",
   "execution_count": 4,
   "metadata": {},
   "outputs": [
    {
     "name": "stdout",
     "output_type": "stream",
     "text": [
      "* \n",
      "    * \n",
      "  * * * \n",
      "            * \n",
      "          * * * \n",
      "        * * * * * \n",
      "                        * \n",
      "                      * * * \n",
      "                    * * * * * \n",
      "                  * * * * * * * \n",
      "                                        * \n",
      "                                      * * * \n",
      "                                    * * * * * \n",
      "                                  * * * * * * * \n",
      "                                * * * * * * * * * \n"
     ]
    }
   ],
   "source": [
    "def din(a):\n",
    "    for y in crange(1,a):\n",
    "        for x in crange(1,y):\n",
    "            for w in crange(1,(y-1)**2):\n",
    "                printnln(\" \")\n",
    "            for s in crange(1,y-x):\n",
    "                printnln(\" \")\n",
    "            for b in crange(1,ganjil(x)):\n",
    "                printnln(\"*\")\n",
    "            print()\n",
    "din(5)"
   ]
  },
  {
   "cell_type": "code",
   "execution_count": 5,
   "metadata": {},
   "outputs": [
    {
     "name": "stdout",
     "output_type": "stream",
     "text": [
      "                                                                      * \n",
      "                                                                  * \n",
      "                                                                * * * \n",
      "                                                          * \n",
      "                                                        * * * \n",
      "                                                      * * * * * \n",
      "                                              * \n",
      "                                            * * * \n",
      "                                          * * * * * \n",
      "                                        * * * * * * * \n",
      "                              * \n",
      "                            * * * \n",
      "                          * * * * * \n",
      "                        * * * * * * * \n",
      "                      * * * * * * * * * \n",
      "          * \n",
      "        * * * \n",
      "      * * * * * \n",
      "    * * * * * * * \n",
      "  * * * * * * * * * \n",
      "* * * * * * * * * * * \n"
     ]
    }
   ],
   "source": [
    "def din(a):\n",
    "    for y in crange(1,a):\n",
    "        for x in crange(1,y):\n",
    "            for w in crange(1,a*a-y**2):\n",
    "                printnln(\" \")\n",
    "            for s in crange(1,y-x):\n",
    "                printnln(\" \")\n",
    "            for b in crange(1,ganjil(x)):\n",
    "                printnln(\"*\")\n",
    "            print()\n",
    "din(6)"
   ]
  },
  {
   "cell_type": "code",
   "execution_count": 6,
   "metadata": {},
   "outputs": [
    {
     "name": "stdout",
     "output_type": "stream",
     "text": [
      "  * \n",
      "    * * * \n",
      "      * \n",
      "          * * * * * \n",
      "            * * * \n",
      "              * \n",
      "                    * * * * * * * \n",
      "                      * * * * * \n",
      "                        * * * \n",
      "                          * \n",
      "                                  * * * * * * * * * \n",
      "                                    * * * * * * * \n",
      "                                      * * * * * \n",
      "                                        * * * \n",
      "                                          * \n",
      "                                                    * * * * * * * * * * * \n",
      "                                                      * * * * * * * * * \n",
      "                                                        * * * * * * * \n",
      "                                                          * * * * * \n",
      "                                                            * * * \n",
      "                                                              * \n"
     ]
    }
   ],
   "source": [
    "def din(a):\n",
    "    for y in crange(1,a):\n",
    "        for x in crange(1,y):\n",
    "            for w in crange(1,(y-1)**2):\n",
    "                printnln(\" \")\n",
    "            for x in crange(1,x):\n",
    "                printnln(\" \")\n",
    "            for b in crange(1,ganjil(y+1-x)):\n",
    "                printnln(\"*\")\n",
    "            print()\n",
    "din(6)"
   ]
  },
  {
   "cell_type": "code",
   "execution_count": 7,
   "metadata": {},
   "outputs": [
    {
     "name": "stdout",
     "output_type": "stream",
     "text": [
      "1 \n",
      "  1 2 \n",
      "  3 4 \n",
      "      1 2 3 \n",
      "      4 5 6 \n",
      "      7 8 9 \n",
      "            1 2 3 4 \n",
      "            5 6 7 8 \n",
      "            9 10 11 12 \n",
      "            13 14 15 16 \n",
      "                    1 2 3 4 5 \n",
      "                    6 7 8 9 10 \n",
      "                    11 12 13 14 15 \n",
      "                    16 17 18 19 20 \n",
      "                    21 22 23 24 25 \n",
      "                              1 2 3 4 5 6 \n",
      "                              7 8 9 10 11 12 \n",
      "                              13 14 15 16 17 18 \n",
      "                              19 20 21 22 23 24 \n",
      "                              25 26 27 28 29 30 \n",
      "                              31 32 33 34 35 36 \n"
     ]
    }
   ],
   "source": [
    "def din(a):\n",
    "    for y in crange(1,a):\n",
    "        q=0\n",
    "        for x in crange(1,y):\n",
    "            for w in crange(1,m(y)):\n",
    "                printnln(\" \")\n",
    "            for b in crange(1,y):\n",
    "                q+=1\n",
    "                printnln(q)\n",
    "            print()\n",
    "din(6)"
   ]
  },
  {
   "cell_type": "code",
   "execution_count": 8,
   "metadata": {},
   "outputs": [
    {
     "name": "stdout",
     "output_type": "stream",
     "text": [
      "                                        1 \n",
      "                                    1 2 \n",
      "                                    3 4 \n",
      "                              1 2 3 \n",
      "                              4 5 6 \n",
      "                              7 8 9 \n",
      "                      1 2 3 4 \n",
      "                      5 6 7 8 \n",
      "                      9 10 11 12 \n",
      "                      13 14 15 16 \n",
      "            1 2 3 4 5 \n",
      "            6 7 8 9 10 \n",
      "            11 12 13 14 15 \n",
      "            16 17 18 19 20 \n",
      "            21 22 23 24 25 \n",
      "1 2 3 4 5 6 \n",
      "7 8 9 10 11 12 \n",
      "13 14 15 16 17 18 \n",
      "19 20 21 22 23 24 \n",
      "25 26 27 28 29 30 \n",
      "31 32 33 34 35 36 \n"
     ]
    }
   ],
   "source": [
    "def din(a):\n",
    "    for y in crange(1,a):\n",
    "        q=0\n",
    "        for x in crange(1,y):\n",
    "            for w in crange(1,m(a+1)-m(y+1)):\n",
    "                printnln(\" \")\n",
    "            for b in crange(1,y):\n",
    "                q+=1\n",
    "                printnln(q)\n",
    "            print()\n",
    "din(6)"
   ]
  },
  {
   "cell_type": "code",
   "execution_count": null,
   "metadata": {},
   "outputs": [
    {
     "name": "stdout",
     "output_type": "stream",
     "text": [
      "              1 \n",
      "              1 \n",
      "            2 3 4 \n",
      "              1 \n",
      "            3 5 7 \n",
      "          9 11 13 15 17 \n",
      "              1 \n",
      "            1 2 3 \n",
      "          5 8 13 21 34 \n",
      "        55 89 144 233 377 610 987 \n",
      "              1 \n",
      "            2 3 4 \n",
      "          5 6 7 8 9 \n",
      "        10 11 12 13 14 15 16 \n",
      "      17 18 19 20 21 22 23 24 25 \n",
      "              1 \n",
      "            2 3 4 \n",
      "          5 6 7 8 9 \n",
      "        10 11 12 13 14 15 16 \n",
      "      17 18 19 20 21 22 23 24 25 \n",
      "    26 27 28 29 30 31 32 33 34 35 36 \n",
      "              1 \n",
      "            3 5 7 \n",
      "          9 11 13 15 17 \n",
      "        19 21 23 25 27 29 31 \n",
      "      33 35 37 39 41 43 45 47 49 \n",
      "    51 53 55 57 59 61 63 65 67 69 71 \n",
      "  73 75 77 79 81 83 85 87 89 91 93 95 97 \n",
      "              1 \n",
      "            1 2 3 \n",
      "          5 8 13 21 34 \n",
      "        55 89 144 233 377 610 987 \n",
      "      1597 2584 4181 6765 10946 17711 28657 46368 75025 \n",
      "    121393 196418 317811 514229 832040 1346269 2178309 3524578 5702887 9227465 14930352 \n",
      "  24157817 39088169 63245986 102334155 165580141 267914296 433494437 701408733 1134903170 1836311903 2971215073 4807526976 7778742049 \n"
     ]
    }
   ],
   "source": [
    "def din(a):\n",
    "    for y in crange(1,a):\n",
    "        q=0\n",
    "        for x in crange(1,y):\n",
    "            for w in crange(1,a-y):\n",
    "                printnln(\" \")\n",
    "            for s in crange(1,y-x):\n",
    "                printnln(\" \")\n",
    "            for b in crange(1,ganjil(x)):\n",
    "                q+=1\n",
    "                if y%4==0:\n",
    "                    printnln(fib(q))\n",
    "                elif y%4==3:\n",
    "                    \n",
    "                     printnln(ganjil(q))\n",
    "                else:\n",
    "                   \n",
    "                    printnln(q)\n",
    "            print()\n",
    "din(8)"
   ]
  },
  {
   "cell_type": "code",
   "execution_count": null,
   "metadata": {},
   "outputs": [],
   "source": []
  },
  {
   "cell_type": "code",
   "execution_count": 6,
   "metadata": {},
   "outputs": [
    {
     "name": "stdout",
     "output_type": "stream",
     "text": [
      "1 2 4 5 10 20 "
     ]
    }
   ],
   "source": [
    "def fak(a):\n",
    "    for cetak in range(1,a+1):\n",
    "        if a%cetak ==0:\n",
    "            print(cetak, end=\" \")\n",
    "        else:\n",
    "            print(\"\", end=\"\")\n",
    "fak(20)"
   ]
  },
  {
   "cell_type": "code",
   "execution_count": null,
   "metadata": {},
   "outputs": [],
   "source": []
  },
  {
   "cell_type": "code",
   "execution_count": null,
   "metadata": {},
   "outputs": [],
   "source": []
  },
  {
   "cell_type": "code",
   "execution_count": null,
   "metadata": {},
   "outputs": [],
   "source": []
  },
  {
   "cell_type": "code",
   "execution_count": null,
   "metadata": {},
   "outputs": [],
   "source": []
  },
  {
   "cell_type": "code",
   "execution_count": null,
   "metadata": {},
   "outputs": [],
   "source": []
  }
 ],
 "metadata": {
  "kernelspec": {
   "display_name": "Python 3",
   "language": "python",
   "name": "python3"
  },
  "language_info": {
   "codemirror_mode": {
    "name": "ipython",
    "version": 3
   },
   "file_extension": ".py",
   "mimetype": "text/x-python",
   "name": "python",
   "nbconvert_exporter": "python",
   "pygments_lexer": "ipython3",
   "version": "3.6.5"
  }
 },
 "nbformat": 4,
 "nbformat_minor": 2
}

{
 "cells": [
  {
   "cell_type": "code",
   "execution_count": 5,
   "metadata": {},
   "outputs": [],
   "source": [
    "def crange(a,b):\n",
    "    return range(a,b+1)\n",
    "def printnln(a):\n",
    "    return print(a,end=\" \")\n",
    "def pbound(a):\n",
    "    return a-1\n",
    "def ganjil(a):\n",
    "    return a*2-1\n",
    "def m(a):\n",
    "    return m*(m-1)//2\n",
    "def fib(a):\n",
    "    if a<=2:\n",
    "        return 1\n",
    "    else:\n",
    "        return fib(a-1)+fib(a-2)"
   ]
  },
  {
   "cell_type": "code",
   "execution_count": null,
   "metadata": {},
   "outputs": [],
   "source": []
  },
  {
   "cell_type": "code",
   "execution_count": 21,
   "metadata": {},
   "outputs": [
    {
     "name": "stdout",
     "output_type": "stream",
     "text": [
      "_ * * _ * * _ \n",
      "* _ _ * _ _ * \n",
      "* _ _ _ _ _ * \n",
      "_ * _ _ _ * _ \n",
      "_ _ * _ * _ _ \n",
      "_ _ _ * _ _ _ \n"
     ]
    }
   ],
   "source": [
    "for x in range(6):\n",
    "    for y in range(7):\n",
    "        if x==0 and y%3!=0 or x==1 and y%3==0:\n",
    "            printnln(\"*\")\n",
    "        elif x-y==2 or y==7-(x-1):\n",
    "            printnln(\"*\")\n",
    "        else:\n",
    "            printnln(\"_\")\n",
    "    print()\n"
   ]
  },
  {
   "cell_type": "code",
   "execution_count": 7,
   "metadata": {},
   "outputs": [
    {
     "name": "stdout",
     "output_type": "stream",
     "text": [
      "1 1 1 1 1 1 1 1 1 1 1 1 1 \n",
      "1 1 1 1 1 1 1 1 1 1 1 1 1 \n",
      "1 1 2 2 2 2 2 2 2 2 2 1 1 \n",
      "1 1 2 3 3 3 3 3 3 3 2 1 1 \n",
      "1 1 2 3 5 5 5 5 5 3 2 1 1 \n",
      "1 1 2 3 5 8 8 8 5 3 2 1 1 \n",
      "1 1 2 3 5 8 13 8 5 3 2 1 1 \n",
      "1 1 2 3 5 8 8 8 5 3 2 1 1 \n",
      "1 1 2 3 5 5 5 5 5 3 2 1 1 \n",
      "1 1 2 3 3 3 3 3 3 3 2 1 1 \n",
      "1 1 2 2 2 2 2 2 2 2 2 1 1 \n",
      "1 1 1 1 1 1 1 1 1 1 1 1 1 \n",
      "1 1 1 1 1 1 1 1 1 1 1 1 1 \n"
     ]
    }
   ],
   "source": [
    "def din(a):\n",
    "    for y in crange(-a,a):\n",
    "        for x in crange(-a,a):\n",
    "            s=abs(x) if abs(x)>abs(y) else abs(y)\n",
    "            d=a-s+1\n",
    "            printnln(fib(d))\n",
    "        print()\n",
    "din(6)"
   ]
  },
  {
   "cell_type": "code",
   "execution_count": 9,
   "metadata": {},
   "outputs": [
    {
     "name": "stdout",
     "output_type": "stream",
     "text": [
      "1 1 1 1 1 1 1 1 1 1 1 1 1 \n",
      "1                       1 \n",
      "1   3 3 3 3 3 3 3 3 3   1 \n",
      "1   3               3   1 \n",
      "1   3   5 5 5 5 5   3   1 \n",
      "1   3   5       5   3   1 \n",
      "1   3   5   7   5   3   1 \n",
      "1   3   5       5   3   1 \n",
      "1   3   5 5 5 5 5   3   1 \n",
      "1   3               3   1 \n",
      "1   3 3 3 3 3 3 3 3 3   1 \n",
      "1                       1 \n",
      "1 1 1 1 1 1 1 1 1 1 1 1 1 \n"
     ]
    }
   ],
   "source": [
    "def din(a):\n",
    "    for y in crange(-a,a):\n",
    "        for x in crange(-a,a):\n",
    "            s=abs(x) if abs(x)>abs(y) else abs(y)\n",
    "            d=a-s+1\n",
    "            if d%2==0:\n",
    "                printnln(\" \")\n",
    "            else:\n",
    "                printnln(d)\n",
    "        print()\n",
    "din(6)"
   ]
  },
  {
   "cell_type": "code",
   "execution_count": 11,
   "metadata": {},
   "outputs": [
    {
     "name": "stdout",
     "output_type": "stream",
     "text": [
      "1 1 1 1 1 1 1 1 1 1 1 1 1 \n",
      "1                       1 \n",
      "1   1 1 1 1 1 1 1 1 1   1 \n",
      "1   1               1   1 \n",
      "1   1   2 2 2 2 2   1   1 \n",
      "1   1   2       2   1   1 \n",
      "1   1   2   3   2   1   1 \n",
      "1   1   2       2   1   1 \n",
      "1   1   2 2 2 2 2   1   1 \n",
      "1   1               1   1 \n",
      "1   1 1 1 1 1 1 1 1 1   1 \n",
      "1                       1 \n",
      "1 1 1 1 1 1 1 1 1 1 1 1 1 \n"
     ]
    }
   ],
   "source": [
    "def din(a):\n",
    "    for y in crange(-a,a):\n",
    "        for x in crange(-a,a):\n",
    "            s=abs(x) if abs(x)>abs(y) else abs(y)\n",
    "            d=a-s+1\n",
    "            if d%2==0:\n",
    "                printnln(\" \")\n",
    "            else:\n",
    "                e=d//2+1\n",
    "                printnln(fib(e))\n",
    "        print()\n",
    "din(6)"
   ]
  },
  {
   "cell_type": "code",
   "execution_count": 26,
   "metadata": {},
   "outputs": [
    {
     "name": "stdout",
     "output_type": "stream",
     "text": [
      "1 1 1 1 1 1 1 1 1 1 1 1 1 \n",
      "1 A A A A A A A A A A A 1 \n",
      "1 A 1 1 1 1 1 1 1 1 1 A 1 \n",
      "1 A 1 B B B B B B B 1 A 1 \n",
      "1 A 1 B 2 2 2 2 2 B 1 A 1 \n",
      "1 A 1 B 2 C C C 2 B 1 A 1 \n",
      "1 A 1 B 2 C 3 C 2 B 1 A 1 \n",
      "1 A 1 B 2 C C C 2 B 1 A 1 \n",
      "1 A 1 B 2 2 2 2 2 B 1 A 1 \n",
      "1 A 1 B B B B B B B 1 A 1 \n",
      "1 A 1 1 1 1 1 1 1 1 1 A 1 \n",
      "1 A A A A A A A A A A A 1 \n",
      "1 1 1 1 1 1 1 1 1 1 1 1 1 \n"
     ]
    }
   ],
   "source": [
    "def din(a,b):\n",
    "\n",
    "    for y in crange(-a,a):\n",
    "        it=len(b)\n",
    "        for x in crange(-a,a):\n",
    "            s=abs(x) if abs(x)>abs(y) else abs(y)\n",
    "            d=a-s+1\n",
    "            if d%2==0:\n",
    "                q=(d//2-1)%it\n",
    "                printnln(b[q])\n",
    "            else:\n",
    "                e=d//2+1\n",
    "                printnln(fib(e))\n",
    "        print()\n",
    "din(6,\"ABC\")"
   ]
  },
  {
   "cell_type": "code",
   "execution_count": null,
   "metadata": {},
   "outputs": [],
   "source": []
  },
  {
   "cell_type": "code",
   "execution_count": null,
   "metadata": {},
   "outputs": [],
   "source": []
  },
  {
   "cell_type": "code",
   "execution_count": 24,
   "metadata": {},
   "outputs": [
    {
     "name": "stdout",
     "output_type": "stream",
     "text": [
      "            1 \n",
      "          1 2 3 \n",
      "        1 2 3 4 5 \n",
      "      1 2 3 4 5 6 7 \n",
      "    1 2 3 4 5 6 7 8 9 \n",
      "  1 2 3 4 5 6 7 8 9 10 11 \n",
      "1 2 3 4 5 6 7 8 9 10 11 12 13 \n"
     ]
    }
   ],
   "source": [
    "def din(a):\n",
    "    for y in crange(1,a):\n",
    "        for x in crange(1,a-y):\n",
    "            printnln(\" \")\n",
    "        for w in crange(1,ganjil(y)):\n",
    "            printnln(w)\n",
    "        print()\n",
    "din(7)\n",
    "            "
   ]
  },
  {
   "cell_type": "code",
   "execution_count": 28,
   "metadata": {},
   "outputs": [
    {
     "name": "stdout",
     "output_type": "stream",
     "text": [
      "1 2 3 4 5 6 7 8 9 10 11 12 13 \n",
      "  1 2 3 4 5 6 7 8 9 10 11 \n",
      "    1 2 3 4 5 6 7 8 9 \n",
      "      1 2 3 4 5 6 7 \n",
      "        1 2 3 4 5 \n",
      "          1 2 3 \n",
      "            1 \n"
     ]
    }
   ],
   "source": [
    "def din(a):\n",
    "    for y in crange(1,a):\n",
    "        for x in crange(1,y-1):\n",
    "            printnln(\" \")\n",
    "        d=a-(y-1)\n",
    "        for w in crange(1,ganjil(d)):\n",
    "            printnln(w)\n",
    "        print()\n",
    "din(7)"
   ]
  },
  {
   "cell_type": "code",
   "execution_count": 34,
   "metadata": {},
   "outputs": [
    {
     "name": "stdout",
     "output_type": "stream",
     "text": [
      "              \n",
      "            1 \n",
      "          1 2 3 \n",
      "        1 2 3 4 5 \n",
      "      1 2 3 4 5 6 7 \n",
      "    1 2 3 4 5 6 7 8 9 \n",
      "  1 2 3 4 5 6 7 8 9 10 11 \n",
      "1 2 3 4 5 6 7 8 9 10 11 12 13 \n",
      "  1 2 3 4 5 6 7 8 9 10 11 \n",
      "    1 2 3 4 5 6 7 8 9 \n",
      "      1 2 3 4 5 6 7 \n",
      "        1 2 3 4 5 \n",
      "          1 2 3 \n",
      "            1 \n",
      "              \n"
     ]
    }
   ],
   "source": [
    "def din(a):\n",
    "    for y in crange(-a,a):\n",
    "        for x in crange(1,abs(y)):\n",
    "            printnln(\" \")\n",
    "        for w in crange(1,ganjil(a-abs(y))):\n",
    "            printnln(w)\n",
    "        print()\n",
    "din(7)"
   ]
  },
  {
   "cell_type": "code",
   "execution_count": 37,
   "metadata": {},
   "outputs": [
    {
     "name": "stdout",
     "output_type": "stream",
     "text": [
      "          1 \n",
      "        1 3 1 \n",
      "      1 3 5 3 1 \n",
      "    1 3 5 7 5 3 1 \n",
      "  1 3 5 7 9 7 5 3 1 \n",
      "1 3 5 7 9 11 9 7 5 3 1 \n"
     ]
    }
   ],
   "source": [
    "def din(a):\n",
    "    for y in crange(1,a):\n",
    "        for x in crange(1,a-y):\n",
    "            printnln(\" \")\n",
    "        b=pbound(y)\n",
    "        for w in crange(-b,b):\n",
    "            s=y-abs(w)\n",
    "            printnln(ganjil(s))\n",
    "        print()\n",
    "din(6)"
   ]
  },
  {
   "cell_type": "code",
   "execution_count": 43,
   "metadata": {},
   "outputs": [
    {
     "name": "stdout",
     "output_type": "stream",
     "text": [
      "1 3 5 7 9 11 13 11 9 7 5 3 1 \n",
      "  1 3 5 7 9 11 9 7 5 3 1 \n",
      "    1 3 5 7 9 7 5 3 1 \n",
      "      1 3 5 7 5 3 1 \n",
      "        1 3 5 3 1 \n",
      "          1 3 1 \n",
      "            1 \n"
     ]
    }
   ],
   "source": [
    "def din(a):\n",
    "    for y in crange(1,a):\n",
    "        for x in crange(1,y-1):\n",
    "            printnln(\" \")\n",
    "        s=a-(y-1)\n",
    "        b=pbound(s)\n",
    "        for w in crange(-b,b):\n",
    "            r=s-abs(w)\n",
    "            printnln(ganjil(r))\n",
    "        print()\n",
    "din(7)"
   ]
  },
  {
   "cell_type": "code",
   "execution_count": null,
   "metadata": {},
   "outputs": [],
   "source": []
  },
  {
   "cell_type": "code",
   "execution_count": 44,
   "metadata": {},
   "outputs": [
    {
     "name": "stdout",
     "output_type": "stream",
     "text": [
      "            \n",
      "          1 \n",
      "        1 3 1 \n",
      "      1 3 5 3 1 \n",
      "    1 3 5 7 5 3 1 \n",
      "  1 3 5 7 9 7 5 3 1 \n",
      "1 3 5 7 9 11 9 7 5 3 1 \n",
      "  1 3 5 7 9 7 5 3 1 \n",
      "    1 3 5 7 5 3 1 \n",
      "      1 3 5 3 1 \n",
      "        1 3 1 \n",
      "          1 \n",
      "            \n"
     ]
    }
   ],
   "source": [
    "def din(a):\n",
    "    for y in crange(-a,a):\n",
    "        for x in crange(1,abs(y)):\n",
    "            printnln(\" \")\n",
    "        s=a-abs(y)\n",
    "        b=pbound(s)\n",
    "        for w in crange(-b,b):\n",
    "            t=s-abs(w)\n",
    "            printnln(ganjil(t))\n",
    "        print()\n",
    "din(6)"
   ]
  },
  {
   "cell_type": "code",
   "execution_count": 46,
   "metadata": {},
   "outputs": [
    {
     "name": "stdout",
     "output_type": "stream",
     "text": [
      "                                              \n",
      "          1                   1           \n",
      "        1 3 1               1 3 1         \n",
      "      1 3 5 3 1           1 3 5 3 1       \n",
      "    1 3 5 7 5 3 1       1 3 5 7 5 3 1     \n",
      "  1 3 5 7 9 7 5 3 1   3 5 7 9 7 5 3 1   \n",
      "1 3 5 7 9 11 9 7 5 3 1 1 5 7 9 11 9 7 5 3 1 \n",
      "  1 3 5 7 9 7 5 3 1   3 5 7 9 7 5 3 1   \n",
      "    1 3 5 7 5 3 1       1 3 5 7 5 3 1     \n",
      "      1 3 5 3 1           1 3 5 3 1       \n",
      "        1 3 1               1 3 1         \n",
      "          1                   1           \n",
      "                                              \n"
     ]
    }
   ],
   "source": [
    "def din(a):\n",
    "    for y in crange(-a,a):\n",
    "        for i in range(2):\n",
    "            for w in crange(1,abs(y)):\n",
    "                if w==1 and i>0 :continue\n",
    "                printnln(\" \")\n",
    "            r=a-abs(y)\n",
    "            b=pbound(r)\n",
    "            for x in crange(-b,b):\n",
    "                if x==-4 and i>0 :continue\n",
    "                t=r-abs(x)\n",
    "                printnln(ganjil(t))\n",
    "            \n",
    "            for w in crange(1,abs(y)):\n",
    "                printnln(\" \")\n",
    "            \n",
    "        print()\n",
    "din(6)"
   ]
  },
  {
   "cell_type": "code",
   "execution_count": null,
   "metadata": {},
   "outputs": [],
   "source": []
  },
  {
   "cell_type": "code",
   "execution_count": null,
   "metadata": {},
   "outputs": [],
   "source": []
  }
 ],
 "metadata": {
  "kernelspec": {
   "display_name": "Python 3",
   "language": "python",
   "name": "python3"
  },
  "language_info": {
   "codemirror_mode": {
    "name": "ipython",
    "version": 3
   },
   "file_extension": ".py",
   "mimetype": "text/x-python",
   "name": "python",
   "nbconvert_exporter": "python",
   "pygments_lexer": "ipython3",
   "version": "3.6.5"
  }
 },
 "nbformat": 4,
 "nbformat_minor": 2
}

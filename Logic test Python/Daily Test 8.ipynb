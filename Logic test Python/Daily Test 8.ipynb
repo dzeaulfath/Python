{
 "cells": [
  {
   "cell_type": "code",
   "execution_count": 7,
   "metadata": {},
   "outputs": [],
   "source": [
    "def printnln(a):\n",
    "    return print(a, end=\"\")\n",
    "def crange(a,b):\n",
    "    return range(a, b+1)\n",
    "def ganjil(a):\n",
    "    return a*2-1\n",
    "def fib(a):\n",
    "    if a<=2:\n",
    "        return 1\n",
    "    else:\n",
    "        return fib(a-1)+fib(a-2)"
   ]
  },
  {
   "cell_type": "code",
   "execution_count": null,
   "metadata": {},
   "outputs": [],
   "source": []
  },
  {
   "cell_type": "code",
   "execution_count": 5,
   "metadata": {},
   "outputs": [
    {
     "name": "stdout",
     "output_type": "stream",
     "text": [
      "4\n",
      "60\n"
     ]
    }
   ],
   "source": [
    "def fpb(a,b):\n",
    "    if b==0:\n",
    "        return a\n",
    "    else:\n",
    "        return fpb(b, a%b)\n",
    "def kpk(a,b):\n",
    "    return a*b//fpb(a,b)\n",
    "\n",
    "print(fpb(20,12))\n",
    "print(kpk(20,12))"
   ]
  },
  {
   "cell_type": "code",
   "execution_count": 6,
   "metadata": {},
   "outputs": [
    {
     "name": "stdout",
     "output_type": "stream",
     "text": [
      "1AAAAAAA16\n",
      "D3AAAAA14B\n",
      "DD5AAA12BB\n",
      "DDD7A10BBB\n",
      "DDDD9BBBB\n",
      "DDD6C11BBB\n",
      "DD4CCC13BB\n",
      "D2CCCCC15B\n",
      "0CCCCCCC17\n"
     ]
    }
   ],
   "source": [
    "for y in crange(1,9):\n",
    "    for x in crange(1,9):\n",
    "        if x==y:\n",
    "            c=x*2-1\n",
    "            printnln(c)\n",
    "        elif x==9-(y-1):\n",
    "            d=x*2-2\n",
    "            printnln(d)\n",
    "        elif x>y and x<9-(y-1):\n",
    "            printnln(\"A\")\n",
    "        elif x>y and x>9-(y-1):\n",
    "            printnln(\"B\")\n",
    "        elif x<y and x>9-(y-1):\n",
    "            printnln(\"C\")\n",
    "        else:\n",
    "            printnln(\"D\")\n",
    "    print()"
   ]
  },
  {
   "cell_type": "code",
   "execution_count": 8,
   "metadata": {},
   "outputs": [
    {
     "name": "stdout",
     "output_type": "stream",
     "text": [
      "111111111\n",
      "111111111\n",
      "112222211\n",
      "112333211\n",
      "112353211\n",
      "112333211\n",
      "112222211\n",
      "111111111\n",
      "111111111\n"
     ]
    }
   ],
   "source": [
    "for y in crange(-4,4):\n",
    "    for x in crange(-4,4):\n",
    "        g= abs(x) if abs(x)>abs(y) else abs(y)\n",
    "        h= 4-g+1\n",
    "        printnln(fib(h))\n",
    "    print()"
   ]
  },
  {
   "cell_type": "code",
   "execution_count": 9,
   "metadata": {},
   "outputs": [
    {
     "name": "stdout",
     "output_type": "stream",
     "text": [
      "111111111\n",
      "1_______1\n",
      "1_33333_1\n",
      "1_3___3_1\n",
      "1_3_5_3_1\n",
      "1_3___3_1\n",
      "1_33333_1\n",
      "1_______1\n",
      "111111111\n"
     ]
    }
   ],
   "source": [
    "for y in crange(-4,4):\n",
    "    for x in crange(-4,4):\n",
    "        s= abs(x) if abs(x)>abs(y) else abs(y)\n",
    "        g= 4-s+1\n",
    "        if g%2==0:\n",
    "            printnln(\"_\")\n",
    "        else:\n",
    "            printnln(g)\n",
    "    print()"
   ]
  },
  {
   "cell_type": "code",
   "execution_count": null,
   "metadata": {},
   "outputs": [],
   "source": []
  }
 ],
 "metadata": {
  "kernelspec": {
   "display_name": "Python 3",
   "language": "python",
   "name": "python3"
  },
  "language_info": {
   "codemirror_mode": {
    "name": "ipython",
    "version": 3
   },
   "file_extension": ".py",
   "mimetype": "text/x-python",
   "name": "python",
   "nbconvert_exporter": "python",
   "pygments_lexer": "ipython3",
   "version": "3.6.5"
  }
 },
 "nbformat": 4,
 "nbformat_minor": 2
}

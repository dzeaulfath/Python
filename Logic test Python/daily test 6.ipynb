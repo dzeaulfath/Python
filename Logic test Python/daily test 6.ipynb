{
 "cells": [
  {
   "cell_type": "code",
   "execution_count": 1,
   "metadata": {},
   "outputs": [],
   "source": [
    "def printnln(a):\n",
    "    return print(a, end=\"\")\n",
    "def crange(a, b):\n",
    "    return range(a,b+1)"
   ]
  },
  {
   "cell_type": "code",
   "execution_count": 2,
   "metadata": {},
   "outputs": [
    {
     "name": "stdout",
     "output_type": "stream",
     "text": [
      "1________\n",
      "13_______\n",
      "135______\n",
      "1357_____\n",
      "13579____\n",
      "1357911___\n",
      "135791113__\n",
      "13579111315_\n",
      "1357911131517\n"
     ]
    }
   ],
   "source": [
    "for y in crange(1,9):\n",
    "    for x in crange(1,9):\n",
    "        if x<=y:\n",
    "            n=x*2-1\n",
    "            printnln(n)\n",
    "        else:\n",
    "            printnln(\"_\")\n",
    "    print()"
   ]
  },
  {
   "cell_type": "code",
   "execution_count": 6,
   "metadata": {},
   "outputs": [
    {
     "name": "stdout",
     "output_type": "stream",
     "text": [
      "________16\n",
      "_______1414\n",
      "______121212\n",
      "_____10101010\n",
      "____88888\n",
      "___666666\n",
      "__4444444\n",
      "_22222222\n",
      "000000000\n"
     ]
    }
   ],
   "source": [
    "for y in crange(1,9):\n",
    "    for x in crange(1,9):\n",
    "        if x>=9-(y-1):\n",
    "            v=9-(y-1)\n",
    "            n=v*2-2\n",
    "            printnln(n)\n",
    "        else:\n",
    "            printnln(\"_\")\n",
    "    print()"
   ]
  },
  {
   "cell_type": "code",
   "execution_count": null,
   "metadata": {},
   "outputs": [],
   "source": []
  },
  {
   "cell_type": "code",
   "execution_count": null,
   "metadata": {},
   "outputs": [],
   "source": []
  },
  {
   "cell_type": "code",
   "execution_count": null,
   "metadata": {},
   "outputs": [],
   "source": []
  }
 ],
 "metadata": {
  "kernelspec": {
   "display_name": "Python 3",
   "language": "python",
   "name": "python3"
  },
  "language_info": {
   "codemirror_mode": {
    "name": "ipython",
    "version": 3
   },
   "file_extension": ".py",
   "mimetype": "text/x-python",
   "name": "python",
   "nbconvert_exporter": "python",
   "pygments_lexer": "ipython3",
   "version": "3.6.5"
  }
 },
 "nbformat": 4,
 "nbformat_minor": 2
}

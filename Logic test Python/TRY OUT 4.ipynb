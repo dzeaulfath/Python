{
 "cells": [
  {
   "cell_type": "code",
   "execution_count": 2,
   "metadata": {},
   "outputs": [],
   "source": [
    "def printnln(a):\n",
    "    return print(a, end=\"\")\n",
    "def crange(a,b):\n",
    "    return range(a,b+1)\n",
    "def ganjil(a):\n",
    "    return a*2-1\n",
    "def pbound(a):\n",
    "    return a-1"
   ]
  },
  {
   "cell_type": "code",
   "execution_count": 3,
   "metadata": {},
   "outputs": [
    {
     "name": "stdout",
     "output_type": "stream",
     "text": [
      "    1\n",
      "   123\n",
      "  12345\n",
      " 1234567\n",
      "123456789\n"
     ]
    }
   ],
   "source": [
    "for y in crange(1,5):\n",
    "    for w in crange(1,5-y):\n",
    "        printnln(\" \")\n",
    "    for x in crange(1,ganjil(y)):\n",
    "        printnln(x)\n",
    "    print()"
   ]
  },
  {
   "cell_type": "code",
   "execution_count": 4,
   "metadata": {},
   "outputs": [
    {
     "name": "stdout",
     "output_type": "stream",
     "text": [
      "123456789\n",
      " 1234567\n",
      "  12345\n",
      "   123\n",
      "    1\n"
     ]
    }
   ],
   "source": [
    "for y in crange(1,5):\n",
    "    for w in crange(1,y-1):\n",
    "        printnln(\" \")\n",
    "    d=5-(y-1)\n",
    "    for x in crange(1,ganjil(d)):\n",
    "        printnln(x)\n",
    "    print()"
   ]
  },
  {
   "cell_type": "code",
   "execution_count": 5,
   "metadata": {},
   "outputs": [
    {
     "name": "stdout",
     "output_type": "stream",
     "text": [
      "    1\n",
      "   123\n",
      "  12345\n",
      " 1234567\n",
      "123456789\n",
      " 1234567\n",
      "  12345\n",
      "   123\n",
      "    1\n"
     ]
    }
   ],
   "source": [
    "for y in crange(-4,4):\n",
    "    for w in crange(1,abs(y)):\n",
    "        printnln(\" \")\n",
    "    for x in crange(1,ganjil(5-abs(y))):\n",
    "        printnln(x)\n",
    "    print()"
   ]
  },
  {
   "cell_type": "code",
   "execution_count": 7,
   "metadata": {},
   "outputs": [
    {
     "name": "stdout",
     "output_type": "stream",
     "text": [
      "    1\n",
      "   131\n",
      "  13531\n",
      " 1357531\n",
      "135797531\n"
     ]
    }
   ],
   "source": [
    "for y in crange(1,5):\n",
    "    for w in crange(1,5-y):\n",
    "        printnln(\" \")\n",
    "    b=pbound(y)\n",
    "    for x in crange(-b,b):\n",
    "        w=y-abs(x)\n",
    "        printnln(ganjil(w))\n",
    "    print()"
   ]
  },
  {
   "cell_type": "code",
   "execution_count": 15,
   "metadata": {},
   "outputs": [
    {
     "name": "stdout",
     "output_type": "stream",
     "text": [
      "131\n",
      " 1\n"
     ]
    }
   ],
   "source": [
    "r=2\n",
    "for y in crange(1,r):\n",
    "    for w in crange(1,y-1):\n",
    "        printnln(\" \")\n",
    "    s=r-(y-1)\n",
    "    b=pbound(s)\n",
    "    for x in crange(-b,b):\n",
    "        f=s-abs(x)\n",
    "        printnln(ganjil(f))\n",
    "    print()"
   ]
  },
  {
   "cell_type": "code",
   "execution_count": null,
   "metadata": {},
   "outputs": [],
   "source": []
  },
  {
   "cell_type": "code",
   "execution_count": null,
   "metadata": {},
   "outputs": [],
   "source": [
    "for x in crange(-4,4):\n",
    "    for w in crange()"
   ]
  },
  {
   "cell_type": "code",
   "execution_count": null,
   "metadata": {},
   "outputs": [],
   "source": []
  },
  {
   "cell_type": "code",
   "execution_count": null,
   "metadata": {},
   "outputs": [],
   "source": []
  }
 ],
 "metadata": {
  "kernelspec": {
   "display_name": "Python 3",
   "language": "python",
   "name": "python3"
  },
  "language_info": {
   "codemirror_mode": {
    "name": "ipython",
    "version": 3
   },
   "file_extension": ".py",
   "mimetype": "text/x-python",
   "name": "python",
   "nbconvert_exporter": "python",
   "pygments_lexer": "ipython3",
   "version": "3.6.5"
  }
 },
 "nbformat": 4,
 "nbformat_minor": 2
}

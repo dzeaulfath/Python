{
 "cells": [
  {
   "cell_type": "code",
   "execution_count": 3,
   "metadata": {},
   "outputs": [],
   "source": [
    "def crange(a,b):\n",
    "    return range(a,b+1)\n",
    "def printnln(a):\n",
    "    return print(a, end=\"\")"
   ]
  },
  {
   "cell_type": "code",
   "execution_count": 4,
   "metadata": {},
   "outputs": [
    {
     "name": "stdout",
     "output_type": "stream",
     "text": [
      "1________\n",
      "_3_______\n",
      "__5______\n",
      "___7_____\n",
      "____9____\n",
      "_____11___\n",
      "______13__\n",
      "_______15_\n",
      "________17\n"
     ]
    }
   ],
   "source": [
    "for y in crange(1,9):\n",
    "    for x in crange(1,9):\n",
    "        if x==y:\n",
    "            c= x*2-1\n",
    "            printnln(c)\n",
    "        else:\n",
    "            printnln(\"_\")\n",
    "    print()"
   ]
  },
  {
   "cell_type": "code",
   "execution_count": 5,
   "metadata": {},
   "outputs": [
    {
     "name": "stdout",
     "output_type": "stream",
     "text": [
      "________16\n",
      "_______14_\n",
      "______12__\n",
      "_____10___\n",
      "____8____\n",
      "___6_____\n",
      "__4______\n",
      "_2_______\n",
      "0________\n"
     ]
    }
   ],
   "source": [
    "for y in crange(1,9):\n",
    "    for x in crange(1,9):\n",
    "        if x==9-(y-1):\n",
    "            c=x*2-2\n",
    "            printnln(c)\n",
    "        else:\n",
    "            printnln(\"_\")\n",
    "    print()"
   ]
  },
  {
   "cell_type": "code",
   "execution_count": null,
   "metadata": {},
   "outputs": [],
   "source": []
  }
 ],
 "metadata": {
  "kernelspec": {
   "display_name": "Python 3",
   "language": "python",
   "name": "python3"
  },
  "language_info": {
   "codemirror_mode": {
    "name": "ipython",
    "version": 3
   },
   "file_extension": ".py",
   "mimetype": "text/x-python",
   "name": "python",
   "nbconvert_exporter": "python",
   "pygments_lexer": "ipython3",
   "version": "3.6.5"
  }
 },
 "nbformat": 4,
 "nbformat_minor": 2
}

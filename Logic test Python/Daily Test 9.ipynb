{
 "cells": [
  {
   "cell_type": "code",
   "execution_count": 1,
   "metadata": {},
   "outputs": [],
   "source": [
    "def printnln(a):\n",
    "    return print (a, end=\"\")\n",
    "def crange(a,b):\n",
    "    return range(a,b+1)\n",
    "def fib(a):\n",
    "    if a<=2:\n",
    "        return 1\n",
    "    else:\n",
    "        return fib(a-1)+fib(a-2)"
   ]
  },
  {
   "cell_type": "code",
   "execution_count": 4,
   "metadata": {},
   "outputs": [
    {
     "name": "stdout",
     "output_type": "stream",
     "text": [
      "111111111\n",
      "1       1\n",
      "1 11111 1\n",
      "1 1   1 1\n",
      "1 1 2 1 1\n",
      "1 1   1 1\n",
      "1 11111 1\n",
      "1       1\n",
      "111111111\n"
     ]
    }
   ],
   "source": [
    "for y in crange(-4,4):\n",
    "    for x in crange(-4,4):\n",
    "        s= abs(x) if abs(x)>abs(y) else abs(y)\n",
    "        d=4-s+1\n",
    "        if d%2==0:\n",
    "            printnln(\" \")\n",
    "        else:\n",
    "            e= d//2+1\n",
    "            printnln(fib(e))\n",
    "    print()"
   ]
  },
  {
   "cell_type": "code",
   "execution_count": 7,
   "metadata": {},
   "outputs": [
    {
     "name": "stdout",
     "output_type": "stream",
     "text": [
      "111111111\n",
      "1AAAAAAA1\n",
      "1A11111A1\n",
      "1A1BBB1A1\n",
      "1A1B2B1A1\n",
      "1A1BBB1A1\n",
      "1A11111A1\n",
      "1AAAAAAA1\n",
      "111111111\n"
     ]
    }
   ],
   "source": [
    "alp=\"AB\"\n",
    "for y in crange(-4,4):\n",
    "    for x in crange(-4,4):\n",
    "        s= abs(x) if abs(x) > abs(y) else abs(y)\n",
    "        d=4-s+1\n",
    "        if d%2==0:\n",
    "            w=d//2-1\n",
    "            printnln(alp[w])\n",
    "        else:\n",
    "            e=d//2+1\n",
    "            printnln(fib(e))\n",
    "    print()\n",
    "    "
   ]
  },
  {
   "cell_type": "code",
   "execution_count": null,
   "metadata": {},
   "outputs": [],
   "source": []
  },
  {
   "cell_type": "code",
   "execution_count": null,
   "metadata": {},
   "outputs": [],
   "source": []
  },
  {
   "cell_type": "code",
   "execution_count": null,
   "metadata": {},
   "outputs": [],
   "source": []
  }
 ],
 "metadata": {
  "kernelspec": {
   "display_name": "Python 3",
   "language": "python",
   "name": "python3"
  },
  "language_info": {
   "codemirror_mode": {
    "name": "ipython",
    "version": 3
   },
   "file_extension": ".py",
   "mimetype": "text/x-python",
   "name": "python",
   "nbconvert_exporter": "python",
   "pygments_lexer": "ipython3",
   "version": "3.6.5"
  }
 },
 "nbformat": 4,
 "nbformat_minor": 2
}

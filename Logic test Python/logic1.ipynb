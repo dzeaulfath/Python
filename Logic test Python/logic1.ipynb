{
 "cells": [
  {
   "cell_type": "code",
   "execution_count": 2,
   "metadata": {},
   "outputs": [],
   "source": [
    "#custom function\n",
    "\n",
    "def crange(a,b):\n",
    "    return range(a,b+1)\n",
    "                 \n",
    "def printnln(a):\n",
    "    print (a, end=\"\")"
   ]
  },
  {
   "cell_type": "markdown",
   "metadata": {},
   "source": [
    "# SOAL 1"
   ]
  },
  {
   "cell_type": "code",
   "execution_count": 3,
   "metadata": {},
   "outputs": [
    {
     "name": "stdout",
     "output_type": "stream",
     "text": [
      "*________\n",
      "_*_______\n",
      "__*______\n",
      "___*_____\n",
      "____*____\n",
      "_____*___\n",
      "______*__\n",
      "_______*_\n",
      "________*\n"
     ]
    }
   ],
   "source": [
    "for x in crange(1,9):\n",
    "    for y in crange(1,9):\n",
    "        if x == y:\n",
    "            printnln(\"*\")\n",
    "        else:\n",
    "            printnln(\"_\")\n",
    "    print()"
   ]
  },
  {
   "cell_type": "markdown",
   "metadata": {},
   "source": [
    "# SOAL 2\n"
   ]
  },
  {
   "cell_type": "code",
   "execution_count": 4,
   "metadata": {},
   "outputs": [
    {
     "name": "stdout",
     "output_type": "stream",
     "text": [
      "________*\n",
      "_______*_\n",
      "______*__\n",
      "_____*___\n",
      "____*____\n",
      "___*_____\n",
      "__*______\n",
      "_*_______\n",
      "*________\n"
     ]
    }
   ],
   "source": [
    "a=9\n",
    "for x in crange(1,9):\n",
    "    for y in crange(1,9):\n",
    "        if x == 9-(y-1):\n",
    "            printnln(\"*\")\n",
    "        else:\n",
    "            printnln(\"_\")\n",
    "    print()"
   ]
  },
  {
   "cell_type": "code",
   "execution_count": 5,
   "metadata": {},
   "outputs": [
    {
     "name": "stdout",
     "output_type": "stream",
     "text": [
      "________*\n",
      "_______*_\n",
      "______*__\n",
      "_____*___\n",
      "____*____\n",
      "___*_____\n",
      "__*______\n",
      "_*_______\n",
      "*________\n"
     ]
    }
   ],
   "source": [
    "for x in reversed(crange(1,9)):\n",
    "    for y in crange(1,9):\n",
    "        if x==y:\n",
    "            printnln(\"*\")\n",
    "        else:\n",
    "            printnln(\"_\")\n",
    "    print()"
   ]
  },
  {
   "cell_type": "markdown",
   "metadata": {},
   "source": [
    "# SOAL 3"
   ]
  },
  {
   "cell_type": "code",
   "execution_count": 12,
   "metadata": {},
   "outputs": [
    {
     "name": "stdout",
     "output_type": "stream",
     "text": [
      "*_______*\n",
      "_*_____*_\n",
      "__*___*__\n",
      "___*_*___\n",
      "____*____\n",
      "___*_*___\n",
      "__*___*__\n",
      "_*_____*_\n",
      "*_______*\n"
     ]
    }
   ],
   "source": [
    "for x in crange(1,9):\n",
    "    for y in crange(1,9):\n",
    "        if x == y or x == 9 - (y-1):\n",
    "            printnln(\"*\")\n",
    "        else:\n",
    "            printnln(\"_\")\n",
    "    print()"
   ]
  },
  {
   "cell_type": "code",
   "execution_count": 13,
   "metadata": {},
   "outputs": [
    {
     "name": "stdout",
     "output_type": "stream",
     "text": [
      "*_______*\n",
      "_*_____*_\n",
      "__*___*__\n",
      "___*_*___\n",
      "____*____\n",
      "___*_*___\n",
      "__*___*__\n",
      "_*_____*_\n",
      "*_______*\n"
     ]
    }
   ],
   "source": [
    "for x in crange(1,9):\n",
    "    for y in crange(1,9):\n",
    "        if x==y:\n",
    "            printnln(\"*\")\n",
    "        elif x==9-(y-1):\n",
    "            printnln(\"*\")\n",
    "        else:\n",
    "            printnln(\"_\")\n",
    "    print()\n",
    "        "
   ]
  },
  {
   "cell_type": "markdown",
   "metadata": {},
   "source": [
    "# SOAL 4"
   ]
  },
  {
   "cell_type": "code",
   "execution_count": 19,
   "metadata": {},
   "outputs": [
    {
     "name": "stdout",
     "output_type": "stream",
     "text": [
      "*___*___*\n",
      "_*__*__*_\n",
      "__*_*_*__\n",
      "___***___\n",
      "*********\n",
      "___***___\n",
      "__*_*_*__\n",
      "_*__*__*_\n",
      "*___*___*\n"
     ]
    }
   ],
   "source": [
    "for x in crange (1,9):\n",
    "    for y in crange(1,9):\n",
    "        if x==y:\n",
    "            printnln(\"*\")\n",
    "        elif x==9-(y-1):\n",
    "            printnln(\"*\")\n",
    "        elif x==5:\n",
    "            printnln(\"*\")\n",
    "        elif y==5:\n",
    "            printnln(\"*\")\n",
    "        else:\n",
    "            printnln(\"_\")\n",
    "    print()"
   ]
  },
  {
   "cell_type": "code",
   "execution_count": 21,
   "metadata": {},
   "outputs": [
    {
     "name": "stdout",
     "output_type": "stream",
     "text": [
      "*___*___*\n",
      "_*__*__*_\n",
      "__*_*_*__\n",
      "___***___\n",
      "*********\n",
      "___***___\n",
      "__*_*_*__\n",
      "_*__*__*_\n",
      "*___*___*\n"
     ]
    }
   ],
   "source": [
    "for x in crange (1,9):\n",
    "    for y in crange(1,9):\n",
    "        if x==y:\n",
    "            printnln(\"*\")\n",
    "        elif x==9-(y-1):\n",
    "            printnln(\"*\")\n",
    "        elif x==5 or y==5:\n",
    "            printnln(\"*\")\n",
    "        else:\n",
    "            printnln(\"_\")\n",
    "    print()"
   ]
  },
  {
   "cell_type": "code",
   "execution_count": 26,
   "metadata": {},
   "outputs": [
    {
     "name": "stdout",
     "output_type": "stream",
     "text": [
      "*___*___*\n",
      "_*__*__*_\n",
      "__*_*_*__\n",
      "___***___\n",
      "*********\n",
      "___***___\n",
      "__*_*_*__\n",
      "_*__*__*_\n",
      "*___*___*\n"
     ]
    }
   ],
   "source": [
    "for x in crange (1,9):\n",
    "    for y in crange(1,9):\n",
    "        if x==y or x==9-(y-1) or x==5 or y==5:\n",
    "            printnln(\"*\")\n",
    "        else:\n",
    "            printnln(\"_\")\n",
    "    print()"
   ]
  },
  {
   "cell_type": "markdown",
   "metadata": {},
   "source": [
    "# SOAL 5"
   ]
  },
  {
   "cell_type": "code",
   "execution_count": 28,
   "metadata": {},
   "outputs": [
    {
     "name": "stdout",
     "output_type": "stream",
     "text": [
      "*________\n",
      "**_______\n",
      "***______\n",
      "****_____\n",
      "*****____\n",
      "******___\n",
      "*******__\n",
      "********_\n",
      "*********\n"
     ]
    }
   ],
   "source": [
    "for x in crange(1,9):\n",
    "    for y in crange(1,9):\n",
    "        if y<=x:\n",
    "            printnln(\"*\")\n",
    "        else:\n",
    "            printnln(\"_\")\n",
    "    print()"
   ]
  },
  {
   "cell_type": "markdown",
   "metadata": {},
   "source": [
    "# SOAL 6"
   ]
  },
  {
   "cell_type": "code",
   "execution_count": 30,
   "metadata": {},
   "outputs": [
    {
     "name": "stdout",
     "output_type": "stream",
     "text": [
      "________*\n",
      "_______**\n",
      "______***\n",
      "_____****\n",
      "____*****\n",
      "___******\n",
      "__*******\n",
      "_********\n",
      "*********\n"
     ]
    }
   ],
   "source": [
    "for x in reversed(crange(1,9)):\n",
    "    for y in crange(1,9):\n",
    "        if x<=y:\n",
    "            printnln(\"*\")\n",
    "        else:\n",
    "            printnln(\"_\")\n",
    "    print()"
   ]
  },
  {
   "cell_type": "code",
   "execution_count": 35,
   "metadata": {},
   "outputs": [
    {
     "name": "stdout",
     "output_type": "stream",
     "text": [
      "________*\n",
      "_______**\n",
      "______***\n",
      "_____****\n",
      "____*****\n",
      "___******\n",
      "__*******\n",
      "_********\n",
      "*********\n"
     ]
    }
   ],
   "source": [
    "for x in crange(1,9):\n",
    "    for y in crange(1,9):\n",
    "        if x>=9-(y-1) : # bisa pake juga 9-(y1)<=x\n",
    "            printnln(\"*\")\n",
    "        else:\n",
    "            printnln(\"_\")\n",
    "    print()"
   ]
  },
  {
   "cell_type": "markdown",
   "metadata": {},
   "source": [
    "# SOAL 7"
   ]
  },
  {
   "cell_type": "code",
   "execution_count": 38,
   "metadata": {},
   "outputs": [
    {
     "name": "stdout",
     "output_type": "stream",
     "text": [
      "*********\n",
      "_*******_\n",
      "__*****__\n",
      "___***___\n",
      "____*____\n",
      "___***___\n",
      "__*****__\n",
      "_*******_\n",
      "*********\n"
     ]
    }
   ],
   "source": [
    "for x in crange(1,9):\n",
    "    for y in crange(1,9):\n",
    "        if y>=x and y<=9-(x-1):\n",
    "            printnln(\"*\")\n",
    "        elif y<=x and y>=9-(x-1):\n",
    "            printnln(\"*\")\n",
    "        else:\n",
    "            printnln(\"_\")\n",
    "    print()"
   ]
  },
  {
   "cell_type": "code",
   "execution_count": 45,
   "metadata": {},
   "outputs": [
    {
     "name": "stdout",
     "output_type": "stream",
     "text": [
      "*********\n",
      "_*******_\n",
      "__*****__\n",
      "___***___\n",
      "____*____\n",
      "___***___\n",
      "__*****__\n",
      "_*******_\n",
      "*********\n"
     ]
    }
   ],
   "source": [
    "for y in crange(1,9):\n",
    "    for x in crange(1,9):\n",
    "        if x>=y and x<=9-(y-1) or x<=y and x>=9-(y-1):\n",
    "            printnln(\"*\")\n",
    "        else:\n",
    "            printnln(\"_\")\n",
    "    print()"
   ]
  },
  {
   "cell_type": "markdown",
   "metadata": {},
   "source": [
    "# SOAL 8"
   ]
  },
  {
   "cell_type": "code",
   "execution_count": 46,
   "metadata": {},
   "outputs": [
    {
     "name": "stdout",
     "output_type": "stream",
     "text": [
      "*_______*\n",
      "**_____**\n",
      "***___***\n",
      "****_****\n",
      "*********\n",
      "****_****\n",
      "***___***\n",
      "**_____**\n",
      "*_______*\n"
     ]
    }
   ],
   "source": [
    "for x in crange(1,9):\n",
    "    for y in crange(1,9):\n",
    "        if y<=x and y<=9-(x-1):\n",
    "            printnln(\"*\")\n",
    "        elif y>=x and y>=9-(x-1):\n",
    "            printnln(\"*\")\n",
    "        else:\n",
    "            printnln(\"_\")\n",
    "    print()"
   ]
  },
  {
   "cell_type": "code",
   "execution_count": 3,
   "metadata": {},
   "outputs": [
    {
     "name": "stdout",
     "output_type": "stream",
     "text": [
      "*_______*\n",
      "**_____**\n",
      "***___***\n",
      "****_****\n",
      "*********\n",
      "****_****\n",
      "***___***\n",
      "**_____**\n",
      "*_______*\n"
     ]
    }
   ],
   "source": [
    "for y in crange(1,9):\n",
    "    for x in crange(1,9):\n",
    "        if x<=y and x<=9-(y-1) or x>=y and x>=9-(y-1):\n",
    "            printnln(\"*\")\n",
    "        else:\n",
    "            printnln(\"_\")\n",
    "    print()\n",
    "            "
   ]
  },
  {
   "cell_type": "code",
   "execution_count": null,
   "metadata": {},
   "outputs": [],
   "source": []
  },
  {
   "cell_type": "code",
   "execution_count": null,
   "metadata": {},
   "outputs": [],
   "source": []
  },
  {
   "cell_type": "code",
   "execution_count": null,
   "metadata": {},
   "outputs": [],
   "source": []
  }
 ],
 "metadata": {
  "kernelspec": {
   "display_name": "Python 3",
   "language": "python",
   "name": "python3"
  },
  "language_info": {
   "codemirror_mode": {
    "name": "ipython",
    "version": 3
   },
   "file_extension": ".py",
   "mimetype": "text/x-python",
   "name": "python",
   "nbconvert_exporter": "python",
   "pygments_lexer": "ipython3",
   "version": "3.6.5"
  }
 },
 "nbformat": 4,
 "nbformat_minor": 2
}

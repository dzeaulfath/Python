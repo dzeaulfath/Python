{
 "cells": [
  {
   "cell_type": "code",
   "execution_count": 1,
   "metadata": {},
   "outputs": [],
   "source": [
    "def printnln(a):\n",
    "    return print(a,end=\" \")\n",
    "def crange(a,b):\n",
    "    return range(a,b+1)\n",
    "def ganjil(a):\n",
    "    return a*2-1\n",
    "def m(a):\n",
    "    return a*(a-1)//2\n",
    "def fib(a):\n",
    "    if a<=2:\n",
    "        return 1\n",
    "    else:\n",
    "        return fib(a-1)+fib(a-2)"
   ]
  },
  {
   "cell_type": "code",
   "execution_count": null,
   "metadata": {},
   "outputs": [],
   "source": []
  },
  {
   "cell_type": "code",
   "execution_count": 2,
   "metadata": {},
   "outputs": [
    {
     "name": "stdout",
     "output_type": "stream",
     "text": [
      "* \n",
      "  * * \n",
      "  * * \n",
      "      * * * \n",
      "      * * * \n",
      "      * * * \n",
      "            * * * * \n",
      "            * * * * \n",
      "            * * * * \n",
      "            * * * * \n"
     ]
    }
   ],
   "source": [
    "for y in crange(1,4):\n",
    "    for x in crange(1,y):\n",
    "        for s in crange(1,m(y)):\n",
    "            printnln(\" \")\n",
    "        for b in crange(1,y):\n",
    "            printnln(\"*\")\n",
    "        print()"
   ]
  },
  {
   "cell_type": "code",
   "execution_count": 3,
   "metadata": {},
   "outputs": [
    {
     "name": "stdout",
     "output_type": "stream",
     "text": [
      "                  * \n",
      "              * * \n",
      "              * * \n",
      "        * * * \n",
      "        * * * \n",
      "        * * * \n",
      "* * * * \n",
      "* * * * \n",
      "* * * * \n",
      "* * * * \n"
     ]
    }
   ],
   "source": [
    "for y in crange(1,4):\n",
    "    for x in crange(1,y):\n",
    "        for s in crange(1,10-m(y+1)):\n",
    "            printnln(\" \")\n",
    "        for b in crange(1,y):\n",
    "            printnln(\"*\")\n",
    "        print()"
   ]
  },
  {
   "cell_type": "code",
   "execution_count": 4,
   "metadata": {},
   "outputs": [
    {
     "name": "stdout",
     "output_type": "stream",
     "text": [
      "* \n",
      "    * \n",
      "  * * * \n",
      "            * \n",
      "          * * * \n",
      "        * * * * * \n"
     ]
    }
   ],
   "source": [
    "for y in crange(1,3):\n",
    "    for x in crange(1,y):\n",
    "        for w in crange(1,(y-1)**2):\n",
    "            printnln(\" \")\n",
    "        for s in crange(1,y-x):\n",
    "            printnln(\" \")\n",
    "        for b in crange(1,ganjil(x)):\n",
    "            printnln(\"*\")\n",
    "        print()"
   ]
  },
  {
   "cell_type": "code",
   "execution_count": 5,
   "metadata": {},
   "outputs": [
    {
     "name": "stdout",
     "output_type": "stream",
     "text": [
      "                  * \n",
      "              * \n",
      "            * * * \n",
      "      * \n",
      "    * * * \n",
      "  * * * * * \n"
     ]
    }
   ],
   "source": [
    "for y in crange(1,3):\n",
    "    for x in crange(1,y):\n",
    "        for w in crange(1,10-y**2):\n",
    "            printnln(\" \")\n",
    "        for s in crange(1,y-x):\n",
    "            printnln(\" \")\n",
    "        for b in crange(1,ganjil(x)):\n",
    "            printnln(\"*\")\n",
    "        print()"
   ]
  },
  {
   "cell_type": "code",
   "execution_count": 6,
   "metadata": {},
   "outputs": [
    {
     "name": "stdout",
     "output_type": "stream",
     "text": [
      "  * \n",
      "    * * * \n",
      "      * \n",
      "          * * * * * \n",
      "            * * * \n",
      "              * \n"
     ]
    }
   ],
   "source": [
    "for y in crange(1,3):\n",
    "    for x in crange(1,y):\n",
    "        for w in crange(1,(y-1)**2):\n",
    "            printnln(\" \")\n",
    "        for s in crange(1,x):\n",
    "            printnln(\" \")\n",
    "        for b in crange(1,ganjil(y+1-x)):\n",
    "            printnln(\"*\")\n",
    "        print()"
   ]
  },
  {
   "cell_type": "code",
   "execution_count": 7,
   "metadata": {},
   "outputs": [
    {
     "name": "stdout",
     "output_type": "stream",
     "text": [
      "1 \n",
      "  1 2 \n",
      "  3 4 \n",
      "      1 2 3 \n",
      "      4 5 6 \n",
      "      7 8 9 \n",
      "            1 2 3 4 \n",
      "            5 6 7 8 \n",
      "            9 10 11 12 \n",
      "            13 14 15 16 \n"
     ]
    }
   ],
   "source": [
    "for y in crange(1,4):\n",
    "    a=0\n",
    "    for x in crange(1,y):\n",
    "        for w in crange(1,m(y)):\n",
    "            printnln(\" \")\n",
    "        for s in crange(1,y):\n",
    "            a+=1\n",
    "            printnln(a)\n",
    "        print()"
   ]
  },
  {
   "cell_type": "code",
   "execution_count": 8,
   "metadata": {},
   "outputs": [
    {
     "name": "stdout",
     "output_type": "stream",
     "text": [
      "                  1 \n",
      "              1 2 \n",
      "              3 4 \n",
      "        1 2 3 \n",
      "        4 5 6 \n",
      "        7 8 9 \n",
      "1 2 3 4 \n",
      "5 6 7 8 \n",
      "9 10 11 12 \n",
      "13 14 15 16 \n"
     ]
    }
   ],
   "source": [
    "for y in crange(1,4):\n",
    "    a=0\n",
    "    for x in crange(1,y):\n",
    "        for w in crange(1,10-m(y+1)):\n",
    "            printnln(\" \")\n",
    "        for b in crange(1,y):\n",
    "            a+=1\n",
    "            printnln(a)\n",
    "        print()"
   ]
  },
  {
   "cell_type": "code",
   "execution_count": 9,
   "metadata": {},
   "outputs": [
    {
     "name": "stdout",
     "output_type": "stream",
     "text": [
      "      1 \n",
      "      1 \n",
      "    2 3 4 \n",
      "      1 \n",
      "    3 5 7 \n",
      "  9 11 13 15 17 \n",
      "      1 \n",
      "    1 2 3 \n",
      "  5 8 13 21 34 \n",
      "55 89 144 233 377 610 987 \n"
     ]
    }
   ],
   "source": [
    "for y in crange(1,4):\n",
    "    a=0\n",
    "    for x in crange(1,y):\n",
    "        for w in crange(1,4-y):\n",
    "            printnln(\" \")\n",
    "        for s in crange(1,y-x):\n",
    "            printnln(\" \")\n",
    "        for b in crange(1,ganjil(x)):\n",
    "            a+=1\n",
    "            if y==4:\n",
    "                printnln(fib(a))\n",
    "            elif y==3:\n",
    "                printnln(ganjil(a))\n",
    "            else:\n",
    "                printnln(a)\n",
    "        print()"
   ]
  },
  {
   "cell_type": "code",
   "execution_count": null,
   "metadata": {},
   "outputs": [],
   "source": []
  },
  {
   "cell_type": "code",
   "execution_count": null,
   "metadata": {},
   "outputs": [],
   "source": []
  }
 ],
 "metadata": {
  "kernelspec": {
   "display_name": "Python 3",
   "language": "python",
   "name": "python3"
  },
  "language_info": {
   "codemirror_mode": {
    "name": "ipython",
    "version": 3
   },
   "file_extension": ".py",
   "mimetype": "text/x-python",
   "name": "python",
   "nbconvert_exporter": "python",
   "pygments_lexer": "ipython3",
   "version": "3.6.5"
  }
 },
 "nbformat": 4,
 "nbformat_minor": 2
}

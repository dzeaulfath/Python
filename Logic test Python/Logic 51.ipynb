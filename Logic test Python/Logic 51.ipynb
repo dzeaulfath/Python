{
 "cells": [
  {
   "cell_type": "code",
   "execution_count": 1,
   "metadata": {},
   "outputs": [],
   "source": [
    "def cr(a,b):\n",
    "    return range(a,b+1)\n",
    "\n",
    "def p(a):\n",
    "    print(a, end=\" \")\n",
    "\n",
    "def g(a):\n",
    "    return a*2-1\n",
    "\n",
    "def b(a):\n",
    "    return a-1\n",
    "\n"
   ]
  },
  {
   "cell_type": "code",
   "execution_count": 2,
   "metadata": {},
   "outputs": [
    {
     "name": "stdout",
     "output_type": "stream",
     "text": [
      "        1 \n",
      "      1 2 3 \n",
      "    1 2 3 4 5 \n",
      "  1 2 3 4 5 6 7 \n",
      "1 2 3 4 5 6 7 8 9 \n"
     ]
    }
   ],
   "source": [
    "for y in cr(1,5):\n",
    "    for s in cr(1,5-y):\n",
    "        p(\" \")\n",
    "    for a in cr(1,g(y)):\n",
    "        p(a)\n",
    "    print()"
   ]
  },
  {
   "cell_type": "code",
   "execution_count": 3,
   "metadata": {},
   "outputs": [
    {
     "name": "stdout",
     "output_type": "stream",
     "text": [
      "1 2 3 4 5 6 7 8 9 \n",
      "  1 2 3 4 5 6 7 \n",
      "    1 2 3 4 5 \n",
      "      1 2 3 \n",
      "        1 \n"
     ]
    }
   ],
   "source": [
    "for y in cr(1,5):\n",
    "    for s in cr(1,y-1):\n",
    "        p(\" \")\n",
    "    for x in cr(1,g(6-y)):\n",
    "        p(x)\n",
    "    print()"
   ]
  },
  {
   "cell_type": "code",
   "execution_count": 4,
   "metadata": {},
   "outputs": [
    {
     "name": "stdout",
     "output_type": "stream",
     "text": [
      "        1 \n",
      "      1 2 3 \n",
      "    1 2 3 4 5 \n",
      "  1 2 3 4 5 6 7 \n",
      "1 2 3 4 5 6 7 8 9 \n",
      "  1 2 3 4 5 6 7 \n",
      "    1 2 3 4 5 \n",
      "      1 2 3 \n",
      "        1 \n"
     ]
    }
   ],
   "source": [
    "for y in cr(-4,4):\n",
    "    for s in cr(1,abs(y)):\n",
    "        p(\" \")\n",
    "    for x in cr(1,g(5-abs(y))):\n",
    "        p(x)\n",
    "    print()"
   ]
  },
  {
   "cell_type": "code",
   "execution_count": 5,
   "metadata": {},
   "outputs": [
    {
     "name": "stdout",
     "output_type": "stream",
     "text": [
      "        1 \n",
      "      1 3 1 \n",
      "    1 3 5 3 1 \n",
      "  1 3 5 7 5 3 1 \n",
      "1 3 5 7 9 7 5 3 1 \n"
     ]
    }
   ],
   "source": [
    "for y in cr(1,5):\n",
    "    for s in cr(1,5-y):\n",
    "        p(\" \")\n",
    "    for x in cr(-b(y),b(y)):\n",
    "        x=y-abs(x)\n",
    "        p(g(x))\n",
    "    print()"
   ]
  },
  {
   "cell_type": "code",
   "execution_count": 6,
   "metadata": {},
   "outputs": [
    {
     "name": "stdout",
     "output_type": "stream",
     "text": [
      "1 3 5 7 9 7 5 3 1 \n",
      "  1 3 5 7 5 3 1 \n",
      "    1 3 5 3 1 \n",
      "      1 3 1 \n",
      "        1 \n"
     ]
    }
   ],
   "source": [
    "for y in cr(1,5):\n",
    "    for s in cr(1,y-1):\n",
    "        p(\" \")\n",
    "    y=6-y\n",
    "    for x in cr(-b(y),b(y)):\n",
    "        x=y-abs(x)\n",
    "        p(g(x))\n",
    "    print()"
   ]
  },
  {
   "cell_type": "code",
   "execution_count": 7,
   "metadata": {},
   "outputs": [
    {
     "name": "stdout",
     "output_type": "stream",
     "text": [
      "        1 \n",
      "      1 3 1 \n",
      "    1 3 5 3 1 \n",
      "  1 3 5 7 5 3 1 \n",
      "1 3 5 7 9 7 5 3 1 \n",
      "  1 3 5 7 5 3 1 \n",
      "    1 3 5 3 1 \n",
      "      1 3 1 \n",
      "        1 \n"
     ]
    }
   ],
   "source": [
    "for y in cr(-4,4):\n",
    "    for s in cr(1,abs(y)):\n",
    "        p(\" \")\n",
    "    s=4-abs(y)\n",
    "    for x in cr(-s,s):\n",
    "        t=5-abs(y)\n",
    "        t=t-abs(x)\n",
    "        p(g(t))\n",
    "    print()"
   ]
  },
  {
   "cell_type": "code",
   "execution_count": 8,
   "metadata": {},
   "outputs": [
    {
     "name": "stdout",
     "output_type": "stream",
     "text": [
      "        1               1         \n",
      "      1 3 1           1 3 1       \n",
      "    1 3 5 3 1       1 3 5 3 1     \n",
      "  1 3 5 7 5 3 1   1 3 5 7 5 3 1   \n",
      "1 3 5 7 9 7 5 3 1 3 5 7 9 7 5 3 1 \n",
      "  1 3 5 7 5 3 1   1 3 5 7 5 3 1   \n",
      "    1 3 5 3 1       1 3 5 3 1     \n",
      "      1 3 1           1 3 1       \n",
      "        1               1         \n"
     ]
    }
   ],
   "source": [
    "for y in cr(-4,4):\n",
    "    for i in range(2):\n",
    "        for s in cr(1,abs(y)):\n",
    "            if s==1 and i>0:continue\n",
    "            p(\" \")\n",
    "        b=4-abs(y)\n",
    "        for x in cr(-b,b):\n",
    "            if x==-4 and i>0:continue\n",
    "            t=b+1-abs(x)\n",
    "            p(g(t))\n",
    "        for s in cr(1,abs(y)):\n",
    "            p(\" \")\n",
    "    print()\n",
    "            "
   ]
  },
  {
   "cell_type": "code",
   "execution_count": 9,
   "metadata": {},
   "outputs": [],
   "source": [
    "def fib(a):\n",
    "    if a<=2:\n",
    "        return 1\n",
    "    else:\n",
    "        return fib(a-1)+fib(a-2)"
   ]
  },
  {
   "cell_type": "code",
   "execution_count": 10,
   "metadata": {},
   "outputs": [
    {
     "name": "stdout",
     "output_type": "stream",
     "text": [
      "        5               5         \n",
      "      3   3           3   3       \n",
      "    2   2   2       2   2   2     \n",
      "  1   1   1   1   1   1   1   1   \n",
      "1   1   2   1   1   1   2   1   1 \n",
      "  1   1   1   1   1   1   1   1   \n",
      "    2   2   2       2   2   2     \n",
      "      3   3           3   3       \n",
      "        5               5         \n"
     ]
    }
   ],
   "source": [
    "for y in cr(-4,4):\n",
    "    for i in range(2):\n",
    "        for s in cr(1,abs(y)):\n",
    "            if s==1 and i>0:continue\n",
    "            p(\" \")\n",
    "        b=4-abs(y)\n",
    "        for x in cr(-b,b):\n",
    "            if x==-4 and i>0:continue\n",
    "            t=g\n",
    "            t=b+1-abs(x)\n",
    "            if t%2==0:\n",
    "                p(\" \")\n",
    "            else:\n",
    "                ay=abs(y)+1\n",
    "                r=t//2+1 if y==0 else ay\n",
    "                p(fib(r))\n",
    "        for s in cr(1,abs(y)):\n",
    "            p(\" \")\n",
    "    print()\n",
    "        "
   ]
  },
  {
   "cell_type": "code",
   "execution_count": 11,
   "metadata": {},
   "outputs": [],
   "source": [
    "def t(a):\n",
    "    return a*(a-1)//2\n",
    "def u(a):\n",
    "    return a*(a+1)//2"
   ]
  },
  {
   "cell_type": "code",
   "execution_count": 12,
   "metadata": {},
   "outputs": [
    {
     "name": "stdout",
     "output_type": "stream",
     "text": [
      "* \n",
      "  * * \n",
      "  * * \n",
      "      * * * \n",
      "      * * * \n",
      "      * * * \n",
      "            * * * * \n",
      "            * * * * \n",
      "            * * * * \n",
      "            * * * * \n"
     ]
    }
   ],
   "source": [
    "for y in cr(1,4):\n",
    "    for x in cr(1,y):\n",
    "        for s in cr(1,t(y)):\n",
    "            p(\" \")\n",
    "        for b in cr(1,y):\n",
    "            p(\"*\")\n",
    "        print()"
   ]
  },
  {
   "cell_type": "code",
   "execution_count": null,
   "metadata": {},
   "outputs": [],
   "source": []
  },
  {
   "cell_type": "code",
   "execution_count": null,
   "metadata": {},
   "outputs": [],
   "source": []
  },
  {
   "cell_type": "code",
   "execution_count": 13,
   "metadata": {},
   "outputs": [
    {
     "name": "stdout",
     "output_type": "stream",
     "text": [
      "* \n",
      "    * \n",
      "  * * * \n",
      "            * \n",
      "          * * * \n",
      "        * * * * * \n"
     ]
    }
   ],
   "source": [
    "for y in cr(1,3):\n",
    "    for x in cr(1,y):\n",
    "        for s in cr(1,(y-1)**2):\n",
    "            p(\" \")\n",
    "        for sb in cr(1,y-x):\n",
    "            p(\" \")\n",
    "        for b in cr(1,g(x)):\n",
    "            p(\"*\")\n",
    "        print()"
   ]
  },
  {
   "cell_type": "code",
   "execution_count": 14,
   "metadata": {},
   "outputs": [
    {
     "name": "stdout",
     "output_type": "stream",
     "text": [
      "                  * \n",
      "              * \n",
      "            * * * \n",
      "      * \n",
      "    * * * \n",
      "  * * * * * \n"
     ]
    }
   ],
   "source": [
    "for y in cr(1,3):\n",
    "    for x in cr(1,y):\n",
    "        for s in cr(1,10-y**2):\n",
    "            p(\" \")\n",
    "        for sb in cr(1,y-x):\n",
    "            p(\" \")\n",
    "        for b in cr(1,g(x)):\n",
    "            p(\"*\")\n",
    "        print()"
   ]
  },
  {
   "cell_type": "code",
   "execution_count": 15,
   "metadata": {},
   "outputs": [
    {
     "name": "stdout",
     "output_type": "stream",
     "text": [
      "  * \n",
      "    * * * \n",
      "      * \n",
      "          * * * * * \n",
      "            * * * \n",
      "              * \n"
     ]
    }
   ],
   "source": [
    "for y in cr(1,3):\n",
    "    for x in cr(1,y):\n",
    "        for s in cr(1,(y-1)**2):\n",
    "            p(\" \")\n",
    "        for sb in cr(1,x):\n",
    "            p(\" \")\n",
    "        for b in cr(1,g(y+1-x)):\n",
    "            p(\"*\")\n",
    "        print()"
   ]
  },
  {
   "cell_type": "code",
   "execution_count": 26,
   "metadata": {},
   "outputs": [
    {
     "name": "stdout",
     "output_type": "stream",
     "text": [
      "1 \n",
      "  1 2 \n",
      "  3 4 \n",
      "      1 2 3 \n",
      "      4 5 6 \n",
      "      7 8 9 \n",
      "            1 2 3 4 \n",
      "            5 6 7 8 \n",
      "            9 10 11 12 \n",
      "            13 14 15 16 \n"
     ]
    }
   ],
   "source": [
    "for y in cr(1,4):\n",
    "    a=0\n",
    "    for x in cr(1,y):\n",
    "        for s in cr(1,t(y)):\n",
    "            p(\" \")\n",
    "        for b in cr(1,y):\n",
    "            a+=1\n",
    "            p(a)\n",
    "        print()"
   ]
  },
  {
   "cell_type": "code",
   "execution_count": null,
   "metadata": {},
   "outputs": [],
   "source": []
  },
  {
   "cell_type": "code",
   "execution_count": null,
   "metadata": {},
   "outputs": [],
   "source": []
  },
  {
   "cell_type": "code",
   "execution_count": null,
   "metadata": {},
   "outputs": [],
   "source": []
  },
  {
   "cell_type": "code",
   "execution_count": 23,
   "metadata": {},
   "outputs": [
    {
     "name": "stdout",
     "output_type": "stream",
     "text": [
      "                                        1 \n",
      "                                    1 2 \n",
      "                                    3 4 \n",
      "                              1 2 3 \n",
      "                              4 5 6 \n",
      "                              7 8 9 \n",
      "                      1 2 3 4 \n",
      "                      5 6 7 8 \n",
      "                      9 10 11 12 \n",
      "                      13 14 15 16 \n",
      "            1 2 3 4 5 \n",
      "            6 7 8 9 10 \n",
      "            11 12 13 14 15 \n",
      "            16 17 18 19 20 \n",
      "            21 22 23 24 25 \n",
      "1 2 3 4 5 6 \n",
      "7 8 9 10 11 12 \n",
      "13 14 15 16 17 18 \n",
      "19 20 21 22 23 24 \n",
      "25 26 27 28 29 30 \n",
      "31 32 33 34 35 36 \n"
     ]
    }
   ],
   "source": [
    "def din(B):\n",
    "    \n",
    "    for y in cr(1,B):\n",
    "        a=0\n",
    "        for x in cr(1,y):\n",
    "            for s in cr(1,t(B+1)-t(y+1)):\n",
    "                p(\" \")\n",
    "            for b in cr(1,y):\n",
    "                a+=1\n",
    "                p(a)\n",
    "            print()\n",
    "din(6)"
   ]
  },
  {
   "cell_type": "code",
   "execution_count": null,
   "metadata": {},
   "outputs": [],
   "source": []
  },
  {
   "cell_type": "code",
   "execution_count": null,
   "metadata": {},
   "outputs": [],
   "source": []
  },
  {
   "cell_type": "code",
   "execution_count": null,
   "metadata": {},
   "outputs": [],
   "source": []
  },
  {
   "cell_type": "raw",
   "metadata": {},
   "source": []
  },
  {
   "cell_type": "code",
   "execution_count": null,
   "metadata": {},
   "outputs": [],
   "source": []
  },
  {
   "cell_type": "code",
   "execution_count": null,
   "metadata": {},
   "outputs": [],
   "source": []
  },
  {
   "cell_type": "code",
   "execution_count": 18,
   "metadata": {},
   "outputs": [
    {
     "name": "stdout",
     "output_type": "stream",
     "text": [
      "        * \n",
      "        * \n",
      "      * * * \n",
      "        * \n",
      "      * * * \n",
      "    * * * * * \n",
      "        * \n",
      "      * * * \n",
      "    * * * * * \n",
      "  * * * * * * * \n",
      "        * \n",
      "      * * * \n",
      "    * * * * * \n",
      "  * * * * * * * \n",
      "* * * * * * * * * \n"
     ]
    }
   ],
   "source": [
    "a=5\n",
    "for y in cr(1,a):\n",
    "    for x in cr(1,y):\n",
    "        for s in cr(1,a-y):\n",
    "            p(\" \")\n",
    "        for sb in cr(1,y-x):\n",
    "            p(\" \")\n",
    "        for b in cr(1,g(x)):\n",
    "            p(\"*\")\n",
    "        print()"
   ]
  },
  {
   "cell_type": "code",
   "execution_count": 19,
   "metadata": {},
   "outputs": [
    {
     "name": "stdout",
     "output_type": "stream",
     "text": [
      "      1 \n",
      "      1 \n",
      "    2 3 4 \n",
      "      1 \n",
      "    3 5 7 \n",
      "  9 11 13 15 17 \n",
      "      1 \n",
      "    1 2 3 \n",
      "  5 8 13 21 34 \n",
      "55 89 144 233 377 610 987 \n"
     ]
    }
   ],
   "source": [
    "for y in cr(1,4):\n",
    "    a=0\n",
    "    for x in cr(1,y):\n",
    "        for s in cr(1,4-y):\n",
    "            p(\" \")\n",
    "        for sb in cr(1,y-x):\n",
    "            p(\" \")\n",
    "        for b in cr(1,g(x)):\n",
    "            a+=1\n",
    "            if y==4:\n",
    "                p(fib(a))\n",
    "            elif y==3:\n",
    "                p(g(a))\n",
    "            else:\n",
    "                p(a)\n",
    "        print()"
   ]
  },
  {
   "cell_type": "code",
   "execution_count": null,
   "metadata": {},
   "outputs": [],
   "source": []
  }
 ],
 "metadata": {
  "kernelspec": {
   "display_name": "Python 3",
   "language": "python",
   "name": "python3"
  },
  "language_info": {
   "codemirror_mode": {
    "name": "ipython",
    "version": 3
   },
   "file_extension": ".py",
   "mimetype": "text/x-python",
   "name": "python",
   "nbconvert_exporter": "python",
   "pygments_lexer": "ipython3",
   "version": "3.6.5"
  }
 },
 "nbformat": 4,
 "nbformat_minor": 2
}

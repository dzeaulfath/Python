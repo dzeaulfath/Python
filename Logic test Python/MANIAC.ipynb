{
 "cells": [
  {
   "cell_type": "code",
   "execution_count": 45,
   "metadata": {},
   "outputs": [],
   "source": [
    "def printnln(a):\n",
    "    return print(a, end=\"\")\n",
    "def crange(a,b):\n",
    "    return range(a, b+1)\n",
    "def ganjil(a):\n",
    "    return a*2-1\n",
    "def pbound(a):\n",
    "    return a-1\n",
    "\n",
    "def fib(a):\n",
    "    if a<=2:\n",
    "        return 1\n",
    "    else:\n",
    "        return fib(a-1)+fib(a-2)"
   ]
  },
  {
   "cell_type": "markdown",
   "metadata": {},
   "source": [
    "# LOGIC 1"
   ]
  },
  {
   "cell_type": "code",
   "execution_count": 2,
   "metadata": {},
   "outputs": [
    {
     "name": "stdout",
     "output_type": "stream",
     "text": [
      "*________\n",
      "_*_______\n",
      "__*______\n",
      "___*_____\n",
      "____*____\n",
      "_____*___\n",
      "______*__\n",
      "_______*_\n",
      "________*\n"
     ]
    }
   ],
   "source": [
    "for y in crange(1,9):\n",
    "    for x in crange(1,9):\n",
    "        if x==y:\n",
    "            printnln(\"*\")\n",
    "        else:\n",
    "            printnln(\"_\")\n",
    "    print()"
   ]
  },
  {
   "cell_type": "code",
   "execution_count": 3,
   "metadata": {},
   "outputs": [
    {
     "name": "stdout",
     "output_type": "stream",
     "text": [
      "________*\n",
      "_______*_\n",
      "______*__\n",
      "_____*___\n",
      "____*____\n",
      "___*_____\n",
      "__*______\n",
      "_*_______\n",
      "*________\n"
     ]
    }
   ],
   "source": [
    "for y in crange(1,9):\n",
    "    for x in crange(1,9):\n",
    "        if x==9-(y-1):\n",
    "            printnln(\"*\")\n",
    "        else:\n",
    "            printnln(\"_\")\n",
    "    print()"
   ]
  },
  {
   "cell_type": "code",
   "execution_count": 5,
   "metadata": {},
   "outputs": [
    {
     "name": "stdout",
     "output_type": "stream",
     "text": [
      "*_______*\n",
      "_*_____*_\n",
      "__*___*__\n",
      "___*_*___\n",
      "____*____\n",
      "___*_*___\n",
      "__*___*__\n",
      "_*_____*_\n",
      "*_______*\n"
     ]
    }
   ],
   "source": [
    "for y in crange(1,9):\n",
    "    for x in crange(1,9):\n",
    "        if x==y or x==9-(y-1):\n",
    "            printnln(\"*\")\n",
    "        else:\n",
    "            printnln(\"_\")\n",
    "    print()"
   ]
  },
  {
   "cell_type": "code",
   "execution_count": 6,
   "metadata": {},
   "outputs": [
    {
     "name": "stdout",
     "output_type": "stream",
     "text": [
      "*___*___*\n",
      "_*__*__*_\n",
      "__*_*_*__\n",
      "___***___\n",
      "*********\n",
      "___***___\n",
      "__*_*_*__\n",
      "_*__*__*_\n",
      "*___*___*\n"
     ]
    }
   ],
   "source": [
    "for y in crange(1,9):\n",
    "    for x in crange(1,9):\n",
    "        if x==y or x==9-(y-1) or x==5 or y==5:\n",
    "            printnln(\"*\")\n",
    "        else:\n",
    "            printnln(\"_\")\n",
    "    print()"
   ]
  },
  {
   "cell_type": "code",
   "execution_count": 7,
   "metadata": {},
   "outputs": [
    {
     "name": "stdout",
     "output_type": "stream",
     "text": [
      "*________\n",
      "**_______\n",
      "***______\n",
      "****_____\n",
      "*****____\n",
      "******___\n",
      "*******__\n",
      "********_\n",
      "*********\n"
     ]
    }
   ],
   "source": [
    "for y in crange(1,9):\n",
    "    for x in crange(1,9):\n",
    "        if x<=y:\n",
    "            printnln(\"*\")\n",
    "        else:\n",
    "            printnln(\"_\")\n",
    "    print()"
   ]
  },
  {
   "cell_type": "code",
   "execution_count": 9,
   "metadata": {},
   "outputs": [
    {
     "name": "stdout",
     "output_type": "stream",
     "text": [
      "________*\n",
      "_______**\n",
      "______***\n",
      "_____****\n",
      "____*****\n",
      "___******\n",
      "__*******\n",
      "_********\n",
      "*********\n"
     ]
    }
   ],
   "source": [
    "for y in crange(1,9):\n",
    "    for x in crange(1,9):\n",
    "        if x>=9-(y-1):\n",
    "            printnln(\"*\")\n",
    "        else:\n",
    "            printnln(\"_\")\n",
    "    print()"
   ]
  },
  {
   "cell_type": "code",
   "execution_count": 11,
   "metadata": {},
   "outputs": [
    {
     "name": "stdout",
     "output_type": "stream",
     "text": [
      "*********\n",
      "_*******_\n",
      "__*****__\n",
      "___***___\n",
      "____*____\n",
      "___***___\n",
      "__*****__\n",
      "_*******_\n",
      "*********\n"
     ]
    }
   ],
   "source": [
    "for y in crange(1,9):\n",
    "    for x in crange(1,9):\n",
    "        if x>=y and x<=9-(y-1) or x<=y and x>=9-(y-1):\n",
    "            printnln(\"*\")\n",
    "        else:\n",
    "            printnln(\"_\")\n",
    "    print()"
   ]
  },
  {
   "cell_type": "code",
   "execution_count": 12,
   "metadata": {},
   "outputs": [
    {
     "name": "stdout",
     "output_type": "stream",
     "text": [
      "*_______*\n",
      "**_____**\n",
      "***___***\n",
      "****_****\n",
      "*********\n",
      "****_****\n",
      "***___***\n",
      "**_____**\n",
      "*_______*\n"
     ]
    }
   ],
   "source": [
    "for y in crange(1,9):\n",
    "    for x in crange(1,9):\n",
    "        if x<=y and x<=9-(y-1) or x>=y and x>=9-(y-1):\n",
    "            printnln(\"*\")\n",
    "        else:\n",
    "            printnln(\"_\")\n",
    "    print() "
   ]
  },
  {
   "cell_type": "markdown",
   "metadata": {},
   "source": [
    "# LOGIC 2"
   ]
  },
  {
   "cell_type": "code",
   "execution_count": 13,
   "metadata": {},
   "outputs": [
    {
     "name": "stdout",
     "output_type": "stream",
     "text": [
      "1________\n",
      "_3_______\n",
      "__5______\n",
      "___7_____\n",
      "____9____\n",
      "_____11___\n",
      "______13__\n",
      "_______15_\n",
      "________17\n"
     ]
    }
   ],
   "source": [
    "for y in crange(1,9):\n",
    "    for x in crange(1,9):\n",
    "        if x==y:\n",
    "            n=x*2-1\n",
    "            printnln(n)\n",
    "        else:\n",
    "            printnln(\"_\")\n",
    "    print()"
   ]
  },
  {
   "cell_type": "code",
   "execution_count": 14,
   "metadata": {},
   "outputs": [
    {
     "name": "stdout",
     "output_type": "stream",
     "text": [
      "________16\n",
      "_______14_\n",
      "______12__\n",
      "_____10___\n",
      "____8____\n",
      "___6_____\n",
      "__4______\n",
      "_2_______\n",
      "0________\n"
     ]
    }
   ],
   "source": [
    "for y in crange(1,9):\n",
    "    for x in crange(1,9):\n",
    "        if x==9-(y-1):\n",
    "            n=x*2-2\n",
    "            printnln(n)\n",
    "        else:\n",
    "            printnln(\"_\")\n",
    "    print()"
   ]
  },
  {
   "cell_type": "code",
   "execution_count": 15,
   "metadata": {},
   "outputs": [
    {
     "name": "stdout",
     "output_type": "stream",
     "text": [
      "1_______16\n",
      "_3_____14_\n",
      "__5___12__\n",
      "___7_10___\n",
      "____9____\n",
      "___6_11___\n",
      "__4___13__\n",
      "_2_____15_\n",
      "0_______17\n"
     ]
    }
   ],
   "source": [
    "for y in crange(1,9):\n",
    "    for x in crange(1,9):\n",
    "        if x==y:\n",
    "            n=x*2-1\n",
    "            printnln(n)\n",
    "        elif x==9-(y-1):\n",
    "            m=x*2-2\n",
    "            printnln(m)\n",
    "        else:\n",
    "            printnln(\"_\")\n",
    "    print()"
   ]
  },
  {
   "cell_type": "code",
   "execution_count": 16,
   "metadata": {},
   "outputs": [
    {
     "name": "stdout",
     "output_type": "stream",
     "text": [
      "1___1___17\n",
      "_3__3__15_\n",
      "__5_5_13__\n",
      "___7711___\n",
      "1357911131517\n",
      "___71111___\n",
      "__5_13_13__\n",
      "_3__15__15_\n",
      "1___17___17\n"
     ]
    }
   ],
   "source": [
    "for y in crange(1,9):\n",
    "    for x in crange(1,9):\n",
    "        if x==y or x==5:\n",
    "            n=y*2-1\n",
    "            printnln(n)\n",
    "        elif x==9-(y-1) or y==5:\n",
    "            n=x*2-1\n",
    "            printnln(n)\n",
    "        else:\n",
    "            printnln(\"_\")\n",
    "    print()"
   ]
  },
  {
   "cell_type": "code",
   "execution_count": 17,
   "metadata": {},
   "outputs": [
    {
     "name": "stdout",
     "output_type": "stream",
     "text": [
      "1________\n",
      "13_______\n",
      "135______\n",
      "1357_____\n",
      "13579____\n",
      "1357911___\n",
      "135791113__\n",
      "13579111315_\n",
      "1357911131517\n"
     ]
    }
   ],
   "source": [
    "for y in crange(1,9):\n",
    "    for x in crange(1,9):\n",
    "        if x<=y:\n",
    "            n=x*2-1\n",
    "            printnln(n)\n",
    "        else:\n",
    "            printnln(\"_\")\n",
    "    print()"
   ]
  },
  {
   "cell_type": "code",
   "execution_count": 18,
   "metadata": {},
   "outputs": [
    {
     "name": "stdout",
     "output_type": "stream",
     "text": [
      "________16\n",
      "_______1414\n",
      "______121212\n",
      "_____10101010\n",
      "____88888\n",
      "___666666\n",
      "__4444444\n",
      "_22222222\n",
      "000000000\n"
     ]
    }
   ],
   "source": [
    "for y in crange(1,9):\n",
    "    for x in crange(1,9):\n",
    "        if x>=9-(y-1):\n",
    "            m=9-(y-1)\n",
    "            n=m*2-2\n",
    "            printnln(n)\n",
    "        else:\n",
    "            printnln(\"_\")\n",
    "    print()"
   ]
  },
  {
   "cell_type": "code",
   "execution_count": 19,
   "metadata": {},
   "outputs": [
    {
     "name": "stdout",
     "output_type": "stream",
     "text": [
      "1AAAAAAA16\n",
      "_3AAAAA14_\n",
      "__5AAA12__\n",
      "___7A10___\n",
      "____9____\n",
      "___6B11___\n",
      "__4BBB13__\n",
      "_2BBBBB15_\n",
      "0BBBBBBB17\n"
     ]
    }
   ],
   "source": [
    "for y in crange(1,9):\n",
    "    for x in crange(1,9):\n",
    "        if x==y :\n",
    "            b=x*2-1\n",
    "            printnln(b)\n",
    "        elif x==9-(y-1):\n",
    "            n=x*2-2\n",
    "            printnln(n)\n",
    "        elif x>y and x<9-(y-1):\n",
    "            printnln(\"A\")\n",
    "        elif x<y and x>9-(y-1):\n",
    "            printnln(\"B\")\n",
    "        else:\n",
    "            printnln(\"_\")\n",
    "    print()"
   ]
  },
  {
   "cell_type": "code",
   "execution_count": 21,
   "metadata": {},
   "outputs": [
    {
     "name": "stdout",
     "output_type": "stream",
     "text": [
      "1_______16\n",
      "A3_____14B\n",
      "AA5___12BB\n",
      "AAA7_10BBB\n",
      "AAAA9BBBB\n",
      "AAA6_11BBB\n",
      "AA4___13BB\n",
      "A2_____15B\n",
      "0_______17\n"
     ]
    }
   ],
   "source": [
    "for y in crange(1,9):\n",
    "    for x in crange(1,9):\n",
    "        if x==y:\n",
    "            n=x*2-1\n",
    "            printnln(n)\n",
    "        elif x==9-(y-1):\n",
    "            m=x*2-2\n",
    "            printnln(m)\n",
    "        elif x<y and x<9-(y-1):\n",
    "            printnln(\"A\")\n",
    "        elif x>y and x>9-(y-1):\n",
    "            printnln(\"B\")\n",
    "        else:\n",
    "            printnln(\"_\")\n",
    "    print()"
   ]
  },
  {
   "cell_type": "markdown",
   "metadata": {},
   "source": [
    "# LOGIC 3"
   ]
  },
  {
   "cell_type": "code",
   "execution_count": 23,
   "metadata": {},
   "outputs": [
    {
     "name": "stdout",
     "output_type": "stream",
     "text": [
      "1\n",
      "1\n",
      "2\n",
      "3\n",
      "5\n",
      "8\n",
      "13\n",
      "21\n",
      "34\n"
     ]
    }
   ],
   "source": [
    "def fib(a):\n",
    "    if a<=2:\n",
    "        return 1\n",
    "    else:\n",
    "        return fib(a-1)+fib(a-2)\n",
    "for x in crange(1,9):\n",
    "    print(fib(x))"
   ]
  },
  {
   "cell_type": "code",
   "execution_count": 24,
   "metadata": {},
   "outputs": [
    {
     "name": "stdout",
     "output_type": "stream",
     "text": [
      "1\n",
      "1\n",
      "1\n",
      "3\n",
      "5\n",
      "9\n",
      "17\n",
      "31\n",
      "57\n"
     ]
    }
   ],
   "source": [
    "def fib (a):\n",
    "    if a<=3:\n",
    "        return 1\n",
    "    else:\n",
    "        return fib(a-1)+fib(a-2)+fib(a-3)\n",
    "    \n",
    "for x in crange(1,9):\n",
    "    print(fib(x))"
   ]
  },
  {
   "cell_type": "code",
   "execution_count": 26,
   "metadata": {},
   "outputs": [
    {
     "name": "stdout",
     "output_type": "stream",
     "text": [
      "4\n",
      "60\n"
     ]
    }
   ],
   "source": [
    "def fpb(a,b):\n",
    "    if b==0:\n",
    "        return a\n",
    "    else:\n",
    "        return fpb(b, a%b)\n",
    "print(fpb(12,20))\n",
    "\n",
    "def kpk(a,b):\n",
    "    return a*b// fpb(a,b)\n",
    "\n",
    "print(kpk(12,20))"
   ]
  },
  {
   "cell_type": "code",
   "execution_count": 27,
   "metadata": {},
   "outputs": [
    {
     "name": "stdout",
     "output_type": "stream",
     "text": [
      "1AAAAAAA16\n",
      "D3AAAAA14B\n",
      "DD5AAA12BB\n",
      "DDD7A10BBB\n",
      "DDDD9BBBB\n",
      "DDD6C11BBB\n",
      "DD4CCC13BB\n",
      "D2CCCCC15B\n",
      "0CCCCCCC17\n"
     ]
    }
   ],
   "source": [
    "for y in crange(1,9):\n",
    "    for x in crange(1,9):\n",
    "        if x==y:\n",
    "            n=x*2-1\n",
    "            printnln(n)\n",
    "        elif x==9-(y-1):\n",
    "            m=x*2-2\n",
    "            printnln(m)\n",
    "        elif x>y and x<9-(y-1):\n",
    "            printnln(\"A\")\n",
    "        elif x>y and x>9-(y-1):\n",
    "            printnln(\"B\")\n",
    "        elif x<y and x>9-(y-1):\n",
    "            printnln(\"C\")\n",
    "        elif x<y and x<9-(y-1):\n",
    "            printnln(\"D\")\n",
    "        else:\n",
    "            printnln(\"_\")\n",
    "    print()"
   ]
  },
  {
   "cell_type": "code",
   "execution_count": 29,
   "metadata": {},
   "outputs": [
    {
     "name": "stdout",
     "output_type": "stream",
     "text": [
      "111111111\n",
      "111111111\n",
      "111111111\n",
      "111333111\n",
      "111353111\n",
      "111333111\n",
      "111111111\n",
      "111111111\n",
      "111111111\n"
     ]
    }
   ],
   "source": [
    "for y in crange(-4,4):\n",
    "    for x in crange(-4,4):\n",
    "        n=abs(x) if abs(x)>abs(y) else abs(y)\n",
    "        m= 4- n+1\n",
    "        printnln(fib(m))\n",
    "    print()"
   ]
  },
  {
   "cell_type": "code",
   "execution_count": 32,
   "metadata": {},
   "outputs": [
    {
     "name": "stdout",
     "output_type": "stream",
     "text": [
      "111111111\n",
      "1_______1\n",
      "1_33333_1\n",
      "1_3___3_1\n",
      "1_3_5_3_1\n",
      "1_3___3_1\n",
      "1_33333_1\n",
      "1_______1\n",
      "111111111\n"
     ]
    }
   ],
   "source": [
    "for y in crange(-4,4):\n",
    "    for x in crange(-4,4):\n",
    "        m= abs(x) if abs(x)> abs(y) else abs(y)\n",
    "        n=4-m+1\n",
    "        if n%2==0:\n",
    "            printnln(\"_\")\n",
    "        else:\n",
    "            printnln(n)\n",
    "    print()"
   ]
  },
  {
   "cell_type": "code",
   "execution_count": 46,
   "metadata": {},
   "outputs": [
    {
     "name": "stdout",
     "output_type": "stream",
     "text": [
      "111111111\n",
      "1_______1\n",
      "1_11111_1\n",
      "1_1___1_1\n",
      "1_1_2_1_1\n",
      "1_1___1_1\n",
      "1_11111_1\n",
      "1_______1\n",
      "111111111\n"
     ]
    }
   ],
   "source": [
    "for y in crange(-4,4):\n",
    "    for x in crange(-4,4):\n",
    "        n= abs (x) if abs(x)> abs(y) else abs(y)\n",
    "        n= 4 - n+1\n",
    "        if n%2==0:\n",
    "            printnln(\"_\")\n",
    "        else:\n",
    "            r= n//2 +1\n",
    "            printnln (fib(r))\n",
    "    print()"
   ]
  },
  {
   "cell_type": "code",
   "execution_count": 47,
   "metadata": {},
   "outputs": [
    {
     "name": "stdout",
     "output_type": "stream",
     "text": [
      "111111111\n",
      "1AAAAAAA1\n",
      "1A11111A1\n",
      "1A1BBB1A1\n",
      "1A1B2B1A1\n",
      "1A1BBB1A1\n",
      "1A11111A1\n",
      "1AAAAAAA1\n",
      "111111111\n"
     ]
    }
   ],
   "source": [
    "alph=\"ABC\"\n",
    "for y in crange(-4,4):\n",
    "    for x in crange(-4,4):\n",
    "        m= abs(x) if abs(x)>abs(y) else abs(y)\n",
    "        n=4-m+1\n",
    "        if n%2==0:\n",
    "            c=n//2-1\n",
    "            printnln(alph[c])\n",
    "        else:\n",
    "            b=n//2+1\n",
    "            printnln(fib(b))\n",
    "    print()"
   ]
  },
  {
   "cell_type": "markdown",
   "metadata": {},
   "source": [
    "# LOGIC 4"
   ]
  },
  {
   "cell_type": "code",
   "execution_count": 48,
   "metadata": {},
   "outputs": [
    {
     "name": "stdout",
     "output_type": "stream",
     "text": [
      "    1\n",
      "   123\n",
      "  12345\n",
      " 1234567\n",
      "123456789\n"
     ]
    }
   ],
   "source": [
    "for y in crange(1,5):\n",
    "    for w in crange(1, 5-y):\n",
    "        printnln(\" \")\n",
    "    for x in crange(1, ganjil(y)):\n",
    "        printnln(x)\n",
    "    print()"
   ]
  },
  {
   "cell_type": "code",
   "execution_count": 50,
   "metadata": {},
   "outputs": [
    {
     "name": "stdout",
     "output_type": "stream",
     "text": [
      "123456789\n",
      " 1234567\n",
      "  12345\n",
      "   123\n",
      "    1\n"
     ]
    }
   ],
   "source": [
    "for y in crange(1,5):\n",
    "    for w in crange(1, y-1):\n",
    "        printnln(\" \")\n",
    "    n= 5-(y-1)\n",
    "    for x in crange(1, ganjil(n)):\n",
    "        printnln(x)\n",
    "    print()"
   ]
  },
  {
   "cell_type": "code",
   "execution_count": 51,
   "metadata": {},
   "outputs": [
    {
     "name": "stdout",
     "output_type": "stream",
     "text": [
      "    1\n",
      "   123\n",
      "  12345\n",
      " 1234567\n",
      "123456789\n",
      " 1234567\n",
      "  12345\n",
      "   123\n",
      "    1\n"
     ]
    }
   ],
   "source": [
    "for y in crange(-4,4):\n",
    "    for w in crange(1, abs(y)):\n",
    "        printnln(\" \")\n",
    "    for x in crange(1, ganjil(5-abs(y))):\n",
    "        printnln(x)\n",
    "    print()\n",
    "        "
   ]
  },
  {
   "cell_type": "code",
   "execution_count": 52,
   "metadata": {},
   "outputs": [
    {
     "name": "stdout",
     "output_type": "stream",
     "text": [
      "    1\n",
      "   131\n",
      "  13531\n",
      " 1357531\n",
      "135797531\n"
     ]
    }
   ],
   "source": [
    "for y in crange(1,5):\n",
    "    for w in crange(1, 5-y):\n",
    "        printnln(\" \")\n",
    "    b=pbound(y)\n",
    "    for x in crange(-b,b):\n",
    "        n=y-abs(x)\n",
    "        printnln(ganjil(n))\n",
    "    print()"
   ]
  },
  {
   "cell_type": "code",
   "execution_count": 56,
   "metadata": {},
   "outputs": [
    {
     "name": "stdout",
     "output_type": "stream",
     "text": [
      "135797531\n",
      " 1357531\n",
      "  13531\n",
      "   131\n",
      "    1\n"
     ]
    }
   ],
   "source": [
    "for y in crange(1,5):\n",
    "    for w in crange(1,y-1):\n",
    "        printnln(\" \")\n",
    "    m= 5-(y-1)\n",
    "    b= pbound(m)\n",
    "    for x in crange(-b,b):\n",
    "        n=m-abs(x)\n",
    "        printnln(ganjil(n))\n",
    "    print()"
   ]
  },
  {
   "cell_type": "code",
   "execution_count": 57,
   "metadata": {},
   "outputs": [
    {
     "name": "stdout",
     "output_type": "stream",
     "text": [
      "    1\n",
      "   131\n",
      "  13531\n",
      " 1357531\n",
      "135797531\n",
      " 1357531\n",
      "  13531\n",
      "   131\n",
      "    1\n"
     ]
    }
   ],
   "source": [
    "for y in crange(-4, 4):\n",
    "    for w in crange(1, abs(y)):\n",
    "        printnln(\" \")\n",
    "    m=5- abs(y)\n",
    "    b=pbound(m)\n",
    "    for x in crange(-b,b):\n",
    "        n=m-abs(x)\n",
    "        printnln(ganjil(n))\n",
    "    print()"
   ]
  },
  {
   "cell_type": "code",
   "execution_count": 58,
   "metadata": {},
   "outputs": [
    {
     "name": "stdout",
     "output_type": "stream",
     "text": [
      "    1       1    \n",
      "   131     131   \n",
      "  13531   13531  \n",
      " 1357531 1357531 \n",
      "13579753135797531\n",
      " 1357531 1357531 \n",
      "  13531   13531  \n",
      "   131     131   \n",
      "    1       1    \n"
     ]
    }
   ],
   "source": [
    "for y in crange(-4, 4):\n",
    "    \n",
    "    for i in range(2):\n",
    "        for w in crange(1, abs(y)):\n",
    "            if w==1 and i==1:continue\n",
    "            printnln(\" \")\n",
    "        m=5- abs(y)\n",
    "        b=pbound(m)\n",
    "        for x in crange(-b,b):\n",
    "            if x==-4 and i==1:continue\n",
    "            n=m-abs(x)\n",
    "            printnln(ganjil(n))\n",
    "            \n",
    "        for w in crange(1, abs(y)):\n",
    "            printnln(\" \")\n",
    "    print()"
   ]
  },
  {
   "cell_type": "code",
   "execution_count": null,
   "metadata": {},
   "outputs": [],
   "source": []
  }
 ],
 "metadata": {
  "kernelspec": {
   "display_name": "Python 3",
   "language": "python",
   "name": "python3"
  },
  "language_info": {
   "codemirror_mode": {
    "name": "ipython",
    "version": 3
   },
   "file_extension": ".py",
   "mimetype": "text/x-python",
   "name": "python",
   "nbconvert_exporter": "python",
   "pygments_lexer": "ipython3",
   "version": "3.8.5"
  }
 },
 "nbformat": 4,
 "nbformat_minor": 2
}

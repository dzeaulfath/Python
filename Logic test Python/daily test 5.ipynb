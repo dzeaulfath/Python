{
 "cells": [
  {
   "cell_type": "code",
   "execution_count": 4,
   "metadata": {},
   "outputs": [],
   "source": [
    "def printnln(a):\n",
    "    return print(a, end=\"\")\n",
    "def crange(a,b):\n",
    "    return range(a,b+1)"
   ]
  },
  {
   "cell_type": "code",
   "execution_count": 7,
   "metadata": {},
   "outputs": [
    {
     "name": "stdout",
     "output_type": "stream",
     "text": [
      "1_______16\n",
      "_3_____14_\n",
      "__5___12__\n",
      "___7_10___\n",
      "____9____\n",
      "___6_11___\n",
      "__4___13__\n",
      "_2_____15_\n",
      "0_______17\n"
     ]
    }
   ],
   "source": [
    "for y in crange(1,9):\n",
    "    for  x in crange(1,9):\n",
    "        if x==y:\n",
    "            c=x*2-1\n",
    "            printnln(c)\n",
    "        elif x==9-(y-1):\n",
    "            b=x*2-2\n",
    "            printnln(b)\n",
    "        else:\n",
    "            printnln(\"_\")\n",
    "    print()"
   ]
  },
  {
   "cell_type": "code",
   "execution_count": 9,
   "metadata": {},
   "outputs": [
    {
     "name": "stdout",
     "output_type": "stream",
     "text": [
      "1___1___16\n",
      "_3__3__14_\n",
      "__5_5_12__\n",
      "___7710___\n",
      "0246910121416\n",
      "___61111___\n",
      "__4_13_13__\n",
      "_2__15__15_\n",
      "0___17___17\n"
     ]
    }
   ],
   "source": [
    "for y in crange(1,9):\n",
    "    for  x in crange(1,9):\n",
    "        if x==y or x==5:\n",
    "            c=y*2-1\n",
    "            printnln(c)\n",
    "        elif x==9-(y-1) or y==5:\n",
    "            b=x*2-2\n",
    "            printnln(b)\n",
    "        else:\n",
    "            printnln(\"_\")\n",
    "    print()"
   ]
  },
  {
   "cell_type": "code",
   "execution_count": null,
   "metadata": {},
   "outputs": [],
   "source": []
  }
 ],
 "metadata": {
  "kernelspec": {
   "display_name": "Python 3",
   "language": "python",
   "name": "python3"
  },
  "language_info": {
   "codemirror_mode": {
    "name": "ipython",
    "version": 3
   },
   "file_extension": ".py",
   "mimetype": "text/x-python",
   "name": "python",
   "nbconvert_exporter": "python",
   "pygments_lexer": "ipython3",
   "version": "3.6.5"
  }
 },
 "nbformat": 4,
 "nbformat_minor": 2
}

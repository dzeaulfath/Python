{
 "cells": [
  {
   "cell_type": "code",
   "execution_count": 1,
   "metadata": {},
   "outputs": [],
   "source": [
    "def crange(a,b):\n",
    "    return range(a,b+1)\n",
    "def printnln(a):\n",
    "    return print(a, end=\"\")"
   ]
  },
  {
   "cell_type": "code",
   "execution_count": 2,
   "metadata": {},
   "outputs": [
    {
     "name": "stdout",
     "output_type": "stream",
     "text": [
      "1AAAAAAA16\n",
      "_3AAAAA14_\n",
      "__5AAA12__\n",
      "___7A10___\n",
      "____9____\n",
      "___6B11___\n",
      "__4BBB13__\n",
      "_2BBBBB15_\n",
      "0BBBBBBB17\n"
     ]
    }
   ],
   "source": [
    "for y in crange(1,9):\n",
    "    for x in crange(1,9):\n",
    "        if x==y:\n",
    "            c=x*2-1\n",
    "            printnln(c)\n",
    "        elif x==9-(y-1):\n",
    "            b=x*2-2\n",
    "            printnln(b)\n",
    "        elif x>y and x<9-(y-1):\n",
    "            printnln(\"A\")\n",
    "        elif x<y and x>9-(y-1):\n",
    "            printnln(\"B\")\n",
    "        else:\n",
    "            printnln(\"_\")\n",
    "    print()"
   ]
  },
  {
   "cell_type": "code",
   "execution_count": 3,
   "metadata": {},
   "outputs": [
    {
     "name": "stdout",
     "output_type": "stream",
     "text": [
      "1_______16\n",
      "A3_____14B\n",
      "AA5___12BB\n",
      "AAA7_10BBB\n",
      "AAAA9BBBB\n",
      "AAA6_11BBB\n",
      "AA4___13BB\n",
      "A2_____15B\n",
      "0_______17\n"
     ]
    }
   ],
   "source": [
    "for y in crange(1,9):\n",
    "    for x in crange(1,9):\n",
    "        if x==y:\n",
    "            v=x*2-1\n",
    "            printnln(v)\n",
    "        elif x==9-(y-1):\n",
    "            c=x*2-2\n",
    "            printnln(c)\n",
    "        elif x<y and x<9-(y-1):\n",
    "            printnln(\"A\")\n",
    "        elif x>y and x>9-(y-1):\n",
    "            printnln(\"B\")\n",
    "        else:\n",
    "            printnln(\"_\")\n",
    "    print()"
   ]
  },
  {
   "cell_type": "code",
   "execution_count": null,
   "metadata": {},
   "outputs": [],
   "source": []
  }
 ],
 "metadata": {
  "kernelspec": {
   "display_name": "Python 3",
   "language": "python",
   "name": "python3"
  },
  "language_info": {
   "codemirror_mode": {
    "name": "ipython",
    "version": 3
   },
   "file_extension": ".py",
   "mimetype": "text/x-python",
   "name": "python",
   "nbconvert_exporter": "python",
   "pygments_lexer": "ipython3",
   "version": "3.6.5"
  }
 },
 "nbformat": 4,
 "nbformat_minor": 2
}

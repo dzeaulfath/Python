{
 "cells": [
  {
   "cell_type": "code",
   "execution_count": 1,
   "metadata": {},
   "outputs": [],
   "source": [
    "def crange(a,b):\n",
    "    return range(a,b+1)\n",
    "def printnln(a):\n",
    "    return print(a,end=\" \")\n",
    "def ganjil(a):\n",
    "    return a*2-1\n",
    "def pbound(a):\n",
    "    return a-1\n",
    "def m(a):\n",
    "    return a*(a-1)//2\n",
    "def fib(a):\n",
    "    if a<=2:\n",
    "        return 1\n",
    "    else:\n",
    "        return fib(a-1)+fib(a-2)"
   ]
  },
  {
   "cell_type": "code",
   "execution_count": 2,
   "metadata": {},
   "outputs": [
    {
     "name": "stdout",
     "output_type": "stream",
     "text": [
      "1 1 1 1 1 1 1 1 1 1 1 \n",
      "1 1 1 1 1 1 1 1 1 1 1 \n",
      "1 1 2 2 2 2 2 2 2 1 1 \n",
      "1 1 2 3 3 3 3 3 2 1 1 \n",
      "1 1 2 3 5 5 5 3 2 1 1 \n",
      "1 1 2 3 5 8 5 3 2 1 1 \n",
      "1 1 2 3 5 5 5 3 2 1 1 \n",
      "1 1 2 3 3 3 3 3 2 1 1 \n",
      "1 1 2 2 2 2 2 2 2 1 1 \n",
      "1 1 1 1 1 1 1 1 1 1 1 \n",
      "1 1 1 1 1 1 1 1 1 1 1 \n"
     ]
    }
   ],
   "source": [
    "def din(a):\n",
    "    for y in crange(-a,a):\n",
    "        for x in crange(-a,a):\n",
    "            s= abs(x) if abs(x)>abs(y) else abs(y)\n",
    "            d= a- s+1\n",
    "            printnln(fib(d))\n",
    "        print()\n",
    "din(5)"
   ]
  },
  {
   "cell_type": "code",
   "execution_count": 3,
   "metadata": {},
   "outputs": [
    {
     "name": "stdout",
     "output_type": "stream",
     "text": [
      "1 1 1 1 1 1 1 1 1 1 1 1 1 \n",
      "1                       1 \n",
      "1   3 3 3 3 3 3 3 3 3   1 \n",
      "1   3               3   1 \n",
      "1   3   5 5 5 5 5   3   1 \n",
      "1   3   5       5   3   1 \n",
      "1   3   5   7   5   3   1 \n",
      "1   3   5       5   3   1 \n",
      "1   3   5 5 5 5 5   3   1 \n",
      "1   3               3   1 \n",
      "1   3 3 3 3 3 3 3 3 3   1 \n",
      "1                       1 \n",
      "1 1 1 1 1 1 1 1 1 1 1 1 1 \n"
     ]
    }
   ],
   "source": [
    "def din(a):\n",
    "    for y in crange(-a,a):\n",
    "        for x in crange(-a,a):\n",
    "            s=abs(x) if abs(x)>abs(y) else abs(y)\n",
    "            d=a-s+1\n",
    "            if d%2==0:\n",
    "                printnln(\" \")\n",
    "            else:\n",
    "                printnln(d)\n",
    "        print()\n",
    "din(6)"
   ]
  },
  {
   "cell_type": "code",
   "execution_count": 4,
   "metadata": {},
   "outputs": [
    {
     "name": "stdout",
     "output_type": "stream",
     "text": [
      "1 1 1 1 1 1 1 1 1 1 1 1 1 \n",
      "1                       1 \n",
      "1   1 1 1 1 1 1 1 1 1   1 \n",
      "1   1               1   1 \n",
      "1   1   2 2 2 2 2   1   1 \n",
      "1   1   2       2   1   1 \n",
      "1   1   2   3   2   1   1 \n",
      "1   1   2       2   1   1 \n",
      "1   1   2 2 2 2 2   1   1 \n",
      "1   1               1   1 \n",
      "1   1 1 1 1 1 1 1 1 1   1 \n",
      "1                       1 \n",
      "1 1 1 1 1 1 1 1 1 1 1 1 1 \n"
     ]
    }
   ],
   "source": [
    "def din(a):\n",
    "    for y in crange(-a,a):\n",
    "        for x in crange(-a,a):\n",
    "            s=abs(x)if abs(x)>abs(y) else abs(y)\n",
    "            d=a-s+1\n",
    "            if d%2==0:\n",
    "                printnln(\" \")\n",
    "            else:\n",
    "                f=d//2+1\n",
    "                printnln(fib(f))\n",
    "        print()\n",
    "din(6)"
   ]
  },
  {
   "cell_type": "code",
   "execution_count": 9,
   "metadata": {},
   "outputs": [
    {
     "name": "stdout",
     "output_type": "stream",
     "text": [
      "1 1 1 1 1 1 1 1 1 1 1 1 1 1 1 1 1 1 1 1 1 1 1 1 1 1 1 1 1 1 1 \n",
      "1 A A A A A A A A A A A A A A A A A A A A A A A A A A A A A 1 \n",
      "1 A 1 1 1 1 1 1 1 1 1 1 1 1 1 1 1 1 1 1 1 1 1 1 1 1 1 1 1 A 1 \n",
      "1 A 1 B B B B B B B B B B B B B B B B B B B B B B B B B 1 A 1 \n",
      "1 A 1 B 2 2 2 2 2 2 2 2 2 2 2 2 2 2 2 2 2 2 2 2 2 2 2 B 1 A 1 \n",
      "1 A 1 B 2 C C C C C C C C C C C C C C C C C C C C C 2 B 1 A 1 \n",
      "1 A 1 B 2 C 3 3 3 3 3 3 3 3 3 3 3 3 3 3 3 3 3 3 3 C 2 B 1 A 1 \n",
      "1 A 1 B 2 C 3 D D D D D D D D D D D D D D D D D 3 C 2 B 1 A 1 \n",
      "1 A 1 B 2 C 3 D 5 5 5 5 5 5 5 5 5 5 5 5 5 5 5 D 3 C 2 B 1 A 1 \n",
      "1 A 1 B 2 C 3 D 5 E E E E E E E E E E E E E 5 D 3 C 2 B 1 A 1 \n",
      "1 A 1 B 2 C 3 D 5 E 8 8 8 8 8 8 8 8 8 8 8 E 5 D 3 C 2 B 1 A 1 \n",
      "1 A 1 B 2 C 3 D 5 E 8 F F F F F F F F F 8 E 5 D 3 C 2 B 1 A 1 \n",
      "1 A 1 B 2 C 3 D 5 E 8 F 13 13 13 13 13 13 13 F 8 E 5 D 3 C 2 B 1 A 1 \n",
      "1 A 1 B 2 C 3 D 5 E 8 F 13 G G G G G 13 F 8 E 5 D 3 C 2 B 1 A 1 \n",
      "1 A 1 B 2 C 3 D 5 E 8 F 13 G 21 21 21 G 13 F 8 E 5 D 3 C 2 B 1 A 1 \n",
      "1 A 1 B 2 C 3 D 5 E 8 F 13 G 21 H 21 G 13 F 8 E 5 D 3 C 2 B 1 A 1 \n",
      "1 A 1 B 2 C 3 D 5 E 8 F 13 G 21 21 21 G 13 F 8 E 5 D 3 C 2 B 1 A 1 \n",
      "1 A 1 B 2 C 3 D 5 E 8 F 13 G G G G G 13 F 8 E 5 D 3 C 2 B 1 A 1 \n",
      "1 A 1 B 2 C 3 D 5 E 8 F 13 13 13 13 13 13 13 F 8 E 5 D 3 C 2 B 1 A 1 \n",
      "1 A 1 B 2 C 3 D 5 E 8 F F F F F F F F F 8 E 5 D 3 C 2 B 1 A 1 \n",
      "1 A 1 B 2 C 3 D 5 E 8 8 8 8 8 8 8 8 8 8 8 E 5 D 3 C 2 B 1 A 1 \n",
      "1 A 1 B 2 C 3 D 5 E E E E E E E E E E E E E 5 D 3 C 2 B 1 A 1 \n",
      "1 A 1 B 2 C 3 D 5 5 5 5 5 5 5 5 5 5 5 5 5 5 5 D 3 C 2 B 1 A 1 \n",
      "1 A 1 B 2 C 3 D D D D D D D D D D D D D D D D D 3 C 2 B 1 A 1 \n",
      "1 A 1 B 2 C 3 3 3 3 3 3 3 3 3 3 3 3 3 3 3 3 3 3 3 C 2 B 1 A 1 \n",
      "1 A 1 B 2 C C C C C C C C C C C C C C C C C C C C C 2 B 1 A 1 \n",
      "1 A 1 B 2 2 2 2 2 2 2 2 2 2 2 2 2 2 2 2 2 2 2 2 2 2 2 B 1 A 1 \n",
      "1 A 1 B B B B B B B B B B B B B B B B B B B B B B B B B 1 A 1 \n",
      "1 A 1 1 1 1 1 1 1 1 1 1 1 1 1 1 1 1 1 1 1 1 1 1 1 1 1 1 1 A 1 \n",
      "1 A A A A A A A A A A A A A A A A A A A A A A A A A A A A A 1 \n",
      "1 1 1 1 1 1 1 1 1 1 1 1 1 1 1 1 1 1 1 1 1 1 1 1 1 1 1 1 1 1 1 \n"
     ]
    }
   ],
   "source": [
    "\n",
    "def din(a):\n",
    "    alp=\"ABCDEFGH\"\n",
    "    p=len(alp)\n",
    "    for y in crange(-a,a):\n",
    "        for x in crange(-a,a):\n",
    "            s=abs(x) if abs(x)>abs(y) else abs(y)\n",
    "            d=a-s+1\n",
    "            if d%2==0:\n",
    "                w=(d//2-1)%p\n",
    "                printnln(alp[w])\n",
    "            else:\n",
    "                f=d//2+1\n",
    "                printnln(fib(f))\n",
    "        print()\n",
    "din(15)"
   ]
  },
  {
   "cell_type": "code",
   "execution_count": null,
   "metadata": {},
   "outputs": [],
   "source": []
  },
  {
   "cell_type": "code",
   "execution_count": null,
   "metadata": {},
   "outputs": [],
   "source": []
  },
  {
   "cell_type": "code",
   "execution_count": null,
   "metadata": {},
   "outputs": [],
   "source": []
  },
  {
   "cell_type": "code",
   "execution_count": null,
   "metadata": {},
   "outputs": [],
   "source": []
  },
  {
   "cell_type": "code",
   "execution_count": 6,
   "metadata": {},
   "outputs": [
    {
     "name": "stdout",
     "output_type": "stream",
     "text": [
      "          1 \n",
      "        1 2 3 \n",
      "      1 2 3 4 5 \n",
      "    1 2 3 4 5 6 7 \n",
      "  1 2 3 4 5 6 7 8 9 \n",
      "1 2 3 4 5 6 7 8 9 10 11 \n"
     ]
    }
   ],
   "source": [
    "def din(a):\n",
    "    for y in crange(1,a):\n",
    "        for x in crange(1,a-y):\n",
    "            printnln(\" \")\n",
    "        for w in crange(1,ganjil(y)):\n",
    "            printnln(w)\n",
    "        print()\n",
    "din(6)"
   ]
  },
  {
   "cell_type": "code",
   "execution_count": 24,
   "metadata": {},
   "outputs": [
    {
     "name": "stdout",
     "output_type": "stream",
     "text": [
      "1 2 3 4 5 6 7 8 9 10 11 12 13 14 15 \n",
      "  1 2 3 4 5 6 7 8 9 10 11 12 13 \n",
      "    1 2 3 4 5 6 7 8 9 10 11 \n",
      "      1 2 3 4 5 6 7 8 9 \n",
      "        1 2 3 4 5 6 7 \n",
      "          1 2 3 4 5 \n",
      "            1 2 3 \n",
      "              1 \n"
     ]
    }
   ],
   "source": [
    "def din(a):\n",
    "    for y in crange(1,a):\n",
    "        for x in crange(1,y-1):\n",
    "            printnln(\" \")\n",
    "        b=a-(y-1)\n",
    "        for w in crange(1,ganjil(b)):\n",
    "            printnln(w)\n",
    "        print()\n",
    "din(8)"
   ]
  },
  {
   "cell_type": "code",
   "execution_count": null,
   "metadata": {},
   "outputs": [],
   "source": []
  },
  {
   "cell_type": "code",
   "execution_count": 8,
   "metadata": {},
   "outputs": [
    {
     "name": "stdout",
     "output_type": "stream",
     "text": [
      "            \n",
      "          1 \n",
      "        1 2 3 \n",
      "      1 2 3 4 5 \n",
      "    1 2 3 4 5 6 7 \n",
      "  1 2 3 4 5 6 7 8 9 \n",
      "1 2 3 4 5 6 7 8 9 10 11 \n",
      "  1 2 3 4 5 6 7 8 9 \n",
      "    1 2 3 4 5 6 7 \n",
      "      1 2 3 4 5 \n",
      "        1 2 3 \n",
      "          1 \n",
      "            \n"
     ]
    }
   ],
   "source": [
    "def din(a):\n",
    "    for y in crange(-a,a):\n",
    "        for x in crange(1,abs(y)):\n",
    "            printnln(\" \")\n",
    "        for w in crange(1,ganjil(a-abs(y))):\n",
    "            printnln(w)\n",
    "        print()\n",
    "din(6)"
   ]
  },
  {
   "cell_type": "code",
   "execution_count": 9,
   "metadata": {},
   "outputs": [
    {
     "name": "stdout",
     "output_type": "stream",
     "text": [
      "          1 \n",
      "        1 3 1 \n",
      "      1 3 5 3 1 \n",
      "    1 3 5 7 5 3 1 \n",
      "  1 3 5 7 9 7 5 3 1 \n",
      "1 3 5 7 9 11 9 7 5 3 1 \n"
     ]
    }
   ],
   "source": [
    "def din(a):\n",
    "    for y in crange(1,a):\n",
    "        for x in crange(1,a-y):\n",
    "            printnln(\" \")\n",
    "        b=pbound(y)\n",
    "        for w in crange(-b,b):\n",
    "            s=y-abs(w)\n",
    "            printnln(ganjil(s))\n",
    "        print()\n",
    "din(6)"
   ]
  },
  {
   "cell_type": "code",
   "execution_count": null,
   "metadata": {},
   "outputs": [],
   "source": []
  },
  {
   "cell_type": "code",
   "execution_count": 10,
   "metadata": {},
   "outputs": [
    {
     "name": "stdout",
     "output_type": "stream",
     "text": [
      "1 3 5 7 9 11 9 7 5 3 1 \n",
      "  1 3 5 7 9 7 5 3 1 \n",
      "    1 3 5 7 5 3 1 \n",
      "      1 3 5 3 1 \n",
      "        1 3 1 \n",
      "          1 \n"
     ]
    }
   ],
   "source": [
    "def din(a):\n",
    "    for y in crange(1,a):\n",
    "        for w in crange(1,y-1):\n",
    "            printnln(\" \")\n",
    "        s=a-(y-1)\n",
    "        b=pbound(s)\n",
    "        for x in crange(-b,b):\n",
    "            f=s-abs(x)\n",
    "            printnln(ganjil(f))\n",
    "        print()\n",
    "din(6)"
   ]
  },
  {
   "cell_type": "code",
   "execution_count": 11,
   "metadata": {},
   "outputs": [
    {
     "name": "stdout",
     "output_type": "stream",
     "text": [
      "            \n",
      "          1 \n",
      "        1 3 1 \n",
      "      1 3 5 3 1 \n",
      "    1 3 5 7 5 3 1 \n",
      "  1 3 5 7 9 7 5 3 1 \n",
      "1 3 5 7 9 11 9 7 5 3 1 \n",
      "  1 3 5 7 9 7 5 3 1 \n",
      "    1 3 5 7 5 3 1 \n",
      "      1 3 5 3 1 \n",
      "        1 3 1 \n",
      "          1 \n",
      "            \n"
     ]
    }
   ],
   "source": [
    "def din(a):\n",
    "    for y in crange(-a,a):\n",
    "        for w in crange(1,abs(y)):\n",
    "            printnln(\" \")\n",
    "        s=a-abs(y)\n",
    "        b=pbound(s)\n",
    "        for x in crange(-b,b):\n",
    "            d=s-abs(x)\n",
    "            printnln(ganjil(d))\n",
    "        print()\n",
    "din(6)"
   ]
  },
  {
   "cell_type": "code",
   "execution_count": 12,
   "metadata": {},
   "outputs": [
    {
     "name": "stdout",
     "output_type": "stream",
     "text": [
      "                                                                                                                                      \n",
      "                                                                                                              \n",
      "        1               1               1               1               1               1         \n",
      "      1 3 1           1 3 1           1 3 1           1 3 1           1 3 1           1 3 1       \n",
      "    1 3 5 3 1       1 3 5 3 1       1 3 5 3 1       1 3 5 3 1       1 3 5 3 1       1 3 5 3 1     \n",
      "  1 3 5 7 5 3 1   1 3 5 7 5 3 1   1 3 5 7 5 3 1   1 3 5 7 5 3 1   1 3 5 7 5 3 1   1 3 5 7 5 3 1   \n",
      "1 3 5 7 9 7 5 3 1 3 5 7 9 7 5 3 1 3 5 7 9 7 5 3 1 3 5 7 9 7 5 3 1 3 5 7 9 7 5 3 1 3 5 7 9 7 5 3 1 \n",
      "  1 3 5 7 5 3 1   1 3 5 7 5 3 1   1 3 5 7 5 3 1   1 3 5 7 5 3 1   1 3 5 7 5 3 1   1 3 5 7 5 3 1   \n",
      "    1 3 5 3 1       1 3 5 3 1       1 3 5 3 1       1 3 5 3 1       1 3 5 3 1       1 3 5 3 1     \n",
      "      1 3 1           1 3 1           1 3 1           1 3 1           1 3 1           1 3 1       \n",
      "        1               1               1               1               1               1         \n",
      "                                                                                                              \n",
      "                                                                                                                                      \n"
     ]
    }
   ],
   "source": [
    "def din(a):\n",
    "    for y in crange(-a,a):\n",
    "        for i in range(a):\n",
    "            for w in crange(1,abs(y)):\n",
    "                if w==1 and i>0:continue\n",
    "                printnln(\" \")\n",
    "            s=5-abs(y)\n",
    "            b=pbound(s)\n",
    "            for x in crange(-b,b):\n",
    "                if x==-4 and i>0:continue\n",
    "                d=s-abs(x)\n",
    "                printnln(ganjil(d))\n",
    "            \n",
    "            for w in crange(1,abs(y)):\n",
    "                printnln(\" \")\n",
    "        print()\n",
    "din(6)"
   ]
  },
  {
   "cell_type": "code",
   "execution_count": 13,
   "metadata": {},
   "outputs": [
    {
     "name": "stdout",
     "output_type": "stream",
     "text": [
      "                                                                                                                                      \n",
      "                                                                                                              \n",
      "        5               5               5               5               5               5         \n",
      "      3   3           3   3           3   3           3   3           3   3           3   3       \n",
      "    2   2   2       2   2   2       2   2   2       2   2   2       2   2   2       2   2   2     \n",
      "  1   1   1   1   1   1   1   1   1   1   1   1   1   1   1   1   1   1   1   1   1   1   1   1   \n",
      "1   1   2   1   1   1   2   1   1   1   2   1   1   1   2   1   1   1   2   1   1   1   2   1   1 \n",
      "  1   1   1   1   1   1   1   1   1   1   1   1   1   1   1   1   1   1   1   1   1   1   1   1   \n",
      "    2   2   2       2   2   2       2   2   2       2   2   2       2   2   2       2   2   2     \n",
      "      3   3           3   3           3   3           3   3           3   3           3   3       \n",
      "        5               5               5               5               5               5         \n",
      "                                                                                                              \n",
      "                                                                                                                                      \n"
     ]
    }
   ],
   "source": [
    "def din(a):\n",
    "    for y in crange(-a,a):\n",
    "        for i in range(a):\n",
    "            for w in crange(1,abs(y)):\n",
    "                if w==1 and i>0:continue\n",
    "                printnln(\" \")\n",
    "            b=4-abs(y)\n",
    "            for x in crange(-b,b):\n",
    "                if x==-4 and i>0:continue\n",
    "                \n",
    "                d=b+1-abs(x)\n",
    "                if d%2==0:\n",
    "                    printnln(\" \")\n",
    "                else:\n",
    "                    c=d//2+1\n",
    "                    q= c if y==0 else abs(y)+1\n",
    "                    printnln(fib(q))\n",
    "                \n",
    "            for w in crange(1,abs(y)):\n",
    "                printnln(\" \")\n",
    "        print()\n",
    "din(6)"
   ]
  },
  {
   "cell_type": "code",
   "execution_count": 14,
   "metadata": {},
   "outputs": [
    {
     "name": "stdout",
     "output_type": "stream",
     "text": [
      "1 \n",
      "  1 2 \n",
      "  1 2 \n",
      "      1 2 3 \n",
      "      1 2 3 \n",
      "      1 2 3 \n",
      "            1 2 3 4 \n",
      "            1 2 3 4 \n",
      "            1 2 3 4 \n",
      "            1 2 3 4 \n",
      "                    1 2 3 4 5 \n",
      "                    1 2 3 4 5 \n",
      "                    1 2 3 4 5 \n",
      "                    1 2 3 4 5 \n",
      "                    1 2 3 4 5 \n",
      "                              1 2 3 4 5 6 \n",
      "                              1 2 3 4 5 6 \n",
      "                              1 2 3 4 5 6 \n",
      "                              1 2 3 4 5 6 \n",
      "                              1 2 3 4 5 6 \n",
      "                              1 2 3 4 5 6 \n"
     ]
    }
   ],
   "source": [
    "def din(a):\n",
    "    for y in crange(1,a):\n",
    "           for x in crange(1,y):\n",
    "                for w in crange(1,m(y)):\n",
    "                    printnln(\" \")\n",
    "                for b in crange(1,y):\n",
    "                    printnln(b)\n",
    "                print()\n",
    "din(6)"
   ]
  },
  {
   "cell_type": "code",
   "execution_count": 15,
   "metadata": {},
   "outputs": [
    {
     "name": "stdout",
     "output_type": "stream",
     "text": [
      "                                        1 \n",
      "                                    1 2 \n",
      "                                    1 2 \n",
      "                              1 2 3 \n",
      "                              1 2 3 \n",
      "                              1 2 3 \n",
      "                      1 2 3 4 \n",
      "                      1 2 3 4 \n",
      "                      1 2 3 4 \n",
      "                      1 2 3 4 \n",
      "            1 2 3 4 5 \n",
      "            1 2 3 4 5 \n",
      "            1 2 3 4 5 \n",
      "            1 2 3 4 5 \n",
      "            1 2 3 4 5 \n",
      "1 2 3 4 5 6 \n",
      "1 2 3 4 5 6 \n",
      "1 2 3 4 5 6 \n",
      "1 2 3 4 5 6 \n",
      "1 2 3 4 5 6 \n",
      "1 2 3 4 5 6 \n"
     ]
    }
   ],
   "source": [
    "def din(a):\n",
    "    for y in crange(1,a):\n",
    "        for x in crange(1,y):\n",
    "            for w in crange(1,m(a+1)-m(y+1)):\n",
    "                printnln(\" \")\n",
    "            for b in crange(1,y):\n",
    "                printnln(b)\n",
    "            print()\n",
    "din(6)"
   ]
  },
  {
   "cell_type": "code",
   "execution_count": 16,
   "metadata": {},
   "outputs": [
    {
     "name": "stdout",
     "output_type": "stream",
     "text": [
      "1 \n",
      "    1 \n",
      "  1 2 3 \n",
      "            1 \n",
      "          1 2 3 \n",
      "        1 2 3 4 5 \n",
      "                        1 \n",
      "                      1 2 3 \n",
      "                    1 2 3 4 5 \n",
      "                  1 2 3 4 5 6 7 \n",
      "                                        1 \n",
      "                                      1 2 3 \n",
      "                                    1 2 3 4 5 \n",
      "                                  1 2 3 4 5 6 7 \n",
      "                                1 2 3 4 5 6 7 8 9 \n",
      "                                                            1 \n",
      "                                                          1 2 3 \n",
      "                                                        1 2 3 4 5 \n",
      "                                                      1 2 3 4 5 6 7 \n",
      "                                                    1 2 3 4 5 6 7 8 9 \n",
      "                                                  1 2 3 4 5 6 7 8 9 10 11 \n"
     ]
    }
   ],
   "source": [
    "def din(a):\n",
    "    for y in crange(1,a):\n",
    "        for x in crange(1,y):\n",
    "            for w in crange(1,(y-1)**2):\n",
    "                printnln(\" \")\n",
    "            for s in crange(1,y-x):\n",
    "                printnln(\" \")\n",
    "            for b in crange(1,ganjil(x)):\n",
    "                printnln(b)\n",
    "            print()\n",
    "din(6)"
   ]
  },
  {
   "cell_type": "code",
   "execution_count": 17,
   "metadata": {},
   "outputs": [
    {
     "name": "stdout",
     "output_type": "stream",
     "text": [
      "                                                                      1 \n",
      "                                                                  1 \n",
      "                                                                1 2 3 \n",
      "                                                          1 \n",
      "                                                        1 2 3 \n",
      "                                                      1 2 3 4 5 \n",
      "                                              1 \n",
      "                                            1 2 3 \n",
      "                                          1 2 3 4 5 \n",
      "                                        1 2 3 4 5 6 7 \n",
      "                              1 \n",
      "                            1 2 3 \n",
      "                          1 2 3 4 5 \n",
      "                        1 2 3 4 5 6 7 \n",
      "                      1 2 3 4 5 6 7 8 9 \n",
      "          1 \n",
      "        1 2 3 \n",
      "      1 2 3 4 5 \n",
      "    1 2 3 4 5 6 7 \n",
      "  1 2 3 4 5 6 7 8 9 \n",
      "1 2 3 4 5 6 7 8 9 10 11 \n"
     ]
    }
   ],
   "source": [
    "def din (a):\n",
    "    for y in crange(1,a):\n",
    "        for x in crange(1,y):\n",
    "            for w in crange(1,a*a-y**2):\n",
    "                printnln(\" \")\n",
    "            for s in crange(1,y-x):\n",
    "                printnln(\" \")\n",
    "            for b in crange(1,ganjil(x)):\n",
    "                printnln(b)\n",
    "            print()\n",
    "din(6)"
   ]
  },
  {
   "cell_type": "code",
   "execution_count": 18,
   "metadata": {},
   "outputs": [
    {
     "name": "stdout",
     "output_type": "stream",
     "text": [
      "  * \n",
      "    * * * \n",
      "      * \n",
      "          * * * * * \n",
      "            * * * \n",
      "              * \n",
      "                    * * * * * * * \n",
      "                      * * * * * \n",
      "                        * * * \n",
      "                          * \n",
      "                                  * * * * * * * * * \n",
      "                                    * * * * * * * \n",
      "                                      * * * * * \n",
      "                                        * * * \n",
      "                                          * \n",
      "                                                    * * * * * * * * * * * \n",
      "                                                      * * * * * * * * * \n",
      "                                                        * * * * * * * \n",
      "                                                          * * * * * \n",
      "                                                            * * * \n",
      "                                                              * \n"
     ]
    }
   ],
   "source": [
    "def din(a):\n",
    "    for y in crange(1,a):\n",
    "        for x in crange(1,y):\n",
    "            for w in crange(1,(y-1)**2):\n",
    "                printnln(\" \")\n",
    "            for s in crange(1,x):\n",
    "                printnln(\" \")\n",
    "            for b in crange(1,ganjil(y+1-x)):\n",
    "                printnln(\"*\")\n",
    "            print()\n",
    "din(6)"
   ]
  },
  {
   "cell_type": "code",
   "execution_count": 19,
   "metadata": {},
   "outputs": [
    {
     "name": "stdout",
     "output_type": "stream",
     "text": [
      "1 \n",
      "  1 2 \n",
      "  3 4 \n",
      "      1 2 3 \n",
      "      4 5 6 \n",
      "      7 8 9 \n",
      "            1 2 3 4 \n",
      "            5 6 7 8 \n",
      "            9 10 11 12 \n",
      "            13 14 15 16 \n",
      "                    1 2 3 4 5 \n",
      "                    6 7 8 9 10 \n",
      "                    11 12 13 14 15 \n",
      "                    16 17 18 19 20 \n",
      "                    21 22 23 24 25 \n",
      "                              1 2 3 4 5 6 \n",
      "                              7 8 9 10 11 12 \n",
      "                              13 14 15 16 17 18 \n",
      "                              19 20 21 22 23 24 \n",
      "                              25 26 27 28 29 30 \n",
      "                              31 32 33 34 35 36 \n"
     ]
    }
   ],
   "source": [
    "def din(a):\n",
    "    for y in crange(1,a):\n",
    "        q=0\n",
    "        for x in crange(1,y):\n",
    "            for w in crange(1,m(y)):\n",
    "                printnln(\" \")\n",
    "            for b in crange(1,y):\n",
    "                q+=1\n",
    "                printnln(q)\n",
    "            print()\n",
    "din(6)\n",
    "            "
   ]
  },
  {
   "cell_type": "code",
   "execution_count": 20,
   "metadata": {},
   "outputs": [
    {
     "name": "stdout",
     "output_type": "stream",
     "text": [
      "                                        1 \n",
      "                                    1 2 \n",
      "                                    3 4 \n",
      "                              1 2 3 \n",
      "                              4 5 6 \n",
      "                              7 8 9 \n",
      "                      1 2 3 4 \n",
      "                      5 6 7 8 \n",
      "                      9 10 11 12 \n",
      "                      13 14 15 16 \n",
      "            1 2 3 4 5 \n",
      "            6 7 8 9 10 \n",
      "            11 12 13 14 15 \n",
      "            16 17 18 19 20 \n",
      "            21 22 23 24 25 \n",
      "1 2 3 4 5 6 \n",
      "7 8 9 10 11 12 \n",
      "13 14 15 16 17 18 \n",
      "19 20 21 22 23 24 \n",
      "25 26 27 28 29 30 \n",
      "31 32 33 34 35 36 \n"
     ]
    }
   ],
   "source": [
    "def din(a):\n",
    "    for y in crange(1,a):\n",
    "        q=0\n",
    "        for x in crange(1,y):\n",
    "            for w in crange(1,m(a+1)-m(y+1)):\n",
    "                printnln(\" \")\n",
    "            for s in crange(1,y):\n",
    "                q+=1\n",
    "                printnln(q)\n",
    "            print()\n",
    "din(6)"
   ]
  },
  {
   "cell_type": "code",
   "execution_count": 10,
   "metadata": {},
   "outputs": [
    {
     "name": "stdout",
     "output_type": "stream",
     "text": [
      "            1 \n",
      "            1 \n",
      "          2 3 4 \n",
      "            1 \n",
      "          3 5 7 \n",
      "        9 11 13 15 17 \n",
      "            1 \n",
      "          1 2 3 \n",
      "        5 8 13 21 34 \n",
      "      55 89 144 233 377 610 987 \n",
      "            1 \n",
      "          2 3 4 \n",
      "        5 6 7 8 9 \n",
      "      10 11 12 13 14 15 16 \n",
      "    17 18 19 20 21 22 23 24 25 \n",
      "            1 \n",
      "          2 3 4 \n",
      "        5 6 7 8 9 \n",
      "      10 11 12 13 14 15 16 \n",
      "    17 18 19 20 21 22 23 24 25 \n",
      "  26 27 28 29 30 31 32 33 34 35 36 \n",
      "            1 \n",
      "          3 5 7 \n",
      "        9 11 13 15 17 \n",
      "      19 21 23 25 27 29 31 \n",
      "    33 35 37 39 41 43 45 47 49 \n",
      "  51 53 55 57 59 61 63 65 67 69 71 \n",
      "73 75 77 79 81 83 85 87 89 91 93 95 97 \n"
     ]
    }
   ],
   "source": [
    "def din(a):\n",
    "    for y in crange(1,a):\n",
    "        q=0\n",
    "        for x in crange(1,y):\n",
    "            for w in crange(1,a-y):\n",
    "                printnln(\" \")\n",
    "            for s in crange(1,y-x):\n",
    "                printnln(\" \")\n",
    "            for b in crange(1,ganjil(x)):\n",
    "                q+=1\n",
    "                if y%4==0:\n",
    "                    printnln(fib(q))\n",
    "                elif y%4==3:\n",
    "                    printnln(ganjil(q))\n",
    "                else:\n",
    "                    printnln(q)\n",
    "            print()\n",
    "din(7)"
   ]
  },
  {
   "cell_type": "code",
   "execution_count": null,
   "metadata": {},
   "outputs": [],
   "source": []
  },
  {
   "cell_type": "code",
   "execution_count": null,
   "metadata": {},
   "outputs": [],
   "source": []
  },
  {
   "cell_type": "code",
   "execution_count": null,
   "metadata": {},
   "outputs": [],
   "source": []
  },
  {
   "cell_type": "code",
   "execution_count": null,
   "metadata": {},
   "outputs": [],
   "source": []
  },
  {
   "cell_type": "code",
   "execution_count": null,
   "metadata": {},
   "outputs": [],
   "source": []
  }
 ],
 "metadata": {
  "kernelspec": {
   "display_name": "Python 3",
   "language": "python",
   "name": "python3"
  },
  "language_info": {
   "codemirror_mode": {
    "name": "ipython",
    "version": 3
   },
   "file_extension": ".py",
   "mimetype": "text/x-python",
   "name": "python",
   "nbconvert_exporter": "python",
   "pygments_lexer": "ipython3",
   "version": "3.6.5"
  }
 },
 "nbformat": 4,
 "nbformat_minor": 2
}

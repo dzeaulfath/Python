{
 "cells": [
  {
   "cell_type": "code",
   "execution_count": 1,
   "metadata": {},
   "outputs": [],
   "source": [
    "def crange(a,b):\n",
    "    return range(a,b+1)\n",
    "\n",
    "def printnln(a):\n",
    "    print(a, end=\"\")\n",
    "\n",
    "def fib(a):\n",
    "    if a<=2:\n",
    "        return 1\n",
    "    else:\n",
    "        return fib(a-1) + fib(a-2)"
   ]
  },
  {
   "cell_type": "markdown",
   "metadata": {},
   "source": [
    "# SOAL 1"
   ]
  },
  {
   "cell_type": "code",
   "execution_count": 2,
   "metadata": {},
   "outputs": [
    {
     "name": "stdout",
     "output_type": "stream",
     "text": [
      "1\n",
      "1\n",
      "2\n",
      "3\n",
      "5\n",
      "8\n",
      "13\n",
      "21\n",
      "34\n"
     ]
    }
   ],
   "source": [
    "def fib(a):\n",
    "    if a<=2:\n",
    "        return 1\n",
    "    else:\n",
    "        return fib(a-1)+fib(a-2)\n",
    "    \n",
    "for x in crange(1,9):\n",
    "    print(fib(x))\n",
    "    \n",
    "    "
   ]
  },
  {
   "cell_type": "code",
   "execution_count": 3,
   "metadata": {},
   "outputs": [
    {
     "name": "stdout",
     "output_type": "stream",
     "text": [
      "1 1 2 3 5 8 13 21 34 "
     ]
    }
   ],
   "source": [
    "a,b,c=1,1,2\n",
    "for i in range(9):\n",
    "    print(a, end=\" \")\n",
    "    c=a+b\n",
    "    a=b\n",
    "    b=c"
   ]
  },
  {
   "cell_type": "markdown",
   "metadata": {},
   "source": [
    "# SOAL 2"
   ]
  },
  {
   "cell_type": "code",
   "execution_count": 4,
   "metadata": {},
   "outputs": [
    {
     "name": "stdout",
     "output_type": "stream",
     "text": [
      "1\n",
      "1\n",
      "1\n",
      "3\n",
      "5\n",
      "9\n",
      "17\n",
      "31\n",
      "57\n"
     ]
    }
   ],
   "source": [
    "def fibq(a):\n",
    "    if a<=3:\n",
    "        return 1\n",
    "    else:\n",
    "        return fibq(a-1)+fibq(a-2)+fibq(a-3)\n",
    "    \n",
    "for x in crange(1,9):\n",
    "    print(fibq(x))"
   ]
  },
  {
   "cell_type": "markdown",
   "metadata": {},
   "source": [
    "# SOAL 3"
   ]
  },
  {
   "cell_type": "code",
   "execution_count": 5,
   "metadata": {},
   "outputs": [
    {
     "name": "stdout",
     "output_type": "stream",
     "text": [
      "10\n",
      "60\n"
     ]
    }
   ],
   "source": [
    "def fpb(a,b):\n",
    "    if b == 0:\n",
    "        return a\n",
    "    else:\n",
    "        return fpb(b, a%b)\n",
    "    \n",
    "print(fpb(20 , 30))\n",
    "\n",
    "def kpk(a,b):\n",
    "    return a*b // fpb(a,b)\n",
    "\n",
    "print (kpk(20, 30))"
   ]
  },
  {
   "cell_type": "markdown",
   "metadata": {},
   "source": [
    "# SOAL 4"
   ]
  },
  {
   "cell_type": "code",
   "execution_count": 6,
   "metadata": {},
   "outputs": [
    {
     "name": "stdout",
     "output_type": "stream",
     "text": [
      "1aaaaaaa16\n",
      "d3aaaaa14b\n",
      "dd5aaa12bb\n",
      "ddd7a10bbb\n",
      "dddd9bbbb\n",
      "ddd6c11bbb\n",
      "dd4ccc13bb\n",
      "d2ccccc15b\n",
      "0ccccccc17\n"
     ]
    }
   ],
   "source": [
    "for y in crange(1,9):\n",
    "    for x in crange(1,9):\n",
    "        if x==y:\n",
    "            c=x*2-1\n",
    "            printnln(c)\n",
    "        elif x>y and x<9-(y-1):\n",
    "            printnln(\"a\")\n",
    "        elif x<y and x<9-(y-1):\n",
    "            printnln(\"d\")\n",
    "        elif x<y and x>9-(y-1):\n",
    "            printnln(\"c\")\n",
    "        elif x>y and x>9-(y-1):\n",
    "            printnln(\"b\")\n",
    "        elif x== 9-(y-1):\n",
    "            s=9-(y-1)\n",
    "            c=s*2-2\n",
    "            printnln(c)\n",
    "        else:\n",
    "            printnln(\"_\")\n",
    "    print()"
   ]
  },
  {
   "cell_type": "code",
   "execution_count": null,
   "metadata": {},
   "outputs": [],
   "source": []
  },
  {
   "cell_type": "markdown",
   "metadata": {},
   "source": [
    "# SOAL 5"
   ]
  },
  {
   "cell_type": "code",
   "execution_count": 12,
   "metadata": {},
   "outputs": [
    {
     "ename": "IndentationError",
     "evalue": "unindent does not match any outer indentation level (<ipython-input-12-2af2820c020b>, line 5)",
     "output_type": "error",
     "traceback": [
      "\u001b[1;36m  File \u001b[1;32m\"<ipython-input-12-2af2820c020b>\"\u001b[1;36m, line \u001b[1;32m5\u001b[0m\n\u001b[1;33m    a= abs(x)\u001b[0m\n\u001b[1;37m             ^\u001b[0m\n\u001b[1;31mIndentationError\u001b[0m\u001b[1;31m:\u001b[0m unindent does not match any outer indentation level\n"
     ]
    }
   ],
   "source": [
    "      #JUST IN CASE\n",
    "    \n",
    "for x in crange(-4,4):\n",
    "    for y in crange(-4,4):\n",
    "        a= abs(x)\n",
    "        printnln(a)\n",
    "    print()"
   ]
  },
  {
   "cell_type": "code",
   "execution_count": null,
   "metadata": {},
   "outputs": [],
   "source": [
    "    # JUST IN CASE\n",
    "    \n",
    "for x in crange(-4,4):\n",
    "    for y in crange(-4,4):\n",
    "        n=abs(y)\n",
    "        printnln(n)\n",
    "    print()"
   ]
  },
  {
   "cell_type": "code",
   "execution_count": 18,
   "metadata": {},
   "outputs": [
    {
     "name": "stdout",
     "output_type": "stream",
     "text": [
      "111111111111111\n",
      "111111111111111\n",
      "111111111111111\n",
      "111111111111111\n",
      "111111111111111\n",
      "111112222211111\n",
      "111112333211111\n",
      "111112353211111\n",
      "111112333211111\n",
      "111112222211111\n",
      "111111111111111\n",
      "111111111111111\n",
      "111111111111111\n",
      "111111111111111\n",
      "111111111111111\n"
     ]
    }
   ],
   "source": [
    "r=7\n",
    "for x in crange(-r,r):\n",
    "    for y in crange(-r,r):\n",
    "        ax= abs(x)\n",
    "        ay= abs(y)\n",
    "        h= ax if ax > ay else ay\n",
    "        h= 4 - h +1\n",
    "        printnln (fib(h))\n",
    "    print()"
   ]
  },
  {
   "cell_type": "code",
   "execution_count": null,
   "metadata": {},
   "outputs": [],
   "source": []
  },
  {
   "cell_type": "code",
   "execution_count": null,
   "metadata": {},
   "outputs": [],
   "source": []
  },
  {
   "cell_type": "code",
   "execution_count": null,
   "metadata": {},
   "outputs": [],
   "source": []
  },
  {
   "cell_type": "markdown",
   "metadata": {},
   "source": [
    "# SOAL 6"
   ]
  },
  {
   "cell_type": "code",
   "execution_count": 8,
   "metadata": {},
   "outputs": [
    {
     "name": "stdout",
     "output_type": "stream",
     "text": [
      "111111111\n",
      "1_______1\n",
      "1_33333_1\n",
      "1_3___3_1\n",
      "1_3_5_3_1\n",
      "1_3___3_1\n",
      "1_33333_1\n",
      "1_______1\n",
      "111111111\n"
     ]
    }
   ],
   "source": [
    "for y in crange(-4,4):\n",
    "    for x in crange(-4,4):\n",
    "        n= abs(x) if abs(x) > abs(y) else abs(y)\n",
    "        n= 4 - n +1\n",
    "        if n%2==0:\n",
    "            printnln(\"_\")\n",
    "        else:\n",
    "            printnln(n)\n",
    "    print()"
   ]
  },
  {
   "cell_type": "markdown",
   "metadata": {},
   "source": [
    "# SOAL 7"
   ]
  },
  {
   "cell_type": "code",
   "execution_count": 9,
   "metadata": {},
   "outputs": [
    {
     "name": "stdout",
     "output_type": "stream",
     "text": [
      "111111111\n",
      "1_______1\n",
      "1_11111_1\n",
      "1_1___1_1\n",
      "1_1_2_1_1\n",
      "1_1___1_1\n",
      "1_11111_1\n",
      "1_______1\n",
      "111111111\n"
     ]
    }
   ],
   "source": [
    "for y in crange(-4,4):\n",
    "    for x in crange(-4,4):\n",
    "        n= abs (x) if abs(x)> abs(y) else abs(y)\n",
    "        n= 4 - n+1\n",
    "        if n%2==0:\n",
    "            printnln(\"_\")\n",
    "        else:\n",
    "            r= n//2 +1\n",
    "            printnln (fib(r))\n",
    "    print()"
   ]
  },
  {
   "cell_type": "markdown",
   "metadata": {},
   "source": [
    "# SOAL 8"
   ]
  },
  {
   "cell_type": "code",
   "execution_count": 10,
   "metadata": {},
   "outputs": [
    {
     "name": "stdout",
     "output_type": "stream",
     "text": [
      "111111111\n",
      "1AAAAAAA1\n",
      "1A11111A1\n",
      "1A1BBB1A1\n",
      "1A1B2B1A1\n",
      "1A1BBB1A1\n",
      "1A11111A1\n",
      "1AAAAAAA1\n",
      "111111111\n"
     ]
    }
   ],
   "source": [
    "alph = \"AB\"\n",
    "for y in crange(-4,4):\n",
    "    for x in crange(-4,4):\n",
    "        n= abs(x) if abs(x)>abs(y) else abs(y)\n",
    "        n= 4- n + 1\n",
    "        if n%2==0:\n",
    "            i= n// 2-1\n",
    "            printnln(alph[i])\n",
    "        else:\n",
    "            r= n// 2+1\n",
    "            printnln(fib(r))\n",
    "    print()\n",
    "    "
   ]
  },
  {
   "cell_type": "code",
   "execution_count": 11,
   "metadata": {},
   "outputs": [
    {
     "name": "stdout",
     "output_type": "stream",
     "text": [
      "CCCCCCCCC\n",
      "C1111111C\n",
      "C1AAAAA1C\n",
      "C1A333A1C\n",
      "C1A3B3A1C\n",
      "C1A333A1C\n",
      "C1AAAAA1C\n",
      "C1111111C\n",
      "CCCCCCCCC\n"
     ]
    }
   ],
   "source": [
    "alp=\"ABC\"\n",
    "for y in crange(-4,4):\n",
    "    for x in crange(-4,4):\n",
    "        n= abs (x) if abs(x)> abs(y) else abs(y)\n",
    "        n= 4 - n+1\n",
    "        if n%2==0:\n",
    "            \n",
    "            printnln (fib(n))\n",
    "            \n",
    "        else:\n",
    "            b=n//2-1\n",
    "            printnln(alp[b])\n",
    "    print()"
   ]
  },
  {
   "cell_type": "code",
   "execution_count": null,
   "metadata": {},
   "outputs": [],
   "source": []
  },
  {
   "cell_type": "code",
   "execution_count": null,
   "metadata": {},
   "outputs": [],
   "source": []
  },
  {
   "cell_type": "code",
   "execution_count": null,
   "metadata": {},
   "outputs": [],
   "source": []
  },
  {
   "cell_type": "code",
   "execution_count": null,
   "metadata": {},
   "outputs": [],
   "source": []
  }
 ],
 "metadata": {
  "kernelspec": {
   "display_name": "Python 3",
   "language": "python",
   "name": "python3"
  },
  "language_info": {
   "codemirror_mode": {
    "name": "ipython",
    "version": 3
   },
   "file_extension": ".py",
   "mimetype": "text/x-python",
   "name": "python",
   "nbconvert_exporter": "python",
   "pygments_lexer": "ipython3",
   "version": "3.6.5"
  }
 },
 "nbformat": 4,
 "nbformat_minor": 2
}

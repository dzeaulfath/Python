{
 "cells": [
  {
   "cell_type": "code",
   "execution_count": 29,
   "metadata": {},
   "outputs": [],
   "source": [
    "def printnln(a):\n",
    "    return print(a,end=\"\")\n",
    "def crange(a,b):\n",
    "    return range(a,b+1)\n",
    "def ganjil(a):\n",
    "    return a*2-1\n",
    "def fib(a):\n",
    "    if a<=2:\n",
    "        return 1\n",
    "    else:\n",
    "        return fib(a-1)+fib(a-2)"
   ]
  },
  {
   "cell_type": "code",
   "execution_count": 37,
   "metadata": {},
   "outputs": [
    {
     "name": "stdout",
     "output_type": "stream",
     "text": [
      "*\n",
      " **\n",
      " **\n",
      "   ***\n",
      "   ***\n",
      "   ***\n",
      "      ****\n",
      "      ****\n",
      "      ****\n",
      "      ****\n"
     ]
    }
   ],
   "source": [
    "for y in crange(1,4):\n",
    "    for x in crange(1,y):\n",
    "        for w in crange(1,y*(y-1)//2):\n",
    "            printnln(\" \")\n",
    "        for d in crange(1,y):\n",
    "            printnln(\"*\")\n",
    "        print()"
   ]
  },
  {
   "cell_type": "code",
   "execution_count": 38,
   "metadata": {},
   "outputs": [
    {
     "name": "stdout",
     "output_type": "stream",
     "text": [
      "          *\n",
      "        **\n",
      "        **\n",
      "    ***\n",
      "    ***\n",
      "    ***\n",
      "****\n",
      "****\n",
      "****\n",
      "****\n"
     ]
    }
   ],
   "source": [
    "for y in crange(1,4):\n",
    "    for x in crange(1,y):\n",
    "        for w in crange(1,10-y*(y-1)):\n",
    "            printnln(\" \")\n",
    "        for d in crange(1,y):\n",
    "            printnln(\"*\")\n",
    "        print()"
   ]
  },
  {
   "cell_type": "code",
   "execution_count": 39,
   "metadata": {},
   "outputs": [
    {
     "name": "stdout",
     "output_type": "stream",
     "text": [
      "*\n",
      "  *\n",
      " ***\n",
      "      *\n",
      "     ***\n",
      "    *****\n"
     ]
    }
   ],
   "source": [
    "for y in crange(1,3):\n",
    "    for x in crange(1,y):\n",
    "        for w in crange(1,(y-1)**2):\n",
    "            printnln(\" \")\n",
    "        for s in crange(1,y-x):\n",
    "            printnln(\" \")\n",
    "        for b in crange(1,ganjil(x)):\n",
    "            printnln(\"*\")\n",
    "        print()"
   ]
  },
  {
   "cell_type": "code",
   "execution_count": 41,
   "metadata": {},
   "outputs": [
    {
     "name": "stdout",
     "output_type": "stream",
     "text": [
      "         *\n",
      "       *\n",
      "      ***\n",
      "   *\n",
      "  ***\n",
      " *****\n"
     ]
    }
   ],
   "source": [
    "for y in crange(1,3):\n",
    "    for x in crange(1,y):\n",
    "        for w in crange(1,10-y**2):\n",
    "            printnln(\" \")\n",
    "        for d in crange(1,y-x):\n",
    "            printnln(\" \")\n",
    "        for v in crange(1,ganjil(x)):\n",
    "            printnln(\"*\")\n",
    "        print()"
   ]
  },
  {
   "cell_type": "code",
   "execution_count": 42,
   "metadata": {},
   "outputs": [
    {
     "name": "stdout",
     "output_type": "stream",
     "text": [
      " *\n",
      "  ***\n",
      "   *\n",
      "     *****\n",
      "      ***\n",
      "       *\n"
     ]
    }
   ],
   "source": [
    "for y in crange(1,3):\n",
    "    for x in crange(1,y):\n",
    "        for w in crange(1,(y-1)**2):\n",
    "            printnln(\" \")\n",
    "        for s in crange(1, x):\n",
    "            printnln(\" \")\n",
    "        for v in crange(1,ganjil(y+1-x)):\n",
    "            printnln(\"*\")\n",
    "        print()"
   ]
  },
  {
   "cell_type": "code",
   "execution_count": null,
   "metadata": {},
   "outputs": [],
   "source": []
  },
  {
   "cell_type": "code",
   "execution_count": null,
   "metadata": {},
   "outputs": [],
   "source": []
  }
 ],
 "metadata": {
  "kernelspec": {
   "display_name": "Python 3",
   "language": "python",
   "name": "python3"
  },
  "language_info": {
   "codemirror_mode": {
    "name": "ipython",
    "version": 3
   },
   "file_extension": ".py",
   "mimetype": "text/x-python",
   "name": "python",
   "nbconvert_exporter": "python",
   "pygments_lexer": "ipython3",
   "version": "3.6.5"
  }
 },
 "nbformat": 4,
 "nbformat_minor": 2
}

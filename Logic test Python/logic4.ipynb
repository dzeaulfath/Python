{
 "cells": [
  {
   "cell_type": "code",
   "execution_count": 2,
   "metadata": {},
   "outputs": [],
   "source": [
    "def printnln(a):\n",
    "    return print(a, end=\" \")\n",
    "def crange(a,b):\n",
    "    return range(a,b+1)\n",
    "def ganjil(a):\n",
    "    return a*2-1\n",
    "def pbound(a):\n",
    "    return a-1\n",
    "def fib(a):\n",
    "    if a<=2:\n",
    "        return 1\n",
    "    else:\n",
    "        return fib(a-1)+fib(a-2)"
   ]
  },
  {
   "cell_type": "code",
   "execution_count": null,
   "metadata": {},
   "outputs": [],
   "source": []
  },
  {
   "cell_type": "markdown",
   "metadata": {},
   "source": [
    "# SOAL 1"
   ]
  },
  {
   "cell_type": "code",
   "execution_count": 3,
   "metadata": {},
   "outputs": [
    {
     "name": "stdout",
     "output_type": "stream",
     "text": [
      "        1 \n",
      "      1 2 3 \n",
      "    1 2 3 4 5 \n",
      "  1 2 3 4 5 6 7 \n",
      "1 2 3 4 5 6 7 8 9 \n"
     ]
    }
   ],
   "source": [
    "for y in crange(1,5):\n",
    "    for w in crange(1,5-y):\n",
    "        printnln(\" \")\n",
    "    for x in crange(1, ganjil(y)):\n",
    "        printnln(x)\n",
    "    print()"
   ]
  },
  {
   "cell_type": "markdown",
   "metadata": {},
   "source": [
    "# SOAL 2"
   ]
  },
  {
   "cell_type": "code",
   "execution_count": 3,
   "metadata": {},
   "outputs": [
    {
     "name": "stdout",
     "output_type": "stream",
     "text": [
      "123456789\n",
      " 1234567\n",
      "  12345\n",
      "   123\n",
      "    1\n"
     ]
    }
   ],
   "source": [
    "for y in crange(1,5):\n",
    "    for w in crange(1, y-1):\n",
    "        printnln(\" \")\n",
    "    n= 5-(y-1)\n",
    "    for x in crange(1, ganjil(n)):\n",
    "        printnln(x)\n",
    "    print()"
   ]
  },
  {
   "cell_type": "markdown",
   "metadata": {},
   "source": [
    "# SOAL 3"
   ]
  },
  {
   "cell_type": "code",
   "execution_count": 4,
   "metadata": {},
   "outputs": [
    {
     "name": "stdout",
     "output_type": "stream",
     "text": [
      "    1\n",
      "   123\n",
      "  12345\n",
      " 1234567\n",
      "123456789\n",
      " 1234567\n",
      "  12345\n",
      "   123\n",
      "    1\n"
     ]
    }
   ],
   "source": [
    "for y in crange(-4,4):\n",
    "    for w in crange(1, abs(y)):\n",
    "        printnln(\" \")\n",
    "    for x in crange(1, ganjil(5-abs(y))):\n",
    "        printnln(x)\n",
    "    print()"
   ]
  },
  {
   "cell_type": "markdown",
   "metadata": {},
   "source": [
    "# SOAL 4"
   ]
  },
  {
   "cell_type": "code",
   "execution_count": 5,
   "metadata": {},
   "outputs": [
    {
     "name": "stdout",
     "output_type": "stream",
     "text": [
      "    1\n",
      "   131\n",
      "  13531\n",
      " 1357531\n",
      "135797531\n"
     ]
    }
   ],
   "source": [
    "for y in crange(1,5):\n",
    "    for w in crange(1,5-y):\n",
    "        printnln(\" \")\n",
    "    for x in crange(-pbound(y), pbound(y)):\n",
    "        n= y- abs(x)\n",
    "        printnln(ganjil(n))\n",
    "    print()\n",
    "    "
   ]
  },
  {
   "cell_type": "markdown",
   "metadata": {},
   "source": [
    "# SOAL 5"
   ]
  },
  {
   "cell_type": "code",
   "execution_count": 14,
   "metadata": {},
   "outputs": [
    {
     "name": "stdout",
     "output_type": "stream",
     "text": [
      "1357911131197531\n",
      " 135791197531\n",
      "  135797531\n",
      "   1357531\n",
      "    13531\n",
      "     131\n",
      "      1\n"
     ]
    }
   ],
   "source": [
    "    a=7\n",
    "    for y in crange(1,a):\n",
    "        for w in crange(1, y-1):\n",
    "            printnln(\" \")\n",
    "        n=a-(y-1)\n",
    "        b= pbound(n)\n",
    "        for x in crange(-b, b):\n",
    "            c= n- abs(x)\n",
    "            printnln(ganjil(c))\n",
    "        print()\n"
   ]
  },
  {
   "cell_type": "code",
   "execution_count": null,
   "metadata": {},
   "outputs": [],
   "source": []
  },
  {
   "cell_type": "markdown",
   "metadata": {},
   "source": [
    "# SOAL 6"
   ]
  },
  {
   "cell_type": "code",
   "execution_count": 7,
   "metadata": {},
   "outputs": [
    {
     "name": "stdout",
     "output_type": "stream",
     "text": [
      "    1\n",
      "   131\n",
      "  13531\n",
      " 1357531\n",
      "135797531\n",
      " 1357531\n",
      "  13531\n",
      "   131\n",
      "    1\n"
     ]
    }
   ],
   "source": [
    "for y in crange(-4,4):\n",
    "    for w in crange(1, abs(y)):\n",
    "        printnln(\" \")\n",
    "        \n",
    "    n= 5-abs(y)\n",
    "    b=pbound(n)\n",
    "    for x in crange(-b,b):\n",
    "        c=n-abs(x)\n",
    "        printnln(ganjil(c))\n",
    "    print()"
   ]
  },
  {
   "cell_type": "markdown",
   "metadata": {},
   "source": [
    "# SOAL 7"
   ]
  },
  {
   "cell_type": "code",
   "execution_count": 8,
   "metadata": {},
   "outputs": [
    {
     "name": "stdout",
     "output_type": "stream",
     "text": [
      "    1       1    \n",
      "   131     131   \n",
      "  13531   13531  \n",
      " 1357531 1357531 \n",
      "13579753135797531\n",
      " 1357531 1357531 \n",
      "  13531   13531  \n",
      "   131     131   \n",
      "    1       1    \n"
     ]
    }
   ],
   "source": [
    "for y in crange(-4,4):\n",
    "    for i in range(2):\n",
    "        for w in crange(1, abs(y)):\n",
    "            if w==1 and i==1:continue\n",
    "            printnln(\" \")\n",
    "\n",
    "        n= 5-abs(y)\n",
    "        b=pbound(n)\n",
    "        for x in crange(-b,b):\n",
    "            if x==-4 and i==1:continue\n",
    "                \n",
    "            c=n-abs(x)\n",
    "            printnln(ganjil(c))\n",
    "            \n",
    "        for w in crange(1, abs(y)):\n",
    "            printnln(\" \")\n",
    "    print()"
   ]
  },
  {
   "cell_type": "code",
   "execution_count": null,
   "metadata": {},
   "outputs": [],
   "source": []
  },
  {
   "cell_type": "code",
   "execution_count": 9,
   "metadata": {},
   "outputs": [
    {
     "name": "stdout",
     "output_type": "stream",
     "text": [
      "    5       5    \n",
      "   3 3     3 3   \n",
      "  2 2 2   2 2 2  \n",
      " 1 1 1 1 1 1 1 1 \n",
      "1 1 2 1 1 1 2 1 1\n",
      " 1 1 1 1 1 1 1 1 \n",
      "  2 2 2   2 2 2  \n",
      "   3 3     3 3   \n",
      "    5       5    \n"
     ]
    }
   ],
   "source": [
    "for y in crange(-4,4):\n",
    "    for i in range(2):\n",
    "        for w in crange(1, abs(y)):\n",
    "            if w==1 and i>0:continue\n",
    "            printnln(\" \")\n",
    "\n",
    "        b= 4-abs(y)\n",
    "       \n",
    "        for x in crange(-b,b):\n",
    "            if x==-4 and i>0:continue\n",
    "            \n",
    "            c=b+1-abs(x)\n",
    "            if c%2==0:\n",
    "                printnln(\" \")\n",
    "            else:\n",
    "                d=c//2+1\n",
    "                f= d if y==0 else abs(y)+1\n",
    "                printnln(fib(f))\n",
    "            \n",
    "        for w in crange(1, abs(y)):\n",
    "            printnln(\" \")\n",
    "    print()"
   ]
  },
  {
   "cell_type": "code",
   "execution_count": 10,
   "metadata": {},
   "outputs": [
    {
     "name": "stdout",
     "output_type": "stream",
     "text": [
      "    1       1       1    \n",
      "   131     131     131   \n",
      "  13531   13531   13531  \n",
      " 1357531 1357531 1357531 \n",
      "1357975313579753135797531\n",
      " 1357531 1357531 1357531 \n",
      "  13531   13531   13531  \n",
      "   131     131     131   \n",
      "    1       1       1    \n"
     ]
    }
   ],
   "source": [
    "for y in crange(-4,4):\n",
    "    for i in range(3):\n",
    "        for w in crange(1, abs(y)):\n",
    "            if w==1 and i>0 :continue\n",
    "            printnln(\" \")\n",
    "\n",
    "        n= 5-abs(y)\n",
    "        b=pbound(n)\n",
    "        for x in crange(-b,b):\n",
    "            if x==-4 and i>0:continue\n",
    "            c=n-abs(x)\n",
    "            printnln(ganjil(c))\n",
    "            \n",
    "        for w in crange(1, abs(y)):\n",
    "            printnln(\" \")\n",
    "    print()"
   ]
  },
  {
   "cell_type": "code",
   "execution_count": 11,
   "metadata": {},
   "outputs": [
    {
     "name": "stdout",
     "output_type": "stream",
     "text": [
      "    5       5       5       5       5       5       5    \n",
      "   3 3     3 3     3 3     3 3     3 3     3 3     3 3   \n",
      "  2 2 2   2 2 2   2 2 2   2 2 2   2 2 2   2 2 2   2 2 2  \n",
      " 1 1 1 1 1 1 1 1 1 1 1 1 1 1 1 1 1 1 1 1 1 1 1 1 1 1 1 1 \n",
      "1 1 2 1 1 1 2 1 1 1 2 1 1 1 2 1 1 1 2 1 1 1 2 1 1 1 2 1 1\n",
      " 1 1 1 1 1 1 1 1 1 1 1 1 1 1 1 1 1 1 1 1 1 1 1 1 1 1 1 1 \n",
      "  2 2 2   2 2 2   2 2 2   2 2 2   2 2 2   2 2 2   2 2 2  \n",
      "   3 3     3 3     3 3     3 3     3 3     3 3     3 3   \n",
      "    5       5       5       5       5       5       5    \n"
     ]
    }
   ],
   "source": [
    "for y in crange(-4,4):\n",
    "    for i in range(7):\n",
    "        for w in crange(1, abs(y)):\n",
    "            if w==1 and i>0:continue\n",
    "            printnln(\" \")\n",
    "\n",
    "        b= 4-abs(y)\n",
    "       \n",
    "        for x in crange(-b,b):\n",
    "            if x==-4 and i>0:continue\n",
    "            \n",
    "            c=b+1-abs(x)\n",
    "            if c%2==0:\n",
    "                printnln(\" \")\n",
    "            else:\n",
    "                d=c//2+1\n",
    "                f= d if y==0 else abs(y)+1\n",
    "                printnln(fib(f))\n",
    "            \n",
    "        for w in crange(1, abs(y)):\n",
    "            printnln(\" \")\n",
    "    print()"
   ]
  },
  {
   "cell_type": "code",
   "execution_count": null,
   "metadata": {},
   "outputs": [],
   "source": []
  }
 ],
 "metadata": {
  "kernelspec": {
   "display_name": "Python 3",
   "language": "python",
   "name": "python3"
  },
  "language_info": {
   "codemirror_mode": {
    "name": "ipython",
    "version": 3
   },
   "file_extension": ".py",
   "mimetype": "text/x-python",
   "name": "python",
   "nbconvert_exporter": "python",
   "pygments_lexer": "ipython3",
   "version": "3.6.5"
  }
 },
 "nbformat": 4,
 "nbformat_minor": 2
}

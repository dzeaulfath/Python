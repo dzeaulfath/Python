{
 "cells": [
  {
   "cell_type": "code",
   "execution_count": 5,
   "metadata": {},
   "outputs": [],
   "source": [
    "def crange(a,b):\n",
    "    return range(a,b+1)\n",
    "\n",
    "def printnln(a):\n",
    "    return print(a, end=\"\")\n",
    "\n",
    "def ganjil(a):\n",
    "    return a*2-1\n",
    "\n",
    "def fib(a, b):\n",
    "    if b==0:\n",
    "        return 1\n",
    "    else:\n",
    "        return fib(a-1)+fib(a-2)\n",
    "def pbound(a):\n",
    "    return a-1"
   ]
  },
  {
   "cell_type": "code",
   "execution_count": null,
   "metadata": {},
   "outputs": [],
   "source": []
  },
  {
   "cell_type": "code",
   "execution_count": 9,
   "metadata": {},
   "outputs": [
    {
     "name": "stdout",
     "output_type": "stream",
     "text": [
      "1\n",
      "1\n",
      "2\n",
      "3\n",
      "5\n",
      "8\n",
      "13\n",
      "21\n",
      "34\n"
     ]
    }
   ],
   "source": [
    "def fib(a):\n",
    "    if a<=2:\n",
    "        return 1 \n",
    "    else:\n",
    "        return fib(a-1)+fib(a-2)\n",
    "    \n",
    "for x in crange(1,9):\n",
    "    print(fib(x))"
   ]
  },
  {
   "cell_type": "code",
   "execution_count": 10,
   "metadata": {},
   "outputs": [
    {
     "name": "stdout",
     "output_type": "stream",
     "text": [
      "1\n",
      "1\n",
      "1\n",
      "3\n",
      "5\n",
      "9\n",
      "17\n",
      "31\n",
      "57\n"
     ]
    }
   ],
   "source": [
    "def fib(a):\n",
    "    if a<=3:\n",
    "        return 1\n",
    "    else:\n",
    "        return fib(a-1)+fib(a-2)+fib(a-3)\n",
    "    \n",
    "for x in crange(1,9):\n",
    "    print (fib(x))"
   ]
  },
  {
   "cell_type": "code",
   "execution_count": 14,
   "metadata": {},
   "outputs": [
    {
     "name": "stdout",
     "output_type": "stream",
     "text": [
      "10\n",
      "60\n"
     ]
    }
   ],
   "source": [
    "def fpb(a,b):\n",
    "    if b==0:\n",
    "        return a\n",
    "    else:\n",
    "        return fpb(b, a%b)\n",
    "print (fpb(20,30))\n",
    "\n",
    "def kpk(a,b):\n",
    "    return a*b//fpb(a,b)\n",
    "\n",
    "print (kpk(20,30))"
   ]
  },
  {
   "cell_type": "code",
   "execution_count": null,
   "metadata": {},
   "outputs": [],
   "source": [
    "for y in crange(1,9):\n",
    "    for x in crange(1,9):\n",
    "        if x==y:\n",
    "            c=x*2-1\n",
    "            printnln(c)\n",
    "        elif x==9-(y-1):\n",
    "            v=x*2-2\n",
    "            printnln(v)\n",
    "        elif x>y and x<9-(y-1):\n",
    "            printnln(\"A\")\n",
    "        elif x>"
   ]
  }
 ],
 "metadata": {
  "kernelspec": {
   "display_name": "Python 3",
   "language": "python",
   "name": "python3"
  },
  "language_info": {
   "codemirror_mode": {
    "name": "ipython",
    "version": 3
   },
   "file_extension": ".py",
   "mimetype": "text/x-python",
   "name": "python",
   "nbconvert_exporter": "python",
   "pygments_lexer": "ipython3",
   "version": "3.6.5"
  }
 },
 "nbformat": 4,
 "nbformat_minor": 2
}

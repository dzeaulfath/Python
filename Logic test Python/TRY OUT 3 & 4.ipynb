{
 "cells": [
  {
   "cell_type": "code",
   "execution_count": 10,
   "metadata": {},
   "outputs": [],
   "source": [
    "def printnln(a):\n",
    "    return print(a, end=\"\")\n",
    "def crange(a,b):\n",
    "    return range(a,b+1)\n",
    "def ganjil(a):\n",
    "    return a*2-1\n",
    "def pbound(a):\n",
    "    return a-1\n",
    "def fib(a):\n",
    "    if a<=2:\n",
    "        return 1\n",
    "    else:\n",
    "        return fib(a-1)+fib(a-2)"
   ]
  },
  {
   "cell_type": "code",
   "execution_count": null,
   "metadata": {},
   "outputs": [],
   "source": []
  },
  {
   "cell_type": "code",
   "execution_count": 3,
   "metadata": {},
   "outputs": [
    {
     "name": "stdout",
     "output_type": "stream",
     "text": [
      "1\n",
      "1\n",
      "2\n",
      "3\n",
      "5\n",
      "8\n",
      "13\n",
      "21\n",
      "34\n"
     ]
    }
   ],
   "source": [
    "def fib(a):\n",
    "    if a<=2:\n",
    "        return 1\n",
    "    else:\n",
    "        return fib(a-1)+fib(a-2)\n",
    "\n",
    "for x in crange(1,9):\n",
    "    print(fib(x))"
   ]
  },
  {
   "cell_type": "code",
   "execution_count": 4,
   "metadata": {},
   "outputs": [
    {
     "name": "stdout",
     "output_type": "stream",
     "text": [
      "1\n",
      "1\n",
      "1\n",
      "3\n",
      "5\n",
      "9\n",
      "17\n",
      "31\n",
      "57\n"
     ]
    }
   ],
   "source": [
    "def fib(a):\n",
    "    if a<=3:\n",
    "        return 1\n",
    "    else:\n",
    "        return fib(a-1)+fib(a-2)+fib(a-3)\n",
    "    \n",
    "for x in crange(1,9):\n",
    "    print(fib(x))"
   ]
  },
  {
   "cell_type": "code",
   "execution_count": 6,
   "metadata": {},
   "outputs": [
    {
     "name": "stdout",
     "output_type": "stream",
     "text": [
      "4\n",
      "60\n"
     ]
    }
   ],
   "source": [
    "def fpb(a,b):\n",
    "    if b==0:\n",
    "        return a\n",
    "    else:\n",
    "        return fpb(b,a%b)\n",
    "print(fpb(12,20))\n",
    "\n",
    "def kpk(a,b):\n",
    "    return a*b//fpb(a,b)\n",
    "\n",
    "print(kpk(12,20))"
   ]
  },
  {
   "cell_type": "code",
   "execution_count": 8,
   "metadata": {},
   "outputs": [
    {
     "name": "stdout",
     "output_type": "stream",
     "text": [
      "1AAAAAAA16\n",
      "D3AAAAA14B\n",
      "DD5AAA12BB\n",
      "DDD7A10BBB\n",
      "DDDD9BBBB\n",
      "DDD6C11BBB\n",
      "DD4CCC13BB\n",
      "D2CCCCC15B\n",
      "0CCCCCCC17\n"
     ]
    }
   ],
   "source": [
    "for y in crange(1,9):\n",
    "    for x in crange(1,9):\n",
    "        if x==y:\n",
    "            d=x*2-1\n",
    "            printnln(d)\n",
    "        elif x==9-(y-1):\n",
    "            f=x*2-2\n",
    "            printnln(f)\n",
    "        elif x>y and x<9-(y-1):\n",
    "            printnln(\"A\")\n",
    "        elif x>y and x>9-(y-1):\n",
    "            printnln(\"B\")\n",
    "        elif x<y and x>9-(y-1):\n",
    "            printnln(\"C\")\n",
    "        else:\n",
    "            printnln(\"D\")\n",
    "    print()"
   ]
  },
  {
   "cell_type": "code",
   "execution_count": 12,
   "metadata": {},
   "outputs": [
    {
     "name": "stdout",
     "output_type": "stream",
     "text": [
      "111111111\n",
      "111111111\n",
      "112222211\n",
      "112333211\n",
      "112353211\n",
      "112333211\n",
      "112222211\n",
      "111111111\n",
      "111111111\n"
     ]
    }
   ],
   "source": [
    "for y in crange(-4,4):\n",
    "    for x in crange(-4,4):\n",
    "        s= abs(x) if abs(x)>abs(y) else abs(y)\n",
    "        c=4-s+1\n",
    "        printnln(fib(c))\n",
    "    print()"
   ]
  },
  {
   "cell_type": "code",
   "execution_count": 13,
   "metadata": {},
   "outputs": [
    {
     "name": "stdout",
     "output_type": "stream",
     "text": [
      "111111111\n",
      "1_______1\n",
      "1_33333_1\n",
      "1_3___3_1\n",
      "1_3_5_3_1\n",
      "1_3___3_1\n",
      "1_33333_1\n",
      "1_______1\n",
      "111111111\n"
     ]
    }
   ],
   "source": [
    "for y in crange(-4,4):\n",
    "    for x in crange(-4,4):\n",
    "        s=abs(x) if abs(x)>abs(y) else abs(y)\n",
    "        d= 4-s+1\n",
    "        if d%2==0:\n",
    "            printnln(\"_\")\n",
    "        else:\n",
    "            printnln(d)\n",
    "    print()"
   ]
  },
  {
   "cell_type": "code",
   "execution_count": 15,
   "metadata": {},
   "outputs": [
    {
     "name": "stdout",
     "output_type": "stream",
     "text": [
      "111111111\n",
      "1_______1\n",
      "1_11111_1\n",
      "1_1___1_1\n",
      "1_1_2_1_1\n",
      "1_1___1_1\n",
      "1_11111_1\n",
      "1_______1\n",
      "111111111\n"
     ]
    }
   ],
   "source": [
    "for y in crange(-4,4):\n",
    "    for x in crange(-4,4):\n",
    "        s=abs(x) if abs(x) > abs(y) else abs(y)\n",
    "        d= 4-s+1\n",
    "        if d%2==0:\n",
    "            printnln(\"_\")\n",
    "        else:\n",
    "            f=d//2+1\n",
    "            printnln(fib(f))\n",
    "    print()"
   ]
  },
  {
   "cell_type": "code",
   "execution_count": 17,
   "metadata": {},
   "outputs": [
    {
     "name": "stdout",
     "output_type": "stream",
     "text": [
      "111111111\n",
      "1AAAAAAA1\n",
      "1A11111A1\n",
      "1A1BBB1A1\n",
      "1A1B2B1A1\n",
      "1A1BBB1A1\n",
      "1A11111A1\n",
      "1AAAAAAA1\n",
      "111111111\n"
     ]
    }
   ],
   "source": [
    "alph=\"ABC\"\n",
    "for y in crange(-4,4):\n",
    "    for x in crange(-4,4):\n",
    "        s=abs(x) if abs(x)> abs(y) else abs(y)\n",
    "        d= 4-s+1\n",
    "        if d%2==0:\n",
    "            f= d//2-1\n",
    "            printnln(alph[f])\n",
    "        else:\n",
    "            c=d//2+1\n",
    "            printnln(fib(c))\n",
    "    print()"
   ]
  },
  {
   "cell_type": "markdown",
   "metadata": {},
   "source": [
    "# LOGIC 4"
   ]
  },
  {
   "cell_type": "code",
   "execution_count": 19,
   "metadata": {},
   "outputs": [
    {
     "name": "stdout",
     "output_type": "stream",
     "text": [
      "    1\n",
      "   123\n",
      "  12345\n",
      " 1234567\n",
      "123456789\n"
     ]
    }
   ],
   "source": [
    "for y in crange(1,5):\n",
    "    for w in crange(1, 5-y):\n",
    "        printnln(\" \")\n",
    "    for x in crange(1, ganjil(y)):\n",
    "        printnln(x)\n",
    "    print()"
   ]
  },
  {
   "cell_type": "code",
   "execution_count": 20,
   "metadata": {},
   "outputs": [
    {
     "name": "stdout",
     "output_type": "stream",
     "text": [
      "123456789\n",
      " 1234567\n",
      "  12345\n",
      "   123\n",
      "    1\n"
     ]
    }
   ],
   "source": [
    "for y in crange(1,5):\n",
    "    for w in crange(1, y-1):\n",
    "        printnln(\" \")\n",
    "    d=5-(y-1)\n",
    "    for x in crange(1, ganjil(d)):\n",
    "        printnln(x)\n",
    "    print()"
   ]
  },
  {
   "cell_type": "code",
   "execution_count": 21,
   "metadata": {},
   "outputs": [
    {
     "name": "stdout",
     "output_type": "stream",
     "text": [
      "    1\n",
      "   123\n",
      "  12345\n",
      " 1234567\n",
      "123456789\n",
      " 1234567\n",
      "  12345\n",
      "   123\n",
      "    1\n"
     ]
    }
   ],
   "source": [
    "for y in crange(-4,4):\n",
    "    for w in crange(1, abs(y)):\n",
    "        printnln(\" \")\n",
    "    for x in crange(1, ganjil(5-abs(y))):\n",
    "        printnln(x)\n",
    "    print()"
   ]
  },
  {
   "cell_type": "code",
   "execution_count": 24,
   "metadata": {},
   "outputs": [
    {
     "name": "stdout",
     "output_type": "stream",
     "text": [
      "    1\n",
      "   131\n",
      "  13531\n",
      " 1357531\n",
      "135797531\n"
     ]
    }
   ],
   "source": [
    "for y in crange(1,5):\n",
    "    for w in crange(1, 5-y):\n",
    "        printnln(\" \")\n",
    "    b=pbound(y)\n",
    "    for x in crange(-b,b):\n",
    "        n=y-abs(x)\n",
    "        printnln(ganjil(n))\n",
    "    print()"
   ]
  },
  {
   "cell_type": "code",
   "execution_count": 26,
   "metadata": {},
   "outputs": [
    {
     "name": "stdout",
     "output_type": "stream",
     "text": [
      "135797531\n",
      " 1357531\n",
      "  13531\n",
      "   131\n",
      "    1\n"
     ]
    }
   ],
   "source": [
    "for y in crange(1,5):\n",
    "    for w in crange(1,y-1):\n",
    "        printnln(\" \")\n",
    "    c=5-(y-1)\n",
    "    b=pbound(c)\n",
    "    for x in crange(-b,b):\n",
    "        v=c-abs(x)\n",
    "        printnln(ganjil(v))\n",
    "    print()"
   ]
  },
  {
   "cell_type": "code",
   "execution_count": 31,
   "metadata": {},
   "outputs": [
    {
     "name": "stdout",
     "output_type": "stream",
     "text": [
      "    1\n",
      "   131\n",
      "  13531\n",
      " 1357531\n",
      "135797531\n",
      " 1357531\n",
      "  13531\n",
      "   131\n",
      "    1\n"
     ]
    }
   ],
   "source": [
    "for y in crange(-4,4):\n",
    "    for w in crange(1, abs(y)):\n",
    "        printnln(\" \")\n",
    "    c= 5-abs(y)\n",
    "    b=pbound(c)\n",
    "    for x in crange(-b,b):\n",
    "        v=c-abs(x)\n",
    "        printnln(ganjil(v))\n",
    "    print()"
   ]
  },
  {
   "cell_type": "code",
   "execution_count": 32,
   "metadata": {},
   "outputs": [
    {
     "name": "stdout",
     "output_type": "stream",
     "text": [
      "    1       1    \n",
      "   131     131   \n",
      "  13531   13531  \n",
      " 1357531 1357531 \n",
      "13579753135797531\n",
      " 1357531 1357531 \n",
      "  13531   13531  \n",
      "   131     131   \n",
      "    1       1    \n"
     ]
    }
   ],
   "source": [
    "for y in crange(-4,4):\n",
    "    for i in range(2):\n",
    "        for w in crange(1, abs(y)):\n",
    "            if w==1 and i==1: continue\n",
    "            printnln(\" \")\n",
    "            \n",
    "        c=5-abs(y)\n",
    "        b=pbound(c)\n",
    "        for x in crange(-b,b):\n",
    "            if x==-4 and i==1:continue\n",
    "            v=c-abs(x)\n",
    "            printnln(ganjil(v))\n",
    "        \n",
    "        for a in crange(1,abs(y)):\n",
    "            printnln(\" \")\n",
    "    print()\n",
    "        "
   ]
  },
  {
   "cell_type": "code",
   "execution_count": 25,
   "metadata": {},
   "outputs": [
    {
     "name": "stdout",
     "output_type": "stream",
     "text": [
      "    5       5    \n",
      "   3 3     3 3   \n",
      "  2 2 2   2 2 2  \n",
      " 1 1 1 1 1 1 1 1 \n",
      "1 1 2 1 1 1 2 1 1\n",
      " 1 1 1 1 1 1 1 1 \n",
      "  2 2 2   2 2 2  \n",
      "   3 3     3 3   \n",
      "    5       5    \n"
     ]
    }
   ],
   "source": [
    "for y in crange(-4,4):\n",
    "    for i in range(2):\n",
    "        for w in crange(1, abs(y)):\n",
    "            if w==1 and i>0: continue\n",
    "            printnln(\" \")\n",
    "            \n",
    "        b=4-abs(y)\n",
    "        \n",
    "        for x in crange(-b,b):\n",
    "            if x==-4 and i>0:continue\n",
    "            \n",
    "            c=b+1-abs(x)\n",
    "            if c%2==0:\n",
    "                printnln(\" \")\n",
    "            else:\n",
    "                n= c//2+1\n",
    "                r= n if y==0 else abs(y)+1\n",
    "                printnln(fib(r))\n",
    "        \n",
    "        for a in crange(1,abs(y)):\n",
    "            printnln(\" \")\n",
    "    print()\n",
    "        "
   ]
  },
  {
   "cell_type": "code",
   "execution_count": null,
   "metadata": {},
   "outputs": [],
   "source": []
  }
 ],
 "metadata": {
  "kernelspec": {
   "display_name": "Python 3",
   "language": "python",
   "name": "python3"
  },
  "language_info": {
   "codemirror_mode": {
    "name": "ipython",
    "version": 3
   },
   "file_extension": ".py",
   "mimetype": "text/x-python",
   "name": "python",
   "nbconvert_exporter": "python",
   "pygments_lexer": "ipython3",
   "version": "3.6.5"
  }
 },
 "nbformat": 4,
 "nbformat_minor": 2
}

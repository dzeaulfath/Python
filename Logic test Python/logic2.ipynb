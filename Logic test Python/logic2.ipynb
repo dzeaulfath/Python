{
 "cells": [
  {
   "cell_type": "code",
   "execution_count": 1,
   "metadata": {},
   "outputs": [],
   "source": [
    "def crange(a,b):\n",
    "    return range(a,b+1)\n",
    "\n",
    "def printnln(a):\n",
    "    print(a, end=\"\")"
   ]
  },
  {
   "cell_type": "code",
   "execution_count": null,
   "metadata": {},
   "outputs": [],
   "source": []
  },
  {
   "cell_type": "markdown",
   "metadata": {},
   "source": [
    "# SOAL 1"
   ]
  },
  {
   "cell_type": "code",
   "execution_count": 2,
   "metadata": {},
   "outputs": [
    {
     "name": "stdout",
     "output_type": "stream",
     "text": [
      "1__________\n",
      "_3_________\n",
      "__5________\n",
      "___7_______\n",
      "____9______\n",
      "_____11_____\n",
      "______13____\n",
      "_______15___\n",
      "________17__\n",
      "_________19_\n",
      "__________21\n"
     ]
    }
   ],
   "source": [
    "r=11\n",
    "for y in crange(1,r):\n",
    "    for x in crange(1,r):\n",
    "        if x==y:\n",
    "            n= x*2-1\n",
    "            printnln(n)\n",
    "        else:\n",
    "            printnln(\"_\")\n",
    "    print()"
   ]
  },
  {
   "cell_type": "code",
   "execution_count": null,
   "metadata": {},
   "outputs": [],
   "source": []
  },
  {
   "cell_type": "markdown",
   "metadata": {},
   "source": [
    "# SOAL 2"
   ]
  },
  {
   "cell_type": "code",
   "execution_count": 3,
   "metadata": {},
   "outputs": [
    {
     "name": "stdout",
     "output_type": "stream",
     "text": [
      "_________18\n",
      "________16_\n",
      "_______14__\n",
      "______12___\n",
      "_____10____\n",
      "____8_____\n",
      "___6______\n",
      "__4_______\n",
      "_2________\n",
      "0_________\n"
     ]
    }
   ],
   "source": [
    "r=10\n",
    "for y in reversed(crange(1,r)):\n",
    "    for x in crange(1,r):\n",
    "        if x==y:\n",
    "            n=x*2-2\n",
    "            printnln(n)\n",
    "        else:\n",
    "            printnln(\"_\")\n",
    "    print()"
   ]
  },
  {
   "cell_type": "code",
   "execution_count": 4,
   "metadata": {},
   "outputs": [
    {
     "name": "stdout",
     "output_type": "stream",
     "text": [
      "________16\n",
      "_______14_\n",
      "______12__\n",
      "_____10___\n",
      "____8____\n",
      "___6_____\n",
      "__4______\n",
      "_2_______\n",
      "0________\n"
     ]
    }
   ],
   "source": [
    "for y in crange(1,9):\n",
    "    for x in crange(1,9):\n",
    "        if x==9-(y-1):\n",
    "            n=x*2-2\n",
    "            printnln(n)\n",
    "        else:\n",
    "            printnln(\"_\")\n",
    "    print()"
   ]
  },
  {
   "cell_type": "markdown",
   "metadata": {},
   "source": [
    "# SOAL 3"
   ]
  },
  {
   "cell_type": "code",
   "execution_count": 12,
   "metadata": {},
   "outputs": [
    {
     "name": "stdout",
     "output_type": "stream",
     "text": [
      "1_____________28\n",
      "_3___________26_\n",
      "__5_________24__\n",
      "___7_______22___\n",
      "____9_____20____\n",
      "_____11___18_____\n",
      "______13_16______\n",
      "_______15_______\n",
      "______12_17______\n",
      "_____10___19_____\n",
      "____8_____21____\n",
      "___6_______23___\n",
      "__4_________25__\n",
      "_2___________27_\n",
      "0_____________29\n"
     ]
    }
   ],
   "source": [
    "r==12\n",
    "for y in crange(1,r):\n",
    "    for x in(crange(1,r)):\n",
    "        if x==y:\n",
    "            n=x*2-1\n",
    "            printnln(n)\n",
    "        elif x==r-(y-1):\n",
    "            n=x*2-2\n",
    "            printnln(n)\n",
    "        else:\n",
    "            printnln(\"_\")\n",
    "    print()"
   ]
  },
  {
   "cell_type": "markdown",
   "metadata": {},
   "source": [
    "# SOAL 4"
   ]
  },
  {
   "cell_type": "code",
   "execution_count": 6,
   "metadata": {},
   "outputs": [
    {
     "name": "stdout",
     "output_type": "stream",
     "text": [
      "1______1______28\n",
      "_3_____3_____26_\n",
      "__5____5____24__\n",
      "___7___7___22___\n",
      "____9__9__20____\n",
      "_____11_11_18_____\n",
      "______131316______\n",
      "0246810121516182022242628\n",
      "______121717______\n",
      "_____10_19_19_____\n",
      "____8__21__21____\n",
      "___6___23___23___\n",
      "__4____25____25__\n",
      "_2_____27_____27_\n",
      "0______29______29\n"
     ]
    }
   ],
   "source": [
    "r=15\n",
    "for y in crange(1,r):\n",
    "    for x in crange(1,r):\n",
    "        if x==y or x==(r+1)//2:\n",
    "            n=y*2-1\n",
    "            printnln(n)\n",
    "        elif x==r-(y-1) or y==(r+1)//2:\n",
    "            n=x*2-2\n",
    "            printnln(n)\n",
    "        else:\n",
    "            printnln(\"_\")\n",
    "    print(_)"
   ]
  },
  {
   "cell_type": "markdown",
   "metadata": {},
   "source": [
    "# SOAL 5"
   ]
  },
  {
   "cell_type": "code",
   "execution_count": 7,
   "metadata": {},
   "outputs": [
    {
     "name": "stdout",
     "output_type": "stream",
     "text": [
      "1________\n",
      "13_______\n",
      "135______\n",
      "1357_____\n",
      "13579____\n",
      "1357911___\n",
      "135791113__\n",
      "13579111315_\n",
      "1357911131517\n"
     ]
    }
   ],
   "source": [
    "for y in crange(1,9):\n",
    "    for x in crange(1,9):\n",
    "        if x<=y:\n",
    "            n=x*2-1\n",
    "            printnln(n)\n",
    "        else:\n",
    "            printnln(\"_\")\n",
    "    print()"
   ]
  },
  {
   "cell_type": "markdown",
   "metadata": {},
   "source": [
    "# SOAL 6"
   ]
  },
  {
   "cell_type": "code",
   "execution_count": 8,
   "metadata": {},
   "outputs": [
    {
     "name": "stdout",
     "output_type": "stream",
     "text": [
      "________16\n",
      "_______1414\n",
      "______121212\n",
      "_____10101010\n",
      "____88888\n",
      "___666666\n",
      "__4444444\n",
      "_22222222\n",
      "000000000\n"
     ]
    }
   ],
   "source": [
    "for y in crange(1,9):\n",
    "    for x in crange(1,9):\n",
    "        if x>=9-(y-1):\n",
    "            v=9-(y-1)\n",
    "            n=v*2-2\n",
    "            printnln(n)\n",
    "        else:\n",
    "            printnln(\"_\")\n",
    "    print()"
   ]
  },
  {
   "cell_type": "markdown",
   "metadata": {},
   "source": [
    "# SOAL 7"
   ]
  },
  {
   "cell_type": "code",
   "execution_count": 9,
   "metadata": {},
   "outputs": [
    {
     "name": "stdout",
     "output_type": "stream",
     "text": [
      "1aaaaaaa16\n",
      "_3aaaaa14_\n",
      "__5aaa12__\n",
      "___7a10___\n",
      "____9____\n",
      "___6b11___\n",
      "__4bbb13__\n",
      "_2bbbbb15_\n",
      "0bbbbbbb17\n"
     ]
    }
   ],
   "source": [
    "for y in crange(1,9):\n",
    "    for x in crange(1,9):\n",
    "        if x==y :\n",
    "            n=x*2-1\n",
    "            printnln(n)\n",
    "            \n",
    "        elif x>=y and x<=8-(y-1):\n",
    "            printnln(\"a\")\n",
    "            \n",
    "        elif x==9-(y-1) :\n",
    "            n=x*2-2\n",
    "            printnln(n)\n",
    "            \n",
    "        elif x<=y and x>=9-(y-1):\n",
    "            printnln(\"b\")\n",
    "        else:\n",
    "            printnln(\"_\")\n",
    "    print()"
   ]
  },
  {
   "cell_type": "code",
   "execution_count": null,
   "metadata": {},
   "outputs": [],
   "source": []
  },
  {
   "cell_type": "code",
   "execution_count": 10,
   "metadata": {},
   "outputs": [
    {
     "name": "stdout",
     "output_type": "stream",
     "text": [
      "1_______16\n",
      "a3_____14b\n",
      "aa5___12bb\n",
      "aaa7_10bbb\n",
      "aaaa9bbbb\n",
      "aaaa_11bbb\n",
      "aaa___13bb\n",
      "aa_____15b\n",
      "a_______17\n"
     ]
    }
   ],
   "source": [
    "for y in crange(1,9):\n",
    "    for x in crange(1,9):\n",
    "        if x==y:\n",
    "            n=x*2-1\n",
    "            printnln(n)\n",
    "        \n",
    "        elif x<=y and x<=9-(y-1):\n",
    "            printnln(\"a\")\n",
    "        \n",
    "        elif x==9-(y-1):\n",
    "            n=x*2-2\n",
    "            printnln(n)\n",
    "            \n",
    "        elif x>=y and x>=9-(y-1):\n",
    "            printnln(\"b\")\n",
    "        else:\n",
    "            printnln(\"_\")\n",
    "    print()\n",
    "            "
   ]
  },
  {
   "cell_type": "code",
   "execution_count": 11,
   "metadata": {},
   "outputs": [
    {
     "name": "stdout",
     "output_type": "stream",
     "text": [
      "1_______16\n",
      "A3_____14B\n",
      "AA5___12BB\n",
      "AAA7_10BBB\n",
      "AAAA9BBBB\n",
      "AAA6_11BBB\n",
      "AA4___13BB\n",
      "A2_____15B\n",
      "0_______17\n"
     ]
    }
   ],
   "source": [
    "for y in crange(1,9):\n",
    "    for x in crange(1,9):\n",
    "        if x==y:\n",
    "            n=x*2-1\n",
    "            printnln(n)\n",
    "        elif x<y and x<9-(y-1):\n",
    "            printnln(\"A\")\n",
    "        elif x>y and x>9-(y-1):\n",
    "            printnln(\"B\")\n",
    "        elif x==9-(y-1):\n",
    "            e=x*2-2\n",
    "            printnln(e)\n",
    "        else:\n",
    "            printnln(\"_\")\n",
    "    print()"
   ]
  },
  {
   "cell_type": "code",
   "execution_count": null,
   "metadata": {},
   "outputs": [],
   "source": []
  }
 ],
 "metadata": {
  "kernelspec": {
   "display_name": "Python 3",
   "language": "python",
   "name": "python3"
  },
  "language_info": {
   "codemirror_mode": {
    "name": "ipython",
    "version": 3
   },
   "file_extension": ".py",
   "mimetype": "text/x-python",
   "name": "python",
   "nbconvert_exporter": "python",
   "pygments_lexer": "ipython3",
   "version": "3.6.5"
  }
 },
 "nbformat": 4,
 "nbformat_minor": 2
}

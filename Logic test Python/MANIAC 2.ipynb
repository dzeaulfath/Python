{
 "cells": [
  {
   "cell_type": "code",
   "execution_count": 11,
   "metadata": {},
   "outputs": [],
   "source": [
    "def printnln(a):\n",
    "    return print(a, end=\"\")\n",
    "def crange(a,b):\n",
    "    return range(a,b+1)\n",
    "def ganjil(a):\n",
    "    return a*2-1\n",
    "def pbound(a):\n",
    "    return a-1\n",
    "def fib(a):\n",
    "    if a<=2:\n",
    "        return 1\n",
    "    else:\n",
    "        return fib(a-1)+fib(a-2)"
   ]
  },
  {
   "cell_type": "code",
   "execution_count": 17,
   "metadata": {},
   "outputs": [
    {
     "name": "stdout",
     "output_type": "stream",
     "text": [
      "*___________________\n",
      "_*__________________\n",
      "__*_________________\n",
      "___*________________\n",
      "____*_______________\n",
      "_____*______________\n",
      "______*_____________\n",
      "_______*____________\n",
      "________*___________\n",
      "_________*__________\n",
      "__________*_________\n",
      "___________*________\n",
      "____________*_______\n",
      "_____________*______\n",
      "______________*_____\n",
      "_______________*____\n",
      "________________*___\n",
      "_________________*__\n",
      "__________________*_\n",
      "___________________*\n"
     ]
    }
   ],
   "source": [
    "def din(a):\n",
    "    for y in crange(1,a):\n",
    "        for x in crange(1,a):\n",
    "            if x==y:\n",
    "                printnln(\"*\")\n",
    "            else:\n",
    "                printnln(\"_\")\n",
    "        print()\n",
    "din(20)"
   ]
  },
  {
   "cell_type": "code",
   "execution_count": null,
   "metadata": {},
   "outputs": [],
   "source": []
  },
  {
   "cell_type": "code",
   "execution_count": 3,
   "metadata": {},
   "outputs": [
    {
     "name": "stdout",
     "output_type": "stream",
     "text": [
      "________*\n",
      "_______*_\n",
      "______*__\n",
      "_____*___\n",
      "____*____\n",
      "___*_____\n",
      "__*______\n",
      "_*_______\n",
      "*________\n"
     ]
    }
   ],
   "source": [
    "for y in crange(1,9):\n",
    "    for x in crange(1,9):\n",
    "        if x==9-(y-1):\n",
    "            printnln(\"*\")\n",
    "        else:\n",
    "            printnln(\"_\")\n",
    "    print()"
   ]
  },
  {
   "cell_type": "code",
   "execution_count": 4,
   "metadata": {},
   "outputs": [
    {
     "name": "stdout",
     "output_type": "stream",
     "text": [
      "*_______*\n",
      "_*_____*_\n",
      "__*___*__\n",
      "___*_*___\n",
      "____*____\n",
      "___*_*___\n",
      "__*___*__\n",
      "_*_____*_\n",
      "*_______*\n"
     ]
    }
   ],
   "source": [
    "for y in crange(1,9):\n",
    "    for x in crange(1,9):\n",
    "        if x==y or x==9-(y-1):\n",
    "            printnln(\"*\")\n",
    "        else:\n",
    "            printnln(\"_\")\n",
    "    print()"
   ]
  },
  {
   "cell_type": "code",
   "execution_count": 5,
   "metadata": {},
   "outputs": [
    {
     "name": "stdout",
     "output_type": "stream",
     "text": [
      "*___*___*\n",
      "_*__*__*_\n",
      "__*_*_*__\n",
      "___***___\n",
      "*********\n",
      "___***___\n",
      "__*_*_*__\n",
      "_*__*__*_\n",
      "*___*___*\n"
     ]
    }
   ],
   "source": [
    "for x in crange(1,9):\n",
    "    for y in crange(1,9):\n",
    "        if x==y or x==9-(y-1) or x==5 or y==5:\n",
    "            printnln(\"*\")\n",
    "        else:\n",
    "            printnln(\"_\")\n",
    "    print()"
   ]
  },
  {
   "cell_type": "code",
   "execution_count": 6,
   "metadata": {},
   "outputs": [
    {
     "name": "stdout",
     "output_type": "stream",
     "text": [
      "*________\n",
      "**_______\n",
      "***______\n",
      "****_____\n",
      "*****____\n",
      "******___\n",
      "*******__\n",
      "********_\n",
      "*********\n"
     ]
    }
   ],
   "source": [
    "for y in crange(1,9):\n",
    "    for x in crange(1,9):\n",
    "        if x<=y :\n",
    "            printnln(\"*\")\n",
    "        else:\n",
    "            printnln(\"_\")\n",
    "    print()"
   ]
  },
  {
   "cell_type": "code",
   "execution_count": 7,
   "metadata": {},
   "outputs": [
    {
     "name": "stdout",
     "output_type": "stream",
     "text": [
      "________*\n",
      "_______**\n",
      "______***\n",
      "_____****\n",
      "____*****\n",
      "___******\n",
      "__*******\n",
      "_********\n",
      "*********\n"
     ]
    }
   ],
   "source": [
    "for y in crange(1,9):\n",
    "    for x in crange(1,9):\n",
    "        if x>=9-(y-1):\n",
    "            printnln(\"*\")\n",
    "        else:\n",
    "            printnln(\"_\")\n",
    "    print()"
   ]
  },
  {
   "cell_type": "code",
   "execution_count": 8,
   "metadata": {},
   "outputs": [
    {
     "name": "stdout",
     "output_type": "stream",
     "text": [
      "*********\n",
      "_*******_\n",
      "__*****__\n",
      "___***___\n",
      "____*____\n",
      "___***___\n",
      "__*****__\n",
      "_*******_\n",
      "*********\n"
     ]
    }
   ],
   "source": [
    "for y in crange(1,9):\n",
    "    for x in crange(1,9):\n",
    "        if x>=y and x<=9-(y-1) or x<=y and x>=9-(y-1):\n",
    "            printnln(\"*\")\n",
    "        else:\n",
    "            printnln(\"_\")\n",
    "    print()"
   ]
  },
  {
   "cell_type": "code",
   "execution_count": 9,
   "metadata": {},
   "outputs": [
    {
     "name": "stdout",
     "output_type": "stream",
     "text": [
      "*_______*\n",
      "**_____**\n",
      "***___***\n",
      "****_****\n",
      "*********\n",
      "****_****\n",
      "***___***\n",
      "**_____**\n",
      "*_______*\n"
     ]
    }
   ],
   "source": [
    "for y in crange(1,9):\n",
    "    for x in crange(1,9):\n",
    "        if x<=y and x<=9-(y-1) or x>=y and x>=9-(y-1):\n",
    "            printnln(\"*\")\n",
    "        else:\n",
    "            printnln(\"_\")\n",
    "    print()"
   ]
  },
  {
   "cell_type": "code",
   "execution_count": 10,
   "metadata": {},
   "outputs": [
    {
     "name": "stdout",
     "output_type": "stream",
     "text": [
      "1________\n",
      "_3_______\n",
      "__5______\n",
      "___7_____\n",
      "____9____\n",
      "_____11___\n",
      "______13__\n",
      "_______15_\n",
      "________17\n"
     ]
    }
   ],
   "source": [
    "for y in crange(1,9):\n",
    "    for x in crange(1,9):\n",
    "        if x==y:\n",
    "            c=x*2-1\n",
    "            printnln(c)\n",
    "        else:\n",
    "            printnln(\"_\")\n",
    "    print()"
   ]
  },
  {
   "cell_type": "code",
   "execution_count": 11,
   "metadata": {},
   "outputs": [
    {
     "name": "stdout",
     "output_type": "stream",
     "text": [
      "________16\n",
      "_______14_\n",
      "______12__\n",
      "_____10___\n",
      "____8____\n",
      "___6_____\n",
      "__4______\n",
      "_2_______\n",
      "0________\n"
     ]
    }
   ],
   "source": [
    "for y in crange(1,9):\n",
    "    for x in crange(1,9):\n",
    "        if x==9-(y-1):\n",
    "            c=x*2-2\n",
    "            printnln(c)\n",
    "        else:\n",
    "            printnln(\"_\")\n",
    "    print()"
   ]
  },
  {
   "cell_type": "code",
   "execution_count": 12,
   "metadata": {},
   "outputs": [
    {
     "name": "stdout",
     "output_type": "stream",
     "text": [
      "1_______16\n",
      "_3_____14_\n",
      "__5___12__\n",
      "___7_10___\n",
      "____9____\n",
      "___6_11___\n",
      "__4___13__\n",
      "_2_____15_\n",
      "0_______17\n"
     ]
    }
   ],
   "source": [
    "for y in crange(1,9):\n",
    "    for x in crange(1,9):\n",
    "        if x==y:\n",
    "            c=x*2-1\n",
    "            printnln(c)\n",
    "        elif x==9-(y-1):\n",
    "            v=x*2-2\n",
    "            printnln(v)\n",
    "        else:\n",
    "            printnln(\"_\")\n",
    "    print()"
   ]
  },
  {
   "cell_type": "code",
   "execution_count": 35,
   "metadata": {},
   "outputs": [
    {
     "name": "stdout",
     "output_type": "stream",
     "text": [
      "1___1____18\n",
      "_3__3___16_\n",
      "__5_5__14__\n",
      "___77_12___\n",
      "024691012141618\n",
      "____1111____\n",
      "___613_13___\n",
      "__4_15__15__\n",
      "_2__17___17_\n",
      "0___19____19\n"
     ]
    }
   ],
   "source": [
    "def din(a):\n",
    "    for y in crange(1,a):\n",
    "        for x in crange(1,a):\n",
    "            if x==y or x==(a+1)//2:\n",
    "                c=y*2-1\n",
    "                printnln(c)\n",
    "            elif x==a-(y-1) or y==(a+1)//2:\n",
    "                d=x*2-2\n",
    "                printnln(d)\n",
    "            else:\n",
    "                printnln(\"_\")\n",
    "        print()\n",
    "din(10)"
   ]
  },
  {
   "cell_type": "code",
   "execution_count": null,
   "metadata": {},
   "outputs": [],
   "source": []
  },
  {
   "cell_type": "code",
   "execution_count": 14,
   "metadata": {},
   "outputs": [
    {
     "name": "stdout",
     "output_type": "stream",
     "text": [
      "1________\n",
      "13_______\n",
      "135______\n",
      "1357_____\n",
      "13579____\n",
      "1357911___\n",
      "135791113__\n",
      "13579111315_\n",
      "1357911131517\n"
     ]
    }
   ],
   "source": [
    "for y in crange(1,9):\n",
    "    for x in crange(1,9):\n",
    "        if x<=y:\n",
    "            c=x*2-1\n",
    "            printnln(c)\n",
    "        else:\n",
    "            printnln(\"_\")\n",
    "    print()"
   ]
  },
  {
   "cell_type": "code",
   "execution_count": 15,
   "metadata": {},
   "outputs": [
    {
     "name": "stdout",
     "output_type": "stream",
     "text": [
      "________16\n",
      "_______1414\n",
      "______121212\n",
      "_____10101010\n",
      "____88888\n",
      "___666666\n",
      "__4444444\n",
      "_22222222\n",
      "000000000\n"
     ]
    }
   ],
   "source": [
    "for y in crange(1,9):\n",
    "    for x in crange(1,9):\n",
    "        if x>=9-(y-1):\n",
    "            c=9-(y-1)\n",
    "            d=c*2-2\n",
    "            printnln(d)\n",
    "        else:\n",
    "            printnln(\"_\")\n",
    "            \n",
    "    print()"
   ]
  },
  {
   "cell_type": "code",
   "execution_count": 37,
   "metadata": {},
   "outputs": [
    {
     "name": "stdout",
     "output_type": "stream",
     "text": [
      "1AAAAAAAAAA22\n",
      "_3AAAAAAAA20_\n",
      "__5AAAAAA18__\n",
      "___7AAAA16___\n",
      "____9AA14____\n",
      "_____1112_____\n",
      "_____1013_____\n",
      "____8BB15____\n",
      "___6BBBB17___\n",
      "__4BBBBBB19__\n",
      "_2BBBBBBBB21_\n",
      "0BBBBBBBBBB23\n"
     ]
    }
   ],
   "source": [
    "def din(a):\n",
    "    for y in crange(1,a):\n",
    "        for x in crange(1,a):\n",
    "            if x==y:\n",
    "                c=x*2-1\n",
    "                printnln(c)\n",
    "            elif x==a-(y-1):\n",
    "                d=x*2-2\n",
    "                printnln(d)\n",
    "            elif x>y and x<a-(y-1):\n",
    "                printnln(\"A\")\n",
    "            elif x<y and x>a-(y-1):\n",
    "                printnln(\"B\")\n",
    "            else:\n",
    "                printnln(\"_\")\n",
    "        print()\n",
    "din(12)"
   ]
  },
  {
   "cell_type": "code",
   "execution_count": null,
   "metadata": {},
   "outputs": [],
   "source": []
  },
  {
   "cell_type": "code",
   "execution_count": null,
   "metadata": {},
   "outputs": [],
   "source": []
  },
  {
   "cell_type": "code",
   "execution_count": 17,
   "metadata": {},
   "outputs": [
    {
     "name": "stdout",
     "output_type": "stream",
     "text": [
      "1_______16\n",
      "A3_____14B\n",
      "AA5___12BB\n",
      "AAA7_10BBB\n",
      "AAAA9BBBB\n",
      "AAA6_11BBB\n",
      "AA4___13BB\n",
      "A2_____15B\n",
      "0_______17\n"
     ]
    }
   ],
   "source": [
    "for y in crange(1,9):\n",
    "    for x in crange(1,9):\n",
    "        if x==y :\n",
    "            c=x*2-1\n",
    "            printnln(c)\n",
    "        elif x==9-(y-1):\n",
    "            d=x*2-2\n",
    "            printnln(d)\n",
    "        elif x<y and x<9-(y-1):\n",
    "            printnln(\"A\")\n",
    "        elif x>y and x>9-(y-1):\n",
    "            printnln(\"B\")\n",
    "        else:\n",
    "            printnln(\"_\")\n",
    "    print()"
   ]
  },
  {
   "cell_type": "code",
   "execution_count": 18,
   "metadata": {},
   "outputs": [
    {
     "name": "stdout",
     "output_type": "stream",
     "text": [
      "1\n",
      "1\n",
      "2\n",
      "3\n",
      "5\n",
      "8\n",
      "13\n",
      "21\n",
      "34\n"
     ]
    }
   ],
   "source": [
    "def fib(a):\n",
    "    if a<=2:\n",
    "        return 1\n",
    "    else:\n",
    "        return fib(a-1)+fib(a-2)\n",
    "for x in crange(1,9):\n",
    "    print(fib(x))"
   ]
  },
  {
   "cell_type": "code",
   "execution_count": 19,
   "metadata": {},
   "outputs": [
    {
     "name": "stdout",
     "output_type": "stream",
     "text": [
      "1\n",
      "1\n",
      "1\n",
      "3\n",
      "5\n",
      "9\n",
      "17\n",
      "31\n",
      "57\n"
     ]
    }
   ],
   "source": [
    "def fib(a):\n",
    "    if a<=3:\n",
    "        return 1\n",
    "    else:\n",
    "        return fib(a-1)+fib(a-2)+fib(a-3)\n",
    "for x in crange(1,9):\n",
    "    print(fib(x))"
   ]
  },
  {
   "cell_type": "code",
   "execution_count": 20,
   "metadata": {},
   "outputs": [
    {
     "name": "stdout",
     "output_type": "stream",
     "text": [
      "60\n"
     ]
    }
   ],
   "source": [
    "def fpb(a,b):\n",
    "    if b==0:\n",
    "        return a\n",
    "    else:\n",
    "        return fpb(b, a%b)\n",
    "def kpk(a,b):\n",
    "    return a*b//fpb(a,b)\n",
    "\n",
    "print(kpk(12,20))"
   ]
  },
  {
   "cell_type": "code",
   "execution_count": 39,
   "metadata": {},
   "outputs": [
    {
     "name": "stdout",
     "output_type": "stream",
     "text": [
      "1AAAAAAAAAA22\n",
      "D3AAAAAAAA20B\n",
      "DD5AAAAAA18BB\n",
      "DDD7AAAA16BBB\n",
      "DDDD9AA14BBBB\n",
      "DDDDD1112BBBBB\n",
      "DDDDD1013BBBBB\n",
      "DDDD8cc15BBBB\n",
      "DDD6cccc17BBB\n",
      "DD4cccccc19BB\n",
      "D2cccccccc21B\n",
      "0cccccccccc23\n"
     ]
    }
   ],
   "source": [
    "def din(a):\n",
    "    for y in crange(1,a):\n",
    "        for x in crange(1,a):\n",
    "            if x==y:\n",
    "                d=x*2-1\n",
    "                printnln(d)\n",
    "            elif x==a-(y-1):\n",
    "                c=x*2-2\n",
    "                printnln(c)\n",
    "            elif x>y and x<a-(y-1):\n",
    "                printnln(\"A\")\n",
    "            elif x>y and x>a-(y-1):\n",
    "                printnln(\"B\")\n",
    "            elif x<y and x>a-(y-1):\n",
    "                printnln(\"c\")\n",
    "            else:\n",
    "                printnln(\"D\")\n",
    "        print()\n",
    "din(12)"
   ]
  },
  {
   "cell_type": "code",
   "execution_count": null,
   "metadata": {},
   "outputs": [],
   "source": []
  },
  {
   "cell_type": "code",
   "execution_count": 55,
   "metadata": {},
   "outputs": [
    {
     "name": "stdout",
     "output_type": "stream",
     "text": [
      "11111111111\n",
      "11111111111\n",
      "11222222211\n",
      "11233333211\n",
      "11235553211\n",
      "11235853211\n",
      "11235553211\n",
      "11233333211\n",
      "11222222211\n",
      "11111111111\n",
      "11111111111\n"
     ]
    }
   ],
   "source": [
    "def din(a):    \n",
    "    for y in crange(-a,a):\n",
    "        for x in crange(-a,a):\n",
    "            s= abs(x) if abs(x)>abs(y) else abs(y)\n",
    "            d=a-s+1\n",
    "            printnln(fib(d))\n",
    "        print()\n",
    "din(5)"
   ]
  },
  {
   "cell_type": "code",
   "execution_count": null,
   "metadata": {},
   "outputs": [],
   "source": []
  },
  {
   "cell_type": "code",
   "execution_count": null,
   "metadata": {},
   "outputs": [],
   "source": []
  },
  {
   "cell_type": "code",
   "execution_count": 43,
   "metadata": {},
   "outputs": [
    {
     "name": "stdout",
     "output_type": "stream",
     "text": [
      "1111111111111\n",
      "1___________1\n",
      "1_333333333_1\n",
      "1_3_______3_1\n",
      "1_3_55555_3_1\n",
      "1_3_5___5_3_1\n",
      "1_3_5_7_5_3_1\n",
      "1_3_5___5_3_1\n",
      "1_3_55555_3_1\n",
      "1_3_______3_1\n",
      "1_333333333_1\n",
      "1___________1\n",
      "1111111111111\n"
     ]
    }
   ],
   "source": [
    "def din(a):\n",
    "    for y in crange(-a,a):\n",
    "        for x in crange(-a,a):\n",
    "            s= abs(x) if abs(x)>abs(y) else abs(y)\n",
    "            d=a-s+1\n",
    "            if d%2==0:\n",
    "                printnln(\"_\")\n",
    "            else:\n",
    "                printnln(d)\n",
    "        print()\n",
    "din(6)"
   ]
  },
  {
   "cell_type": "code",
   "execution_count": null,
   "metadata": {},
   "outputs": [],
   "source": []
  },
  {
   "cell_type": "code",
   "execution_count": 51,
   "metadata": {},
   "outputs": [
    {
     "name": "stdout",
     "output_type": "stream",
     "text": [
      "1111111111111\n",
      "1___________1\n",
      "1_111111111_1\n",
      "1_1_______1_1\n",
      "1_1_22222_1_1\n",
      "1_1_2___2_1_1\n",
      "1_1_2_3_2_1_1\n",
      "1_1_2___2_1_1\n",
      "1_1_22222_1_1\n",
      "1_1_______1_1\n",
      "1_111111111_1\n",
      "1___________1\n",
      "1111111111111\n"
     ]
    }
   ],
   "source": [
    "def din(a):\n",
    "    for y in crange(-a,a):\n",
    "        for x in crange(-a,a):\n",
    "            s= abs(x) if abs(x)>abs(y) else abs(y)\n",
    "            d=a-s+1\n",
    "            if d%2==0:\n",
    "                printnln(\"_\")\n",
    "            else:\n",
    "                f=d//2+1\n",
    "                printnln(fib(f))\n",
    "        print()\n",
    "din(6)"
   ]
  },
  {
   "cell_type": "code",
   "execution_count": null,
   "metadata": {},
   "outputs": [],
   "source": []
  },
  {
   "cell_type": "code",
   "execution_count": 52,
   "metadata": {},
   "outputs": [
    {
     "name": "stdout",
     "output_type": "stream",
     "text": [
      "1111111111111\n",
      "1AAAAAAAAAAA1\n",
      "1A111111111A1\n",
      "1A1BBBBBBB1A1\n",
      "1A1B22222B1A1\n",
      "1A1B2CCC2B1A1\n",
      "1A1B2C3C2B1A1\n",
      "1A1B2CCC2B1A1\n",
      "1A1B22222B1A1\n",
      "1A1BBBBBBB1A1\n",
      "1A111111111A1\n",
      "1AAAAAAAAAAA1\n",
      "1111111111111\n"
     ]
    }
   ],
   "source": [
    "def din(a):\n",
    "    alph=\"ABC\"\n",
    "    for y in crange(-a,a):\n",
    "        for x in crange(-a,a):\n",
    "            s=abs(x) if abs(x)>abs(y) else abs(y)\n",
    "            d=a-s+1\n",
    "            if d%2==0:\n",
    "                g=d//2-1\n",
    "                printnln(alph[g])\n",
    "            else:\n",
    "                c=d//2+1\n",
    "                printnln(fib(c))\n",
    "        print()\n",
    "din(6)"
   ]
  },
  {
   "cell_type": "code",
   "execution_count": null,
   "metadata": {},
   "outputs": [],
   "source": []
  },
  {
   "cell_type": "code",
   "execution_count": null,
   "metadata": {},
   "outputs": [],
   "source": []
  },
  {
   "cell_type": "code",
   "execution_count": 53,
   "metadata": {},
   "outputs": [
    {
     "name": "stdout",
     "output_type": "stream",
     "text": [
      "      1\n",
      "     123\n",
      "    12345\n",
      "   1234567\n",
      "  123456789\n",
      " 1234567891011\n",
      "12345678910111213\n"
     ]
    }
   ],
   "source": [
    "def din(a):\n",
    "    for y in crange(1,a):\n",
    "        for w in crange(1, a-y):\n",
    "            printnln(\" \")\n",
    "        for x in crange(1, ganjil(y)):\n",
    "            printnln(x)\n",
    "        print()\n",
    "din(7)"
   ]
  },
  {
   "cell_type": "code",
   "execution_count": null,
   "metadata": {},
   "outputs": [],
   "source": []
  },
  {
   "cell_type": "code",
   "execution_count": 54,
   "metadata": {},
   "outputs": [
    {
     "name": "stdout",
     "output_type": "stream",
     "text": [
      "12345678910111213\n",
      " 1234567891011\n",
      "  123456789\n",
      "   1234567\n",
      "    12345\n",
      "     123\n",
      "      1\n"
     ]
    }
   ],
   "source": [
    "def din(a):\n",
    "    for y in crange(1,a):\n",
    "        for w in crange(1, y-1):\n",
    "            printnln(\" \")\n",
    "        d=a-(y-1)\n",
    "        for x in crange(1, ganjil(d)):\n",
    "            printnln(x)\n",
    "        print()\n",
    "din(7)"
   ]
  },
  {
   "cell_type": "code",
   "execution_count": null,
   "metadata": {},
   "outputs": [],
   "source": []
  },
  {
   "cell_type": "code",
   "execution_count": 28,
   "metadata": {},
   "outputs": [
    {
     "name": "stdout",
     "output_type": "stream",
     "text": [
      "    1\n",
      "   123\n",
      "  12345\n",
      " 1234567\n",
      "123456789\n",
      " 1234567\n",
      "  12345\n",
      "   123\n",
      "    1\n"
     ]
    }
   ],
   "source": [
    "for y in crange(-4,4):\n",
    "    for w in crange(1, abs(y)):\n",
    "        printnln(\" \")\n",
    "    for x in crange(1, ganjil(5-abs(y))):\n",
    "        printnln(x)\n",
    "    print()"
   ]
  },
  {
   "cell_type": "code",
   "execution_count": 29,
   "metadata": {},
   "outputs": [
    {
     "name": "stdout",
     "output_type": "stream",
     "text": [
      "    1\n",
      "   131\n",
      "  13531\n",
      " 1357531\n",
      "135797531\n"
     ]
    }
   ],
   "source": [
    "for y in crange(1,5):\n",
    "    for w in crange(1, 5-y):\n",
    "        printnln(\" \")\n",
    "    b=pbound(y)\n",
    "    for x in crange(-b,b):\n",
    "        d= y-abs(x)\n",
    "        printnln(ganjil(d))\n",
    "    print()"
   ]
  },
  {
   "cell_type": "code",
   "execution_count": 30,
   "metadata": {},
   "outputs": [
    {
     "name": "stdout",
     "output_type": "stream",
     "text": [
      "135797531\n",
      " 1357531\n",
      "  13531\n",
      "   131\n",
      "    1\n"
     ]
    }
   ],
   "source": [
    "for y in crange(1,5):\n",
    "    for w in crange(1, y-1):\n",
    "        printnln(\" \")\n",
    "    s=5-(y-1)\n",
    "    b=pbound(s)\n",
    "    for x in crange(-b,b):\n",
    "        d=s-abs(x)\n",
    "        printnln(ganjil(d))\n",
    "    print()"
   ]
  },
  {
   "cell_type": "code",
   "execution_count": 31,
   "metadata": {},
   "outputs": [
    {
     "name": "stdout",
     "output_type": "stream",
     "text": [
      "    1\n",
      "   131\n",
      "  13531\n",
      " 1357531\n",
      "135797531\n",
      " 1357531\n",
      "  13531\n",
      "   131\n",
      "    1\n"
     ]
    }
   ],
   "source": [
    "for y in crange(-4,4):\n",
    "    for w in crange(1, abs(y)):\n",
    "        printnln(\" \")\n",
    "    s=5-abs(y)\n",
    "    b=pbound(s)\n",
    "    for x in crange(-b,b):\n",
    "        d=s-abs(x)\n",
    "        printnln(ganjil(d))\n",
    "    print()"
   ]
  },
  {
   "cell_type": "code",
   "execution_count": 32,
   "metadata": {},
   "outputs": [
    {
     "name": "stdout",
     "output_type": "stream",
     "text": [
      "    1       1    \n",
      "   131     131   \n",
      "  13531   13531  \n",
      " 1357531 1357531 \n",
      "13579753135797531\n",
      " 1357531 1357531 \n",
      "  13531   13531  \n",
      "   131     131   \n",
      "    1       1    \n"
     ]
    }
   ],
   "source": [
    "for y in crange(-4,4):\n",
    "    for i in range(2):\n",
    "        for w in crange(1,abs(y)):\n",
    "            if w==1 and i==1:continue\n",
    "            printnln(\" \")\n",
    "        s=5-abs(y)\n",
    "        b=pbound(s)\n",
    "        for x in crange(-b,b):\n",
    "            if x==-4 and i==1:continue\n",
    "            d=s-abs(x)\n",
    "            printnln(ganjil(d))\n",
    "            \n",
    "        for w in crange(1,abs(y)):\n",
    "            printnln(\" \")\n",
    "    print()"
   ]
  },
  {
   "cell_type": "code",
   "execution_count": null,
   "metadata": {},
   "outputs": [],
   "source": []
  },
  {
   "cell_type": "code",
   "execution_count": null,
   "metadata": {},
   "outputs": [],
   "source": []
  }
 ],
 "metadata": {
  "kernelspec": {
   "display_name": "Python 3",
   "language": "python",
   "name": "python3"
  },
  "language_info": {
   "codemirror_mode": {
    "name": "ipython",
    "version": 3
   },
   "file_extension": ".py",
   "mimetype": "text/x-python",
   "name": "python",
   "nbconvert_exporter": "python",
   "pygments_lexer": "ipython3",
   "version": "3.8.5"
  }
 },
 "nbformat": 4,
 "nbformat_minor": 2
}

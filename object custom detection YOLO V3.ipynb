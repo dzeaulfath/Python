{
  "cells": [
    {
      "cell_type": "markdown",
      "metadata": {
        "id": "view-in-github",
        "colab_type": "text"
      },
      "source": [
        "<a href=\"https://colab.research.google.com/github/dzeaulfath/Python/blob/main/object%20custom%20detection%20YOLO%20V3.ipynb\" target=\"_parent\"><img src=\"https://colab.research.google.com/assets/colab-badge.svg\" alt=\"Open In Colab\"/></a>"
      ]
    },
    {
      "cell_type": "code",
      "execution_count": null,
      "metadata": {
        "id": "C6JCyu3UogQK"
      },
      "outputs": [],
      "source": [
        "import tensorflow as tf"
      ]
    },
    {
      "cell_type": "code",
      "execution_count": null,
      "metadata": {
        "id": "8-fmZWkKpZjT"
      },
      "outputs": [],
      "source": [
        "device_list = tf.test.gpu_device_name()"
      ]
    },
    {
      "cell_type": "code",
      "execution_count": null,
      "metadata": {
        "colab": {
          "base_uri": "https://localhost:8080/",
          "height": 36
        },
        "id": "Rs_57SeAqOMn",
        "outputId": "ab87fc8e-e4f7-4379-b8ff-025a898149f7"
      },
      "outputs": [
        {
          "data": {
            "application/vnd.google.colaboratory.intrinsic+json": {
              "type": "string"
            },
            "text/plain": [
              "''"
            ]
          },
          "execution_count": 3,
          "metadata": {},
          "output_type": "execute_result"
        }
      ],
      "source": [
        "device_list"
      ]
    },
    {
      "cell_type": "code",
      "execution_count": null,
      "metadata": {
        "colab": {
          "base_uri": "https://localhost:8080/"
        },
        "id": "-8Z-38CJloBJ",
        "outputId": "da4c8e57-1230-4896-db27-e22132724af6"
      },
      "outputs": [
        {
          "name": "stdout",
          "output_type": "stream",
          "text": [
            "Mounted at /content/drive\n"
          ]
        }
      ],
      "source": [
        "from google.colab import drive\n",
        "drive.mount('/content/drive')"
      ]
    },
    {
      "cell_type": "code",
      "execution_count": null,
      "metadata": {
        "colab": {
          "base_uri": "https://localhost:8080/"
        },
        "id": "f-_73T3omO_7",
        "outputId": "1cda2ab3-d359-4e99-d4cb-d562c3594d00"
      },
      "outputs": [
        {
          "name": "stdout",
          "output_type": "stream",
          "text": [
            "backup\tbad.list  custom_data  custom_data.zip\tcustom_weight  darknet\n"
          ]
        }
      ],
      "source": [
        "!ls '/content/drive/My Drive/yolo_custom_model_Training'"
      ]
    },
    {
      "cell_type": "code",
      "execution_count": null,
      "metadata": {
        "id": "mZMeyGMwmfXP"
      },
      "outputs": [],
      "source": [
        "#!unzip '/content/drive/My Drive/yolo_custom_model_Training/custom_data.zip' -d '/content/drive/My Drive/yolo_custom_model_Training'"
      ]
    },
    {
      "cell_type": "code",
      "execution_count": null,
      "metadata": {
        "colab": {
          "base_uri": "https://localhost:8080/"
        },
        "id": "SuPMmcFcnBrM",
        "outputId": "acefaa5b-a129-4ade-cc97-9c896eedec5a"
      },
      "outputs": [
        {
          "name": "stdout",
          "output_type": "stream",
          "text": [
            "Cloning into '/content/drive/My Drive/yolo_custom_model_Training/darknet'...\n",
            "remote: Enumerating objects: 15376, done.\u001b[K\n",
            "remote: Total 15376 (delta 0), reused 0 (delta 0), pack-reused 15376\u001b[K\n",
            "Receiving objects: 100% (15376/15376), 14.01 MiB | 6.54 MiB/s, done.\n",
            "Resolving deltas: 100% (10340/10340), done.\n",
            "Checking out files: 100% (2050/2050), done.\n"
          ]
        }
      ],
      "source": [
        "#!git clone 'https://github.com/AlexeyAB/darknet' '/content/drive/My Drive/yolo_custom_model_Training/darknet'"
      ]
    },
    {
      "cell_type": "code",
      "execution_count": null,
      "metadata": {
        "colab": {
          "base_uri": "https://localhost:8080/"
        },
        "id": "V3fqO2Yunau7",
        "outputId": "c6b27180-54a8-4819-b277-c87ac49e9e54"
      },
      "outputs": [
        {
          "name": "stdout",
          "output_type": "stream",
          "text": [
            "/content/drive/My Drive/yolo_custom_model_Training/darknet\n"
          ]
        }
      ],
      "source": [
        "%cd /content/drive/My Drive/yolo_custom_model_Training/darknet"
      ]
    },
    {
      "cell_type": "code",
      "execution_count": null,
      "metadata": {
        "colab": {
          "base_uri": "https://localhost:8080/"
        },
        "id": "xybrJGMvyle5",
        "outputId": "32692fda-ad10-4ff4-edd6-3da0ea9688f7"
      },
      "outputs": [
        {
          "name": "stdout",
          "output_type": "stream",
          "text": [
            "3rdparty\t\tdarknet.py\t       net_cam_v4.sh\n",
            "backup\t\t\tdarknet_video.py       obj\n",
            "build\t\t\tdata\t\t       README.md\n",
            "build.ps1\t\timage_yolov3.sh        results\n",
            "cfg\t\t\timage_yolov4.sh        scripts\n",
            "cmake\t\t\tinclude\t\t       src\n",
            "CMakeLists.txt\t\tjson_mjpeg_streams.sh  vcpkg.json\n",
            "darknet\t\t\tLICENSE\t\t       video_yolov3.sh\n",
            "DarknetConfig.cmake.in\tMakefile.txt\t       video_yolov4.sh\n",
            "darknet_images.py\tnet_cam_v3.sh\t       yolov3_custom.cfg\n"
          ]
        }
      ],
      "source": [
        " !ls"
      ]
    },
    {
      "cell_type": "code",
      "execution_count": null,
      "metadata": {
        "colab": {
          "base_uri": "https://localhost:8080/"
        },
        "id": "NTK32yw5qKT4",
        "outputId": "ca7e2325-b2b2-4695-dc44-ad0dc68c3446"
      },
      "outputs": [
        {
          "name": "stdout",
          "output_type": "stream",
          "text": [
            "make: *** No rule to make target 'Makefile'.  Stop.\n"
          ]
        }
      ],
      "source": [
        "!make Makefile"
      ]
    },
    {
      "cell_type": "code",
      "execution_count": null,
      "metadata": {
        "colab": {
          "base_uri": "https://localhost:8080/"
        },
        "id": "xvSxb2vaqRm0",
        "outputId": "2e7861b4-a01d-4e64-bc6f-63d59a4cb0dc"
      },
      "outputs": [
        {
          "name": "stdout",
          "output_type": "stream",
          "text": [
            "/content/drive/My Drive/yolo_custom_model_Training\n"
          ]
        }
      ],
      "source": [
        "%cd /content/drive/My Drive/yolo_custom_model_Training"
      ]
    },
    {
      "cell_type": "code",
      "execution_count": null,
      "metadata": {
        "id": "rSYo67Rwvqhm"
      },
      "outputs": [],
      "source": [
        "!python custom_data/creating-files-data-and-name.py"
      ]
    },
    {
      "cell_type": "code",
      "execution_count": null,
      "metadata": {
        "id": "KVzGczdj0Gra"
      },
      "outputs": [],
      "source": [
        "!python custom_data/creating-train-and-test-txt-files.py"
      ]
    },
    {
      "cell_type": "code",
      "execution_count": null,
      "metadata": {
        "id": "LFEjBmrn-JpF"
      },
      "outputs": [],
      "source": [
        " !chmod +x darknet/darknet"
      ]
    },
    {
      "cell_type": "code",
      "execution_count": null,
      "metadata": {
        "colab": {
          "background_save": true,
          "base_uri": "https://localhost:8080/"
        },
        "id": "IoYrkzNb51og",
        "outputId": "73e3ced7-e4a4-4247-aec0-02df4686febc"
      },
      "outputs": [
        {
          "name": "stdout",
          "output_type": "stream",
          "text": [
            " GPU isn't used \n",
            " OpenCV isn't used - data augmentation will be slow \n",
            "yolov3_custom\n",
            "mini_batch = 1, batch = 8, time_steps = 1, train = 1 \n",
            "   layer   filters  size/strd(dil)      input                output\n",
            "   0 conv     32       3 x 3/ 1    416 x 416 x   3 ->  416 x 416 x  32 0.299 BF\n",
            "   1 conv     64       3 x 3/ 2    416 x 416 x  32 ->  208 x 208 x  64 1.595 BF\n",
            "   2 conv     32       1 x 1/ 1    208 x 208 x  64 ->  208 x 208 x  32 0.177 BF\n",
            "   3 conv     64       3 x 3/ 1    208 x 208 x  32 ->  208 x 208 x  64 1.595 BF\n",
            "   4 Shortcut Layer: 1,  wt = 0, wn = 0, outputs: 208 x 208 x  64 0.003 BF\n",
            "   5 conv    128       3 x 3/ 2    208 x 208 x  64 ->  104 x 104 x 128 1.595 BF\n",
            "   6 conv     64       1 x 1/ 1    104 x 104 x 128 ->  104 x 104 x  64 0.177 BF\n",
            "   7 conv    128       3 x 3/ 1    104 x 104 x  64 ->  104 x 104 x 128 1.595 BF\n",
            "   8 Shortcut Layer: 5,  wt = 0, wn = 0, outputs: 104 x 104 x 128 0.001 BF\n",
            "   9 conv     64       1 x 1/ 1    104 x 104 x 128 ->  104 x 104 x  64 0.177 BF\n",
            "  10 conv    128       3 x 3/ 1    104 x 104 x  64 ->  104 x 104 x 128 1.595 BF\n",
            "  11 Shortcut Layer: 8,  wt = 0, wn = 0, outputs: 104 x 104 x 128 0.001 BF\n",
            "  12 conv    256       3 x 3/ 2    104 x 104 x 128 ->   52 x  52 x 256 1.595 BF\n",
            "  13 conv    128       1 x 1/ 1     52 x  52 x 256 ->   52 x  52 x 128 0.177 BF\n",
            "  14 conv    256       3 x 3/ 1     52 x  52 x 128 ->   52 x  52 x 256 1.595 BF\n",
            "  15 Shortcut Layer: 12,  wt = 0, wn = 0, outputs:  52 x  52 x 256 0.001 BF\n",
            "  16 conv    128       1 x 1/ 1     52 x  52 x 256 ->   52 x  52 x 128 0.177 BF\n",
            "  17 conv    256       3 x 3/ 1     52 x  52 x 128 ->   52 x  52 x 256 1.595 BF\n",
            "  18 Shortcut Layer: 15,  wt = 0, wn = 0, outputs:  52 x  52 x 256 0.001 BF\n",
            "  19 conv    128       1 x 1/ 1     52 x  52 x 256 ->   52 x  52 x 128 0.177 BF\n",
            "  20 conv    256       3 x 3/ 1     52 x  52 x 128 ->   52 x  52 x 256 1.595 BF\n",
            "  21 Shortcut Layer: 18,  wt = 0, wn = 0, outputs:  52 x  52 x 256 0.001 BF\n",
            "  22 conv    128       1 x 1/ 1     52 x  52 x 256 ->   52 x  52 x 128 0.177 BF\n",
            "  23 conv    256       3 x 3/ 1     52 x  52 x 128 ->   52 x  52 x 256 1.595 BF\n",
            "  24 Shortcut Layer: 21,  wt = 0, wn = 0, outputs:  52 x  52 x 256 0.001 BF\n",
            "  25 conv    128       1 x 1/ 1     52 x  52 x 256 ->   52 x  52 x 128 0.177 BF\n",
            "  26 conv    256       3 x 3/ 1     52 x  52 x 128 ->   52 x  52 x 256 1.595 BF\n",
            "  27 Shortcut Layer: 24,  wt = 0, wn = 0, outputs:  52 x  52 x 256 0.001 BF\n",
            "  28 conv    128       1 x 1/ 1     52 x  52 x 256 ->   52 x  52 x 128 0.177 BF\n",
            "  29 conv    256       3 x 3/ 1     52 x  52 x 128 ->   52 x  52 x 256 1.595 BF\n",
            "  30 Shortcut Layer: 27,  wt = 0, wn = 0, outputs:  52 x  52 x 256 0.001 BF\n",
            "  31 conv    128       1 x 1/ 1     52 x  52 x 256 ->   52 x  52 x 128 0.177 BF\n",
            "  32 conv    256       3 x 3/ 1     52 x  52 x 128 ->   52 x  52 x 256 1.595 BF\n",
            "  33 Shortcut Layer: 30,  wt = 0, wn = 0, outputs:  52 x  52 x 256 0.001 BF\n",
            "  34 conv    128       1 x 1/ 1     52 x  52 x 256 ->   52 x  52 x 128 0.177 BF\n",
            "  35 conv    256       3 x 3/ 1     52 x  52 x 128 ->   52 x  52 x 256 1.595 BF\n",
            "  36 Shortcut Layer: 33,  wt = 0, wn = 0, outputs:  52 x  52 x 256 0.001 BF\n",
            "  37 conv    512       3 x 3/ 2     52 x  52 x 256 ->   26 x  26 x 512 1.595 BF\n",
            "  38 conv    256       1 x 1/ 1     26 x  26 x 512 ->   26 x  26 x 256 0.177 BF\n",
            "  39 conv    512       3 x 3/ 1     26 x  26 x 256 ->   26 x  26 x 512 1.595 BF\n",
            "  40 Shortcut Layer: 37,  wt = 0, wn = 0, outputs:  26 x  26 x 512 0.000 BF\n",
            "  41 conv    256       1 x 1/ 1     26 x  26 x 512 ->   26 x  26 x 256 0.177 BF\n",
            "  42 conv    512       3 x 3/ 1     26 x  26 x 256 ->   26 x  26 x 512 1.595 BF\n",
            "  43 Shortcut Layer: 40,  wt = 0, wn = 0, outputs:  26 x  26 x 512 0.000 BF\n",
            "  44 conv    256       1 x 1/ 1     26 x  26 x 512 ->   26 x  26 x 256 0.177 BF\n",
            "  45 conv    512       3 x 3/ 1     26 x  26 x 256 ->   26 x  26 x 512 1.595 BF\n",
            "  46 Shortcut Layer: 43,  wt = 0, wn = 0, outputs:  26 x  26 x 512 0.000 BF\n",
            "  47 conv    256       1 x 1/ 1     26 x  26 x 512 ->   26 x  26 x 256 0.177 BF\n",
            "  48 conv    512       3 x 3/ 1     26 x  26 x 256 ->   26 x  26 x 512 1.595 BF\n",
            "  49 Shortcut Layer: 46,  wt = 0, wn = 0, outputs:  26 x  26 x 512 0.000 BF\n",
            "  50 conv    256       1 x 1/ 1     26 x  26 x 512 ->   26 x  26 x 256 0.177 BF\n",
            "  51 conv    512       3 x 3/ 1     26 x  26 x 256 ->   26 x  26 x 512 1.595 BF\n",
            "  52 Shortcut Layer: 49,  wt = 0, wn = 0, outputs:  26 x  26 x 512 0.000 BF\n",
            "  53 conv    256       1 x 1/ 1     26 x  26 x 512 ->   26 x  26 x 256 0.177 BF\n",
            "  54 conv    512       3 x 3/ 1     26 x  26 x 256 ->   26 x  26 x 512 1.595 BF\n",
            "  55 Shortcut Layer: 52,  wt = 0, wn = 0, outputs:  26 x  26 x 512 0.000 BF\n",
            "  56 conv    256       1 x 1/ 1     26 x  26 x 512 ->   26 x  26 x 256 0.177 BF\n",
            "  57 conv    512       3 x 3/ 1     26 x  26 x 256 ->   26 x  26 x 512 1.595 BF\n",
            "  58 Shortcut Layer: 55,  wt = 0, wn = 0, outputs:  26 x  26 x 512 0.000 BF\n",
            "  59 conv    256       1 x 1/ 1     26 x  26 x 512 ->   26 x  26 x 256 0.177 BF\n",
            "  60 conv    512       3 x 3/ 1     26 x  26 x 256 ->   26 x  26 x 512 1.595 BF\n",
            "  61 Shortcut Layer: 58,  wt = 0, wn = 0, outputs:  26 x  26 x 512 0.000 BF\n",
            "  62 conv   1024       3 x 3/ 2     26 x  26 x 512 ->   13 x  13 x1024 1.595 BF\n",
            "  63 conv    512       1 x 1/ 1     13 x  13 x1024 ->   13 x  13 x 512 0.177 BF\n",
            "  64 conv   1024       3 x 3/ 1     13 x  13 x 512 ->   13 x  13 x1024 1.595 BF\n",
            "  65 Shortcut Layer: 62,  wt = 0, wn = 0, outputs:  13 x  13 x1024 0.000 BF\n",
            "  66 conv    512       1 x 1/ 1     13 x  13 x1024 ->   13 x  13 x 512 0.177 BF\n",
            "  67 conv   1024       3 x 3/ 1     13 x  13 x 512 ->   13 x  13 x1024 1.595 BF\n",
            "  68 Shortcut Layer: 65,  wt = 0, wn = 0, outputs:  13 x  13 x1024 0.000 BF\n",
            "  69 conv    512       1 x 1/ 1     13 x  13 x1024 ->   13 x  13 x 512 0.177 BF\n",
            "  70 conv   1024       3 x 3/ 1     13 x  13 x 512 ->   13 x  13 x1024 1.595 BF\n",
            "  71 Shortcut Layer: 68,  wt = 0, wn = 0, outputs:  13 x  13 x1024 0.000 BF\n",
            "  72 conv    512       1 x 1/ 1     13 x  13 x1024 ->   13 x  13 x 512 0.177 BF\n",
            "  73 conv   1024       3 x 3/ 1     13 x  13 x 512 ->   13 x  13 x1024 1.595 BF\n",
            "  74 Shortcut Layer: 71,  wt = 0, wn = 0, outputs:  13 x  13 x1024 0.000 BF\n",
            "  75 conv    512       1 x 1/ 1     13 x  13 x1024 ->   13 x  13 x 512 0.177 BF\n",
            "  76 conv   1024       3 x 3/ 1     13 x  13 x 512 ->   13 x  13 x1024 1.595 BF\n",
            "  77 conv    512       1 x 1/ 1     13 x  13 x1024 ->   13 x  13 x 512 0.177 BF\n",
            "  78 conv   1024       3 x 3/ 1     13 x  13 x 512 ->   13 x  13 x1024 1.595 BF\n",
            "  79 conv    512       1 x 1/ 1     13 x  13 x1024 ->   13 x  13 x 512 0.177 BF\n",
            "  80 conv   1024       3 x 3/ 1     13 x  13 x 512 ->   13 x  13 x1024 1.595 BF\n",
            "  81 conv     24       1 x 1/ 1     13 x  13 x1024 ->   13 x  13 x  24 0.008 BF\n",
            "  82 yolo\n",
            "[yolo] params: iou loss: mse (2), iou_norm: 0.75, obj_norm: 1.00, cls_norm: 1.00, delta_norm: 1.00, scale_x_y: 1.00\n",
            "  83 route  79 \t\t                           ->   13 x  13 x 512 \n",
            "  84 conv    256       1 x 1/ 1     13 x  13 x 512 ->   13 x  13 x 256 0.044 BF\n",
            "  85 upsample                 2x    13 x  13 x 256 ->   26 x  26 x 256\n",
            "  86 route  85 61 \t                           ->   26 x  26 x 768 \n",
            "  87 conv    256       1 x 1/ 1     26 x  26 x 768 ->   26 x  26 x 256 0.266 BF\n",
            "  88 conv    512       3 x 3/ 1     26 x  26 x 256 ->   26 x  26 x 512 1.595 BF\n",
            "  89 conv    256       1 x 1/ 1     26 x  26 x 512 ->   26 x  26 x 256 0.177 BF\n",
            "  90 conv    512       3 x 3/ 1     26 x  26 x 256 ->   26 x  26 x 512 1.595 BF\n",
            "  91 conv    256       1 x 1/ 1     26 x  26 x 512 ->   26 x  26 x 256 0.177 BF\n",
            "  92 conv    512       3 x 3/ 1     26 x  26 x 256 ->   26 x  26 x 512 1.595 BF\n",
            "  93 conv     24       1 x 1/ 1     26 x  26 x 512 ->   26 x  26 x  24 0.017 BF\n",
            "  94 yolo\n",
            "[yolo] params: iou loss: mse (2), iou_norm: 0.75, obj_norm: 1.00, cls_norm: 1.00, delta_norm: 1.00, scale_x_y: 1.00\n",
            "  95 route  91 \t\t                           ->   26 x  26 x 256 \n",
            "  96 conv    128       1 x 1/ 1     26 x  26 x 256 ->   26 x  26 x 128 0.044 BF\n",
            "  97 upsample                 2x    26 x  26 x 128 ->   52 x  52 x 128\n",
            "  98 route  97 36 \t                           ->   52 x  52 x 384 \n",
            "  99 conv    128       1 x 1/ 1     52 x  52 x 384 ->   52 x  52 x 128 0.266 BF\n",
            " 100 conv    256       3 x 3/ 1     52 x  52 x 128 ->   52 x  52 x 256 1.595 BF\n",
            " 101 conv    128       1 x 1/ 1     52 x  52 x 256 ->   52 x  52 x 128 0.177 BF\n",
            " 102 conv    256       3 x 3/ 1     52 x  52 x 128 ->   52 x  52 x 256 1.595 BF\n",
            " 103 conv    128       1 x 1/ 1     52 x  52 x 256 ->   52 x  52 x 128 0.177 BF\n",
            " 104 conv    256       3 x 3/ 1     52 x  52 x 128 ->   52 x  52 x 256 1.595 BF\n",
            " 105 conv     24       1 x 1/ 1     52 x  52 x 256 ->   52 x  52 x  24 0.033 BF\n",
            " 106 yolo\n",
            "[yolo] params: iou loss: mse (2), iou_norm: 0.75, obj_norm: 1.00, cls_norm: 1.00, delta_norm: 1.00, scale_x_y: 1.00\n",
            "Total BFLOPS 65.319 \n",
            "avg_outputs = 517121 \n",
            "Loading weights from custom_weight/darknet53.conv.74...\n",
            " seen 64, trained: 0 K-images (0 Kilo-batches_64) \n",
            "Done! Loaded 75 layers from weights-file \n",
            "Learning Rate: 0.001, Momentum: 0.9, Decay: 0.0005\n",
            " Detection layer: 82 - type = 28 \n",
            " Detection layer: 94 - type = 28 \n",
            " Detection layer: 106 - type = 28 \n",
            "Resizing, random_coef = 1.40 \n",
            "\n",
            " 608 x 608 \n",
            " Create 64 permanent cpu-threads \n",
            "Can't open label file. (This can be normal only if you use MSCOCO): custom_data/Yakult (18).txt \n",
            "Can't open label file. (This can be normal only if you use MSCOCO): custom_data/UC (11).txt \n",
            "Can't open label file. (This can be normal only if you use MSCOCO): custom_data/Yakult (19).txt \n",
            "Can't open label file. (This can be normal only if you use MSCOCO): custom_data/UC (10).txt \n",
            "Can't open label file. (This can be normal only if you use MSCOCO): custom_data/Pepsodent (8).txt \n",
            "Can't open label file. (This can be normal only if you use MSCOCO): custom_data/Pepsodent (8).txt \n",
            "Can't open label file. (This can be normal only if you use MSCOCO): custom_data/Yakult (14).txt \n",
            "Can't open label file. (This can be normal only if you use MSCOCO): custom_data/Yakult (12).txt \n",
            "Can't open label file. (This can be normal only if you use MSCOCO): custom_data/Yakult (14).txt \n",
            "Can't open label file. (This can be normal only if you use MSCOCO): custom_data/UC (11).txt \n",
            "Can't open label file. (This can be normal only if you use MSCOCO): custom_data/Pepsodent (17).txt \n",
            "Can't open label file. (This can be normal only if you use MSCOCO): custom_data/Yakult (22).txt \n",
            "Can't open label file. (This can be normal only if you use MSCOCO): custom_data/Pepsodent (4).txt \n",
            "Can't open label file. (This can be normal only if you use MSCOCO): custom_data/UC (5).txt \n",
            "Can't open label file. (This can be normal only if you use MSCOCO): custom_data/Yakult (7).txt \n",
            "Can't open label file. (This can be normal only if you use MSCOCO): custom_data/Yakult (3).txt \n",
            "Loaded: 0.000041 seconds\n",
            "Can't open label file. (This can be normal only if you use MSCOCO): custom_data/Yakult (14).txt \n",
            "Can't open label file. (This can be normal only if you use MSCOCO): custom_data/UC (10).txt \n",
            "Can't open label file. (This can be normal only if you use MSCOCO): custom_data/Pepsodent (20).txt \n",
            "Can't open label file. (This can be normal only if you use MSCOCO): custom_data/Pepsodent (5).txt \n",
            "Can't open label file. (This can be normal only if you use MSCOCO): custom_data/Yakult (6).txt \n",
            "Can't open label file. (This can be normal only if you use MSCOCO): custom_data/Yakult (15).txt \n",
            "Can't open label file. (This can be normal only if you use MSCOCO): custom_data/Yakult (13).txt \n",
            "Can't open label file. (This can be normal only if you use MSCOCO): custom_data/UC (1).txt \n",
            "v3 (mse loss, Normalizer: (iou: 0.75, obj: 1.00, cls: 1.00) Region 82 Avg (IOU: 0.000000), count: 1, class_loss = 325.957428, iou_loss = 0.000000, total_loss = 325.957428 \n",
            "v3 (mse loss, Normalizer: (iou: 0.75, obj: 1.00, cls: 1.00) Region 94 Avg (IOU: 0.000000), count: 1, class_loss = 1054.720947, iou_loss = 0.000000, total_loss = 1054.720947 \n",
            "v3 (mse loss, Normalizer: (iou: 0.75, obj: 1.00, cls: 1.00) Region 106 Avg (IOU: 0.000000), count: 1, class_loss = 4348.053711, iou_loss = 0.000000, total_loss = 4348.053711 \n",
            "v3 (mse loss, Normalizer: (iou: 0.75, obj: 1.00, cls: 1.00) Region 82 Avg (IOU: 0.000000), count: 1, class_loss = 328.860718, iou_loss = 0.000000, total_loss = 328.860718 \n",
            "v3 (mse loss, Normalizer: (iou: 0.75, obj: 1.00, cls: 1.00) Region 94 Avg (IOU: 0.000000), count: 1, class_loss = 1041.529419, iou_loss = 0.000000, total_loss = 1041.529419 \n",
            "v3 (mse loss, Normalizer: (iou: 0.75, obj: 1.00, cls: 1.00) Region 106 Avg (IOU: 0.000000), count: 1, class_loss = 4377.597168, iou_loss = 0.000000, total_loss = 4377.597168 \n",
            "v3 (mse loss, Normalizer: (iou: 0.75, obj: 1.00, cls: 1.00) Region 82 Avg (IOU: 0.000000), count: 1, class_loss = 328.101807, iou_loss = 0.000000, total_loss = 328.101807 \n",
            "v3 (mse loss, Normalizer: (iou: 0.75, obj: 1.00, cls: 1.00) Region 94 Avg (IOU: 0.000000), count: 1, class_loss = 1041.265747, iou_loss = 0.000000, total_loss = 1041.265747 \n",
            "v3 (mse loss, Normalizer: (iou: 0.75, obj: 1.00, cls: 1.00) Region 106 Avg (IOU: 0.000000), count: 1, class_loss = 4371.199219, iou_loss = 0.000000, total_loss = 4371.199219 \n",
            "v3 (mse loss, Normalizer: (iou: 0.75, obj: 1.00, cls: 1.00) Region 82 Avg (IOU: 0.000000), count: 1, class_loss = 320.487762, iou_loss = 0.000000, total_loss = 320.487762 \n",
            "v3 (mse loss, Normalizer: (iou: 0.75, obj: 1.00, cls: 1.00) Region 94 Avg (IOU: 0.000000), count: 1, class_loss = 1063.161621, iou_loss = 0.000000, total_loss = 1063.161621 \n",
            "v3 (mse loss, Normalizer: (iou: 0.75, obj: 1.00, cls: 1.00) Region 106 Avg (IOU: 0.000000), count: 1, class_loss = 4324.285645, iou_loss = 0.000000, total_loss = 4324.285645 \n",
            "v3 (mse loss, Normalizer: (iou: 0.75, obj: 1.00, cls: 1.00) Region 82 Avg (IOU: 0.000000), count: 1, class_loss = 325.885986, iou_loss = 0.000000, total_loss = 325.885986 \n",
            "v3 (mse loss, Normalizer: (iou: 0.75, obj: 1.00, cls: 1.00) Region 94 Avg (IOU: 0.000000), count: 1, class_loss = 1047.134521, iou_loss = 0.000000, total_loss = 1047.134521 \n",
            "v3 (mse loss, Normalizer: (iou: 0.75, obj: 1.00, cls: 1.00) Region 106 Avg (IOU: 0.000000), count: 1, class_loss = 4376.367676, iou_loss = 0.000000, total_loss = 4376.367676 \n",
            "v3 (mse loss, Normalizer: (iou: 0.75, obj: 1.00, cls: 1.00) Region 82 Avg (IOU: 0.000000), count: 1, class_loss = 328.695892, iou_loss = 0.000000, total_loss = 328.695892 \n",
            "v3 (mse loss, Normalizer: (iou: 0.75, obj: 1.00, cls: 1.00) Region 94 Avg (IOU: 0.000000), count: 1, class_loss = 1046.983032, iou_loss = 0.000000, total_loss = 1046.983032 \n",
            "v3 (mse loss, Normalizer: (iou: 0.75, obj: 1.00, cls: 1.00) Region 106 Avg (IOU: 0.000000), count: 1, class_loss = 4373.125000, iou_loss = 0.000000, total_loss = 4373.125000 \n",
            "v3 (mse loss, Normalizer: (iou: 0.75, obj: 1.00, cls: 1.00) Region 82 Avg (IOU: 0.000000), count: 1, class_loss = 330.691010, iou_loss = 0.000000, total_loss = 330.691010 \n",
            "v3 (mse loss, Normalizer: (iou: 0.75, obj: 1.00, cls: 1.00) Region 94 Avg (IOU: 0.000000), count: 1, class_loss = 1043.709229, iou_loss = 0.000000, total_loss = 1043.709229 \n",
            "v3 (mse loss, Normalizer: (iou: 0.75, obj: 1.00, cls: 1.00) Region 106 Avg (IOU: 0.000000), count: 1, class_loss = 4378.798828, iou_loss = 0.000000, total_loss = 4378.798828 \n",
            "v3 (mse loss, Normalizer: (iou: 0.75, obj: 1.00, cls: 1.00) Region 82 Avg (IOU: 0.000000), count: 1, class_loss = 326.373871, iou_loss = 0.000000, total_loss = 326.373871 \n",
            "v3 (mse loss, Normalizer: (iou: 0.75, obj: 1.00, cls: 1.00) Region 94 Avg (IOU: 0.000000), count: 1, class_loss = 1051.593384, iou_loss = 0.000000, total_loss = 1051.593384 \n",
            "v3 (mse loss, Normalizer: (iou: 0.75, obj: 1.00, cls: 1.00) Region 106 Avg (IOU: 0.000000), count: 1, class_loss = 4364.058594, iou_loss = 0.000000, total_loss = 4364.058594 \n",
            "\n",
            " 1: 1913.276611, 1913.276611 avg loss, 0.000000 rate, 581.072884 seconds, 8 images, -1.000000 hours left\n",
            "Loaded: 0.000068 seconds\n",
            "Can't open label file. (This can be normal only if you use MSCOCO): custom_data/Yakult (19).txt \n",
            "Can't open label file. (This can be normal only if you use MSCOCO): custom_data/Pepsodent (4).txt \n",
            "Can't open label file. (This can be normal only if you use MSCOCO): custom_data/Pepsodent (5).txt \n",
            "Can't open label file. (This can be normal only if you use MSCOCO): custom_data/Pepsodent (9).txt \n",
            "Can't open label file. (This can be normal only if you use MSCOCO): custom_data/Yakult (11).txt \n",
            "Can't open label file. (This can be normal only if you use MSCOCO): custom_data/Pepsodent (6).txt \n",
            "Can't open label file. (This can be normal only if you use MSCOCO): custom_data/Yakult (4).txt \n",
            "Can't open label file. (This can be normal only if you use MSCOCO): custom_data/UC (4).txt \n",
            "v3 (mse loss, Normalizer: (iou: 0.75, obj: 1.00, cls: 1.00) Region 82 Avg (IOU: 0.000000), count: 1, class_loss = 326.487671, iou_loss = 0.000000, total_loss = 326.487671 \n",
            "v3 (mse loss, Normalizer: (iou: 0.75, obj: 1.00, cls: 1.00) Region 94 Avg (IOU: 0.000000), count: 1, class_loss = nan, iou_loss = nan, total_loss = nan \n",
            "v3 (mse loss, Normalizer: (iou: 0.75, obj: 1.00, cls: 1.00) Region 106 Avg (IOU: 0.000000), count: 1, class_loss = nan, iou_loss = nan, total_loss = nan \n",
            "v3 (mse loss, Normalizer: (iou: 0.75, obj: 1.00, cls: 1.00) Region 82 Avg (IOU: 0.000000), count: 1, class_loss = 326.495056, iou_loss = 0.000000, total_loss = 326.495056 \n",
            "v3 (mse loss, Normalizer: (iou: 0.75, obj: 1.00, cls: 1.00) Region 94 Avg (IOU: 0.000000), count: 1, class_loss = nan, iou_loss = nan, total_loss = nan \n",
            "v3 (mse loss, Normalizer: (iou: 0.75, obj: 1.00, cls: 1.00) Region 106 Avg (IOU: 0.000000), count: 1, class_loss = nan, iou_loss = nan, total_loss = nan \n",
            "v3 (mse loss, Normalizer: (iou: 0.75, obj: 1.00, cls: 1.00) Region 82 Avg (IOU: 0.000000), count: 1, class_loss = 324.172363, iou_loss = 0.000000, total_loss = 324.172363 \n",
            "v3 (mse loss, Normalizer: (iou: 0.75, obj: 1.00, cls: 1.00) Region 94 Avg (IOU: 0.000000), count: 1, class_loss = nan, iou_loss = nan, total_loss = nan \n",
            "v3 (mse loss, Normalizer: (iou: 0.75, obj: 1.00, cls: 1.00) Region 106 Avg (IOU: 0.000000), count: 1, class_loss = nan, iou_loss = nan, total_loss = nan \n",
            "v3 (mse loss, Normalizer: (iou: 0.75, obj: 1.00, cls: 1.00) Region 82 Avg (IOU: 0.000000), count: 1, class_loss = 329.514771, iou_loss = 0.000000, total_loss = 329.514771 \n",
            "v3 (mse loss, Normalizer: (iou: 0.75, obj: 1.00, cls: 1.00) Region 94 Avg (IOU: 0.000000), count: 1, class_loss = nan, iou_loss = nan, total_loss = nan \n",
            "v3 (mse loss, Normalizer: (iou: 0.75, obj: 1.00, cls: 1.00) Region 106 Avg (IOU: 0.000000), count: 1, class_loss = nan, iou_loss = nan, total_loss = nan \n",
            "v3 (mse loss, Normalizer: (iou: 0.75, obj: 1.00, cls: 1.00) Region 82 Avg (IOU: 0.000000), count: 1, class_loss = 326.975037, iou_loss = 0.000000, total_loss = 326.975037 \n",
            "v3 (mse loss, Normalizer: (iou: 0.75, obj: 1.00, cls: 1.00) Region 94 Avg (IOU: 0.000000), count: 1, class_loss = nan, iou_loss = nan, total_loss = nan \n",
            "v3 (mse loss, Normalizer: (iou: 0.75, obj: 1.00, cls: 1.00) Region 106 Avg (IOU: 0.000000), count: 1, class_loss = nan, iou_loss = nan, total_loss = nan \n",
            "v3 (mse loss, Normalizer: (iou: 0.75, obj: 1.00, cls: 1.00) Region 82 Avg (IOU: 0.000000), count: 1, class_loss = 326.751038, iou_loss = 0.000000, total_loss = 326.751038 \n",
            "v3 (mse loss, Normalizer: (iou: 0.75, obj: 1.00, cls: 1.00) Region 94 Avg (IOU: 0.000000), count: 1, class_loss = nan, iou_loss = nan, total_loss = nan \n",
            "v3 (mse loss, Normalizer: (iou: 0.75, obj: 1.00, cls: 1.00) Region 106 Avg (IOU: 0.000000), count: 1, class_loss = nan, iou_loss = nan, total_loss = nan \n",
            "v3 (mse loss, Normalizer: (iou: 0.75, obj: 1.00, cls: 1.00) Region 82 Avg (IOU: 0.000000), count: 1, class_loss = 328.224945, iou_loss = 0.000000, total_loss = 328.224945 \n",
            "v3 (mse loss, Normalizer: (iou: 0.75, obj: 1.00, cls: 1.00) Region 94 Avg (IOU: 0.000000), count: 1, class_loss = nan, iou_loss = nan, total_loss = nan \n",
            "v3 (mse loss, Normalizer: (iou: 0.75, obj: 1.00, cls: 1.00) Region 106 Avg (IOU: 0.000000), count: 1, class_loss = nan, iou_loss = nan, total_loss = nan \n",
            "v3 (mse loss, Normalizer: (iou: 0.75, obj: 1.00, cls: 1.00) Region 82 Avg (IOU: 0.000000), count: 1, class_loss = 325.654022, iou_loss = 0.000000, total_loss = 325.654022 \n",
            "v3 (mse loss, Normalizer: (iou: 0.75, obj: 1.00, cls: 1.00) Region 94 Avg (IOU: 0.000000), count: 1, class_loss = nan, iou_loss = nan, total_loss = nan \n",
            "v3 (mse loss, Normalizer: (iou: 0.75, obj: 1.00, cls: 1.00) Region 106 Avg (IOU: 0.000000), count: 1, class_loss = nan, iou_loss = nan, total_loss = nan \n",
            "\n",
            " 2: nan, nan avg loss, 0.000000 rate, 578.813867 seconds, 16 images, 968.293564 hours left\n",
            "Loaded: 0.000058 seconds\n",
            "Can't open label file. (This can be normal only if you use MSCOCO): custom_data/UC (11).txt \n",
            "Can't open label file. (This can be normal only if you use MSCOCO): custom_data/Pepsodent (18).txt \n",
            "Can't open label file. (This can be normal only if you use MSCOCO): custom_data/Yakult (8).txt \n",
            "Can't open label file. (This can be normal only if you use MSCOCO): custom_data/Yakult (2).txt \n",
            "Can't open label file. (This can be normal only if you use MSCOCO): custom_data/Yakult (16).txt \n",
            "Can't open label file. (This can be normal only if you use MSCOCO): custom_data/UC (15).txt \n",
            "Can't open label file. (This can be normal only if you use MSCOCO): custom_data/UC (15).txt \n",
            "Can't open label file. (This can be normal only if you use MSCOCO): custom_data/UC (17).txt \n",
            "v3 (mse loss, Normalizer: (iou: 0.75, obj: 1.00, cls: 1.00) Region 82 Avg (IOU: 0.000000), count: 1, class_loss = 329.674225, iou_loss = 0.000000, total_loss = 329.674225 \n",
            "v3 (mse loss, Normalizer: (iou: 0.75, obj: 1.00, cls: 1.00) Region 94 Avg (IOU: 0.000000), count: 1, class_loss = nan, iou_loss = nan, total_loss = nan \n",
            "v3 (mse loss, Normalizer: (iou: 0.75, obj: 1.00, cls: 1.00) Region 106 Avg (IOU: 0.000000), count: 1, class_loss = nan, iou_loss = nan, total_loss = nan \n",
            "v3 (mse loss, Normalizer: (iou: 0.75, obj: 1.00, cls: 1.00) Region 82 Avg (IOU: 0.000000), count: 1, class_loss = 329.061035, iou_loss = 0.000000, total_loss = 329.061035 \n",
            "v3 (mse loss, Normalizer: (iou: 0.75, obj: 1.00, cls: 1.00) Region 94 Avg (IOU: 0.000000), count: 1, class_loss = nan, iou_loss = nan, total_loss = nan \n",
            "v3 (mse loss, Normalizer: (iou: 0.75, obj: 1.00, cls: 1.00) Region 106 Avg (IOU: 0.000000), count: 1, class_loss = nan, iou_loss = nan, total_loss = nan \n",
            "v3 (mse loss, Normalizer: (iou: 0.75, obj: 1.00, cls: 1.00) Region 82 Avg (IOU: 0.000000), count: 1, class_loss = 328.933777, iou_loss = 0.000000, total_loss = 328.933777 \n",
            "v3 (mse loss, Normalizer: (iou: 0.75, obj: 1.00, cls: 1.00) Region 94 Avg (IOU: 0.000000), count: 1, class_loss = nan, iou_loss = nan, total_loss = nan \n",
            "v3 (mse loss, Normalizer: (iou: 0.75, obj: 1.00, cls: 1.00) Region 106 Avg (IOU: 0.000000), count: 1, class_loss = nan, iou_loss = nan, total_loss = nan \n",
            "v3 (mse loss, Normalizer: (iou: 0.75, obj: 1.00, cls: 1.00) Region 82 Avg (IOU: 0.000000), count: 1, class_loss = 329.611877, iou_loss = 0.000000, total_loss = 329.611877 \n",
            "v3 (mse loss, Normalizer: (iou: 0.75, obj: 1.00, cls: 1.00) Region 94 Avg (IOU: 0.000000), count: 1, class_loss = nan, iou_loss = nan, total_loss = nan \n",
            "v3 (mse loss, Normalizer: (iou: 0.75, obj: 1.00, cls: 1.00) Region 106 Avg (IOU: 0.000000), count: 1, class_loss = nan, iou_loss = nan, total_loss = nan \n",
            "v3 (mse loss, Normalizer: (iou: 0.75, obj: 1.00, cls: 1.00) Region 82 Avg (IOU: 0.000000), count: 1, class_loss = 326.763153, iou_loss = 0.000000, total_loss = 326.763153 \n",
            "v3 (mse loss, Normalizer: (iou: 0.75, obj: 1.00, cls: 1.00) Region 94 Avg (IOU: 0.000000), count: 1, class_loss = nan, iou_loss = nan, total_loss = nan \n",
            "v3 (mse loss, Normalizer: (iou: 0.75, obj: 1.00, cls: 1.00) Region 106 Avg (IOU: 0.000000), count: 1, class_loss = nan, iou_loss = nan, total_loss = nan \n",
            "v3 (mse loss, Normalizer: (iou: 0.75, obj: 1.00, cls: 1.00) Region 82 Avg (IOU: 0.000000), count: 1, class_loss = 327.504395, iou_loss = 0.000000, total_loss = 327.504395 \n",
            "v3 (mse loss, Normalizer: (iou: 0.75, obj: 1.00, cls: 1.00) Region 94 Avg (IOU: 0.000000), count: 1, class_loss = nan, iou_loss = nan, total_loss = nan \n",
            "v3 (mse loss, Normalizer: (iou: 0.75, obj: 1.00, cls: 1.00) Region 106 Avg (IOU: 0.000000), count: 1, class_loss = nan, iou_loss = nan, total_loss = nan \n",
            "v3 (mse loss, Normalizer: (iou: 0.75, obj: 1.00, cls: 1.00) Region 82 Avg (IOU: 0.000000), count: 1, class_loss = 328.074432, iou_loss = 0.000000, total_loss = 328.074432 \n",
            "v3 (mse loss, Normalizer: (iou: 0.75, obj: 1.00, cls: 1.00) Region 94 Avg (IOU: 0.000000), count: 1, class_loss = nan, iou_loss = nan, total_loss = nan \n",
            "v3 (mse loss, Normalizer: (iou: 0.75, obj: 1.00, cls: 1.00) Region 106 Avg (IOU: 0.000000), count: 1, class_loss = nan, iou_loss = nan, total_loss = nan \n",
            "v3 (mse loss, Normalizer: (iou: 0.75, obj: 1.00, cls: 1.00) Region 82 Avg (IOU: 0.000000), count: 1, class_loss = 328.678955, iou_loss = 0.000000, total_loss = 328.678955 \n",
            "v3 (mse loss, Normalizer: (iou: 0.75, obj: 1.00, cls: 1.00) Region 94 Avg (IOU: 0.000000), count: 1, class_loss = nan, iou_loss = nan, total_loss = nan \n",
            "v3 (mse loss, Normalizer: (iou: 0.75, obj: 1.00, cls: 1.00) Region 106 Avg (IOU: 0.000000), count: 1, class_loss = nan, iou_loss = nan, total_loss = nan \n",
            "\n",
            " 3: nan, nan avg loss, 0.000000 rate, 585.191093 seconds, 24 images, 968.254313 hours left\n",
            "Loaded: 0.000060 seconds\n",
            "Can't open label file. (This can be normal only if you use MSCOCO): custom_data/Pepsodent (20).txt \n",
            "Can't open label file. (This can be normal only if you use MSCOCO): custom_data/Yakult (11).txt \n",
            "Can't open label file. (This can be normal only if you use MSCOCO): custom_data/Pepsodent (8).txt \n",
            "Can't open label file. (This can be normal only if you use MSCOCO): custom_data/Yakult (3).txt \n",
            "Can't open label file. (This can be normal only if you use MSCOCO): custom_data/Pepsodent (7).txt \n",
            "Can't open label file. (This can be normal only if you use MSCOCO): custom_data/Pepsodent (19).txt \n",
            "Can't open label file. (This can be normal only if you use MSCOCO): custom_data/Pepsodent (19).txt \n",
            "Can't open label file. (This can be normal only if you use MSCOCO): custom_data/Pepsodent (7).txt \n",
            "v3 (mse loss, Normalizer: (iou: 0.75, obj: 1.00, cls: 1.00) Region 82 Avg (IOU: 0.000000), count: 1, class_loss = 328.844482, iou_loss = 0.000000, total_loss = 328.844482 \n",
            "v3 (mse loss, Normalizer: (iou: 0.75, obj: 1.00, cls: 1.00) Region 94 Avg (IOU: 0.000000), count: 1, class_loss = nan, iou_loss = nan, total_loss = nan \n",
            "v3 (mse loss, Normalizer: (iou: 0.75, obj: 1.00, cls: 1.00) Region 106 Avg (IOU: 0.000000), count: 1, class_loss = nan, iou_loss = nan, total_loss = nan \n",
            "v3 (mse loss, Normalizer: (iou: 0.75, obj: 1.00, cls: 1.00) Region 82 Avg (IOU: 0.000000), count: 1, class_loss = 327.984711, iou_loss = 0.000000, total_loss = 327.984711 \n",
            "v3 (mse loss, Normalizer: (iou: 0.75, obj: 1.00, cls: 1.00) Region 94 Avg (IOU: 0.000000), count: 1, class_loss = nan, iou_loss = nan, total_loss = nan \n",
            "v3 (mse loss, Normalizer: (iou: 0.75, obj: 1.00, cls: 1.00) Region 106 Avg (IOU: 0.000000), count: 1, class_loss = nan, iou_loss = nan, total_loss = nan \n",
            "v3 (mse loss, Normalizer: (iou: 0.75, obj: 1.00, cls: 1.00) Region 82 Avg (IOU: 0.000000), count: 1, class_loss = 329.597412, iou_loss = 0.000000, total_loss = 329.597412 \n",
            "v3 (mse loss, Normalizer: (iou: 0.75, obj: 1.00, cls: 1.00) Region 94 Avg (IOU: 0.000000), count: 1, class_loss = nan, iou_loss = nan, total_loss = nan \n",
            "v3 (mse loss, Normalizer: (iou: 0.75, obj: 1.00, cls: 1.00) Region 106 Avg (IOU: 0.000000), count: 1, class_loss = nan, iou_loss = nan, total_loss = nan \n",
            "v3 (mse loss, Normalizer: (iou: 0.75, obj: 1.00, cls: 1.00) Region 82 Avg (IOU: 0.000000), count: 1, class_loss = 326.831085, iou_loss = 0.000000, total_loss = 326.831085 \n",
            "v3 (mse loss, Normalizer: (iou: 0.75, obj: 1.00, cls: 1.00) Region 94 Avg (IOU: 0.000000), count: 1, class_loss = nan, iou_loss = nan, total_loss = nan \n",
            "v3 (mse loss, Normalizer: (iou: 0.75, obj: 1.00, cls: 1.00) Region 106 Avg (IOU: 0.000000), count: 1, class_loss = nan, iou_loss = nan, total_loss = nan \n",
            "v3 (mse loss, Normalizer: (iou: 0.75, obj: 1.00, cls: 1.00) Region 82 Avg (IOU: 0.000000), count: 1, class_loss = 329.599701, iou_loss = 0.000000, total_loss = 329.599701 \n",
            "v3 (mse loss, Normalizer: (iou: 0.75, obj: 1.00, cls: 1.00) Region 94 Avg (IOU: 0.000000), count: 1, class_loss = nan, iou_loss = nan, total_loss = nan \n",
            "v3 (mse loss, Normalizer: (iou: 0.75, obj: 1.00, cls: 1.00) Region 106 Avg (IOU: 0.000000), count: 1, class_loss = nan, iou_loss = nan, total_loss = nan \n",
            "v3 (mse loss, Normalizer: (iou: 0.75, obj: 1.00, cls: 1.00) Region 82 Avg (IOU: 0.000000), count: 1, class_loss = 328.835144, iou_loss = 0.000000, total_loss = 328.835144 \n",
            "v3 (mse loss, Normalizer: (iou: 0.75, obj: 1.00, cls: 1.00) Region 94 Avg (IOU: 0.000000), count: 1, class_loss = nan, iou_loss = nan, total_loss = nan \n",
            "v3 (mse loss, Normalizer: (iou: 0.75, obj: 1.00, cls: 1.00) Region 106 Avg (IOU: 0.000000), count: 1, class_loss = nan, iou_loss = nan, total_loss = nan \n",
            "v3 (mse loss, Normalizer: (iou: 0.75, obj: 1.00, cls: 1.00) Region 82 Avg (IOU: 0.000000), count: 1, class_loss = 330.181213, iou_loss = 0.000000, total_loss = 330.181213 \n",
            "v3 (mse loss, Normalizer: (iou: 0.75, obj: 1.00, cls: 1.00) Region 94 Avg (IOU: 0.000000), count: 1, class_loss = nan, iou_loss = nan, total_loss = nan \n",
            "v3 (mse loss, Normalizer: (iou: 0.75, obj: 1.00, cls: 1.00) Region 106 Avg (IOU: 0.000000), count: 1, class_loss = nan, iou_loss = nan, total_loss = nan \n",
            "v3 (mse loss, Normalizer: (iou: 0.75, obj: 1.00, cls: 1.00) Region 82 Avg (IOU: 0.000000), count: 1, class_loss = 329.559937, iou_loss = 0.000000, total_loss = 329.559937 \n",
            "v3 (mse loss, Normalizer: (iou: 0.75, obj: 1.00, cls: 1.00) Region 94 Avg (IOU: 0.000000), count: 1, class_loss = nan, iou_loss = nan, total_loss = nan \n",
            "v3 (mse loss, Normalizer: (iou: 0.75, obj: 1.00, cls: 1.00) Region 106 Avg (IOU: 0.000000), count: 1, class_loss = nan, iou_loss = nan, total_loss = nan \n",
            "\n",
            " 4: nan, nan avg loss, 0.000000 rate, 582.926543 seconds, 32 images, 968.320080 hours left\n",
            "Loaded: 0.000067 seconds\n",
            "Can't open label file. (This can be normal only if you use MSCOCO): custom_data/Pepsodent (20).txt \n",
            "Can't open label file. (This can be normal only if you use MSCOCO): custom_data/UC (17).txt \n",
            "Can't open label file. (This can be normal only if you use MSCOCO): custom_data/Yakult (14).txt \n",
            "Can't open label file. (This can be normal only if you use MSCOCO): custom_data/UC (6).txt \n",
            "Can't open label file. (This can be normal only if you use MSCOCO): custom_data/Yakult (23).txt \n",
            "Can't open label file. (This can be normal only if you use MSCOCO): custom_data/UC (3).txt \n",
            "Can't open label file. (This can be normal only if you use MSCOCO): custom_data/Yakult (17).txt \n",
            "Can't open label file. (This can be normal only if you use MSCOCO): custom_data/Pepsodent (3).txt \n",
            "v3 (mse loss, Normalizer: (iou: 0.75, obj: 1.00, cls: 1.00) Region 82 Avg (IOU: 0.000000), count: 1, class_loss = 324.971161, iou_loss = 0.000000, total_loss = 324.971161 \n",
            "v3 (mse loss, Normalizer: (iou: 0.75, obj: 1.00, cls: 1.00) Region 94 Avg (IOU: 0.000000), count: 1, class_loss = nan, iou_loss = nan, total_loss = nan \n",
            "v3 (mse loss, Normalizer: (iou: 0.75, obj: 1.00, cls: 1.00) Region 106 Avg (IOU: 0.000000), count: 1, class_loss = nan, iou_loss = nan, total_loss = nan \n",
            "v3 (mse loss, Normalizer: (iou: 0.75, obj: 1.00, cls: 1.00) Region 82 Avg (IOU: 0.000000), count: 1, class_loss = 328.021667, iou_loss = 0.000000, total_loss = 328.021667 \n",
            "v3 (mse loss, Normalizer: (iou: 0.75, obj: 1.00, cls: 1.00) Region 94 Avg (IOU: 0.000000), count: 1, class_loss = nan, iou_loss = nan, total_loss = nan \n",
            "v3 (mse loss, Normalizer: (iou: 0.75, obj: 1.00, cls: 1.00) Region 106 Avg (IOU: 0.000000), count: 1, class_loss = nan, iou_loss = nan, total_loss = nan \n",
            "v3 (mse loss, Normalizer: (iou: 0.75, obj: 1.00, cls: 1.00) Region 82 Avg (IOU: 0.000000), count: 1, class_loss = 325.614258, iou_loss = 0.000000, total_loss = 325.614258 \n",
            "v3 (mse loss, Normalizer: (iou: 0.75, obj: 1.00, cls: 1.00) Region 94 Avg (IOU: 0.000000), count: 1, class_loss = nan, iou_loss = nan, total_loss = nan \n",
            "v3 (mse loss, Normalizer: (iou: 0.75, obj: 1.00, cls: 1.00) Region 106 Avg (IOU: 0.000000), count: 1, class_loss = nan, iou_loss = nan, total_loss = nan \n",
            "v3 (mse loss, Normalizer: (iou: 0.75, obj: 1.00, cls: 1.00) Region 82 Avg (IOU: 0.000000), count: 1, class_loss = 327.864227, iou_loss = 0.000000, total_loss = 327.864227 \n",
            "v3 (mse loss, Normalizer: (iou: 0.75, obj: 1.00, cls: 1.00) Region 94 Avg (IOU: 0.000000), count: 1, class_loss = nan, iou_loss = nan, total_loss = nan \n",
            "v3 (mse loss, Normalizer: (iou: 0.75, obj: 1.00, cls: 1.00) Region 106 Avg (IOU: 0.000000), count: 1, class_loss = nan, iou_loss = nan, total_loss = nan \n",
            "v3 (mse loss, Normalizer: (iou: 0.75, obj: 1.00, cls: 1.00) Region 82 Avg (IOU: 0.000000), count: 1, class_loss = 325.916016, iou_loss = 0.000000, total_loss = 325.916016 \n",
            "v3 (mse loss, Normalizer: (iou: 0.75, obj: 1.00, cls: 1.00) Region 94 Avg (IOU: 0.000000), count: 1, class_loss = nan, iou_loss = nan, total_loss = nan \n",
            "v3 (mse loss, Normalizer: (iou: 0.75, obj: 1.00, cls: 1.00) Region 106 Avg (IOU: 0.000000), count: 1, class_loss = nan, iou_loss = nan, total_loss = nan \n",
            "v3 (mse loss, Normalizer: (iou: 0.75, obj: 1.00, cls: 1.00) Region 82 Avg (IOU: 0.000000), count: 1, class_loss = 328.052277, iou_loss = 0.000000, total_loss = 328.052277 \n",
            "v3 (mse loss, Normalizer: (iou: 0.75, obj: 1.00, cls: 1.00) Region 94 Avg (IOU: 0.000000), count: 1, class_loss = nan, iou_loss = nan, total_loss = nan \n",
            "v3 (mse loss, Normalizer: (iou: 0.75, obj: 1.00, cls: 1.00) Region 106 Avg (IOU: 0.000000), count: 1, class_loss = nan, iou_loss = nan, total_loss = nan \n",
            "v3 (mse loss, Normalizer: (iou: 0.75, obj: 1.00, cls: 1.00) Region 82 Avg (IOU: 0.000000), count: 1, class_loss = 326.461273, iou_loss = 0.000000, total_loss = 326.461273 \n",
            "v3 (mse loss, Normalizer: (iou: 0.75, obj: 1.00, cls: 1.00) Region 94 Avg (IOU: 0.000000), count: 1, class_loss = nan, iou_loss = nan, total_loss = nan \n",
            "v3 (mse loss, Normalizer: (iou: 0.75, obj: 1.00, cls: 1.00) Region 106 Avg (IOU: 0.000000), count: 1, class_loss = nan, iou_loss = nan, total_loss = nan \n",
            "v3 (mse loss, Normalizer: (iou: 0.75, obj: 1.00, cls: 1.00) Region 82 Avg (IOU: 0.000000), count: 1, class_loss = 326.164764, iou_loss = 0.000000, total_loss = 326.164764 \n",
            "v3 (mse loss, Normalizer: (iou: 0.75, obj: 1.00, cls: 1.00) Region 94 Avg (IOU: 0.000000), count: 1, class_loss = nan, iou_loss = nan, total_loss = nan \n",
            "v3 (mse loss, Normalizer: (iou: 0.75, obj: 1.00, cls: 1.00) Region 106 Avg (IOU: 0.000000), count: 1, class_loss = nan, iou_loss = nan, total_loss = nan \n",
            "\n",
            " 5: nan, nan avg loss, 0.000000 rate, 584.799747 seconds, 40 images, 968.345846 hours left\n",
            "Loaded: 0.000046 seconds\n",
            "Can't open label file. (This can be normal only if you use MSCOCO): custom_data/Yakult (2).txt \n",
            "Can't open label file. (This can be normal only if you use MSCOCO): custom_data/Yakult (16).txt \n",
            "Can't open label file. (This can be normal only if you use MSCOCO): custom_data/Yakult (14).txt \n",
            "Can't open label file. (This can be normal only if you use MSCOCO): custom_data/Yakult (22).txt \n",
            "Can't open label file. (This can be normal only if you use MSCOCO): custom_data/Yakult (21).txt \n",
            "Can't open label file. (This can be normal only if you use MSCOCO): custom_data/Yakult (10).txt \n",
            "Can't open label file. (This can be normal only if you use MSCOCO): custom_data/Yakult (17).txt \n",
            "Can't open label file. (This can be normal only if you use MSCOCO): custom_data/UC (2).txt \n",
            "v3 (mse loss, Normalizer: (iou: 0.75, obj: 1.00, cls: 1.00) Region 82 Avg (IOU: 0.000000), count: 1, class_loss = 327.520386, iou_loss = 0.000000, total_loss = 327.520386 \n",
            "v3 (mse loss, Normalizer: (iou: 0.75, obj: 1.00, cls: 1.00) Region 94 Avg (IOU: 0.000000), count: 1, class_loss = nan, iou_loss = nan, total_loss = nan \n",
            "v3 (mse loss, Normalizer: (iou: 0.75, obj: 1.00, cls: 1.00) Region 106 Avg (IOU: 0.000000), count: 1, class_loss = nan, iou_loss = nan, total_loss = nan \n",
            "v3 (mse loss, Normalizer: (iou: 0.75, obj: 1.00, cls: 1.00) Region 82 Avg (IOU: 0.000000), count: 1, class_loss = 328.491760, iou_loss = 0.000000, total_loss = 328.491760 \n",
            "v3 (mse loss, Normalizer: (iou: 0.75, obj: 1.00, cls: 1.00) Region 94 Avg (IOU: 0.000000), count: 1, class_loss = nan, iou_loss = nan, total_loss = nan \n",
            "v3 (mse loss, Normalizer: (iou: 0.75, obj: 1.00, cls: 1.00) Region 106 Avg (IOU: 0.000000), count: 1, class_loss = nan, iou_loss = nan, total_loss = nan \n",
            "v3 (mse loss, Normalizer: (iou: 0.75, obj: 1.00, cls: 1.00) Region 82 Avg (IOU: 0.000000), count: 1, class_loss = 326.303986, iou_loss = 0.000000, total_loss = 326.303986 \n",
            "v3 (mse loss, Normalizer: (iou: 0.75, obj: 1.00, cls: 1.00) Region 94 Avg (IOU: 0.000000), count: 1, class_loss = nan, iou_loss = nan, total_loss = nan \n",
            "v3 (mse loss, Normalizer: (iou: 0.75, obj: 1.00, cls: 1.00) Region 106 Avg (IOU: 0.000000), count: 1, class_loss = nan, iou_loss = nan, total_loss = nan \n",
            "v3 (mse loss, Normalizer: (iou: 0.75, obj: 1.00, cls: 1.00) Region 82 Avg (IOU: 0.000000), count: 1, class_loss = 326.117279, iou_loss = 0.000000, total_loss = 326.117279 \n",
            "v3 (mse loss, Normalizer: (iou: 0.75, obj: 1.00, cls: 1.00) Region 94 Avg (IOU: 0.000000), count: 1, class_loss = nan, iou_loss = nan, total_loss = nan \n",
            "v3 (mse loss, Normalizer: (iou: 0.75, obj: 1.00, cls: 1.00) Region 106 Avg (IOU: 0.000000), count: 1, class_loss = nan, iou_loss = nan, total_loss = nan \n",
            "v3 (mse loss, Normalizer: (iou: 0.75, obj: 1.00, cls: 1.00) Region 82 Avg (IOU: 0.000000), count: 1, class_loss = 327.805359, iou_loss = 0.000000, total_loss = 327.805359 \n",
            "v3 (mse loss, Normalizer: (iou: 0.75, obj: 1.00, cls: 1.00) Region 94 Avg (IOU: 0.000000), count: 1, class_loss = nan, iou_loss = nan, total_loss = nan \n",
            "v3 (mse loss, Normalizer: (iou: 0.75, obj: 1.00, cls: 1.00) Region 106 Avg (IOU: 0.000000), count: 1, class_loss = nan, iou_loss = nan, total_loss = nan \n",
            "v3 (mse loss, Normalizer: (iou: 0.75, obj: 1.00, cls: 1.00) Region 82 Avg (IOU: 0.000000), count: 1, class_loss = 326.905792, iou_loss = 0.000000, total_loss = 326.905792 \n",
            "v3 (mse loss, Normalizer: (iou: 0.75, obj: 1.00, cls: 1.00) Region 94 Avg (IOU: 0.000000), count: 1, class_loss = nan, iou_loss = nan, total_loss = nan \n",
            "v3 (mse loss, Normalizer: (iou: 0.75, obj: 1.00, cls: 1.00) Region 106 Avg (IOU: 0.000000), count: 1, class_loss = nan, iou_loss = nan, total_loss = nan \n",
            "v3 (mse loss, Normalizer: (iou: 0.75, obj: 1.00, cls: 1.00) Region 82 Avg (IOU: 0.000000), count: 1, class_loss = 328.657715, iou_loss = 0.000000, total_loss = 328.657715 \n",
            "v3 (mse loss, Normalizer: (iou: 0.75, obj: 1.00, cls: 1.00) Region 94 Avg (IOU: 0.000000), count: 1, class_loss = nan, iou_loss = nan, total_loss = nan \n",
            "v3 (mse loss, Normalizer: (iou: 0.75, obj: 1.00, cls: 1.00) Region 106 Avg (IOU: 0.000000), count: 1, class_loss = nan, iou_loss = nan, total_loss = nan \n",
            "v3 (mse loss, Normalizer: (iou: 0.75, obj: 1.00, cls: 1.00) Region 82 Avg (IOU: 0.000000), count: 1, class_loss = 326.018494, iou_loss = 0.000000, total_loss = 326.018494 \n",
            "v3 (mse loss, Normalizer: (iou: 0.75, obj: 1.00, cls: 1.00) Region 94 Avg (IOU: 0.000000), count: 1, class_loss = nan, iou_loss = nan, total_loss = nan \n",
            "v3 (mse loss, Normalizer: (iou: 0.75, obj: 1.00, cls: 1.00) Region 106 Avg (IOU: 0.000000), count: 1, class_loss = nan, iou_loss = nan, total_loss = nan \n",
            "\n",
            " 6: nan, nan avg loss, 0.000000 rate, 583.368789 seconds, 48 images, 968.400931 hours left\n",
            "Loaded: 0.000056 seconds\n",
            "Can't open label file. (This can be normal only if you use MSCOCO): custom_data/Pepsodent (20).txt \n",
            "Can't open label file. (This can be normal only if you use MSCOCO): custom_data/Yakult (11).txt \n",
            "Can't open label file. (This can be normal only if you use MSCOCO): custom_data/Yakult (10).txt \n",
            "Can't open label file. (This can be normal only if you use MSCOCO): custom_data/UC (15).txt \n",
            "Can't open label file. (This can be normal only if you use MSCOCO): custom_data/UC (17).txt \n",
            "Can't open label file. (This can be normal only if you use MSCOCO): custom_data/Yakult (7).txt \n",
            "Can't open label file. (This can be normal only if you use MSCOCO): custom_data/Pepsodent (2).txt \n",
            "Can't open label file. (This can be normal only if you use MSCOCO): custom_data/Yakult (1).txt \n",
            "v3 (mse loss, Normalizer: (iou: 0.75, obj: 1.00, cls: 1.00) Region 82 Avg (IOU: 0.000000), count: 1, class_loss = 328.475861, iou_loss = 0.000000, total_loss = 328.475861 \n",
            "v3 (mse loss, Normalizer: (iou: 0.75, obj: 1.00, cls: 1.00) Region 94 Avg (IOU: 0.000000), count: 1, class_loss = nan, iou_loss = nan, total_loss = nan \n",
            "v3 (mse loss, Normalizer: (iou: 0.75, obj: 1.00, cls: 1.00) Region 106 Avg (IOU: 0.000000), count: 1, class_loss = nan, iou_loss = nan, total_loss = nan \n",
            "v3 (mse loss, Normalizer: (iou: 0.75, obj: 1.00, cls: 1.00) Region 82 Avg (IOU: 0.000000), count: 1, class_loss = 329.984985, iou_loss = 0.000000, total_loss = 329.984985 \n",
            "v3 (mse loss, Normalizer: (iou: 0.75, obj: 1.00, cls: 1.00) Region 94 Avg (IOU: 0.000000), count: 1, class_loss = nan, iou_loss = nan, total_loss = nan \n",
            "v3 (mse loss, Normalizer: (iou: 0.75, obj: 1.00, cls: 1.00) Region 106 Avg (IOU: 0.000000), count: 1, class_loss = nan, iou_loss = nan, total_loss = nan \n"
          ]
        }
      ],
      "source": [
        "!darknet/darknet detector train custom_data/labelled_data.data darknet/cfg/yolov3_custom.cfg custom_weight/darknet53.conv.74 -dont_show"
      ]
    }
  ],
  "metadata": {
    "accelerator": "TPU",
    "colab": {
      "collapsed_sections": [],
      "name": "object_custom_detection.ipynb",
      "provenance": [],
      "authorship_tag": "ABX9TyPeYMUsD3eVPrIXksZfLWEl",
      "include_colab_link": true
    },
    "kernelspec": {
      "display_name": "Python 3",
      "name": "python3"
    },
    "language_info": {
      "name": "python"
    }
  },
  "nbformat": 4,
  "nbformat_minor": 0
}
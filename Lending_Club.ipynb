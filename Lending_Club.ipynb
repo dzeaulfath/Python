{
  "nbformat": 4,
  "nbformat_minor": 0,
  "metadata": {
    "colab": {
      "name": "Lending Club.ipynb",
      "provenance": [],
      "collapsed_sections": [
        "fLqpcmIH4B4j"
      ],
      "authorship_tag": "ABX9TyNqSKkP9nrFpgKo1DuyN2Pq",
      "include_colab_link": true
    },
    "kernelspec": {
      "name": "python3",
      "display_name": "Python 3"
    },
    "language_info": {
      "name": "python"
    }
  },
  "cells": [
    {
      "cell_type": "markdown",
      "metadata": {
        "id": "view-in-github",
        "colab_type": "text"
      },
      "source": [
        "<a href=\"https://colab.research.google.com/github/dzeaulfath/Python/blob/main/Lending_Club.ipynb\" target=\"_parent\"><img src=\"https://colab.research.google.com/assets/colab-badge.svg\" alt=\"Open In Colab\"/></a>"
      ]
    },
    {
      "cell_type": "code",
      "source": [
        "from google.colab import drive\n",
        "drive.mount('/content/drive')"
      ],
      "metadata": {
        "colab": {
          "base_uri": "https://localhost:8080/"
        },
        "id": "a2jK4eZ86IQo",
        "outputId": "7772aab3-30c8-454a-b1cc-ea5993a47638"
      },
      "execution_count": null,
      "outputs": [
        {
          "output_type": "stream",
          "name": "stdout",
          "text": [
            "Mounted at /content/drive\n"
          ]
        }
      ]
    },
    {
      "cell_type": "code",
      "source": [
        "import pandas as pd\n",
        "import seaborn as sns\n",
        "import matplotlib.pyplot as plt\n",
        "import numpy as np\n",
        "\n",
        "from sklearn.model_selection import train_test_split\n",
        "from sklearn.preprocessing import MinMaxScaler\n",
        "from sklearn.preprocessing import LabelEncoder\n",
        "from sklearn.metrics import classification_report, confusion_matrix\n",
        "\n",
        "import tensorflow as tf\n",
        "from tensorflow.keras.models import Sequential\n",
        "from tensorflow.keras.layers import Dense, Dropout\n",
        "\n",
        "# Plotly visualizations\n",
        "from plotly import tools\n",
        "import plotly as py\n",
        "import plotly.figure_factory as ff\n",
        "import plotly.graph_objs as go\n",
        "from plotly.offline import download_plotlyjs, init_notebook_mode, plot, iplot\n",
        "init_notebook_mode(connected=True)\n"
      ],
      "metadata": {
        "id": "-87bQ0OyHi_p",
        "colab": {
          "base_uri": "https://localhost:8080/",
          "height": 17
        },
        "outputId": "1efa1237-8aea-4257-b602-92d651a3ef4b"
      },
      "execution_count": null,
      "outputs": [
        {
          "output_type": "display_data",
          "data": {
            "text/html": [
              "        <script type=\"text/javascript\">\n",
              "        window.PlotlyConfig = {MathJaxConfig: 'local'};\n",
              "        if (window.MathJax) {MathJax.Hub.Config({SVG: {font: \"STIX-Web\"}});}\n",
              "        if (typeof require !== 'undefined') {\n",
              "        require.undef(\"plotly\");\n",
              "        requirejs.config({\n",
              "            paths: {\n",
              "                'plotly': ['https://cdn.plot.ly/plotly-2.8.3.min']\n",
              "            }\n",
              "        });\n",
              "        require(['plotly'], function(Plotly) {\n",
              "            window._Plotly = Plotly;\n",
              "        });\n",
              "        }\n",
              "        </script>\n",
              "        "
            ]
          },
          "metadata": {}
        }
      ]
    },
    {
      "cell_type": "markdown",
      "source": [
        "# Data Preparation"
      ],
      "metadata": {
        "id": "fLqpcmIH4B4j"
      }
    },
    {
      "cell_type": "code",
      "source": [
        "df = pd.read_csv('/content/drive/MyDrive/loan_data_2007_2014.csv',  low_memory=False) #Reading Data from Drive\n",
        "pd.set_option('display.max_columns', None) #Displaying All Coloumn Data\n",
        "df"
      ],
      "metadata": {
        "id": "ub3rr6m2EGDd",
        "colab": {
          "base_uri": "https://localhost:8080/"
        },
        "outputId": "9c27b476-3ac2-4dca-b5c1-6363e7b9b530"
      },
      "execution_count": null,
      "outputs": [
        {
          "output_type": "execute_result",
          "data": {
            "text/plain": [
              "        Unnamed: 0       id  member_id  loan_amnt  funded_amnt  \\\n",
              "0                0  1077501    1296599       5000         5000   \n",
              "1                1  1077430    1314167       2500         2500   \n",
              "2                2  1077175    1313524       2400         2400   \n",
              "3                3  1076863    1277178      10000        10000   \n",
              "4                4  1075358    1311748       3000         3000   \n",
              "...            ...      ...        ...        ...          ...   \n",
              "466280      466280  8598660    1440975      18400        18400   \n",
              "466281      466281  9684700   11536848      22000        22000   \n",
              "466282      466282  9584776   11436914      20700        20700   \n",
              "466283      466283  9604874   11457002       2000         2000   \n",
              "466284      466284  9199665   11061576      10000        10000   \n",
              "\n",
              "        funded_amnt_inv        term  int_rate  installment grade sub_grade  \\\n",
              "0                4975.0   36 months     10.65       162.87     B        B2   \n",
              "1                2500.0   60 months     15.27        59.83     C        C4   \n",
              "2                2400.0   36 months     15.96        84.33     C        C5   \n",
              "3               10000.0   36 months     13.49       339.31     C        C1   \n",
              "4                3000.0   60 months     12.69        67.79     B        B5   \n",
              "...                 ...         ...       ...          ...   ...       ...   \n",
              "466280          18400.0   60 months     14.47       432.64     C        C2   \n",
              "466281          22000.0   60 months     19.97       582.50     D        D5   \n",
              "466282          20700.0   60 months     16.99       514.34     D        D1   \n",
              "466283           2000.0   36 months      7.90        62.59     A        A4   \n",
              "466284           9975.0   36 months     19.20       367.58     D        D3   \n",
              "\n",
              "                                    emp_title emp_length home_ownership  \\\n",
              "0                                         NaN  10+ years           RENT   \n",
              "1                                       Ryder   < 1 year           RENT   \n",
              "2                                         NaN  10+ years           RENT   \n",
              "3                         AIR RESOURCES BOARD  10+ years           RENT   \n",
              "4                    University Medical Group     1 year           RENT   \n",
              "...                                       ...        ...            ...   \n",
              "466280                     Financial Advisor     4 years       MORTGAGE   \n",
              "466281  Chief of Interpretation (Park Ranger)  10+ years       MORTGAGE   \n",
              "466282                                 patrol    7 years       MORTGAGE   \n",
              "466283                   Server Engineer Lead    3 years            OWN   \n",
              "466284                                    NaN  10+ years       MORTGAGE   \n",
              "\n",
              "        annual_inc verification_status issue_d  loan_status pymnt_plan  \\\n",
              "0          24000.0            Verified  Dec-11   Fully Paid          n   \n",
              "1          30000.0     Source Verified  Dec-11  Charged Off          n   \n",
              "2          12252.0        Not Verified  Dec-11   Fully Paid          n   \n",
              "3          49200.0     Source Verified  Dec-11   Fully Paid          n   \n",
              "4          80000.0     Source Verified  Dec-11      Current          n   \n",
              "...            ...                 ...     ...          ...        ...   \n",
              "466280    110000.0     Source Verified  Jan-14      Current          n   \n",
              "466281     78000.0            Verified  Jan-14  Charged Off          n   \n",
              "466282     46000.0            Verified  Jan-14      Current          n   \n",
              "466283     83000.0            Verified  Jan-14   Fully Paid          n   \n",
              "466284     46000.0            Verified  Jan-14      Current          n   \n",
              "\n",
              "                                                      url  \\\n",
              "0       https://www.lendingclub.com/browse/loanDetail....   \n",
              "1       https://www.lendingclub.com/browse/loanDetail....   \n",
              "2       https://www.lendingclub.com/browse/loanDetail....   \n",
              "3       https://www.lendingclub.com/browse/loanDetail....   \n",
              "4       https://www.lendingclub.com/browse/loanDetail....   \n",
              "...                                                   ...   \n",
              "466280  https://www.lendingclub.com/browse/loanDetail....   \n",
              "466281  https://www.lendingclub.com/browse/loanDetail....   \n",
              "466282  https://www.lendingclub.com/browse/loanDetail....   \n",
              "466283  https://www.lendingclub.com/browse/loanDetail....   \n",
              "466284  https://www.lendingclub.com/browse/loanDetail....   \n",
              "\n",
              "                                                     desc             purpose  \\\n",
              "0         Borrower added on 12/22/11 > I need to upgra...         credit_card   \n",
              "1         Borrower added on 12/22/11 > I plan to use t...                 car   \n",
              "2                                                     NaN      small_business   \n",
              "3         Borrower added on 12/21/11 > to pay for prop...               other   \n",
              "4         Borrower added on 12/21/11 > I plan on combi...               other   \n",
              "...                                                   ...                 ...   \n",
              "466280                                                NaN  debt_consolidation   \n",
              "466281                                                NaN  debt_consolidation   \n",
              "466282    Borrower added on 12/06/13 > I am going to c...  debt_consolidation   \n",
              "466283                                                NaN         credit_card   \n",
              "466284    Borrower added on 12/04/13 > I will like a l...               other   \n",
              "\n",
              "                          title zip_code addr_state    dti  delinq_2yrs  \\\n",
              "0                      Computer    860xx         AZ  27.65          0.0   \n",
              "1                          bike    309xx         GA   1.00          0.0   \n",
              "2          real estate business    606xx         IL   8.72          0.0   \n",
              "3                      personel    917xx         CA  20.00          0.0   \n",
              "4                      Personal    972xx         OR  17.94          0.0   \n",
              "...                         ...      ...        ...    ...          ...   \n",
              "466280       Debt consolidation    773xx         TX  19.85          0.0   \n",
              "466281       Debt consolidation    377xx         TN  18.45          0.0   \n",
              "466282       Debt consolidation    458xx         OH  25.65          0.0   \n",
              "466283  Credit card refinancing    913xx         CA   5.39          3.0   \n",
              "466284                    Other    950xx         CA  22.78          1.0   \n",
              "\n",
              "       earliest_cr_line  inq_last_6mths  mths_since_last_delinq  \\\n",
              "0                Jan-85             1.0                     NaN   \n",
              "1                Apr-99             5.0                     NaN   \n",
              "2                Nov-01             2.0                     NaN   \n",
              "3                Feb-96             1.0                    35.0   \n",
              "4                Jan-96             0.0                    38.0   \n",
              "...                 ...             ...                     ...   \n",
              "466280           Apr-03             2.0                     NaN   \n",
              "466281           Jun-97             5.0                     NaN   \n",
              "466282           Dec-01             2.0                    65.0   \n",
              "466283           Feb-03             1.0                    13.0   \n",
              "466284           Feb-00             0.0                     9.0   \n",
              "\n",
              "        mths_since_last_record  open_acc  pub_rec  revol_bal  revol_util  \\\n",
              "0                          NaN       3.0      0.0      13648        83.7   \n",
              "1                          NaN       3.0      0.0       1687         9.4   \n",
              "2                          NaN       2.0      0.0       2956        98.5   \n",
              "3                          NaN      10.0      0.0       5598        21.0   \n",
              "4                          NaN      15.0      0.0      27783        53.9   \n",
              "...                        ...       ...      ...        ...         ...   \n",
              "466280                     NaN      18.0      0.0      23208        77.6   \n",
              "466281                   116.0      18.0      1.0      18238        46.3   \n",
              "466282                     NaN      18.0      0.0       6688        51.1   \n",
              "466283                     NaN      21.0      0.0      11404        21.5   \n",
              "466284                     NaN       6.0      0.0      11325        70.8   \n",
              "\n",
              "        total_acc initial_list_status  out_prncp  out_prncp_inv   total_pymnt  \\\n",
              "0             9.0                   f       0.00           0.00   5861.071414   \n",
              "1             4.0                   f       0.00           0.00   1008.710000   \n",
              "2            10.0                   f       0.00           0.00   3003.653644   \n",
              "3            37.0                   f       0.00           0.00  12226.302210   \n",
              "4            38.0                   f     766.90         766.90   3242.170000   \n",
              "...           ...                 ...        ...            ...           ...   \n",
              "466280       36.0                   w   12574.00       12574.00  10383.360000   \n",
              "466281       30.0                   f       0.00           0.00   4677.920000   \n",
              "466282       43.0                   f   14428.31       14428.31  12343.980000   \n",
              "466283       27.0                   w       0.00           0.00   2126.579838   \n",
              "466284       22.0                   f    3984.38        3974.41   8821.620000   \n",
              "\n",
              "        total_pymnt_inv  total_rec_prncp  total_rec_int  total_rec_late_fee  \\\n",
              "0               5831.78          5000.00         861.07                0.00   \n",
              "1               1008.71           456.46         435.17                0.00   \n",
              "2               3003.65          2400.00         603.65                0.00   \n",
              "3              12226.30         10000.00        2209.33               16.97   \n",
              "4               3242.17          2233.10        1009.07                0.00   \n",
              "...                 ...              ...            ...                 ...   \n",
              "466280         10383.36          5826.00        4557.36                0.00   \n",
              "466281          4677.92          1837.04        2840.88                0.00   \n",
              "466282         12343.98          6271.69        6072.29                0.00   \n",
              "466283          2126.58          2000.00         126.58                0.00   \n",
              "466284          8799.57          6015.62        2806.00                0.00   \n",
              "\n",
              "        recoveries  collection_recovery_fee last_pymnt_d  last_pymnt_amnt  \\\n",
              "0             0.00                     0.00       Jan-15           171.62   \n",
              "1           117.08                     1.11       Apr-13           119.66   \n",
              "2             0.00                     0.00       Jun-14           649.91   \n",
              "3             0.00                     0.00       Jan-15           357.48   \n",
              "4             0.00                     0.00       Jan-16            67.79   \n",
              "...            ...                      ...          ...              ...   \n",
              "466280        0.00                     0.00       Jan-16           432.64   \n",
              "466281        0.00                     0.00       Dec-14            17.50   \n",
              "466282        0.00                     0.00       Jan-16           514.34   \n",
              "466283        0.00                     0.00       Dec-14          1500.68   \n",
              "466284        0.00                     0.00       Jan-16           367.58   \n",
              "\n",
              "       next_pymnt_d last_credit_pull_d  collections_12_mths_ex_med  \\\n",
              "0               NaN             Jan-16                         0.0   \n",
              "1               NaN             Sep-13                         0.0   \n",
              "2               NaN             Jan-16                         0.0   \n",
              "3               NaN             Jan-15                         0.0   \n",
              "4            Feb-16             Jan-16                         0.0   \n",
              "...             ...                ...                         ...   \n",
              "466280       Feb-16             Jan-16                         0.0   \n",
              "466281          NaN             Jan-16                         0.0   \n",
              "466282       Feb-16             Dec-15                         0.0   \n",
              "466283          NaN             Apr-15                         0.0   \n",
              "466284       Feb-16             Jan-16                         0.0   \n",
              "\n",
              "        mths_since_last_major_derog  policy_code application_type  \\\n",
              "0                               NaN            1       INDIVIDUAL   \n",
              "1                               NaN            1       INDIVIDUAL   \n",
              "2                               NaN            1       INDIVIDUAL   \n",
              "3                               NaN            1       INDIVIDUAL   \n",
              "4                               NaN            1       INDIVIDUAL   \n",
              "...                             ...          ...              ...   \n",
              "466280                          NaN            1       INDIVIDUAL   \n",
              "466281                          NaN            1       INDIVIDUAL   \n",
              "466282                          NaN            1       INDIVIDUAL   \n",
              "466283                          NaN            1       INDIVIDUAL   \n",
              "466284                          NaN            1       INDIVIDUAL   \n",
              "\n",
              "        annual_inc_joint  dti_joint  verification_status_joint  \\\n",
              "0                    NaN        NaN                        NaN   \n",
              "1                    NaN        NaN                        NaN   \n",
              "2                    NaN        NaN                        NaN   \n",
              "3                    NaN        NaN                        NaN   \n",
              "4                    NaN        NaN                        NaN   \n",
              "...                  ...        ...                        ...   \n",
              "466280               NaN        NaN                        NaN   \n",
              "466281               NaN        NaN                        NaN   \n",
              "466282               NaN        NaN                        NaN   \n",
              "466283               NaN        NaN                        NaN   \n",
              "466284               NaN        NaN                        NaN   \n",
              "\n",
              "        acc_now_delinq  tot_coll_amt  tot_cur_bal  open_acc_6m  open_il_6m  \\\n",
              "0                  0.0           NaN          NaN          NaN         NaN   \n",
              "1                  0.0           NaN          NaN          NaN         NaN   \n",
              "2                  0.0           NaN          NaN          NaN         NaN   \n",
              "3                  0.0           NaN          NaN          NaN         NaN   \n",
              "4                  0.0           NaN          NaN          NaN         NaN   \n",
              "...                ...           ...          ...          ...         ...   \n",
              "466280             0.0           0.0     294998.0          NaN         NaN   \n",
              "466281             0.0           0.0     221830.0          NaN         NaN   \n",
              "466282             0.0           0.0      73598.0          NaN         NaN   \n",
              "466283             0.0           0.0     591610.0          NaN         NaN   \n",
              "466284             0.0           0.0      57477.0          NaN         NaN   \n",
              "\n",
              "        open_il_12m  open_il_24m  mths_since_rcnt_il  total_bal_il  il_util  \\\n",
              "0               NaN          NaN                 NaN           NaN      NaN   \n",
              "1               NaN          NaN                 NaN           NaN      NaN   \n",
              "2               NaN          NaN                 NaN           NaN      NaN   \n",
              "3               NaN          NaN                 NaN           NaN      NaN   \n",
              "4               NaN          NaN                 NaN           NaN      NaN   \n",
              "...             ...          ...                 ...           ...      ...   \n",
              "466280          NaN          NaN                 NaN           NaN      NaN   \n",
              "466281          NaN          NaN                 NaN           NaN      NaN   \n",
              "466282          NaN          NaN                 NaN           NaN      NaN   \n",
              "466283          NaN          NaN                 NaN           NaN      NaN   \n",
              "466284          NaN          NaN                 NaN           NaN      NaN   \n",
              "\n",
              "        open_rv_12m  open_rv_24m  max_bal_bc  all_util  total_rev_hi_lim  \\\n",
              "0               NaN          NaN         NaN       NaN               NaN   \n",
              "1               NaN          NaN         NaN       NaN               NaN   \n",
              "2               NaN          NaN         NaN       NaN               NaN   \n",
              "3               NaN          NaN         NaN       NaN               NaN   \n",
              "4               NaN          NaN         NaN       NaN               NaN   \n",
              "...             ...          ...         ...       ...               ...   \n",
              "466280          NaN          NaN         NaN       NaN           29900.0   \n",
              "466281          NaN          NaN         NaN       NaN           39400.0   \n",
              "466282          NaN          NaN         NaN       NaN           13100.0   \n",
              "466283          NaN          NaN         NaN       NaN           53100.0   \n",
              "466284          NaN          NaN         NaN       NaN           16000.0   \n",
              "\n",
              "        inq_fi  total_cu_tl  inq_last_12m  \n",
              "0          NaN          NaN           NaN  \n",
              "1          NaN          NaN           NaN  \n",
              "2          NaN          NaN           NaN  \n",
              "3          NaN          NaN           NaN  \n",
              "4          NaN          NaN           NaN  \n",
              "...        ...          ...           ...  \n",
              "466280     NaN          NaN           NaN  \n",
              "466281     NaN          NaN           NaN  \n",
              "466282     NaN          NaN           NaN  \n",
              "466283     NaN          NaN           NaN  \n",
              "466284     NaN          NaN           NaN  \n",
              "\n",
              "[466285 rows x 75 columns]"
            ],
            "text/html": [
              "\n",
              "  <div id=\"df-c6d984e1-c481-49a7-8111-ce9deb1120dc\">\n",
              "    <div class=\"colab-df-container\">\n",
              "      <div>\n",
              "<style scoped>\n",
              "    .dataframe tbody tr th:only-of-type {\n",
              "        vertical-align: middle;\n",
              "    }\n",
              "\n",
              "    .dataframe tbody tr th {\n",
              "        vertical-align: top;\n",
              "    }\n",
              "\n",
              "    .dataframe thead th {\n",
              "        text-align: right;\n",
              "    }\n",
              "</style>\n",
              "<table border=\"1\" class=\"dataframe\">\n",
              "  <thead>\n",
              "    <tr style=\"text-align: right;\">\n",
              "      <th></th>\n",
              "      <th>Unnamed: 0</th>\n",
              "      <th>id</th>\n",
              "      <th>member_id</th>\n",
              "      <th>loan_amnt</th>\n",
              "      <th>funded_amnt</th>\n",
              "      <th>funded_amnt_inv</th>\n",
              "      <th>term</th>\n",
              "      <th>int_rate</th>\n",
              "      <th>installment</th>\n",
              "      <th>grade</th>\n",
              "      <th>sub_grade</th>\n",
              "      <th>emp_title</th>\n",
              "      <th>emp_length</th>\n",
              "      <th>home_ownership</th>\n",
              "      <th>annual_inc</th>\n",
              "      <th>verification_status</th>\n",
              "      <th>issue_d</th>\n",
              "      <th>loan_status</th>\n",
              "      <th>pymnt_plan</th>\n",
              "      <th>url</th>\n",
              "      <th>desc</th>\n",
              "      <th>purpose</th>\n",
              "      <th>title</th>\n",
              "      <th>zip_code</th>\n",
              "      <th>addr_state</th>\n",
              "      <th>dti</th>\n",
              "      <th>delinq_2yrs</th>\n",
              "      <th>earliest_cr_line</th>\n",
              "      <th>inq_last_6mths</th>\n",
              "      <th>mths_since_last_delinq</th>\n",
              "      <th>mths_since_last_record</th>\n",
              "      <th>open_acc</th>\n",
              "      <th>pub_rec</th>\n",
              "      <th>revol_bal</th>\n",
              "      <th>revol_util</th>\n",
              "      <th>total_acc</th>\n",
              "      <th>initial_list_status</th>\n",
              "      <th>out_prncp</th>\n",
              "      <th>out_prncp_inv</th>\n",
              "      <th>total_pymnt</th>\n",
              "      <th>total_pymnt_inv</th>\n",
              "      <th>total_rec_prncp</th>\n",
              "      <th>total_rec_int</th>\n",
              "      <th>total_rec_late_fee</th>\n",
              "      <th>recoveries</th>\n",
              "      <th>collection_recovery_fee</th>\n",
              "      <th>last_pymnt_d</th>\n",
              "      <th>last_pymnt_amnt</th>\n",
              "      <th>next_pymnt_d</th>\n",
              "      <th>last_credit_pull_d</th>\n",
              "      <th>collections_12_mths_ex_med</th>\n",
              "      <th>mths_since_last_major_derog</th>\n",
              "      <th>policy_code</th>\n",
              "      <th>application_type</th>\n",
              "      <th>annual_inc_joint</th>\n",
              "      <th>dti_joint</th>\n",
              "      <th>verification_status_joint</th>\n",
              "      <th>acc_now_delinq</th>\n",
              "      <th>tot_coll_amt</th>\n",
              "      <th>tot_cur_bal</th>\n",
              "      <th>open_acc_6m</th>\n",
              "      <th>open_il_6m</th>\n",
              "      <th>open_il_12m</th>\n",
              "      <th>open_il_24m</th>\n",
              "      <th>mths_since_rcnt_il</th>\n",
              "      <th>total_bal_il</th>\n",
              "      <th>il_util</th>\n",
              "      <th>open_rv_12m</th>\n",
              "      <th>open_rv_24m</th>\n",
              "      <th>max_bal_bc</th>\n",
              "      <th>all_util</th>\n",
              "      <th>total_rev_hi_lim</th>\n",
              "      <th>inq_fi</th>\n",
              "      <th>total_cu_tl</th>\n",
              "      <th>inq_last_12m</th>\n",
              "    </tr>\n",
              "  </thead>\n",
              "  <tbody>\n",
              "    <tr>\n",
              "      <th>0</th>\n",
              "      <td>0</td>\n",
              "      <td>1077501</td>\n",
              "      <td>1296599</td>\n",
              "      <td>5000</td>\n",
              "      <td>5000</td>\n",
              "      <td>4975.0</td>\n",
              "      <td>36 months</td>\n",
              "      <td>10.65</td>\n",
              "      <td>162.87</td>\n",
              "      <td>B</td>\n",
              "      <td>B2</td>\n",
              "      <td>NaN</td>\n",
              "      <td>10+ years</td>\n",
              "      <td>RENT</td>\n",
              "      <td>24000.0</td>\n",
              "      <td>Verified</td>\n",
              "      <td>Dec-11</td>\n",
              "      <td>Fully Paid</td>\n",
              "      <td>n</td>\n",
              "      <td>https://www.lendingclub.com/browse/loanDetail....</td>\n",
              "      <td>Borrower added on 12/22/11 &gt; I need to upgra...</td>\n",
              "      <td>credit_card</td>\n",
              "      <td>Computer</td>\n",
              "      <td>860xx</td>\n",
              "      <td>AZ</td>\n",
              "      <td>27.65</td>\n",
              "      <td>0.0</td>\n",
              "      <td>Jan-85</td>\n",
              "      <td>1.0</td>\n",
              "      <td>NaN</td>\n",
              "      <td>NaN</td>\n",
              "      <td>3.0</td>\n",
              "      <td>0.0</td>\n",
              "      <td>13648</td>\n",
              "      <td>83.7</td>\n",
              "      <td>9.0</td>\n",
              "      <td>f</td>\n",
              "      <td>0.00</td>\n",
              "      <td>0.00</td>\n",
              "      <td>5861.071414</td>\n",
              "      <td>5831.78</td>\n",
              "      <td>5000.00</td>\n",
              "      <td>861.07</td>\n",
              "      <td>0.00</td>\n",
              "      <td>0.00</td>\n",
              "      <td>0.00</td>\n",
              "      <td>Jan-15</td>\n",
              "      <td>171.62</td>\n",
              "      <td>NaN</td>\n",
              "      <td>Jan-16</td>\n",
              "      <td>0.0</td>\n",
              "      <td>NaN</td>\n",
              "      <td>1</td>\n",
              "      <td>INDIVIDUAL</td>\n",
              "      <td>NaN</td>\n",
              "      <td>NaN</td>\n",
              "      <td>NaN</td>\n",
              "      <td>0.0</td>\n",
              "      <td>NaN</td>\n",
              "      <td>NaN</td>\n",
              "      <td>NaN</td>\n",
              "      <td>NaN</td>\n",
              "      <td>NaN</td>\n",
              "      <td>NaN</td>\n",
              "      <td>NaN</td>\n",
              "      <td>NaN</td>\n",
              "      <td>NaN</td>\n",
              "      <td>NaN</td>\n",
              "      <td>NaN</td>\n",
              "      <td>NaN</td>\n",
              "      <td>NaN</td>\n",
              "      <td>NaN</td>\n",
              "      <td>NaN</td>\n",
              "      <td>NaN</td>\n",
              "      <td>NaN</td>\n",
              "    </tr>\n",
              "    <tr>\n",
              "      <th>1</th>\n",
              "      <td>1</td>\n",
              "      <td>1077430</td>\n",
              "      <td>1314167</td>\n",
              "      <td>2500</td>\n",
              "      <td>2500</td>\n",
              "      <td>2500.0</td>\n",
              "      <td>60 months</td>\n",
              "      <td>15.27</td>\n",
              "      <td>59.83</td>\n",
              "      <td>C</td>\n",
              "      <td>C4</td>\n",
              "      <td>Ryder</td>\n",
              "      <td>&lt; 1 year</td>\n",
              "      <td>RENT</td>\n",
              "      <td>30000.0</td>\n",
              "      <td>Source Verified</td>\n",
              "      <td>Dec-11</td>\n",
              "      <td>Charged Off</td>\n",
              "      <td>n</td>\n",
              "      <td>https://www.lendingclub.com/browse/loanDetail....</td>\n",
              "      <td>Borrower added on 12/22/11 &gt; I plan to use t...</td>\n",
              "      <td>car</td>\n",
              "      <td>bike</td>\n",
              "      <td>309xx</td>\n",
              "      <td>GA</td>\n",
              "      <td>1.00</td>\n",
              "      <td>0.0</td>\n",
              "      <td>Apr-99</td>\n",
              "      <td>5.0</td>\n",
              "      <td>NaN</td>\n",
              "      <td>NaN</td>\n",
              "      <td>3.0</td>\n",
              "      <td>0.0</td>\n",
              "      <td>1687</td>\n",
              "      <td>9.4</td>\n",
              "      <td>4.0</td>\n",
              "      <td>f</td>\n",
              "      <td>0.00</td>\n",
              "      <td>0.00</td>\n",
              "      <td>1008.710000</td>\n",
              "      <td>1008.71</td>\n",
              "      <td>456.46</td>\n",
              "      <td>435.17</td>\n",
              "      <td>0.00</td>\n",
              "      <td>117.08</td>\n",
              "      <td>1.11</td>\n",
              "      <td>Apr-13</td>\n",
              "      <td>119.66</td>\n",
              "      <td>NaN</td>\n",
              "      <td>Sep-13</td>\n",
              "      <td>0.0</td>\n",
              "      <td>NaN</td>\n",
              "      <td>1</td>\n",
              "      <td>INDIVIDUAL</td>\n",
              "      <td>NaN</td>\n",
              "      <td>NaN</td>\n",
              "      <td>NaN</td>\n",
              "      <td>0.0</td>\n",
              "      <td>NaN</td>\n",
              "      <td>NaN</td>\n",
              "      <td>NaN</td>\n",
              "      <td>NaN</td>\n",
              "      <td>NaN</td>\n",
              "      <td>NaN</td>\n",
              "      <td>NaN</td>\n",
              "      <td>NaN</td>\n",
              "      <td>NaN</td>\n",
              "      <td>NaN</td>\n",
              "      <td>NaN</td>\n",
              "      <td>NaN</td>\n",
              "      <td>NaN</td>\n",
              "      <td>NaN</td>\n",
              "      <td>NaN</td>\n",
              "      <td>NaN</td>\n",
              "      <td>NaN</td>\n",
              "    </tr>\n",
              "    <tr>\n",
              "      <th>2</th>\n",
              "      <td>2</td>\n",
              "      <td>1077175</td>\n",
              "      <td>1313524</td>\n",
              "      <td>2400</td>\n",
              "      <td>2400</td>\n",
              "      <td>2400.0</td>\n",
              "      <td>36 months</td>\n",
              "      <td>15.96</td>\n",
              "      <td>84.33</td>\n",
              "      <td>C</td>\n",
              "      <td>C5</td>\n",
              "      <td>NaN</td>\n",
              "      <td>10+ years</td>\n",
              "      <td>RENT</td>\n",
              "      <td>12252.0</td>\n",
              "      <td>Not Verified</td>\n",
              "      <td>Dec-11</td>\n",
              "      <td>Fully Paid</td>\n",
              "      <td>n</td>\n",
              "      <td>https://www.lendingclub.com/browse/loanDetail....</td>\n",
              "      <td>NaN</td>\n",
              "      <td>small_business</td>\n",
              "      <td>real estate business</td>\n",
              "      <td>606xx</td>\n",
              "      <td>IL</td>\n",
              "      <td>8.72</td>\n",
              "      <td>0.0</td>\n",
              "      <td>Nov-01</td>\n",
              "      <td>2.0</td>\n",
              "      <td>NaN</td>\n",
              "      <td>NaN</td>\n",
              "      <td>2.0</td>\n",
              "      <td>0.0</td>\n",
              "      <td>2956</td>\n",
              "      <td>98.5</td>\n",
              "      <td>10.0</td>\n",
              "      <td>f</td>\n",
              "      <td>0.00</td>\n",
              "      <td>0.00</td>\n",
              "      <td>3003.653644</td>\n",
              "      <td>3003.65</td>\n",
              "      <td>2400.00</td>\n",
              "      <td>603.65</td>\n",
              "      <td>0.00</td>\n",
              "      <td>0.00</td>\n",
              "      <td>0.00</td>\n",
              "      <td>Jun-14</td>\n",
              "      <td>649.91</td>\n",
              "      <td>NaN</td>\n",
              "      <td>Jan-16</td>\n",
              "      <td>0.0</td>\n",
              "      <td>NaN</td>\n",
              "      <td>1</td>\n",
              "      <td>INDIVIDUAL</td>\n",
              "      <td>NaN</td>\n",
              "      <td>NaN</td>\n",
              "      <td>NaN</td>\n",
              "      <td>0.0</td>\n",
              "      <td>NaN</td>\n",
              "      <td>NaN</td>\n",
              "      <td>NaN</td>\n",
              "      <td>NaN</td>\n",
              "      <td>NaN</td>\n",
              "      <td>NaN</td>\n",
              "      <td>NaN</td>\n",
              "      <td>NaN</td>\n",
              "      <td>NaN</td>\n",
              "      <td>NaN</td>\n",
              "      <td>NaN</td>\n",
              "      <td>NaN</td>\n",
              "      <td>NaN</td>\n",
              "      <td>NaN</td>\n",
              "      <td>NaN</td>\n",
              "      <td>NaN</td>\n",
              "      <td>NaN</td>\n",
              "    </tr>\n",
              "    <tr>\n",
              "      <th>3</th>\n",
              "      <td>3</td>\n",
              "      <td>1076863</td>\n",
              "      <td>1277178</td>\n",
              "      <td>10000</td>\n",
              "      <td>10000</td>\n",
              "      <td>10000.0</td>\n",
              "      <td>36 months</td>\n",
              "      <td>13.49</td>\n",
              "      <td>339.31</td>\n",
              "      <td>C</td>\n",
              "      <td>C1</td>\n",
              "      <td>AIR RESOURCES BOARD</td>\n",
              "      <td>10+ years</td>\n",
              "      <td>RENT</td>\n",
              "      <td>49200.0</td>\n",
              "      <td>Source Verified</td>\n",
              "      <td>Dec-11</td>\n",
              "      <td>Fully Paid</td>\n",
              "      <td>n</td>\n",
              "      <td>https://www.lendingclub.com/browse/loanDetail....</td>\n",
              "      <td>Borrower added on 12/21/11 &gt; to pay for prop...</td>\n",
              "      <td>other</td>\n",
              "      <td>personel</td>\n",
              "      <td>917xx</td>\n",
              "      <td>CA</td>\n",
              "      <td>20.00</td>\n",
              "      <td>0.0</td>\n",
              "      <td>Feb-96</td>\n",
              "      <td>1.0</td>\n",
              "      <td>35.0</td>\n",
              "      <td>NaN</td>\n",
              "      <td>10.0</td>\n",
              "      <td>0.0</td>\n",
              "      <td>5598</td>\n",
              "      <td>21.0</td>\n",
              "      <td>37.0</td>\n",
              "      <td>f</td>\n",
              "      <td>0.00</td>\n",
              "      <td>0.00</td>\n",
              "      <td>12226.302210</td>\n",
              "      <td>12226.30</td>\n",
              "      <td>10000.00</td>\n",
              "      <td>2209.33</td>\n",
              "      <td>16.97</td>\n",
              "      <td>0.00</td>\n",
              "      <td>0.00</td>\n",
              "      <td>Jan-15</td>\n",
              "      <td>357.48</td>\n",
              "      <td>NaN</td>\n",
              "      <td>Jan-15</td>\n",
              "      <td>0.0</td>\n",
              "      <td>NaN</td>\n",
              "      <td>1</td>\n",
              "      <td>INDIVIDUAL</td>\n",
              "      <td>NaN</td>\n",
              "      <td>NaN</td>\n",
              "      <td>NaN</td>\n",
              "      <td>0.0</td>\n",
              "      <td>NaN</td>\n",
              "      <td>NaN</td>\n",
              "      <td>NaN</td>\n",
              "      <td>NaN</td>\n",
              "      <td>NaN</td>\n",
              "      <td>NaN</td>\n",
              "      <td>NaN</td>\n",
              "      <td>NaN</td>\n",
              "      <td>NaN</td>\n",
              "      <td>NaN</td>\n",
              "      <td>NaN</td>\n",
              "      <td>NaN</td>\n",
              "      <td>NaN</td>\n",
              "      <td>NaN</td>\n",
              "      <td>NaN</td>\n",
              "      <td>NaN</td>\n",
              "      <td>NaN</td>\n",
              "    </tr>\n",
              "    <tr>\n",
              "      <th>4</th>\n",
              "      <td>4</td>\n",
              "      <td>1075358</td>\n",
              "      <td>1311748</td>\n",
              "      <td>3000</td>\n",
              "      <td>3000</td>\n",
              "      <td>3000.0</td>\n",
              "      <td>60 months</td>\n",
              "      <td>12.69</td>\n",
              "      <td>67.79</td>\n",
              "      <td>B</td>\n",
              "      <td>B5</td>\n",
              "      <td>University Medical Group</td>\n",
              "      <td>1 year</td>\n",
              "      <td>RENT</td>\n",
              "      <td>80000.0</td>\n",
              "      <td>Source Verified</td>\n",
              "      <td>Dec-11</td>\n",
              "      <td>Current</td>\n",
              "      <td>n</td>\n",
              "      <td>https://www.lendingclub.com/browse/loanDetail....</td>\n",
              "      <td>Borrower added on 12/21/11 &gt; I plan on combi...</td>\n",
              "      <td>other</td>\n",
              "      <td>Personal</td>\n",
              "      <td>972xx</td>\n",
              "      <td>OR</td>\n",
              "      <td>17.94</td>\n",
              "      <td>0.0</td>\n",
              "      <td>Jan-96</td>\n",
              "      <td>0.0</td>\n",
              "      <td>38.0</td>\n",
              "      <td>NaN</td>\n",
              "      <td>15.0</td>\n",
              "      <td>0.0</td>\n",
              "      <td>27783</td>\n",
              "      <td>53.9</td>\n",
              "      <td>38.0</td>\n",
              "      <td>f</td>\n",
              "      <td>766.90</td>\n",
              "      <td>766.90</td>\n",
              "      <td>3242.170000</td>\n",
              "      <td>3242.17</td>\n",
              "      <td>2233.10</td>\n",
              "      <td>1009.07</td>\n",
              "      <td>0.00</td>\n",
              "      <td>0.00</td>\n",
              "      <td>0.00</td>\n",
              "      <td>Jan-16</td>\n",
              "      <td>67.79</td>\n",
              "      <td>Feb-16</td>\n",
              "      <td>Jan-16</td>\n",
              "      <td>0.0</td>\n",
              "      <td>NaN</td>\n",
              "      <td>1</td>\n",
              "      <td>INDIVIDUAL</td>\n",
              "      <td>NaN</td>\n",
              "      <td>NaN</td>\n",
              "      <td>NaN</td>\n",
              "      <td>0.0</td>\n",
              "      <td>NaN</td>\n",
              "      <td>NaN</td>\n",
              "      <td>NaN</td>\n",
              "      <td>NaN</td>\n",
              "      <td>NaN</td>\n",
              "      <td>NaN</td>\n",
              "      <td>NaN</td>\n",
              "      <td>NaN</td>\n",
              "      <td>NaN</td>\n",
              "      <td>NaN</td>\n",
              "      <td>NaN</td>\n",
              "      <td>NaN</td>\n",
              "      <td>NaN</td>\n",
              "      <td>NaN</td>\n",
              "      <td>NaN</td>\n",
              "      <td>NaN</td>\n",
              "      <td>NaN</td>\n",
              "    </tr>\n",
              "    <tr>\n",
              "      <th>...</th>\n",
              "      <td>...</td>\n",
              "      <td>...</td>\n",
              "      <td>...</td>\n",
              "      <td>...</td>\n",
              "      <td>...</td>\n",
              "      <td>...</td>\n",
              "      <td>...</td>\n",
              "      <td>...</td>\n",
              "      <td>...</td>\n",
              "      <td>...</td>\n",
              "      <td>...</td>\n",
              "      <td>...</td>\n",
              "      <td>...</td>\n",
              "      <td>...</td>\n",
              "      <td>...</td>\n",
              "      <td>...</td>\n",
              "      <td>...</td>\n",
              "      <td>...</td>\n",
              "      <td>...</td>\n",
              "      <td>...</td>\n",
              "      <td>...</td>\n",
              "      <td>...</td>\n",
              "      <td>...</td>\n",
              "      <td>...</td>\n",
              "      <td>...</td>\n",
              "      <td>...</td>\n",
              "      <td>...</td>\n",
              "      <td>...</td>\n",
              "      <td>...</td>\n",
              "      <td>...</td>\n",
              "      <td>...</td>\n",
              "      <td>...</td>\n",
              "      <td>...</td>\n",
              "      <td>...</td>\n",
              "      <td>...</td>\n",
              "      <td>...</td>\n",
              "      <td>...</td>\n",
              "      <td>...</td>\n",
              "      <td>...</td>\n",
              "      <td>...</td>\n",
              "      <td>...</td>\n",
              "      <td>...</td>\n",
              "      <td>...</td>\n",
              "      <td>...</td>\n",
              "      <td>...</td>\n",
              "      <td>...</td>\n",
              "      <td>...</td>\n",
              "      <td>...</td>\n",
              "      <td>...</td>\n",
              "      <td>...</td>\n",
              "      <td>...</td>\n",
              "      <td>...</td>\n",
              "      <td>...</td>\n",
              "      <td>...</td>\n",
              "      <td>...</td>\n",
              "      <td>...</td>\n",
              "      <td>...</td>\n",
              "      <td>...</td>\n",
              "      <td>...</td>\n",
              "      <td>...</td>\n",
              "      <td>...</td>\n",
              "      <td>...</td>\n",
              "      <td>...</td>\n",
              "      <td>...</td>\n",
              "      <td>...</td>\n",
              "      <td>...</td>\n",
              "      <td>...</td>\n",
              "      <td>...</td>\n",
              "      <td>...</td>\n",
              "      <td>...</td>\n",
              "      <td>...</td>\n",
              "      <td>...</td>\n",
              "      <td>...</td>\n",
              "      <td>...</td>\n",
              "      <td>...</td>\n",
              "    </tr>\n",
              "    <tr>\n",
              "      <th>466280</th>\n",
              "      <td>466280</td>\n",
              "      <td>8598660</td>\n",
              "      <td>1440975</td>\n",
              "      <td>18400</td>\n",
              "      <td>18400</td>\n",
              "      <td>18400.0</td>\n",
              "      <td>60 months</td>\n",
              "      <td>14.47</td>\n",
              "      <td>432.64</td>\n",
              "      <td>C</td>\n",
              "      <td>C2</td>\n",
              "      <td>Financial Advisor</td>\n",
              "      <td>4 years</td>\n",
              "      <td>MORTGAGE</td>\n",
              "      <td>110000.0</td>\n",
              "      <td>Source Verified</td>\n",
              "      <td>Jan-14</td>\n",
              "      <td>Current</td>\n",
              "      <td>n</td>\n",
              "      <td>https://www.lendingclub.com/browse/loanDetail....</td>\n",
              "      <td>NaN</td>\n",
              "      <td>debt_consolidation</td>\n",
              "      <td>Debt consolidation</td>\n",
              "      <td>773xx</td>\n",
              "      <td>TX</td>\n",
              "      <td>19.85</td>\n",
              "      <td>0.0</td>\n",
              "      <td>Apr-03</td>\n",
              "      <td>2.0</td>\n",
              "      <td>NaN</td>\n",
              "      <td>NaN</td>\n",
              "      <td>18.0</td>\n",
              "      <td>0.0</td>\n",
              "      <td>23208</td>\n",
              "      <td>77.6</td>\n",
              "      <td>36.0</td>\n",
              "      <td>w</td>\n",
              "      <td>12574.00</td>\n",
              "      <td>12574.00</td>\n",
              "      <td>10383.360000</td>\n",
              "      <td>10383.36</td>\n",
              "      <td>5826.00</td>\n",
              "      <td>4557.36</td>\n",
              "      <td>0.00</td>\n",
              "      <td>0.00</td>\n",
              "      <td>0.00</td>\n",
              "      <td>Jan-16</td>\n",
              "      <td>432.64</td>\n",
              "      <td>Feb-16</td>\n",
              "      <td>Jan-16</td>\n",
              "      <td>0.0</td>\n",
              "      <td>NaN</td>\n",
              "      <td>1</td>\n",
              "      <td>INDIVIDUAL</td>\n",
              "      <td>NaN</td>\n",
              "      <td>NaN</td>\n",
              "      <td>NaN</td>\n",
              "      <td>0.0</td>\n",
              "      <td>0.0</td>\n",
              "      <td>294998.0</td>\n",
              "      <td>NaN</td>\n",
              "      <td>NaN</td>\n",
              "      <td>NaN</td>\n",
              "      <td>NaN</td>\n",
              "      <td>NaN</td>\n",
              "      <td>NaN</td>\n",
              "      <td>NaN</td>\n",
              "      <td>NaN</td>\n",
              "      <td>NaN</td>\n",
              "      <td>NaN</td>\n",
              "      <td>NaN</td>\n",
              "      <td>29900.0</td>\n",
              "      <td>NaN</td>\n",
              "      <td>NaN</td>\n",
              "      <td>NaN</td>\n",
              "    </tr>\n",
              "    <tr>\n",
              "      <th>466281</th>\n",
              "      <td>466281</td>\n",
              "      <td>9684700</td>\n",
              "      <td>11536848</td>\n",
              "      <td>22000</td>\n",
              "      <td>22000</td>\n",
              "      <td>22000.0</td>\n",
              "      <td>60 months</td>\n",
              "      <td>19.97</td>\n",
              "      <td>582.50</td>\n",
              "      <td>D</td>\n",
              "      <td>D5</td>\n",
              "      <td>Chief of Interpretation (Park Ranger)</td>\n",
              "      <td>10+ years</td>\n",
              "      <td>MORTGAGE</td>\n",
              "      <td>78000.0</td>\n",
              "      <td>Verified</td>\n",
              "      <td>Jan-14</td>\n",
              "      <td>Charged Off</td>\n",
              "      <td>n</td>\n",
              "      <td>https://www.lendingclub.com/browse/loanDetail....</td>\n",
              "      <td>NaN</td>\n",
              "      <td>debt_consolidation</td>\n",
              "      <td>Debt consolidation</td>\n",
              "      <td>377xx</td>\n",
              "      <td>TN</td>\n",
              "      <td>18.45</td>\n",
              "      <td>0.0</td>\n",
              "      <td>Jun-97</td>\n",
              "      <td>5.0</td>\n",
              "      <td>NaN</td>\n",
              "      <td>116.0</td>\n",
              "      <td>18.0</td>\n",
              "      <td>1.0</td>\n",
              "      <td>18238</td>\n",
              "      <td>46.3</td>\n",
              "      <td>30.0</td>\n",
              "      <td>f</td>\n",
              "      <td>0.00</td>\n",
              "      <td>0.00</td>\n",
              "      <td>4677.920000</td>\n",
              "      <td>4677.92</td>\n",
              "      <td>1837.04</td>\n",
              "      <td>2840.88</td>\n",
              "      <td>0.00</td>\n",
              "      <td>0.00</td>\n",
              "      <td>0.00</td>\n",
              "      <td>Dec-14</td>\n",
              "      <td>17.50</td>\n",
              "      <td>NaN</td>\n",
              "      <td>Jan-16</td>\n",
              "      <td>0.0</td>\n",
              "      <td>NaN</td>\n",
              "      <td>1</td>\n",
              "      <td>INDIVIDUAL</td>\n",
              "      <td>NaN</td>\n",
              "      <td>NaN</td>\n",
              "      <td>NaN</td>\n",
              "      <td>0.0</td>\n",
              "      <td>0.0</td>\n",
              "      <td>221830.0</td>\n",
              "      <td>NaN</td>\n",
              "      <td>NaN</td>\n",
              "      <td>NaN</td>\n",
              "      <td>NaN</td>\n",
              "      <td>NaN</td>\n",
              "      <td>NaN</td>\n",
              "      <td>NaN</td>\n",
              "      <td>NaN</td>\n",
              "      <td>NaN</td>\n",
              "      <td>NaN</td>\n",
              "      <td>NaN</td>\n",
              "      <td>39400.0</td>\n",
              "      <td>NaN</td>\n",
              "      <td>NaN</td>\n",
              "      <td>NaN</td>\n",
              "    </tr>\n",
              "    <tr>\n",
              "      <th>466282</th>\n",
              "      <td>466282</td>\n",
              "      <td>9584776</td>\n",
              "      <td>11436914</td>\n",
              "      <td>20700</td>\n",
              "      <td>20700</td>\n",
              "      <td>20700.0</td>\n",
              "      <td>60 months</td>\n",
              "      <td>16.99</td>\n",
              "      <td>514.34</td>\n",
              "      <td>D</td>\n",
              "      <td>D1</td>\n",
              "      <td>patrol</td>\n",
              "      <td>7 years</td>\n",
              "      <td>MORTGAGE</td>\n",
              "      <td>46000.0</td>\n",
              "      <td>Verified</td>\n",
              "      <td>Jan-14</td>\n",
              "      <td>Current</td>\n",
              "      <td>n</td>\n",
              "      <td>https://www.lendingclub.com/browse/loanDetail....</td>\n",
              "      <td>Borrower added on 12/06/13 &gt; I am going to c...</td>\n",
              "      <td>debt_consolidation</td>\n",
              "      <td>Debt consolidation</td>\n",
              "      <td>458xx</td>\n",
              "      <td>OH</td>\n",
              "      <td>25.65</td>\n",
              "      <td>0.0</td>\n",
              "      <td>Dec-01</td>\n",
              "      <td>2.0</td>\n",
              "      <td>65.0</td>\n",
              "      <td>NaN</td>\n",
              "      <td>18.0</td>\n",
              "      <td>0.0</td>\n",
              "      <td>6688</td>\n",
              "      <td>51.1</td>\n",
              "      <td>43.0</td>\n",
              "      <td>f</td>\n",
              "      <td>14428.31</td>\n",
              "      <td>14428.31</td>\n",
              "      <td>12343.980000</td>\n",
              "      <td>12343.98</td>\n",
              "      <td>6271.69</td>\n",
              "      <td>6072.29</td>\n",
              "      <td>0.00</td>\n",
              "      <td>0.00</td>\n",
              "      <td>0.00</td>\n",
              "      <td>Jan-16</td>\n",
              "      <td>514.34</td>\n",
              "      <td>Feb-16</td>\n",
              "      <td>Dec-15</td>\n",
              "      <td>0.0</td>\n",
              "      <td>NaN</td>\n",
              "      <td>1</td>\n",
              "      <td>INDIVIDUAL</td>\n",
              "      <td>NaN</td>\n",
              "      <td>NaN</td>\n",
              "      <td>NaN</td>\n",
              "      <td>0.0</td>\n",
              "      <td>0.0</td>\n",
              "      <td>73598.0</td>\n",
              "      <td>NaN</td>\n",
              "      <td>NaN</td>\n",
              "      <td>NaN</td>\n",
              "      <td>NaN</td>\n",
              "      <td>NaN</td>\n",
              "      <td>NaN</td>\n",
              "      <td>NaN</td>\n",
              "      <td>NaN</td>\n",
              "      <td>NaN</td>\n",
              "      <td>NaN</td>\n",
              "      <td>NaN</td>\n",
              "      <td>13100.0</td>\n",
              "      <td>NaN</td>\n",
              "      <td>NaN</td>\n",
              "      <td>NaN</td>\n",
              "    </tr>\n",
              "    <tr>\n",
              "      <th>466283</th>\n",
              "      <td>466283</td>\n",
              "      <td>9604874</td>\n",
              "      <td>11457002</td>\n",
              "      <td>2000</td>\n",
              "      <td>2000</td>\n",
              "      <td>2000.0</td>\n",
              "      <td>36 months</td>\n",
              "      <td>7.90</td>\n",
              "      <td>62.59</td>\n",
              "      <td>A</td>\n",
              "      <td>A4</td>\n",
              "      <td>Server Engineer Lead</td>\n",
              "      <td>3 years</td>\n",
              "      <td>OWN</td>\n",
              "      <td>83000.0</td>\n",
              "      <td>Verified</td>\n",
              "      <td>Jan-14</td>\n",
              "      <td>Fully Paid</td>\n",
              "      <td>n</td>\n",
              "      <td>https://www.lendingclub.com/browse/loanDetail....</td>\n",
              "      <td>NaN</td>\n",
              "      <td>credit_card</td>\n",
              "      <td>Credit card refinancing</td>\n",
              "      <td>913xx</td>\n",
              "      <td>CA</td>\n",
              "      <td>5.39</td>\n",
              "      <td>3.0</td>\n",
              "      <td>Feb-03</td>\n",
              "      <td>1.0</td>\n",
              "      <td>13.0</td>\n",
              "      <td>NaN</td>\n",
              "      <td>21.0</td>\n",
              "      <td>0.0</td>\n",
              "      <td>11404</td>\n",
              "      <td>21.5</td>\n",
              "      <td>27.0</td>\n",
              "      <td>w</td>\n",
              "      <td>0.00</td>\n",
              "      <td>0.00</td>\n",
              "      <td>2126.579838</td>\n",
              "      <td>2126.58</td>\n",
              "      <td>2000.00</td>\n",
              "      <td>126.58</td>\n",
              "      <td>0.00</td>\n",
              "      <td>0.00</td>\n",
              "      <td>0.00</td>\n",
              "      <td>Dec-14</td>\n",
              "      <td>1500.68</td>\n",
              "      <td>NaN</td>\n",
              "      <td>Apr-15</td>\n",
              "      <td>0.0</td>\n",
              "      <td>NaN</td>\n",
              "      <td>1</td>\n",
              "      <td>INDIVIDUAL</td>\n",
              "      <td>NaN</td>\n",
              "      <td>NaN</td>\n",
              "      <td>NaN</td>\n",
              "      <td>0.0</td>\n",
              "      <td>0.0</td>\n",
              "      <td>591610.0</td>\n",
              "      <td>NaN</td>\n",
              "      <td>NaN</td>\n",
              "      <td>NaN</td>\n",
              "      <td>NaN</td>\n",
              "      <td>NaN</td>\n",
              "      <td>NaN</td>\n",
              "      <td>NaN</td>\n",
              "      <td>NaN</td>\n",
              "      <td>NaN</td>\n",
              "      <td>NaN</td>\n",
              "      <td>NaN</td>\n",
              "      <td>53100.0</td>\n",
              "      <td>NaN</td>\n",
              "      <td>NaN</td>\n",
              "      <td>NaN</td>\n",
              "    </tr>\n",
              "    <tr>\n",
              "      <th>466284</th>\n",
              "      <td>466284</td>\n",
              "      <td>9199665</td>\n",
              "      <td>11061576</td>\n",
              "      <td>10000</td>\n",
              "      <td>10000</td>\n",
              "      <td>9975.0</td>\n",
              "      <td>36 months</td>\n",
              "      <td>19.20</td>\n",
              "      <td>367.58</td>\n",
              "      <td>D</td>\n",
              "      <td>D3</td>\n",
              "      <td>NaN</td>\n",
              "      <td>10+ years</td>\n",
              "      <td>MORTGAGE</td>\n",
              "      <td>46000.0</td>\n",
              "      <td>Verified</td>\n",
              "      <td>Jan-14</td>\n",
              "      <td>Current</td>\n",
              "      <td>n</td>\n",
              "      <td>https://www.lendingclub.com/browse/loanDetail....</td>\n",
              "      <td>Borrower added on 12/04/13 &gt; I will like a l...</td>\n",
              "      <td>other</td>\n",
              "      <td>Other</td>\n",
              "      <td>950xx</td>\n",
              "      <td>CA</td>\n",
              "      <td>22.78</td>\n",
              "      <td>1.0</td>\n",
              "      <td>Feb-00</td>\n",
              "      <td>0.0</td>\n",
              "      <td>9.0</td>\n",
              "      <td>NaN</td>\n",
              "      <td>6.0</td>\n",
              "      <td>0.0</td>\n",
              "      <td>11325</td>\n",
              "      <td>70.8</td>\n",
              "      <td>22.0</td>\n",
              "      <td>f</td>\n",
              "      <td>3984.38</td>\n",
              "      <td>3974.41</td>\n",
              "      <td>8821.620000</td>\n",
              "      <td>8799.57</td>\n",
              "      <td>6015.62</td>\n",
              "      <td>2806.00</td>\n",
              "      <td>0.00</td>\n",
              "      <td>0.00</td>\n",
              "      <td>0.00</td>\n",
              "      <td>Jan-16</td>\n",
              "      <td>367.58</td>\n",
              "      <td>Feb-16</td>\n",
              "      <td>Jan-16</td>\n",
              "      <td>0.0</td>\n",
              "      <td>NaN</td>\n",
              "      <td>1</td>\n",
              "      <td>INDIVIDUAL</td>\n",
              "      <td>NaN</td>\n",
              "      <td>NaN</td>\n",
              "      <td>NaN</td>\n",
              "      <td>0.0</td>\n",
              "      <td>0.0</td>\n",
              "      <td>57477.0</td>\n",
              "      <td>NaN</td>\n",
              "      <td>NaN</td>\n",
              "      <td>NaN</td>\n",
              "      <td>NaN</td>\n",
              "      <td>NaN</td>\n",
              "      <td>NaN</td>\n",
              "      <td>NaN</td>\n",
              "      <td>NaN</td>\n",
              "      <td>NaN</td>\n",
              "      <td>NaN</td>\n",
              "      <td>NaN</td>\n",
              "      <td>16000.0</td>\n",
              "      <td>NaN</td>\n",
              "      <td>NaN</td>\n",
              "      <td>NaN</td>\n",
              "    </tr>\n",
              "  </tbody>\n",
              "</table>\n",
              "<p>466285 rows × 75 columns</p>\n",
              "</div>\n",
              "      <button class=\"colab-df-convert\" onclick=\"convertToInteractive('df-c6d984e1-c481-49a7-8111-ce9deb1120dc')\"\n",
              "              title=\"Convert this dataframe to an interactive table.\"\n",
              "              style=\"display:none;\">\n",
              "        \n",
              "  <svg xmlns=\"http://www.w3.org/2000/svg\" height=\"24px\"viewBox=\"0 0 24 24\"\n",
              "       width=\"24px\">\n",
              "    <path d=\"M0 0h24v24H0V0z\" fill=\"none\"/>\n",
              "    <path d=\"M18.56 5.44l.94 2.06.94-2.06 2.06-.94-2.06-.94-.94-2.06-.94 2.06-2.06.94zm-11 1L8.5 8.5l.94-2.06 2.06-.94-2.06-.94L8.5 2.5l-.94 2.06-2.06.94zm10 10l.94 2.06.94-2.06 2.06-.94-2.06-.94-.94-2.06-.94 2.06-2.06.94z\"/><path d=\"M17.41 7.96l-1.37-1.37c-.4-.4-.92-.59-1.43-.59-.52 0-1.04.2-1.43.59L10.3 9.45l-7.72 7.72c-.78.78-.78 2.05 0 2.83L4 21.41c.39.39.9.59 1.41.59.51 0 1.02-.2 1.41-.59l7.78-7.78 2.81-2.81c.8-.78.8-2.07 0-2.86zM5.41 20L4 18.59l7.72-7.72 1.47 1.35L5.41 20z\"/>\n",
              "  </svg>\n",
              "      </button>\n",
              "      \n",
              "  <style>\n",
              "    .colab-df-container {\n",
              "      display:flex;\n",
              "      flex-wrap:wrap;\n",
              "      gap: 12px;\n",
              "    }\n",
              "\n",
              "    .colab-df-convert {\n",
              "      background-color: #E8F0FE;\n",
              "      border: none;\n",
              "      border-radius: 50%;\n",
              "      cursor: pointer;\n",
              "      display: none;\n",
              "      fill: #1967D2;\n",
              "      height: 32px;\n",
              "      padding: 0 0 0 0;\n",
              "      width: 32px;\n",
              "    }\n",
              "\n",
              "    .colab-df-convert:hover {\n",
              "      background-color: #E2EBFA;\n",
              "      box-shadow: 0px 1px 2px rgba(60, 64, 67, 0.3), 0px 1px 3px 1px rgba(60, 64, 67, 0.15);\n",
              "      fill: #174EA6;\n",
              "    }\n",
              "\n",
              "    [theme=dark] .colab-df-convert {\n",
              "      background-color: #3B4455;\n",
              "      fill: #D2E3FC;\n",
              "    }\n",
              "\n",
              "    [theme=dark] .colab-df-convert:hover {\n",
              "      background-color: #434B5C;\n",
              "      box-shadow: 0px 1px 3px 1px rgba(0, 0, 0, 0.15);\n",
              "      filter: drop-shadow(0px 1px 2px rgba(0, 0, 0, 0.3));\n",
              "      fill: #FFFFFF;\n",
              "    }\n",
              "  </style>\n",
              "\n",
              "      <script>\n",
              "        const buttonEl =\n",
              "          document.querySelector('#df-c6d984e1-c481-49a7-8111-ce9deb1120dc button.colab-df-convert');\n",
              "        buttonEl.style.display =\n",
              "          google.colab.kernel.accessAllowed ? 'block' : 'none';\n",
              "\n",
              "        async function convertToInteractive(key) {\n",
              "          const element = document.querySelector('#df-c6d984e1-c481-49a7-8111-ce9deb1120dc');\n",
              "          const dataTable =\n",
              "            await google.colab.kernel.invokeFunction('convertToInteractive',\n",
              "                                                     [key], {});\n",
              "          if (!dataTable) return;\n",
              "\n",
              "          const docLinkHtml = 'Like what you see? Visit the ' +\n",
              "            '<a target=\"_blank\" href=https://colab.research.google.com/notebooks/data_table.ipynb>data table notebook</a>'\n",
              "            + ' to learn more about interactive tables.';\n",
              "          element.innerHTML = '';\n",
              "          dataTable['output_type'] = 'display_data';\n",
              "          await google.colab.output.renderOutput(dataTable, element);\n",
              "          const docLink = document.createElement('div');\n",
              "          docLink.innerHTML = docLinkHtml;\n",
              "          element.appendChild(docLink);\n",
              "        }\n",
              "      </script>\n",
              "    </div>\n",
              "  </div>\n",
              "  "
            ]
          },
          "metadata": {},
          "execution_count": 3
        }
      ]
    },
    {
      "cell_type": "code",
      "source": [
        "df.shape"
      ],
      "metadata": {
        "colab": {
          "base_uri": "https://localhost:8080/"
        },
        "id": "GDxtJZDx3gsG",
        "outputId": "4a3ace4d-0363-4e2a-e1e7-6203595d30ee"
      },
      "execution_count": null,
      "outputs": [
        {
          "output_type": "execute_result",
          "data": {
            "text/plain": [
              "(466285, 75)"
            ]
          },
          "metadata": {},
          "execution_count": 4
        }
      ]
    },
    {
      "cell_type": "code",
      "source": [
        "df.info()"
      ],
      "metadata": {
        "colab": {
          "base_uri": "https://localhost:8080/"
        },
        "id": "IjUSv5u63Yre",
        "outputId": "f2cd2b9a-e723-4aa8-d4dd-364947d5fb95"
      },
      "execution_count": null,
      "outputs": [
        {
          "output_type": "stream",
          "name": "stdout",
          "text": [
            "<class 'pandas.core.frame.DataFrame'>\n",
            "RangeIndex: 466285 entries, 0 to 466284\n",
            "Data columns (total 75 columns):\n",
            " #   Column                       Non-Null Count   Dtype  \n",
            "---  ------                       --------------   -----  \n",
            " 0   Unnamed: 0                   466285 non-null  int64  \n",
            " 1   id                           466285 non-null  int64  \n",
            " 2   member_id                    466285 non-null  int64  \n",
            " 3   loan_amnt                    466285 non-null  int64  \n",
            " 4   funded_amnt                  466285 non-null  int64  \n",
            " 5   funded_amnt_inv              466285 non-null  float64\n",
            " 6   term                         466285 non-null  object \n",
            " 7   int_rate                     466285 non-null  float64\n",
            " 8   installment                  466285 non-null  float64\n",
            " 9   grade                        466285 non-null  object \n",
            " 10  sub_grade                    466285 non-null  object \n",
            " 11  emp_title                    438697 non-null  object \n",
            " 12  emp_length                   445277 non-null  object \n",
            " 13  home_ownership               466285 non-null  object \n",
            " 14  annual_inc                   466281 non-null  float64\n",
            " 15  verification_status          466285 non-null  object \n",
            " 16  issue_d                      466285 non-null  object \n",
            " 17  loan_status                  466285 non-null  object \n",
            " 18  pymnt_plan                   466285 non-null  object \n",
            " 19  url                          466285 non-null  object \n",
            " 20  desc                         125983 non-null  object \n",
            " 21  purpose                      466285 non-null  object \n",
            " 22  title                        466265 non-null  object \n",
            " 23  zip_code                     466285 non-null  object \n",
            " 24  addr_state                   466285 non-null  object \n",
            " 25  dti                          466285 non-null  float64\n",
            " 26  delinq_2yrs                  466256 non-null  float64\n",
            " 27  earliest_cr_line             466256 non-null  object \n",
            " 28  inq_last_6mths               466256 non-null  float64\n",
            " 29  mths_since_last_delinq       215934 non-null  float64\n",
            " 30  mths_since_last_record       62638 non-null   float64\n",
            " 31  open_acc                     466256 non-null  float64\n",
            " 32  pub_rec                      466256 non-null  float64\n",
            " 33  revol_bal                    466285 non-null  int64  \n",
            " 34  revol_util                   465945 non-null  float64\n",
            " 35  total_acc                    466256 non-null  float64\n",
            " 36  initial_list_status          466285 non-null  object \n",
            " 37  out_prncp                    466285 non-null  float64\n",
            " 38  out_prncp_inv                466285 non-null  float64\n",
            " 39  total_pymnt                  466285 non-null  float64\n",
            " 40  total_pymnt_inv              466285 non-null  float64\n",
            " 41  total_rec_prncp              466285 non-null  float64\n",
            " 42  total_rec_int                466285 non-null  float64\n",
            " 43  total_rec_late_fee           466285 non-null  float64\n",
            " 44  recoveries                   466285 non-null  float64\n",
            " 45  collection_recovery_fee      466285 non-null  float64\n",
            " 46  last_pymnt_d                 465909 non-null  object \n",
            " 47  last_pymnt_amnt              466285 non-null  float64\n",
            " 48  next_pymnt_d                 239071 non-null  object \n",
            " 49  last_credit_pull_d           466243 non-null  object \n",
            " 50  collections_12_mths_ex_med   466140 non-null  float64\n",
            " 51  mths_since_last_major_derog  98974 non-null   float64\n",
            " 52  policy_code                  466285 non-null  int64  \n",
            " 53  application_type             466285 non-null  object \n",
            " 54  annual_inc_joint             0 non-null       float64\n",
            " 55  dti_joint                    0 non-null       float64\n",
            " 56  verification_status_joint    0 non-null       float64\n",
            " 57  acc_now_delinq               466256 non-null  float64\n",
            " 58  tot_coll_amt                 396009 non-null  float64\n",
            " 59  tot_cur_bal                  396009 non-null  float64\n",
            " 60  open_acc_6m                  0 non-null       float64\n",
            " 61  open_il_6m                   0 non-null       float64\n",
            " 62  open_il_12m                  0 non-null       float64\n",
            " 63  open_il_24m                  0 non-null       float64\n",
            " 64  mths_since_rcnt_il           0 non-null       float64\n",
            " 65  total_bal_il                 0 non-null       float64\n",
            " 66  il_util                      0 non-null       float64\n",
            " 67  open_rv_12m                  0 non-null       float64\n",
            " 68  open_rv_24m                  0 non-null       float64\n",
            " 69  max_bal_bc                   0 non-null       float64\n",
            " 70  all_util                     0 non-null       float64\n",
            " 71  total_rev_hi_lim             396009 non-null  float64\n",
            " 72  inq_fi                       0 non-null       float64\n",
            " 73  total_cu_tl                  0 non-null       float64\n",
            " 74  inq_last_12m                 0 non-null       float64\n",
            "dtypes: float64(46), int64(7), object(22)\n",
            "memory usage: 266.8+ MB\n"
          ]
        }
      ]
    },
    {
      "cell_type": "code",
      "source": [
        "#pd.set_option('display.max_rows',None) #Displaying All Rows Data\n",
        "df.isna().sum()"
      ],
      "metadata": {
        "colab": {
          "base_uri": "https://localhost:8080/"
        },
        "id": "VywWUYde3Zty",
        "outputId": "8a29fcca-1484-4507-8e85-3edc3176c449"
      },
      "execution_count": null,
      "outputs": [
        {
          "output_type": "execute_result",
          "data": {
            "text/plain": [
              "Unnamed: 0               0\n",
              "id                       0\n",
              "member_id                0\n",
              "loan_amnt                0\n",
              "funded_amnt              0\n",
              "                     ...  \n",
              "all_util            466285\n",
              "total_rev_hi_lim     70276\n",
              "inq_fi              466285\n",
              "total_cu_tl         466285\n",
              "inq_last_12m        466285\n",
              "Length: 75, dtype: int64"
            ]
          },
          "metadata": {},
          "execution_count": 6
        }
      ]
    },
    {
      "cell_type": "code",
      "source": [
        "missing_data = pd.DataFrame({'total_missing': df.isnull().sum(), '%_missing': \n",
        "(df.isnull().sum()/len(df))*100})\n",
        "missing_data"
      ],
      "metadata": {
        "colab": {
          "base_uri": "https://localhost:8080/"
        },
        "id": "vt9urJOx4Rth",
        "outputId": "8f8f9716-38c0-49dc-89a7-4a72ac23708e"
      },
      "execution_count": null,
      "outputs": [
        {
          "output_type": "execute_result",
          "data": {
            "text/plain": [
              "                  total_missing   %_missing\n",
              "Unnamed: 0                    0    0.000000\n",
              "id                            0    0.000000\n",
              "member_id                     0    0.000000\n",
              "loan_amnt                     0    0.000000\n",
              "funded_amnt                   0    0.000000\n",
              "...                         ...         ...\n",
              "all_util                 466285  100.000000\n",
              "total_rev_hi_lim          70276   15.071469\n",
              "inq_fi                   466285  100.000000\n",
              "total_cu_tl              466285  100.000000\n",
              "inq_last_12m             466285  100.000000\n",
              "\n",
              "[75 rows x 2 columns]"
            ],
            "text/html": [
              "\n",
              "  <div id=\"df-d23f8477-542e-4b91-b250-3464439ad477\">\n",
              "    <div class=\"colab-df-container\">\n",
              "      <div>\n",
              "<style scoped>\n",
              "    .dataframe tbody tr th:only-of-type {\n",
              "        vertical-align: middle;\n",
              "    }\n",
              "\n",
              "    .dataframe tbody tr th {\n",
              "        vertical-align: top;\n",
              "    }\n",
              "\n",
              "    .dataframe thead th {\n",
              "        text-align: right;\n",
              "    }\n",
              "</style>\n",
              "<table border=\"1\" class=\"dataframe\">\n",
              "  <thead>\n",
              "    <tr style=\"text-align: right;\">\n",
              "      <th></th>\n",
              "      <th>total_missing</th>\n",
              "      <th>%_missing</th>\n",
              "    </tr>\n",
              "  </thead>\n",
              "  <tbody>\n",
              "    <tr>\n",
              "      <th>Unnamed: 0</th>\n",
              "      <td>0</td>\n",
              "      <td>0.000000</td>\n",
              "    </tr>\n",
              "    <tr>\n",
              "      <th>id</th>\n",
              "      <td>0</td>\n",
              "      <td>0.000000</td>\n",
              "    </tr>\n",
              "    <tr>\n",
              "      <th>member_id</th>\n",
              "      <td>0</td>\n",
              "      <td>0.000000</td>\n",
              "    </tr>\n",
              "    <tr>\n",
              "      <th>loan_amnt</th>\n",
              "      <td>0</td>\n",
              "      <td>0.000000</td>\n",
              "    </tr>\n",
              "    <tr>\n",
              "      <th>funded_amnt</th>\n",
              "      <td>0</td>\n",
              "      <td>0.000000</td>\n",
              "    </tr>\n",
              "    <tr>\n",
              "      <th>...</th>\n",
              "      <td>...</td>\n",
              "      <td>...</td>\n",
              "    </tr>\n",
              "    <tr>\n",
              "      <th>all_util</th>\n",
              "      <td>466285</td>\n",
              "      <td>100.000000</td>\n",
              "    </tr>\n",
              "    <tr>\n",
              "      <th>total_rev_hi_lim</th>\n",
              "      <td>70276</td>\n",
              "      <td>15.071469</td>\n",
              "    </tr>\n",
              "    <tr>\n",
              "      <th>inq_fi</th>\n",
              "      <td>466285</td>\n",
              "      <td>100.000000</td>\n",
              "    </tr>\n",
              "    <tr>\n",
              "      <th>total_cu_tl</th>\n",
              "      <td>466285</td>\n",
              "      <td>100.000000</td>\n",
              "    </tr>\n",
              "    <tr>\n",
              "      <th>inq_last_12m</th>\n",
              "      <td>466285</td>\n",
              "      <td>100.000000</td>\n",
              "    </tr>\n",
              "  </tbody>\n",
              "</table>\n",
              "<p>75 rows × 2 columns</p>\n",
              "</div>\n",
              "      <button class=\"colab-df-convert\" onclick=\"convertToInteractive('df-d23f8477-542e-4b91-b250-3464439ad477')\"\n",
              "              title=\"Convert this dataframe to an interactive table.\"\n",
              "              style=\"display:none;\">\n",
              "        \n",
              "  <svg xmlns=\"http://www.w3.org/2000/svg\" height=\"24px\"viewBox=\"0 0 24 24\"\n",
              "       width=\"24px\">\n",
              "    <path d=\"M0 0h24v24H0V0z\" fill=\"none\"/>\n",
              "    <path d=\"M18.56 5.44l.94 2.06.94-2.06 2.06-.94-2.06-.94-.94-2.06-.94 2.06-2.06.94zm-11 1L8.5 8.5l.94-2.06 2.06-.94-2.06-.94L8.5 2.5l-.94 2.06-2.06.94zm10 10l.94 2.06.94-2.06 2.06-.94-2.06-.94-.94-2.06-.94 2.06-2.06.94z\"/><path d=\"M17.41 7.96l-1.37-1.37c-.4-.4-.92-.59-1.43-.59-.52 0-1.04.2-1.43.59L10.3 9.45l-7.72 7.72c-.78.78-.78 2.05 0 2.83L4 21.41c.39.39.9.59 1.41.59.51 0 1.02-.2 1.41-.59l7.78-7.78 2.81-2.81c.8-.78.8-2.07 0-2.86zM5.41 20L4 18.59l7.72-7.72 1.47 1.35L5.41 20z\"/>\n",
              "  </svg>\n",
              "      </button>\n",
              "      \n",
              "  <style>\n",
              "    .colab-df-container {\n",
              "      display:flex;\n",
              "      flex-wrap:wrap;\n",
              "      gap: 12px;\n",
              "    }\n",
              "\n",
              "    .colab-df-convert {\n",
              "      background-color: #E8F0FE;\n",
              "      border: none;\n",
              "      border-radius: 50%;\n",
              "      cursor: pointer;\n",
              "      display: none;\n",
              "      fill: #1967D2;\n",
              "      height: 32px;\n",
              "      padding: 0 0 0 0;\n",
              "      width: 32px;\n",
              "    }\n",
              "\n",
              "    .colab-df-convert:hover {\n",
              "      background-color: #E2EBFA;\n",
              "      box-shadow: 0px 1px 2px rgba(60, 64, 67, 0.3), 0px 1px 3px 1px rgba(60, 64, 67, 0.15);\n",
              "      fill: #174EA6;\n",
              "    }\n",
              "\n",
              "    [theme=dark] .colab-df-convert {\n",
              "      background-color: #3B4455;\n",
              "      fill: #D2E3FC;\n",
              "    }\n",
              "\n",
              "    [theme=dark] .colab-df-convert:hover {\n",
              "      background-color: #434B5C;\n",
              "      box-shadow: 0px 1px 3px 1px rgba(0, 0, 0, 0.15);\n",
              "      filter: drop-shadow(0px 1px 2px rgba(0, 0, 0, 0.3));\n",
              "      fill: #FFFFFF;\n",
              "    }\n",
              "  </style>\n",
              "\n",
              "      <script>\n",
              "        const buttonEl =\n",
              "          document.querySelector('#df-d23f8477-542e-4b91-b250-3464439ad477 button.colab-df-convert');\n",
              "        buttonEl.style.display =\n",
              "          google.colab.kernel.accessAllowed ? 'block' : 'none';\n",
              "\n",
              "        async function convertToInteractive(key) {\n",
              "          const element = document.querySelector('#df-d23f8477-542e-4b91-b250-3464439ad477');\n",
              "          const dataTable =\n",
              "            await google.colab.kernel.invokeFunction('convertToInteractive',\n",
              "                                                     [key], {});\n",
              "          if (!dataTable) return;\n",
              "\n",
              "          const docLinkHtml = 'Like what you see? Visit the ' +\n",
              "            '<a target=\"_blank\" href=https://colab.research.google.com/notebooks/data_table.ipynb>data table notebook</a>'\n",
              "            + ' to learn more about interactive tables.';\n",
              "          element.innerHTML = '';\n",
              "          dataTable['output_type'] = 'display_data';\n",
              "          await google.colab.output.renderOutput(dataTable, element);\n",
              "          const docLink = document.createElement('div');\n",
              "          docLink.innerHTML = docLinkHtml;\n",
              "          element.appendChild(docLink);\n",
              "        }\n",
              "      </script>\n",
              "    </div>\n",
              "  </div>\n",
              "  "
            ]
          },
          "metadata": {},
          "execution_count": 7
        }
      ]
    },
    {
      "cell_type": "code",
      "source": [
        "drop_col = {'Unnamed: 0', 'annual_inc_joint', 'dti_joint', 'verification_status_joint', 'open_acc_6m', 'open_il_6m', 'open_il_12m', \n",
        "        'open_il_24m', 'mths_since_rcnt_il', 'total_bal_il', 'il_util', 'open_rv_12m', 'open_rv_24m', 'max_bal_bc', \n",
        "        'all_util', 'inq_fi', 'total_cu_tl', 'inq_last_12m', 'desc', 'mths_since_last_delinq', 'mths_since_last_record',\n",
        "        'next_pymnt_d', 'mths_since_last_major_derog', 'emp_title', 'total_rev_hi_lim', 'tot_cur_bal',\n",
        "        'tot_coll_amt', 'title', 'earliest_cr_line', 'last_pymnt_d', 'last_credit_pull_d', 'id', 'member_id', 'url',  'zip_code', \n",
        "        'sub_grade', 'addr_state' ,'inq_last_6mths',  'collections_12_mths_ex_med',}\n",
        "\n",
        "df.drop(drop_col, axis=1, inplace=True)"
      ],
      "metadata": {
        "id": "Fe3sg-3a6kM9"
      },
      "execution_count": null,
      "outputs": []
    },
    {
      "cell_type": "code",
      "source": [
        "df.isna().sum()"
      ],
      "metadata": {
        "colab": {
          "base_uri": "https://localhost:8080/"
        },
        "id": "EaWbYv1hMyA4",
        "outputId": "694322b5-7d93-462f-9e60-ea6602d98592"
      },
      "execution_count": null,
      "outputs": [
        {
          "output_type": "execute_result",
          "data": {
            "text/plain": [
              "loan_amnt                      0\n",
              "funded_amnt                    0\n",
              "funded_amnt_inv                0\n",
              "term                           0\n",
              "int_rate                       0\n",
              "installment                    0\n",
              "grade                          0\n",
              "emp_length                 21008\n",
              "home_ownership                 0\n",
              "annual_inc                     4\n",
              "verification_status            0\n",
              "issue_d                        0\n",
              "loan_status                    0\n",
              "pymnt_plan                     0\n",
              "purpose                        0\n",
              "dti                            0\n",
              "delinq_2yrs                   29\n",
              "open_acc                      29\n",
              "pub_rec                       29\n",
              "revol_bal                      0\n",
              "revol_util                   340\n",
              "total_acc                     29\n",
              "initial_list_status            0\n",
              "out_prncp                      0\n",
              "out_prncp_inv                  0\n",
              "total_pymnt                    0\n",
              "total_pymnt_inv                0\n",
              "total_rec_prncp                0\n",
              "total_rec_int                  0\n",
              "total_rec_late_fee             0\n",
              "recoveries                     0\n",
              "collection_recovery_fee        0\n",
              "last_pymnt_amnt                0\n",
              "policy_code                    0\n",
              "application_type               0\n",
              "acc_now_delinq                29\n",
              "dtype: int64"
            ]
          },
          "metadata": {},
          "execution_count": 9
        }
      ]
    },
    {
      "cell_type": "code",
      "source": [
        "#Deleting NaN Data\n",
        "\n",
        "df.dropna(inplace=True)"
      ],
      "metadata": {
        "id": "qiFoD0iWOdqd"
      },
      "execution_count": null,
      "outputs": []
    },
    {
      "cell_type": "code",
      "source": [
        "df.isna().sum()"
      ],
      "metadata": {
        "colab": {
          "base_uri": "https://localhost:8080/"
        },
        "id": "nhjpb1ifOgc-",
        "outputId": "84bfc897-cdd3-48bd-afe0-d369ef086a48"
      },
      "execution_count": null,
      "outputs": [
        {
          "output_type": "execute_result",
          "data": {
            "text/plain": [
              "loan_amnt                  0\n",
              "funded_amnt                0\n",
              "funded_amnt_inv            0\n",
              "term                       0\n",
              "int_rate                   0\n",
              "installment                0\n",
              "grade                      0\n",
              "emp_length                 0\n",
              "home_ownership             0\n",
              "annual_inc                 0\n",
              "verification_status        0\n",
              "issue_d                    0\n",
              "loan_status                0\n",
              "pymnt_plan                 0\n",
              "purpose                    0\n",
              "dti                        0\n",
              "delinq_2yrs                0\n",
              "open_acc                   0\n",
              "pub_rec                    0\n",
              "revol_bal                  0\n",
              "revol_util                 0\n",
              "total_acc                  0\n",
              "initial_list_status        0\n",
              "out_prncp                  0\n",
              "out_prncp_inv              0\n",
              "total_pymnt                0\n",
              "total_pymnt_inv            0\n",
              "total_rec_prncp            0\n",
              "total_rec_int              0\n",
              "total_rec_late_fee         0\n",
              "recoveries                 0\n",
              "collection_recovery_fee    0\n",
              "last_pymnt_amnt            0\n",
              "policy_code                0\n",
              "application_type           0\n",
              "acc_now_delinq             0\n",
              "dtype: int64"
            ]
          },
          "metadata": {},
          "execution_count": 11
        }
      ]
    },
    {
      "cell_type": "markdown",
      "source": [
        "**Dealing With Outliers**"
      ],
      "metadata": {
        "id": "SLm1Vk-RRj7X"
      }
    },
    {
      "cell_type": "code",
      "source": [
        ""
      ],
      "metadata": {
        "id": "9e5yo48MRpXp"
      },
      "execution_count": null,
      "outputs": []
    },
    {
      "cell_type": "markdown",
      "source": [
        "# Exploratory Data Analys And Data preprocessing"
      ],
      "metadata": {
        "id": "0meBptfDNPyM"
      }
    },
    {
      "cell_type": "markdown",
      "source": [
        "**Loan Status**"
      ],
      "metadata": {
        "id": "A-8VYJNXRFIj"
      }
    },
    {
      "cell_type": "code",
      "source": [
        "df[\"loan_status\"].value_counts()"
      ],
      "metadata": {
        "colab": {
          "base_uri": "https://localhost:8080/"
        },
        "id": "ZuT9VMtzN3tp",
        "outputId": "64071621-c44f-4894-8e93-e6d2828a4b6b"
      },
      "execution_count": null,
      "outputs": [
        {
          "output_type": "execute_result",
          "data": {
            "text/plain": [
              "Current                                                212443\n",
              "Fully Paid                                             178253\n",
              "Charged Off                                             40110\n",
              "Late (31-120 days)                                       6494\n",
              "In Grace Period                                          3042\n",
              "Does not meet the credit policy. Status:Fully Paid       1935\n",
              "Late (16-30 days)                                        1148\n",
              "Default                                                   784\n",
              "Does not meet the credit policy. Status:Charged Off       740\n",
              "Name: loan_status, dtype: int64"
            ]
          },
          "metadata": {},
          "execution_count": 12
        }
      ]
    },
    {
      "cell_type": "code",
      "source": [
        "# Define New Status for Bad and Good Loan\n",
        "\n",
        "bad_loan = [\"Charged Off\", \"Default\", \"Does not meet the credit policy. Status:Charged Off\", \"In Grace Period\", \"Late (16-30 days)\", \"Late (31-120 days)\"]\n",
        "df[\"loan_condition\"] = np.nan\n",
        "\n",
        "def loan_condition(status):\n",
        "    if status in bad_loan:\n",
        "        return 'Bad Loan'\n",
        "    else:\n",
        "        return 'Good loan'\n",
        "    \n",
        "df[\"loan_condition\"] = df[\"loan_status\"].apply(loan_condition)"
      ],
      "metadata": {
        "id": "r0ZGpPvGOzD0"
      },
      "execution_count": null,
      "outputs": []
    },
    {
      "cell_type": "code",
      "source": [
        "df[\"loan_condition\"].value_counts()"
      ],
      "metadata": {
        "colab": {
          "base_uri": "https://localhost:8080/"
        },
        "id": "hLWLEXGiR86p",
        "outputId": "0444a802-0d16-42eb-87c9-4b28aaa154ea"
      },
      "execution_count": null,
      "outputs": [
        {
          "output_type": "execute_result",
          "data": {
            "text/plain": [
              "Good loan    392631\n",
              "Bad Loan      52318\n",
              "Name: loan_condition, dtype: int64"
            ]
          },
          "metadata": {},
          "execution_count": 14
        }
      ]
    },
    {
      "cell_type": "code",
      "source": [
        "# Let's plot the loan condition based on the above criteria:\n",
        "\n",
        "f, ax = plt.subplots(figsize=(18, 9))\n",
        "\n",
        "colors = [\"#3791D7\", \"#D72626\"]\n",
        "labels = \"Good Loans\", \"Bad Loans\"\n",
        "\n",
        "plt.suptitle(\"Information on Loan Conditions\", fontsize=20)\n",
        "\n",
        "df[\"loan_condition\"].value_counts().plot.pie(explode=[0, 0.25], autopct=\"%1.2f%%\",\n",
        "                                            ax=ax,\n",
        "                                            shadow=True,\n",
        "                                            colors=colors, \n",
        "                                            labels=labels,\n",
        "                                            fontsize=12,\n",
        "                                            startangle=70)"
      ],
      "metadata": {
        "colab": {
          "base_uri": "https://localhost:8080/",
          "height": 602
        },
        "id": "HBf2ct82PCI4",
        "outputId": "88c02121-9560-41a0-c53b-12ce4e0833dd"
      },
      "execution_count": null,
      "outputs": [
        {
          "output_type": "execute_result",
          "data": {
            "text/plain": [
              "<matplotlib.axes._subplots.AxesSubplot at 0x7f6f4fa88d90>"
            ]
          },
          "metadata": {},
          "execution_count": 15
        },
        {
          "output_type": "display_data",
          "data": {
            "text/plain": [
              "<Figure size 1296x648 with 1 Axes>"
            ],
            "image/png": "[encoded data removed]"
          },
          "metadata": {}
        }
      ]
    },
    {
      "cell_type": "markdown",
      "source": [
        "**Term Condition**"
      ],
      "metadata": {
        "id": "BY4mRbs9SxMT"
      }
    },
    {
      "cell_type": "code",
      "source": [
        "print(df.term.value_counts())\n",
        "\n",
        "# convert term into either a 36 or 60 integer numeric data type\n",
        "\n",
        "l1 = df.term.unique()\n",
        "l2 = [36, 60]\n",
        "d = dict(zip(l1, l2))\n",
        "\n",
        "df['term'] = df['term'].map(d)"
      ],
      "metadata": {
        "colab": {
          "base_uri": "https://localhost:8080/"
        },
        "id": "9rkEmXRfQg83",
        "outputId": "01886d98-f612-42d4-bee7-0187cfdd841a"
      },
      "execution_count": null,
      "outputs": [
        {
          "output_type": "stream",
          "name": "stdout",
          "text": [
            " 36 months    320509\n",
            " 60 months    124440\n",
            "Name: term, dtype: int64\n"
          ]
        }
      ]
    },
    {
      "cell_type": "markdown",
      "source": [
        "**Grade and Sub-Grade**"
      ],
      "metadata": {
        "id": "vSpkye5aTIRr"
      }
    },
    {
      "cell_type": "code",
      "source": [
        "fig, ax = plt.subplots(1, 3, figsize=(25,10))\n",
        "\n",
        "loan_amount = df[\"loan_amnt\"].values\n",
        "funded_amount = df[\"funded_amnt\"].values\n",
        "investor_funds = df[\"funded_amnt_inv\"].values\n",
        "\n",
        "sns.distplot(loan_amount, ax=ax[0], color=\"#F7522F\")\n",
        "ax[0].set_title(\"Loan Applied by the Borrower\", fontsize=14)\n",
        "sns.distplot(funded_amount, ax=ax[1], color=\"#2F8FF7\")\n",
        "ax[1].set_title(\"Amount Funded by the Lender\", fontsize=14)\n",
        "sns.distplot(investor_funds, ax=ax[2], color=\"#2EAD46\")\n",
        "ax[2].set_title(\"Total committed by Investors\", fontsize=14)"
      ],
      "metadata": {
        "colab": {
          "base_uri": "https://localhost:8080/",
          "height": 855
        },
        "id": "BMYDv4leTFEh",
        "outputId": "8acf79fe-fc75-4657-f0dc-fcfa48b7b7ef"
      },
      "execution_count": null,
      "outputs": [
        {
          "output_type": "stream",
          "name": "stderr",
          "text": [
            "/usr/local/lib/python3.7/dist-packages/seaborn/distributions.py:2619: FutureWarning:\n",
            "\n",
            "`distplot` is a deprecated function and will be removed in a future version. Please adapt your code to use either `displot` (a figure-level function with similar flexibility) or `histplot` (an axes-level function for histograms).\n",
            "\n",
            "/usr/local/lib/python3.7/dist-packages/seaborn/distributions.py:2619: FutureWarning:\n",
            "\n",
            "`distplot` is a deprecated function and will be removed in a future version. Please adapt your code to use either `displot` (a figure-level function with similar flexibility) or `histplot` (an axes-level function for histograms).\n",
            "\n",
            "/usr/local/lib/python3.7/dist-packages/seaborn/distributions.py:2619: FutureWarning:\n",
            "\n",
            "`distplot` is a deprecated function and will be removed in a future version. Please adapt your code to use either `displot` (a figure-level function with similar flexibility) or `histplot` (an axes-level function for histograms).\n",
            "\n"
          ]
        },
        {
          "output_type": "execute_result",
          "data": {
            "text/plain": [
              "Text(0.5, 1.0, 'Total committed by Investors')"
            ]
          },
          "metadata": {},
          "execution_count": 17
        },
        {
          "output_type": "display_data",
          "data": {
            "text/plain": [
              "<Figure size 1800x720 with 3 Axes>"
            ],
            "image/png": "[encoded data removed]"
          },
          "metadata": {
            "needs_background": "light"
          }
        }
      ]
    },
    {
      "cell_type": "code",
      "source": [
        "# Let's create categories for annual_income since most of the bad loans are located below 100k\n",
        "\n",
        "df['income_category'] = np.nan\n",
        "lst = [df]\n",
        "\n",
        "for col in lst:\n",
        "    col.loc[col['annual_inc'] <= 100000, 'income_category'] = 'Low'\n",
        "    col.loc[(col['annual_inc'] > 100000) & (col['annual_inc'] <= 200000), 'income_category'] = 'Medium'\n",
        "    col.loc[col['annual_inc'] > 200000, 'income_category'] = 'High'"
      ],
      "metadata": {
        "id": "Fv9iNQrtTsHQ"
      },
      "execution_count": null,
      "outputs": []
    },
    {
      "cell_type": "code",
      "source": [
        "df['income_category'].value_counts()"
      ],
      "metadata": {
        "colab": {
          "base_uri": "https://localhost:8080/"
        },
        "id": "iOxWNCapXF9H",
        "outputId": "018b0ebb-eadb-4af4-86cd-5b99dbaf18c4"
      },
      "execution_count": null,
      "outputs": [
        {
          "output_type": "execute_result",
          "data": {
            "text/plain": [
              "Low       368385\n",
              "Medium     68847\n",
              "High        7717\n",
              "Name: income_category, dtype: int64"
            ]
          },
          "metadata": {},
          "execution_count": 19
        }
      ]
    },
    {
      "cell_type": "code",
      "source": [
        "inc_cat = ['Low', 'Medium', 'High']\n",
        "\n",
        "lst=[df]\n",
        "df['income_category_int'] = np.nan\n",
        "\n",
        "for col in lst:\n",
        "    col.loc[col['income_category'] == 'Low', 'income_category_int'] = 1\n",
        "    col.loc[col['income_category'] == 'Medium', 'income_category_int'] = 2\n",
        "    col.loc[col['income_category'] == 'High', 'income_category_int'] = 3"
      ],
      "metadata": {
        "id": "60p5_pBkJYAK"
      },
      "execution_count": null,
      "outputs": []
    },
    {
      "cell_type": "code",
      "source": [
        "df['income_category_int'].value_counts()"
      ],
      "metadata": {
        "colab": {
          "base_uri": "https://localhost:8080/"
        },
        "id": "Gxm0M1lRJ-EN",
        "outputId": "88e1c445-09ae-4cc6-b30f-f1751b206fed"
      },
      "execution_count": null,
      "outputs": [
        {
          "output_type": "execute_result",
          "data": {
            "text/plain": [
              "1.0    368385\n",
              "2.0     68847\n",
              "3.0      7717\n",
              "Name: income_category_int, dtype: int64"
            ]
          },
          "metadata": {},
          "execution_count": 21
        }
      ]
    },
    {
      "cell_type": "markdown",
      "source": [
        "**Emp Length**"
      ],
      "metadata": {
        "id": "cBeMKDHetr7L"
      }
    },
    {
      "cell_type": "code",
      "source": [
        "df['emp_length'].value_counts()"
      ],
      "metadata": {
        "colab": {
          "base_uri": "https://localhost:8080/"
        },
        "id": "xCDqscG4rHTf",
        "outputId": "8a7f72da-5e92-4b90-cccc-4652e36e6ac3"
      },
      "execution_count": null,
      "outputs": [
        {
          "output_type": "execute_result",
          "data": {
            "text/plain": [
              "10+ years    149952\n",
              "2 years       41350\n",
              "3 years       36573\n",
              "< 1 year      36211\n",
              "5 years       30756\n",
              "1 year        29592\n",
              "4 years       28001\n",
              "7 years       26161\n",
              "6 years       26094\n",
              "8 years       22382\n",
              "9 years       17877\n",
              "Name: emp_length, dtype: int64"
            ]
          },
          "metadata": {},
          "execution_count": 22
        }
      ]
    },
    {
      "cell_type": "code",
      "source": [
        "employment_length = ['10+ years', '< 1 year', '1 year', '3 years', '8 years', '9 years',\n",
        "                    '4 years', '5 years', '6 years', '2 years', '7 years']\n",
        "\n",
        "lst = [df]\n",
        "df['emp_length_int'] = np.nan\n",
        "\n",
        "for col in lst:\n",
        "    col.loc[col['emp_length'] == '10+ years', \"emp_length_int\"] = 10\n",
        "    col.loc[col['emp_length'] == '9 years', \"emp_length_int\"] = 9\n",
        "    col.loc[col['emp_length'] == '8 years', \"emp_length_int\"] = 8\n",
        "    col.loc[col['emp_length'] == '7 years', \"emp_length_int\"] = 7\n",
        "    col.loc[col['emp_length'] == '6 years', \"emp_length_int\"] = 6\n",
        "    col.loc[col['emp_length'] == '5 years', \"emp_length_int\"] = 5\n",
        "    col.loc[col['emp_length'] == '4 years', \"emp_length_int\"] = 4\n",
        "    col.loc[col['emp_length'] == '3 years', \"emp_length_int\"] = 3\n",
        "    col.loc[col['emp_length'] == '2 years', \"emp_length_int\"] = 2\n",
        "    col.loc[col['emp_length'] == '1 year', \"emp_length_int\"] = 1\n",
        "    col.loc[col['emp_length'] == '< 1 year', \"emp_length_int\"] = 0"
      ],
      "metadata": {
        "id": "P0_iWGGlsNOo"
      },
      "execution_count": null,
      "outputs": []
    },
    {
      "cell_type": "code",
      "source": [
        "df['emp_length_int'].value_counts()"
      ],
      "metadata": {
        "colab": {
          "base_uri": "https://localhost:8080/"
        },
        "id": "QT_aFy72sxLW",
        "outputId": "5cfd3877-84a5-44f1-9a9a-2e130e93d7fb"
      },
      "execution_count": null,
      "outputs": [
        {
          "output_type": "execute_result",
          "data": {
            "text/plain": [
              "10.0    149952\n",
              "2.0      41350\n",
              "3.0      36573\n",
              "0.0      36211\n",
              "5.0      30756\n",
              "1.0      29592\n",
              "4.0      28001\n",
              "7.0      26161\n",
              "6.0      26094\n",
              "8.0      22382\n",
              "9.0      17877\n",
              "Name: emp_length_int, dtype: int64"
            ]
          },
          "metadata": {},
          "execution_count": 24
        }
      ]
    },
    {
      "cell_type": "markdown",
      "source": [
        "**Loan Condition**"
      ],
      "metadata": {
        "id": "B12Qg5SStvkc"
      }
    },
    {
      "cell_type": "code",
      "source": [
        "le=LabelEncoder()\n",
        "df['loan_condition_int']=le.fit_transform(df['loan_condition'])"
      ],
      "metadata": {
        "id": "UV9UEAuvW2hD"
      },
      "execution_count": null,
      "outputs": []
    },
    {
      "cell_type": "code",
      "source": [
        "df['loan_condition_int'].value_counts()"
      ],
      "metadata": {
        "colab": {
          "base_uri": "https://localhost:8080/"
        },
        "id": "26LwYVIrKi0-",
        "outputId": "2e3258e0-3577-4974-b7bd-1a74f7f93c40"
      },
      "execution_count": null,
      "outputs": [
        {
          "output_type": "execute_result",
          "data": {
            "text/plain": [
              "1    392631\n",
              "0     52318\n",
              "Name: loan_condition_int, dtype: int64"
            ]
          },
          "metadata": {},
          "execution_count": 26
        }
      ]
    },
    {
      "cell_type": "code",
      "source": [
        "df['loan_condition_int']"
      ],
      "metadata": {
        "colab": {
          "base_uri": "https://localhost:8080/"
        },
        "id": "-bwLDCJ1VEYh",
        "outputId": "4724ea6d-35c5-400e-ba7a-dc8093cea28e"
      },
      "execution_count": null,
      "outputs": [
        {
          "output_type": "execute_result",
          "data": {
            "text/plain": [
              "0         1\n",
              "1         0\n",
              "2         1\n",
              "3         1\n",
              "4         1\n",
              "         ..\n",
              "466280    1\n",
              "466281    0\n",
              "466282    1\n",
              "466283    1\n",
              "466284    1\n",
              "Name: loan_condition_int, Length: 444949, dtype: int64"
            ]
          },
          "metadata": {},
          "execution_count": 27
        }
      ]
    },
    {
      "cell_type": "code",
      "source": [
        "df['loan_condition']"
      ],
      "metadata": {
        "colab": {
          "base_uri": "https://localhost:8080/"
        },
        "id": "hdX_T_HaVHfU",
        "outputId": "7b12a76a-20b6-4d40-f991-fdc5864de0ed"
      },
      "execution_count": null,
      "outputs": [
        {
          "output_type": "execute_result",
          "data": {
            "text/plain": [
              "0         Good loan\n",
              "1          Bad Loan\n",
              "2         Good loan\n",
              "3         Good loan\n",
              "4         Good loan\n",
              "            ...    \n",
              "466280    Good loan\n",
              "466281     Bad Loan\n",
              "466282    Good loan\n",
              "466283    Good loan\n",
              "466284    Good loan\n",
              "Name: loan_condition, Length: 444949, dtype: object"
            ]
          },
          "metadata": {},
          "execution_count": 28
        }
      ]
    },
    {
      "cell_type": "code",
      "source": [
        "fig, ((ax1, ax2), (ax3, ax4))= plt.subplots(nrows=2, ncols=2, figsize=(14,6))\n",
        "\n",
        "sns.violinplot(x=\"income_category\", y=\"loan_amnt\", data=df, palette=\"Set2\", ax=ax1 )\n",
        "sns.violinplot(x=\"income_category\", y=\"loan_condition_int\", data=df, palette=\"Set2\", ax=ax2)\n",
        "sns.boxplot(x=\"income_category\", y=\"emp_length_int\", data=df, palette=\"Set2\", ax=ax3)\n",
        "sns.boxplot(x=\"income_category\", y=\"int_rate\", data=df, palette=\"Set2\", ax=ax4)"
      ],
      "metadata": {
        "colab": {
          "base_uri": "https://localhost:8080/",
          "height": 410
        },
        "id": "p8P9Be1qtUcf",
        "outputId": "f26c93c3-8f92-4e08-fcd3-8a3a76d0f54f"
      },
      "execution_count": null,
      "outputs": [
        {
          "output_type": "execute_result",
          "data": {
            "text/plain": [
              "<matplotlib.axes._subplots.AxesSubplot at 0x7f6f5618d490>"
            ]
          },
          "metadata": {},
          "execution_count": 29
        },
        {
          "output_type": "display_data",
          "data": {
            "text/plain": [
              "<Figure size 1008x432 with 4 Axes>"
            ],
            "image/png": "[encoded data removed]"
          },
          "metadata": {
            "needs_background": "light"
          }
        }
      ]
    },
    {
      "cell_type": "code",
      "source": [
        "df.info()"
      ],
      "metadata": {
        "colab": {
          "base_uri": "https://localhost:8080/"
        },
        "id": "Y1tkjQdArM-f",
        "outputId": "f81967df-ca7f-4c7d-bd72-050c66061a00"
      },
      "execution_count": null,
      "outputs": [
        {
          "output_type": "stream",
          "name": "stdout",
          "text": [
            "<class 'pandas.core.frame.DataFrame'>\n",
            "Int64Index: 444949 entries, 0 to 466284\n",
            "Data columns (total 41 columns):\n",
            " #   Column                   Non-Null Count   Dtype  \n",
            "---  ------                   --------------   -----  \n",
            " 0   loan_amnt                444949 non-null  int64  \n",
            " 1   funded_amnt              444949 non-null  int64  \n",
            " 2   funded_amnt_inv          444949 non-null  float64\n",
            " 3   term                     444949 non-null  int64  \n",
            " 4   int_rate                 444949 non-null  float64\n",
            " 5   installment              444949 non-null  float64\n",
            " 6   grade                    444949 non-null  object \n",
            " 7   emp_length               444949 non-null  object \n",
            " 8   home_ownership           444949 non-null  object \n",
            " 9   annual_inc               444949 non-null  float64\n",
            " 10  verification_status      444949 non-null  object \n",
            " 11  issue_d                  444949 non-null  object \n",
            " 12  loan_status              444949 non-null  object \n",
            " 13  pymnt_plan               444949 non-null  object \n",
            " 14  purpose                  444949 non-null  object \n",
            " 15  dti                      444949 non-null  float64\n",
            " 16  delinq_2yrs              444949 non-null  float64\n",
            " 17  open_acc                 444949 non-null  float64\n",
            " 18  pub_rec                  444949 non-null  float64\n",
            " 19  revol_bal                444949 non-null  int64  \n",
            " 20  revol_util               444949 non-null  float64\n",
            " 21  total_acc                444949 non-null  float64\n",
            " 22  initial_list_status      444949 non-null  object \n",
            " 23  out_prncp                444949 non-null  float64\n",
            " 24  out_prncp_inv            444949 non-null  float64\n",
            " 25  total_pymnt              444949 non-null  float64\n",
            " 26  total_pymnt_inv          444949 non-null  float64\n",
            " 27  total_rec_prncp          444949 non-null  float64\n",
            " 28  total_rec_int            444949 non-null  float64\n",
            " 29  total_rec_late_fee       444949 non-null  float64\n",
            " 30  recoveries               444949 non-null  float64\n",
            " 31  collection_recovery_fee  444949 non-null  float64\n",
            " 32  last_pymnt_amnt          444949 non-null  float64\n",
            " 33  policy_code              444949 non-null  int64  \n",
            " 34  application_type         444949 non-null  object \n",
            " 35  acc_now_delinq           444949 non-null  float64\n",
            " 36  loan_condition           444949 non-null  object \n",
            " 37  income_category          444949 non-null  object \n",
            " 38  income_category_int      444949 non-null  float64\n",
            " 39  emp_length_int           444949 non-null  float64\n",
            " 40  loan_condition_int       444949 non-null  int64  \n",
            "dtypes: float64(23), int64(6), object(12)\n",
            "memory usage: 158.7+ MB\n"
          ]
        }
      ]
    },
    {
      "cell_type": "code",
      "source": [
        "df['purpose'].value_counts()"
      ],
      "metadata": {
        "colab": {
          "base_uri": "https://localhost:8080/"
        },
        "id": "dr1gZRs7uRCS",
        "outputId": "e2e0f0b3-0c7c-4103-e8b3-e2ae2fe2207f"
      },
      "execution_count": null,
      "outputs": [
        {
          "output_type": "execute_result",
          "data": {
            "text/plain": [
              "debt_consolidation    262728\n",
              "credit_card            98934\n",
              "home_improvement       24981\n",
              "other                  22246\n",
              "major_purchase          9364\n",
              "small_business          6842\n",
              "car                     5158\n",
              "medical                 4325\n",
              "moving                  2824\n",
              "vacation                2321\n",
              "wedding                 2309\n",
              "house                   2176\n",
              "educational              410\n",
              "renewable_energy         331\n",
              "Name: purpose, dtype: int64"
            ]
          },
          "metadata": {},
          "execution_count": 31
        }
      ]
    },
    {
      "cell_type": "code",
      "source": [
        "purpose_condition = round(pd.crosstab(df['loan_condition'], df['purpose']).apply(lambda x: x/x.sum() * 100), 2)\n",
        "\n",
        "purpose_bad_loans = purpose_condition.values[0].tolist()\n",
        "purpose_good_loans = purpose_condition.values[1].tolist()\n",
        "purpose = purpose_condition.columns\n",
        "\n",
        "\n",
        "bad_plot = go.Bar(\n",
        "    x=purpose,\n",
        "    y=purpose_bad_loans,\n",
        "    name = 'Bad Loans',\n",
        "    text='%',\n",
        "    marker=dict(\n",
        "        color='rgba(219, 64, 82, 0.7)',\n",
        "        line = dict(\n",
        "            color='rgba(219, 64, 82, 1.0)',\n",
        "            width=2\n",
        "        )\n",
        "    )\n",
        ")\n",
        "\n",
        "good_plot = go.Bar(\n",
        "    x=purpose,\n",
        "    y=purpose_good_loans,\n",
        "    name='Good Loans',\n",
        "    text='%',\n",
        "    marker=dict(\n",
        "        color='rgba(50, 171, 96, 0.7)',\n",
        "        line = dict(\n",
        "            color='rgba(50, 171, 96, 1.0)',\n",
        "            width=2\n",
        "        )\n",
        "    )\n",
        ")\n",
        "\n",
        "\n",
        "data = [bad_plot, good_plot]\n",
        "\n",
        "layout = go.Layout(\n",
        "    title='Condition of Loan by Purpose',\n",
        "    xaxis=dict(\n",
        "        title=''\n",
        "    ),\n",
        "    yaxis=dict(\n",
        "        title='% of the Loan',\n",
        "    ),\n",
        "    paper_bgcolor='#FFF8DC',\n",
        "    plot_bgcolor='#FFF8DC',\n",
        "    showlegend=True\n",
        ")\n",
        "\n",
        "fig = dict(data=data, layout=layout)\n",
        "iplot(fig, filename='condition_purposes')"
      ],
      "metadata": {
        "colab": {
          "base_uri": "https://localhost:8080/",
          "height": 542
        },
        "id": "DrJ274FxuXlH",
        "outputId": "151a7f32-8a8f-49eb-c2e3-9135bbd2a304"
      },
      "execution_count": null,
      "outputs": [
        {
          "output_type": "display_data",
          "data": {
            "application/vnd.plotly.v1+json": {
              "data": [
                {
                  "marker": {
                    "color": "rgba(219, 64, 82, 0.7)",
                    "line": {
                      "color": "rgba(219, 64, 82, 1.0)",
                      "width": 2
                    }
                  },
                  "name": "Bad Loans",
                  "text": "%",
                  "x": [
                    "car",
                    "credit_card",
                    "debt_consolidation",
                    "educational",
                    "home_improvement",
                    "house",
                    "major_purchase",
                    "medical",
                    "moving",
                    "other",
                    "renewable_energy",
                    "small_business",
                    "vacation",
                    "wedding"
                  ],
                  "y": [
                    9.23,
                    9.28,
                    12.25,
                    20.49,
                    10.71,
                    14.98,
                    10.26,
                    13.9,
                    15.44,
                    14.55,
                    16.01,
                    22.6,
                    12.41,
                    12.04
                  ],
                  "type": "bar"
                },
                {
                  "marker": {
                    "color": "rgba(50, 171, 96, 0.7)",
                    "line": {
                      "color": "rgba(50, 171, 96, 1.0)",
                      "width": 2
                    }
                  },
                  "name": "Good Loans",
                  "text": "%",
                  "x": [
                    "car",
                    "credit_card",
                    "debt_consolidation",
                    "educational",
                    "home_improvement",
                    "house",
                    "major_purchase",
                    "medical",
                    "moving",
                    "other",
                    "renewable_energy",
                    "small_business",
                    "vacation",
                    "wedding"
                  ],
                  "y": [
                    90.77,
                    90.72,
                    87.75,
                    79.51,
                    89.29,
                    85.02,
                    89.74,
                    86.1,
                    84.56,
                    85.45,
                    83.99,
                    77.4,
                    87.59,
                    87.96
                  ],
                  "type": "bar"
                }
              ],
              "layout": {
                "paper_bgcolor": "#FFF8DC",
                "plot_bgcolor": "#FFF8DC",
                "showlegend": true,
                "template": {
                  "data": {
                    "barpolar": [
                      {
                        "marker": {
                          "line": {
                            "color": "#E5ECF6",
                            "width": 0.5
                          },
                          "pattern": {
                            "fillmode": "overlay",
                            "size": 10,
                            "solidity": 0.2
                          }
                        },
                        "type": "barpolar"
                      }
                    ],
                    "bar": [
                      {
                        "error_x": {
                          "color": "#2a3f5f"
                        },
                        "error_y": {
                          "color": "#2a3f5f"
                        },
                        "marker": {
                          "line": {
                            "color": "#E5ECF6",
                            "width": 0.5
                          },
                          "pattern": {
                            "fillmode": "overlay",
                            "size": 10,
                            "solidity": 0.2
                          }
                        },
                        "type": "bar"
                      }
                    ],
                    "carpet": [
                      {
                        "aaxis": {
                          "endlinecolor": "#2a3f5f",
                          "gridcolor": "white",
                          "linecolor": "white",
                          "minorgridcolor": "white",
                          "startlinecolor": "#2a3f5f"
                        },
                        "baxis": {
                          "endlinecolor": "#2a3f5f",
                          "gridcolor": "white",
                          "linecolor": "white",
                          "minorgridcolor": "white",
                          "startlinecolor": "#2a3f5f"
                        },
                        "type": "carpet"
                      }
                    ],
                    "choropleth": [
                      {
                        "colorbar": {
                          "outlinewidth": 0,
                          "ticks": ""
                        },
                        "type": "choropleth"
                      }
                    ],
                    "contourcarpet": [
                      {
                        "colorbar": {
                          "outlinewidth": 0,
                          "ticks": ""
                        },
                        "type": "contourcarpet"
                      }
                    ],
                    "contour": [
                      {
                        "colorbar": {
                          "outlinewidth": 0,
                          "ticks": ""
                        },
                        "colorscale": [
                          [
                            0,
                            "#0d0887"
                          ],
                          [
                            0.1111111111111111,
                            "#46039f"
                          ],
                          [
                            0.2222222222222222,
                            "#7201a8"
                          ],
                          [
                            0.3333333333333333,
                            "#9c179e"
                          ],
                          [
                            0.4444444444444444,
                            "#bd3786"
                          ],
                          [
                            0.5555555555555556,
                            "#d8576b"
                          ],
                          [
                            0.6666666666666666,
                            "#ed7953"
                          ],
                          [
                            0.7777777777777778,
                            "#fb9f3a"
                          ],
                          [
                            0.8888888888888888,
                            "#fdca26"
                          ],
                          [
                            1,
                            "#f0f921"
                          ]
                        ],
                        "type": "contour"
                      }
                    ],
                    "heatmapgl": [
                      {
                        "colorbar": {
                          "outlinewidth": 0,
                          "ticks": ""
                        },
                        "colorscale": [
                          [
                            0,
                            "#0d0887"
                          ],
                          [
                            0.1111111111111111,
                            "#46039f"
                          ],
                          [
                            0.2222222222222222,
                            "#7201a8"
                          ],
                          [
                            0.3333333333333333,
                            "#9c179e"
                          ],
                          [
                            0.4444444444444444,
                            "#bd3786"
                          ],
                          [
                            0.5555555555555556,
                            "#d8576b"
                          ],
                          [
                            0.6666666666666666,
                            "#ed7953"
                          ],
                          [
                            0.7777777777777778,
                            "#fb9f3a"
                          ],
                          [
                            0.8888888888888888,
                            "#fdca26"
                          ],
                          [
                            1,
                            "#f0f921"
                          ]
                        ],
                        "type": "heatmapgl"
                      }
                    ],
                    "heatmap": [
                      {
                        "colorbar": {
                          "outlinewidth": 0,
                          "ticks": ""
                        },
                        "colorscale": [
                          [
                            0,
                            "#0d0887"
                          ],
                          [
                            0.1111111111111111,
                            "#46039f"
                          ],
                          [
                            0.2222222222222222,
                            "#7201a8"
                          ],
                          [
                            0.3333333333333333,
                            "#9c179e"
                          ],
                          [
                            0.4444444444444444,
                            "#bd3786"
                          ],
                          [
                            0.5555555555555556,
                            "#d8576b"
                          ],
                          [
                            0.6666666666666666,
                            "#ed7953"
                          ],
                          [
                            0.7777777777777778,
                            "#fb9f3a"
                          ],
                          [
                            0.8888888888888888,
                            "#fdca26"
                          ],
                          [
                            1,
                            "#f0f921"
                          ]
                        ],
                        "type": "heatmap"
                      }
                    ],
                    "histogram2dcontour": [
                      {
                        "colorbar": {
                          "outlinewidth": 0,
                          "ticks": ""
                        },
                        "colorscale": [
                          [
                            0,
                            "#0d0887"
                          ],
                          [
                            0.1111111111111111,
                            "#46039f"
                          ],
                          [
                            0.2222222222222222,
                            "#7201a8"
                          ],
                          [
                            0.3333333333333333,
                            "#9c179e"
                          ],
                          [
                            0.4444444444444444,
                            "#bd3786"
                          ],
                          [
                            0.5555555555555556,
                            "#d8576b"
                          ],
                          [
                            0.6666666666666666,
                            "#ed7953"
                          ],
                          [
                            0.7777777777777778,
                            "#fb9f3a"
                          ],
                          [
                            0.8888888888888888,
                            "#fdca26"
                          ],
                          [
                            1,
                            "#f0f921"
                          ]
                        ],
                        "type": "histogram2dcontour"
                      }
                    ],
                    "histogram2d": [
                      {
                        "colorbar": {
                          "outlinewidth": 0,
                          "ticks": ""
                        },
                        "colorscale": [
                          [
                            0,
                            "#0d0887"
                          ],
                          [
                            0.1111111111111111,
                            "#46039f"
                          ],
                          [
                            0.2222222222222222,
                            "#7201a8"
                          ],
                          [
                            0.3333333333333333,
                            "#9c179e"
                          ],
                          [
                            0.4444444444444444,
                            "#bd3786"
                          ],
                          [
                            0.5555555555555556,
                            "#d8576b"
                          ],
                          [
                            0.6666666666666666,
                            "#ed7953"
                          ],
                          [
                            0.7777777777777778,
                            "#fb9f3a"
                          ],
                          [
                            0.8888888888888888,
                            "#fdca26"
                          ],
                          [
                            1,
                            "#f0f921"
                          ]
                        ],
                        "type": "histogram2d"
                      }
                    ],
                    "histogram": [
                      {
                        "marker": {
                          "pattern": {
                            "fillmode": "overlay",
                            "size": 10,
                            "solidity": 0.2
                          }
                        },
                        "type": "histogram"
                      }
                    ],
                    "mesh3d": [
                      {
                        "colorbar": {
                          "outlinewidth": 0,
                          "ticks": ""
                        },
                        "type": "mesh3d"
                      }
                    ],
                    "parcoords": [
                      {
                        "line": {
                          "colorbar": {
                            "outlinewidth": 0,
                            "ticks": ""
                          }
                        },
                        "type": "parcoords"
                      }
                    ],
                    "pie": [
                      {
                        "automargin": true,
                        "type": "pie"
                      }
                    ],
                    "scatter3d": [
                      {
                        "line": {
                          "colorbar": {
                            "outlinewidth": 0,
                            "ticks": ""
                          }
                        },
                        "marker": {
                          "colorbar": {
                            "outlinewidth": 0,
                            "ticks": ""
                          }
                        },
                        "type": "scatter3d"
                      }
                    ],
                    "scattercarpet": [
                      {
                        "marker": {
                          "colorbar": {
                            "outlinewidth": 0,
                            "ticks": ""
                          }
                        },
                        "type": "scattercarpet"
                      }
                    ],
                    "scattergeo": [
                      {
                        "marker": {
                          "colorbar": {
                            "outlinewidth": 0,
                            "ticks": ""
                          }
                        },
                        "type": "scattergeo"
                      }
                    ],
                    "scattergl": [
                      {
                        "marker": {
                          "colorbar": {
                            "outlinewidth": 0,
                            "ticks": ""
                          }
                        },
                        "type": "scattergl"
                      }
                    ],
                    "scattermapbox": [
                      {
                        "marker": {
                          "colorbar": {
                            "outlinewidth": 0,
                            "ticks": ""
                          }
                        },
                        "type": "scattermapbox"
                      }
                    ],
                    "scatterpolargl": [
                      {
                        "marker": {
                          "colorbar": {
                            "outlinewidth": 0,
                            "ticks": ""
                          }
                        },
                        "type": "scatterpolargl"
                      }
                    ],
                    "scatterpolar": [
                      {
                        "marker": {
                          "colorbar": {
                            "outlinewidth": 0,
                            "ticks": ""
                          }
                        },
                        "type": "scatterpolar"
                      }
                    ],
                    "scatter": [
                      {
                        "marker": {
                          "colorbar": {
                            "outlinewidth": 0,
                            "ticks": ""
                          }
                        },
                        "type": "scatter"
                      }
                    ],
                    "scatterternary": [
                      {
                        "marker": {
                          "colorbar": {
                            "outlinewidth": 0,
                            "ticks": ""
                          }
                        },
                        "type": "scatterternary"
                      }
                    ],
                    "surface": [
                      {
                        "colorbar": {
                          "outlinewidth": 0,
                          "ticks": ""
                        },
                        "colorscale": [
                          [
                            0,
                            "#0d0887"
                          ],
                          [
                            0.1111111111111111,
                            "#46039f"
                          ],
                          [
                            0.2222222222222222,
                            "#7201a8"
                          ],
                          [
                            0.3333333333333333,
                            "#9c179e"
                          ],
                          [
                            0.4444444444444444,
                            "#bd3786"
                          ],
                          [
                            0.5555555555555556,
                            "#d8576b"
                          ],
                          [
                            0.6666666666666666,
                            "#ed7953"
                          ],
                          [
                            0.7777777777777778,
                            "#fb9f3a"
                          ],
                          [
                            0.8888888888888888,
                            "#fdca26"
                          ],
                          [
                            1,
                            "#f0f921"
                          ]
                        ],
                        "type": "surface"
                      }
                    ],
                    "table": [
                      {
                        "cells": {
                          "fill": {
                            "color": "#EBF0F8"
                          },
                          "line": {
                            "color": "white"
                          }
                        },
                        "header": {
                          "fill": {
                            "color": "#C8D4E3"
                          },
                          "line": {
                            "color": "white"
                          }
                        },
                        "type": "table"
                      }
                    ]
                  },
                  "layout": {
                    "annotationdefaults": {
                      "arrowcolor": "#2a3f5f",
                      "arrowhead": 0,
                      "arrowwidth": 1
                    },
                    "autotypenumbers": "strict",
                    "coloraxis": {
                      "colorbar": {
                        "outlinewidth": 0,
                        "ticks": ""
                      }
                    },
                    "colorscale": {
                      "diverging": [
                        [
                          0,
                          "#8e0152"
                        ],
                        [
                          0.1,
                          "#c51b7d"
                        ],
                        [
                          0.2,
                          "#de77ae"
                        ],
                        [
                          0.3,
                          "#f1b6da"
                        ],
                        [
                          0.4,
                          "#fde0ef"
                        ],
                        [
                          0.5,
                          "#f7f7f7"
                        ],
                        [
                          0.6,
                          "#e6f5d0"
                        ],
                        [
                          0.7,
                          "#b8e186"
                        ],
                        [
                          0.8,
                          "#7fbc41"
                        ],
                        [
                          0.9,
                          "#4d9221"
                        ],
                        [
                          1,
                          "#276419"
                        ]
                      ],
                      "sequential": [
                        [
                          0,
                          "#0d0887"
                        ],
                        [
                          0.1111111111111111,
                          "#46039f"
                        ],
                        [
                          0.2222222222222222,
                          "#7201a8"
                        ],
                        [
                          0.3333333333333333,
                          "#9c179e"
                        ],
                        [
                          0.4444444444444444,
                          "#bd3786"
                        ],
                        [
                          0.5555555555555556,
                          "#d8576b"
                        ],
                        [
                          0.6666666666666666,
                          "#ed7953"
                        ],
                        [
                          0.7777777777777778,
                          "#fb9f3a"
                        ],
                        [
                          0.8888888888888888,
                          "#fdca26"
                        ],
                        [
                          1,
                          "#f0f921"
                        ]
                      ],
                      "sequentialminus": [
                        [
                          0,
                          "#0d0887"
                        ],
                        [
                          0.1111111111111111,
                          "#46039f"
                        ],
                        [
                          0.2222222222222222,
                          "#7201a8"
                        ],
                        [
                          0.3333333333333333,
                          "#9c179e"
                        ],
                        [
                          0.4444444444444444,
                          "#bd3786"
                        ],
                        [
                          0.5555555555555556,
                          "#d8576b"
                        ],
                        [
                          0.6666666666666666,
                          "#ed7953"
                        ],
                        [
                          0.7777777777777778,
                          "#fb9f3a"
                        ],
                        [
                          0.8888888888888888,
                          "#fdca26"
                        ],
                        [
                          1,
                          "#f0f921"
                        ]
                      ]
                    },
                    "colorway": [
                      "#636efa",
                      "#EF553B",
                      "#00cc96",
                      "#ab63fa",
                      "#FFA15A",
                      "#19d3f3",
                      "#FF6692",
                      "#B6E880",
                      "#FF97FF",
                      "#FECB52"
                    ],
                    "font": {
                      "color": "#2a3f5f"
                    },
                    "geo": {
                      "bgcolor": "white",
                      "lakecolor": "white",
                      "landcolor": "#E5ECF6",
                      "showlakes": true,
                      "showland": true,
                      "subunitcolor": "white"
                    },
                    "hoverlabel": {
                      "align": "left"
                    },
                    "hovermode": "closest",
                    "mapbox": {
                      "style": "light"
                    },
                    "paper_bgcolor": "white",
                    "plot_bgcolor": "#E5ECF6",
                    "polar": {
                      "angularaxis": {
                        "gridcolor": "white",
                        "linecolor": "white",
                        "ticks": ""
                      },
                      "bgcolor": "#E5ECF6",
                      "radialaxis": {
                        "gridcolor": "white",
                        "linecolor": "white",
                        "ticks": ""
                      }
                    },
                    "scene": {
                      "xaxis": {
                        "backgroundcolor": "#E5ECF6",
                        "gridcolor": "white",
                        "gridwidth": 2,
                        "linecolor": "white",
                        "showbackground": true,
                        "ticks": "",
                        "zerolinecolor": "white"
                      },
                      "yaxis": {
                        "backgroundcolor": "#E5ECF6",
                        "gridcolor": "white",
                        "gridwidth": 2,
                        "linecolor": "white",
                        "showbackground": true,
                        "ticks": "",
                        "zerolinecolor": "white"
                      },
                      "zaxis": {
                        "backgroundcolor": "#E5ECF6",
                        "gridcolor": "white",
                        "gridwidth": 2,
                        "linecolor": "white",
                        "showbackground": true,
                        "ticks": "",
                        "zerolinecolor": "white"
                      }
                    },
                    "shapedefaults": {
                      "line": {
                        "color": "#2a3f5f"
                      }
                    },
                    "ternary": {
                      "aaxis": {
                        "gridcolor": "white",
                        "linecolor": "white",
                        "ticks": ""
                      },
                      "baxis": {
                        "gridcolor": "white",
                        "linecolor": "white",
                        "ticks": ""
                      },
                      "bgcolor": "#E5ECF6",
                      "caxis": {
                        "gridcolor": "white",
                        "linecolor": "white",
                        "ticks": ""
                      }
                    },
                    "title": {
                      "x": 0.05
                    },
                    "xaxis": {
                      "automargin": true,
                      "gridcolor": "white",
                      "linecolor": "white",
                      "ticks": "",
                      "title": {
                        "standoff": 15
                      },
                      "zerolinecolor": "white",
                      "zerolinewidth": 2
                    },
                    "yaxis": {
                      "automargin": true,
                      "gridcolor": "white",
                      "linecolor": "white",
                      "ticks": "",
                      "title": {
                        "standoff": 15
                      },
                      "zerolinecolor": "white",
                      "zerolinewidth": 2
                    }
                  }
                },
                "title": {
                  "text": "Condition of Loan by Purpose"
                },
                "xaxis": {
                  "title": {
                    "text": ""
                  }
                },
                "yaxis": {
                  "title": {
                    "text": "% of the Loan"
                  }
                }
              },
              "config": {
                "showLink": false,
                "linkText": "Export to plot.ly",
                "plotlyServerURL": "https://plot.ly"
              }
            },
            "text/html": [
              "<div>                            <div id=\"d415d104-c101-43df-bcc5-d21cbd76d616\" class=\"plotly-graph-div\" style=\"height:525px; width:100%;\"></div>            <script type=\"text/javascript\">                require([\"plotly\"], function(Plotly) {                    window.PLOTLYENV=window.PLOTLYENV || {};                                    if (document.getElementById(\"d415d104-c101-43df-bcc5-d21cbd76d616\")) {                    Plotly.newPlot(                        \"d415d104-c101-43df-bcc5-d21cbd76d616\",                        [{\"marker\":{\"color\":\"rgba(219, 64, 82, 0.7)\",\"line\":{\"color\":\"rgba(219, 64, 82, 1.0)\",\"width\":2}},\"name\":\"Bad Loans\",\"text\":\"%\",\"x\":[\"car\",\"credit_card\",\"debt_consolidation\",\"educational\",\"home_improvement\",\"house\",\"major_purchase\",\"medical\",\"moving\",\"other\",\"renewable_energy\",\"small_business\",\"vacation\",\"wedding\"],\"y\":[9.23,9.28,12.25,20.49,10.71,14.98,10.26,13.9,15.44,14.55,16.01,22.6,12.41,12.04],\"type\":\"bar\"},{\"marker\":{\"color\":\"rgba(50, 171, 96, 0.7)\",\"line\":{\"color\":\"rgba(50, 171, 96, 1.0)\",\"width\":2}},\"name\":\"Good Loans\",\"text\":\"%\",\"x\":[\"car\",\"credit_card\",\"debt_consolidation\",\"educational\",\"home_improvement\",\"house\",\"major_purchase\",\"medical\",\"moving\",\"other\",\"renewable_energy\",\"small_business\",\"vacation\",\"wedding\"],\"y\":[90.77,90.72,87.75,79.51,89.29,85.02,89.74,86.1,84.56,85.45,83.99,77.4,87.59,87.96],\"type\":\"bar\"}],                        {\"paper_bgcolor\":\"#FFF8DC\",\"plot_bgcolor\":\"#FFF8DC\",\"showlegend\":true,\"template\":{\"data\":{\"barpolar\":[{\"marker\":{\"line\":{\"color\":\"#E5ECF6\",\"width\":0.5},\"pattern\":{\"fillmode\":\"overlay\",\"size\":10,\"solidity\":0.2}},\"type\":\"barpolar\"}],\"bar\":[{\"error_x\":{\"color\":\"#2a3f5f\"},\"error_y\":{\"color\":\"#2a3f5f\"},\"marker\":{\"line\":{\"color\":\"#E5ECF6\",\"width\":0.5},\"pattern\":{\"fillmode\":\"overlay\",\"size\":10,\"solidity\":0.2}},\"type\":\"bar\"}],\"carpet\":[{\"aaxis\":{\"endlinecolor\":\"#2a3f5f\",\"gridcolor\":\"white\",\"linecolor\":\"white\",\"minorgridcolor\":\"white\",\"startlinecolor\":\"#2a3f5f\"},\"baxis\":{\"endlinecolor\":\"#2a3f5f\",\"gridcolor\":\"white\",\"linecolor\":\"white\",\"minorgridcolor\":\"white\",\"startlinecolor\":\"#2a3f5f\"},\"type\":\"carpet\"}],\"choropleth\":[{\"colorbar\":{\"outlinewidth\":0,\"ticks\":\"\"},\"type\":\"choropleth\"}],\"contourcarpet\":[{\"colorbar\":{\"outlinewidth\":0,\"ticks\":\"\"},\"type\":\"contourcarpet\"}],\"contour\":[{\"colorbar\":{\"outlinewidth\":0,\"ticks\":\"\"},\"colorscale\":[[0.0,\"#0d0887\"],[0.1111111111111111,\"#46039f\"],[0.2222222222222222,\"#7201a8\"],[0.3333333333333333,\"#9c179e\"],[0.4444444444444444,\"#bd3786\"],[0.5555555555555556,\"#d8576b\"],[0.6666666666666666,\"#ed7953\"],[0.7777777777777778,\"#fb9f3a\"],[0.8888888888888888,\"#fdca26\"],[1.0,\"#f0f921\"]],\"type\":\"contour\"}],\"heatmapgl\":[{\"colorbar\":{\"outlinewidth\":0,\"ticks\":\"\"},\"colorscale\":[[0.0,\"#0d0887\"],[0.1111111111111111,\"#46039f\"],[0.2222222222222222,\"#7201a8\"],[0.3333333333333333,\"#9c179e\"],[0.4444444444444444,\"#bd3786\"],[0.5555555555555556,\"#d8576b\"],[0.6666666666666666,\"#ed7953\"],[0.7777777777777778,\"#fb9f3a\"],[0.8888888888888888,\"#fdca26\"],[1.0,\"#f0f921\"]],\"type\":\"heatmapgl\"}],\"heatmap\":[{\"colorbar\":{\"outlinewidth\":0,\"ticks\":\"\"},\"colorscale\":[[0.0,\"#0d0887\"],[0.1111111111111111,\"#46039f\"],[0.2222222222222222,\"#7201a8\"],[0.3333333333333333,\"#9c179e\"],[0.4444444444444444,\"#bd3786\"],[0.5555555555555556,\"#d8576b\"],[0.6666666666666666,\"#ed7953\"],[0.7777777777777778,\"#fb9f3a\"],[0.8888888888888888,\"#fdca26\"],[1.0,\"#f0f921\"]],\"type\":\"heatmap\"}],\"histogram2dcontour\":[{\"colorbar\":{\"outlinewidth\":0,\"ticks\":\"\"},\"colorscale\":[[0.0,\"#0d0887\"],[0.1111111111111111,\"#46039f\"],[0.2222222222222222,\"#7201a8\"],[0.3333333333333333,\"#9c179e\"],[0.4444444444444444,\"#bd3786\"],[0.5555555555555556,\"#d8576b\"],[0.6666666666666666,\"#ed7953\"],[0.7777777777777778,\"#fb9f3a\"],[0.8888888888888888,\"#fdca26\"],[1.0,\"#f0f921\"]],\"type\":\"histogram2dcontour\"}],\"histogram2d\":[{\"colorbar\":{\"outlinewidth\":0,\"ticks\":\"\"},\"colorscale\":[[0.0,\"#0d0887\"],[0.1111111111111111,\"#46039f\"],[0.2222222222222222,\"#7201a8\"],[0.3333333333333333,\"#9c179e\"],[0.4444444444444444,\"#bd3786\"],[0.5555555555555556,\"#d8576b\"],[0.6666666666666666,\"#ed7953\"],[0.7777777777777778,\"#fb9f3a\"],[0.8888888888888888,\"#fdca26\"],[1.0,\"#f0f921\"]],\"type\":\"histogram2d\"}],\"histogram\":[{\"marker\":{\"pattern\":{\"fillmode\":\"overlay\",\"size\":10,\"solidity\":0.2}},\"type\":\"histogram\"}],\"mesh3d\":[{\"colorbar\":{\"outlinewidth\":0,\"ticks\":\"\"},\"type\":\"mesh3d\"}],\"parcoords\":[{\"line\":{\"colorbar\":{\"outlinewidth\":0,\"ticks\":\"\"}},\"type\":\"parcoords\"}],\"pie\":[{\"automargin\":true,\"type\":\"pie\"}],\"scatter3d\":[{\"line\":{\"colorbar\":{\"outlinewidth\":0,\"ticks\":\"\"}},\"marker\":{\"colorbar\":{\"outlinewidth\":0,\"ticks\":\"\"}},\"type\":\"scatter3d\"}],\"scattercarpet\":[{\"marker\":{\"colorbar\":{\"outlinewidth\":0,\"ticks\":\"\"}},\"type\":\"scattercarpet\"}],\"scattergeo\":[{\"marker\":{\"colorbar\":{\"outlinewidth\":0,\"ticks\":\"\"}},\"type\":\"scattergeo\"}],\"scattergl\":[{\"marker\":{\"colorbar\":{\"outlinewidth\":0,\"ticks\":\"\"}},\"type\":\"scattergl\"}],\"scattermapbox\":[{\"marker\":{\"colorbar\":{\"outlinewidth\":0,\"ticks\":\"\"}},\"type\":\"scattermapbox\"}],\"scatterpolargl\":[{\"marker\":{\"colorbar\":{\"outlinewidth\":0,\"ticks\":\"\"}},\"type\":\"scatterpolargl\"}],\"scatterpolar\":[{\"marker\":{\"colorbar\":{\"outlinewidth\":0,\"ticks\":\"\"}},\"type\":\"scatterpolar\"}],\"scatter\":[{\"marker\":{\"colorbar\":{\"outlinewidth\":0,\"ticks\":\"\"}},\"type\":\"scatter\"}],\"scatterternary\":[{\"marker\":{\"colorbar\":{\"outlinewidth\":0,\"ticks\":\"\"}},\"type\":\"scatterternary\"}],\"surface\":[{\"colorbar\":{\"outlinewidth\":0,\"ticks\":\"\"},\"colorscale\":[[0.0,\"#0d0887\"],[0.1111111111111111,\"#46039f\"],[0.2222222222222222,\"#7201a8\"],[0.3333333333333333,\"#9c179e\"],[0.4444444444444444,\"#bd3786\"],[0.5555555555555556,\"#d8576b\"],[0.6666666666666666,\"#ed7953\"],[0.7777777777777778,\"#fb9f3a\"],[0.8888888888888888,\"#fdca26\"],[1.0,\"#f0f921\"]],\"type\":\"surface\"}],\"table\":[{\"cells\":{\"fill\":{\"color\":\"#EBF0F8\"},\"line\":{\"color\":\"white\"}},\"header\":{\"fill\":{\"color\":\"#C8D4E3\"},\"line\":{\"color\":\"white\"}},\"type\":\"table\"}]},\"layout\":{\"annotationdefaults\":{\"arrowcolor\":\"#2a3f5f\",\"arrowhead\":0,\"arrowwidth\":1},\"autotypenumbers\":\"strict\",\"coloraxis\":{\"colorbar\":{\"outlinewidth\":0,\"ticks\":\"\"}},\"colorscale\":{\"diverging\":[[0,\"#8e0152\"],[0.1,\"#c51b7d\"],[0.2,\"#de77ae\"],[0.3,\"#f1b6da\"],[0.4,\"#fde0ef\"],[0.5,\"#f7f7f7\"],[0.6,\"#e6f5d0\"],[0.7,\"#b8e186\"],[0.8,\"#7fbc41\"],[0.9,\"#4d9221\"],[1,\"#276419\"]],\"sequential\":[[0.0,\"#0d0887\"],[0.1111111111111111,\"#46039f\"],[0.2222222222222222,\"#7201a8\"],[0.3333333333333333,\"#9c179e\"],[0.4444444444444444,\"#bd3786\"],[0.5555555555555556,\"#d8576b\"],[0.6666666666666666,\"#ed7953\"],[0.7777777777777778,\"#fb9f3a\"],[0.8888888888888888,\"#fdca26\"],[1.0,\"#f0f921\"]],\"sequentialminus\":[[0.0,\"#0d0887\"],[0.1111111111111111,\"#46039f\"],[0.2222222222222222,\"#7201a8\"],[0.3333333333333333,\"#9c179e\"],[0.4444444444444444,\"#bd3786\"],[0.5555555555555556,\"#d8576b\"],[0.6666666666666666,\"#ed7953\"],[0.7777777777777778,\"#fb9f3a\"],[0.8888888888888888,\"#fdca26\"],[1.0,\"#f0f921\"]]},\"colorway\":[\"#636efa\",\"#EF553B\",\"#00cc96\",\"#ab63fa\",\"#FFA15A\",\"#19d3f3\",\"#FF6692\",\"#B6E880\",\"#FF97FF\",\"#FECB52\"],\"font\":{\"color\":\"#2a3f5f\"},\"geo\":{\"bgcolor\":\"white\",\"lakecolor\":\"white\",\"landcolor\":\"#E5ECF6\",\"showlakes\":true,\"showland\":true,\"subunitcolor\":\"white\"},\"hoverlabel\":{\"align\":\"left\"},\"hovermode\":\"closest\",\"mapbox\":{\"style\":\"light\"},\"paper_bgcolor\":\"white\",\"plot_bgcolor\":\"#E5ECF6\",\"polar\":{\"angularaxis\":{\"gridcolor\":\"white\",\"linecolor\":\"white\",\"ticks\":\"\"},\"bgcolor\":\"#E5ECF6\",\"radialaxis\":{\"gridcolor\":\"white\",\"linecolor\":\"white\",\"ticks\":\"\"}},\"scene\":{\"xaxis\":{\"backgroundcolor\":\"#E5ECF6\",\"gridcolor\":\"white\",\"gridwidth\":2,\"linecolor\":\"white\",\"showbackground\":true,\"ticks\":\"\",\"zerolinecolor\":\"white\"},\"yaxis\":{\"backgroundcolor\":\"#E5ECF6\",\"gridcolor\":\"white\",\"gridwidth\":2,\"linecolor\":\"white\",\"showbackground\":true,\"ticks\":\"\",\"zerolinecolor\":\"white\"},\"zaxis\":{\"backgroundcolor\":\"#E5ECF6\",\"gridcolor\":\"white\",\"gridwidth\":2,\"linecolor\":\"white\",\"showbackground\":true,\"ticks\":\"\",\"zerolinecolor\":\"white\"}},\"shapedefaults\":{\"line\":{\"color\":\"#2a3f5f\"}},\"ternary\":{\"aaxis\":{\"gridcolor\":\"white\",\"linecolor\":\"white\",\"ticks\":\"\"},\"baxis\":{\"gridcolor\":\"white\",\"linecolor\":\"white\",\"ticks\":\"\"},\"bgcolor\":\"#E5ECF6\",\"caxis\":{\"gridcolor\":\"white\",\"linecolor\":\"white\",\"ticks\":\"\"}},\"title\":{\"x\":0.05},\"xaxis\":{\"automargin\":true,\"gridcolor\":\"white\",\"linecolor\":\"white\",\"ticks\":\"\",\"title\":{\"standoff\":15},\"zerolinecolor\":\"white\",\"zerolinewidth\":2},\"yaxis\":{\"automargin\":true,\"gridcolor\":\"white\",\"linecolor\":\"white\",\"ticks\":\"\",\"title\":{\"standoff\":15},\"zerolinecolor\":\"white\",\"zerolinewidth\":2}}},\"title\":{\"text\":\"Condition of Loan by Purpose\"},\"xaxis\":{\"title\":{\"text\":\"\"}},\"yaxis\":{\"title\":{\"text\":\"% of the Loan\"}}},                        {\"responsive\": true}                    ).then(function(){\n",
              "                            \n",
              "var gd = document.getElementById('d415d104-c101-43df-bcc5-d21cbd76d616');\n",
              "var x = new MutationObserver(function (mutations, observer) {{\n",
              "        var display = window.getComputedStyle(gd).display;\n",
              "        if (!display || display === 'none') {{\n",
              "            console.log([gd, 'removed!']);\n",
              "            Plotly.purge(gd);\n",
              "            observer.disconnect();\n",
              "        }}\n",
              "}});\n",
              "\n",
              "// Listen for the removal of the full notebook cells\n",
              "var notebookContainer = gd.closest('#notebook-container');\n",
              "if (notebookContainer) {{\n",
              "    x.observe(notebookContainer, {childList: true});\n",
              "}}\n",
              "\n",
              "// Listen for the clearing of the current output cell\n",
              "var outputEl = gd.closest('.output');\n",
              "if (outputEl) {{\n",
              "    x.observe(outputEl, {childList: true});\n",
              "}}\n",
              "\n",
              "                        })                };                });            </script>        </div>"
            ]
          },
          "metadata": {}
        }
      ]
    },
    {
      "cell_type": "code",
      "source": [
        "df.info()"
      ],
      "metadata": {
        "colab": {
          "base_uri": "https://localhost:8080/"
        },
        "id": "NvMllbpZyAuV",
        "outputId": "0e2c4291-7403-4433-ba66-f9950bbb4c77"
      },
      "execution_count": null,
      "outputs": [
        {
          "output_type": "stream",
          "name": "stdout",
          "text": [
            "<class 'pandas.core.frame.DataFrame'>\n",
            "Int64Index: 444949 entries, 0 to 466284\n",
            "Data columns (total 41 columns):\n",
            " #   Column                   Non-Null Count   Dtype  \n",
            "---  ------                   --------------   -----  \n",
            " 0   loan_amnt                444949 non-null  int64  \n",
            " 1   funded_amnt              444949 non-null  int64  \n",
            " 2   funded_amnt_inv          444949 non-null  float64\n",
            " 3   term                     444949 non-null  int64  \n",
            " 4   int_rate                 444949 non-null  float64\n",
            " 5   installment              444949 non-null  float64\n",
            " 6   grade                    444949 non-null  object \n",
            " 7   emp_length               444949 non-null  object \n",
            " 8   home_ownership           444949 non-null  object \n",
            " 9   annual_inc               444949 non-null  float64\n",
            " 10  verification_status      444949 non-null  object \n",
            " 11  issue_d                  444949 non-null  object \n",
            " 12  loan_status              444949 non-null  object \n",
            " 13  pymnt_plan               444949 non-null  object \n",
            " 14  purpose                  444949 non-null  object \n",
            " 15  dti                      444949 non-null  float64\n",
            " 16  delinq_2yrs              444949 non-null  float64\n",
            " 17  open_acc                 444949 non-null  float64\n",
            " 18  pub_rec                  444949 non-null  float64\n",
            " 19  revol_bal                444949 non-null  int64  \n",
            " 20  revol_util               444949 non-null  float64\n",
            " 21  total_acc                444949 non-null  float64\n",
            " 22  initial_list_status      444949 non-null  object \n",
            " 23  out_prncp                444949 non-null  float64\n",
            " 24  out_prncp_inv            444949 non-null  float64\n",
            " 25  total_pymnt              444949 non-null  float64\n",
            " 26  total_pymnt_inv          444949 non-null  float64\n",
            " 27  total_rec_prncp          444949 non-null  float64\n",
            " 28  total_rec_int            444949 non-null  float64\n",
            " 29  total_rec_late_fee       444949 non-null  float64\n",
            " 30  recoveries               444949 non-null  float64\n",
            " 31  collection_recovery_fee  444949 non-null  float64\n",
            " 32  last_pymnt_amnt          444949 non-null  float64\n",
            " 33  policy_code              444949 non-null  int64  \n",
            " 34  application_type         444949 non-null  object \n",
            " 35  acc_now_delinq           444949 non-null  float64\n",
            " 36  loan_condition           444949 non-null  object \n",
            " 37  income_category          444949 non-null  object \n",
            " 38  income_category_int      444949 non-null  float64\n",
            " 39  emp_length_int           444949 non-null  float64\n",
            " 40  loan_condition_int       444949 non-null  int64  \n",
            "dtypes: float64(23), int64(6), object(12)\n",
            "memory usage: 158.7+ MB\n"
          ]
        }
      ]
    },
    {
      "cell_type": "markdown",
      "source": [
        "**Home Ownership**"
      ],
      "metadata": {
        "id": "cW3wBbBaHQz0"
      }
    },
    {
      "cell_type": "code",
      "source": [
        "df['home_ownership'].value_counts()"
      ],
      "metadata": {
        "colab": {
          "base_uri": "https://localhost:8080/"
        },
        "id": "SkkNYdUGHAQ2",
        "outputId": "a22a98e7-e77e-4224-a959-c8749fea8082"
      },
      "execution_count": null,
      "outputs": [
        {
          "output_type": "execute_result",
          "data": {
            "text/plain": [
              "MORTGAGE    225858\n",
              "RENT        180885\n",
              "OWN          37983\n",
              "OTHER          177\n",
              "NONE            45\n",
              "ANY              1\n",
              "Name: home_ownership, dtype: int64"
            ]
          },
          "metadata": {},
          "execution_count": 34
        }
      ]
    },
    {
      "cell_type": "code",
      "source": [
        "df['home_ownership']=le.fit_transform(df['home_ownership'])"
      ],
      "metadata": {
        "id": "79DxN3M8HIx0"
      },
      "execution_count": null,
      "outputs": []
    },
    {
      "cell_type": "code",
      "source": [
        "df['home_ownership'].value_counts()"
      ],
      "metadata": {
        "colab": {
          "base_uri": "https://localhost:8080/"
        },
        "id": "CQpwzHnvHO_2",
        "outputId": "d0147fbd-7821-44de-e6ea-ef7fd0d4de2b"
      },
      "execution_count": null,
      "outputs": [
        {
          "output_type": "execute_result",
          "data": {
            "text/plain": [
              "1    225858\n",
              "5    180885\n",
              "4     37983\n",
              "3       177\n",
              "2        45\n",
              "0         1\n",
              "Name: home_ownership, dtype: int64"
            ]
          },
          "metadata": {},
          "execution_count": 36
        }
      ]
    },
    {
      "cell_type": "markdown",
      "source": [
        "**Delete duplicated coloumn**"
      ],
      "metadata": {
        "id": "n-MD8c3HHZjU"
      }
    },
    {
      "cell_type": "code",
      "source": [
        "plt.figure(figsize=(24,8))\n",
        "sns.heatmap(df.corr(),annot=True,cmap='viridis')\n",
        "plt.title('Correlation Check of Features');"
      ],
      "metadata": {
        "colab": {
          "base_uri": "https://localhost:8080/",
          "height": 606
        },
        "id": "lRIldT3tLunt",
        "outputId": "a45046a7-d9c8-4042-fa89-07e417af5d87"
      },
      "execution_count": null,
      "outputs": [
        {
          "output_type": "display_data",
          "data": {
            "text/plain": [
              "<Figure size 1728x576 with 2 Axes>"
            ],
            "image/png": "[encoded data removed]"
          },
          "metadata": {
            "needs_background": "light"
          }
        }
      ]
    },
    {
      "cell_type": "code",
      "source": [
        "drop_no = {'emp_length', 'loan_status', 'loan_condition', 'income_category', 'annual_inc','policy_code', 'collection_recovery_fee'}\n",
        "\n",
        "df.drop(drop_no, axis=1, inplace=True)"
      ],
      "metadata": {
        "id": "hJGy7QIN_uuo"
      },
      "execution_count": null,
      "outputs": []
    },
    {
      "cell_type": "code",
      "source": [
        "df['term'].head(3)"
      ],
      "metadata": {
        "colab": {
          "base_uri": "https://localhost:8080/"
        },
        "id": "i79WMae_OUhR",
        "outputId": "66004cd4-b0a9-4409-e6f3-e057feafca7f"
      },
      "execution_count": null,
      "outputs": [
        {
          "output_type": "execute_result",
          "data": {
            "text/plain": [
              "0    36\n",
              "1    60\n",
              "2    36\n",
              "Name: term, dtype: int64"
            ]
          },
          "metadata": {},
          "execution_count": 39
        }
      ]
    },
    {
      "cell_type": "markdown",
      "source": [
        "# Creating Model"
      ],
      "metadata": {
        "id": "nWRyjrqULq7l"
      }
    },
    {
      "cell_type": "code",
      "source": [
        "len(df['loan_condition_int'])\n",
        "# Loan Ratios (Imbalanced classes)\n",
        "df['loan_condition_int'].value_counts()/len(df['loan_condition_int']) * 100"
      ],
      "metadata": {
        "colab": {
          "base_uri": "https://localhost:8080/"
        },
        "id": "h5Wby_wMPKYO",
        "outputId": "b3794aa9-8775-4744-f546-6e34d856a5e4"
      },
      "execution_count": null,
      "outputs": [
        {
          "output_type": "execute_result",
          "data": {
            "text/plain": [
              "1    88.241798\n",
              "0    11.758202\n",
              "Name: loan_condition_int, dtype: float64"
            ]
          },
          "metadata": {},
          "execution_count": 40
        }
      ]
    },
    {
      "cell_type": "code",
      "source": [
        "#Mengencode Data Kategorikal\n",
        "\n",
        "list_1=list(df.columns)\n",
        "list_cate=[]\n",
        "for i in list_1:\n",
        "    if df[i].dtype=='object':\n",
        "        list_cate.append(i)\n",
        "\n",
        "le=LabelEncoder()\n",
        "\n",
        "for i in list_cate:\n",
        "    df[i]=le.fit_transform(df[i])"
      ],
      "metadata": {
        "id": "3wW47gENRC-G"
      },
      "execution_count": null,
      "outputs": []
    },
    {
      "cell_type": "code",
      "source": [
        "y = df['loan_condition_int']\n",
        "x = df. drop('loan_condition_int', axis=1)"
      ],
      "metadata": {
        "id": "zGFz5uPoO-Pk"
      },
      "execution_count": null,
      "outputs": []
    },
    {
      "cell_type": "code",
      "source": [
        "X_train, X_test, y_train, y_test = train_test_split(x, y, test_size=0.2, random_state=42)"
      ],
      "metadata": {
        "id": "jzvojtXdRO0d"
      },
      "execution_count": null,
      "outputs": []
    },
    {
      "cell_type": "code",
      "source": [
        "scaler = MinMaxScaler()\n",
        "\n",
        "X_train= scaler.fit_transform(X_train)\n",
        "X_test = scaler.transform(X_test)\n",
        "\n",
        "print(X_train.shape)\n",
        "print(X_test.shape)"
      ],
      "metadata": {
        "colab": {
          "base_uri": "https://localhost:8080/"
        },
        "id": "ixhgamQeRcic",
        "outputId": "c46e4e63-1605-4750-99ab-965d65b83cc5"
      },
      "execution_count": null,
      "outputs": [
        {
          "output_type": "stream",
          "name": "stdout",
          "text": [
            "(355959, 33)\n",
            "(88990, 33)\n"
          ]
        }
      ]
    },
    {
      "cell_type": "code",
      "source": [
        "# building the model\n",
        "\n",
        "model = Sequential()\n",
        "model.add(Dense(units=78,activation='relu'))\n",
        "model.add(Dense(units=39,activation='relu'))\n",
        "model.add(Dense(units=19,activation='relu'))\n",
        "model.add(Dense(units=8,activation='relu'))\n",
        "model.add(Dense(units=48,activation='relu'))\n",
        "model.add(Dense(units=1,activation='sigmoid'))\n",
        "\n",
        "model.compile(loss='binary_crossentropy', optimizer= tf.keras.optimizers.SGD(learning_rate=0.01) , metrics=['accuracy'])"
      ],
      "metadata": {
        "id": "kdYifqKHRpic"
      },
      "execution_count": null,
      "outputs": []
    },
    {
      "cell_type": "code",
      "source": [
        "\n",
        "\n",
        "model_info = model.fit(x=X_train, \n",
        "                  y=y_train, \n",
        "                  epochs=40,\n",
        "                  batch_size=512,\n",
        "                  steps_per_epoch=256,\n",
        "                  validation_steps=128,\n",
        "                  validation_data=(X_test, y_test), verbose=1)"
      ],
      "metadata": {
        "colab": {
          "base_uri": "https://localhost:8080/"
        },
        "id": "wLxBOsxDR0ot",
        "outputId": "0207c230-34a1-4deb-bf3e-4382986b321e"
      },
      "execution_count": null,
      "outputs": [
        {
          "output_type": "stream",
          "name": "stdout",
          "text": [
            "Epoch 1/40\n",
            "256/256 [==============================] - 4s 12ms/step - loss: 0.4620 - accuracy: 0.8811 - val_loss: 0.3677 - val_accuracy: 0.8825\n",
            "Epoch 2/40\n",
            "256/256 [==============================] - 2s 8ms/step - loss: 0.3618 - accuracy: 0.8831 - val_loss: 0.3605 - val_accuracy: 0.8825\n",
            "Epoch 3/40\n",
            "256/256 [==============================] - 1s 5ms/step - loss: 0.3565 - accuracy: 0.8833 - val_loss: 0.3561 - val_accuracy: 0.8825\n",
            "Epoch 4/40\n",
            "256/256 [==============================] - 1s 5ms/step - loss: 0.3511 - accuracy: 0.8838 - val_loss: 0.3508 - val_accuracy: 0.8825\n",
            "Epoch 5/40\n",
            "256/256 [==============================] - 1s 5ms/step - loss: 0.3492 - accuracy: 0.8813 - val_loss: 0.3430 - val_accuracy: 0.8825\n",
            "Epoch 6/40\n",
            "256/256 [==============================] - 1s 4ms/step - loss: 0.3357 - accuracy: 0.8836 - val_loss: 0.3325 - val_accuracy: 0.8825\n",
            "Epoch 7/40\n",
            "256/256 [==============================] - 1s 4ms/step - loss: 0.3261 - accuracy: 0.8820 - val_loss: 0.3184 - val_accuracy: 0.8825\n",
            "Epoch 8/40\n",
            "256/256 [==============================] - 1s 5ms/step - loss: 0.3109 - accuracy: 0.8820 - val_loss: 0.3009 - val_accuracy: 0.8825\n",
            "Epoch 9/40\n",
            "256/256 [==============================] - 1s 4ms/step - loss: 0.2876 - accuracy: 0.8829 - val_loss: 0.2779 - val_accuracy: 0.8825\n",
            "Epoch 10/40\n",
            "256/256 [==============================] - 1s 5ms/step - loss: 0.2664 - accuracy: 0.8814 - val_loss: 0.2520 - val_accuracy: 0.8825\n",
            "Epoch 11/40\n",
            "256/256 [==============================] - 1s 5ms/step - loss: 0.2381 - accuracy: 0.8834 - val_loss: 0.2295 - val_accuracy: 0.8825\n",
            "Epoch 12/40\n",
            "256/256 [==============================] - 1s 4ms/step - loss: 0.2190 - accuracy: 0.8821 - val_loss: 0.2122 - val_accuracy: 0.8825\n",
            "Epoch 13/40\n",
            "256/256 [==============================] - 1s 5ms/step - loss: 0.2034 - accuracy: 0.9259 - val_loss: 0.1978 - val_accuracy: 0.9405\n",
            "Epoch 14/40\n",
            "256/256 [==============================] - 1s 4ms/step - loss: 0.1858 - accuracy: 0.9471 - val_loss: 0.1850 - val_accuracy: 0.9481\n",
            "Epoch 15/40\n",
            "256/256 [==============================] - 1s 4ms/step - loss: 0.1791 - accuracy: 0.9512 - val_loss: 0.1737 - val_accuracy: 0.9547\n",
            "Epoch 16/40\n",
            "256/256 [==============================] - 1s 4ms/step - loss: 0.1655 - accuracy: 0.9570 - val_loss: 0.1630 - val_accuracy: 0.9567\n",
            "Epoch 17/40\n",
            "256/256 [==============================] - 1s 5ms/step - loss: 0.1564 - accuracy: 0.9602 - val_loss: 0.1551 - val_accuracy: 0.9621\n",
            "Epoch 18/40\n",
            "256/256 [==============================] - 1s 5ms/step - loss: 0.1465 - accuracy: 0.9623 - val_loss: 0.1495 - val_accuracy: 0.9638\n",
            "Epoch 19/40\n",
            "256/256 [==============================] - 1s 5ms/step - loss: 0.1409 - accuracy: 0.9640 - val_loss: 0.1397 - val_accuracy: 0.9622\n",
            "Epoch 20/40\n",
            "256/256 [==============================] - 1s 5ms/step - loss: 0.1339 - accuracy: 0.9648 - val_loss: 0.1327 - val_accuracy: 0.9646\n",
            "Epoch 21/40\n",
            "256/256 [==============================] - 1s 4ms/step - loss: 0.1315 - accuracy: 0.9664 - val_loss: 0.1296 - val_accuracy: 0.9646\n",
            "Epoch 22/40\n",
            "256/256 [==============================] - 1s 5ms/step - loss: 0.1250 - accuracy: 0.9672 - val_loss: 0.1252 - val_accuracy: 0.9662\n",
            "Epoch 23/40\n",
            "256/256 [==============================] - 1s 4ms/step - loss: 0.1269 - accuracy: 0.9668 - val_loss: 0.1258 - val_accuracy: 0.9669\n",
            "Epoch 24/40\n",
            "256/256 [==============================] - 1s 4ms/step - loss: 0.1243 - accuracy: 0.9678 - val_loss: 0.1599 - val_accuracy: 0.9607\n",
            "Epoch 25/40\n",
            "256/256 [==============================] - 1s 4ms/step - loss: 0.1242 - accuracy: 0.9680 - val_loss: 0.1399 - val_accuracy: 0.9683\n",
            "Epoch 26/40\n",
            "256/256 [==============================] - 1s 4ms/step - loss: 0.1270 - accuracy: 0.9671 - val_loss: 0.1286 - val_accuracy: 0.9650\n",
            "Epoch 27/40\n",
            "256/256 [==============================] - 1s 4ms/step - loss: 0.1224 - accuracy: 0.9685 - val_loss: 0.1434 - val_accuracy: 0.9635\n",
            "Epoch 28/40\n",
            "256/256 [==============================] - 1s 5ms/step - loss: 0.1240 - accuracy: 0.9678 - val_loss: 0.1915 - val_accuracy: 0.9588\n",
            "Epoch 29/40\n",
            "256/256 [==============================] - 1s 5ms/step - loss: 0.1180 - accuracy: 0.9688 - val_loss: 0.1182 - val_accuracy: 0.9684\n",
            "Epoch 30/40\n",
            "256/256 [==============================] - 1s 4ms/step - loss: 0.1188 - accuracy: 0.9689 - val_loss: 0.1204 - val_accuracy: 0.9686\n",
            "Epoch 31/40\n",
            "256/256 [==============================] - 1s 5ms/step - loss: 0.1188 - accuracy: 0.9689 - val_loss: 0.1216 - val_accuracy: 0.9664\n",
            "Epoch 32/40\n",
            "256/256 [==============================] - 1s 5ms/step - loss: 0.1181 - accuracy: 0.9690 - val_loss: 0.1150 - val_accuracy: 0.9680\n",
            "Epoch 33/40\n",
            "256/256 [==============================] - 1s 4ms/step - loss: 0.1171 - accuracy: 0.9693 - val_loss: 0.1148 - val_accuracy: 0.9676\n",
            "Epoch 34/40\n",
            "256/256 [==============================] - 1s 4ms/step - loss: 0.1170 - accuracy: 0.9696 - val_loss: 0.1162 - val_accuracy: 0.9678\n",
            "Epoch 35/40\n",
            "256/256 [==============================] - 1s 4ms/step - loss: 0.1207 - accuracy: 0.9688 - val_loss: 0.1141 - val_accuracy: 0.9682\n",
            "Epoch 36/40\n",
            "256/256 [==============================] - 1s 5ms/step - loss: 0.1167 - accuracy: 0.9695 - val_loss: 0.1203 - val_accuracy: 0.9687\n",
            "Epoch 37/40\n",
            "256/256 [==============================] - 1s 5ms/step - loss: 0.1188 - accuracy: 0.9689 - val_loss: 0.1195 - val_accuracy: 0.9671\n",
            "Epoch 38/40\n",
            "256/256 [==============================] - 1s 5ms/step - loss: 0.1152 - accuracy: 0.9696 - val_loss: 0.1140 - val_accuracy: 0.9681\n",
            "Epoch 39/40\n",
            "256/256 [==============================] - 1s 4ms/step - loss: 0.1186 - accuracy: 0.9692 - val_loss: 0.1140 - val_accuracy: 0.9680\n",
            "Epoch 40/40\n",
            "256/256 [==============================] - 1s 5ms/step - loss: 0.1163 - accuracy: 0.9694 - val_loss: 0.1134 - val_accuracy: 0.9681\n"
          ]
        }
      ]
    },
    {
      "cell_type": "code",
      "source": [
        "plt.plot(model_info.history['loss'],\n",
        "         label='train loss',\n",
        "         c='orange', ls='-')\n",
        "plt.plot(model_info.history['val_loss'],\n",
        "         label='test loss',\n",
        "         c='red',ls='--')"
      ],
      "metadata": {
        "id": "vPlFR16UShCW",
        "colab": {
          "base_uri": "https://localhost:8080/",
          "height": 282
        },
        "outputId": "edbe0f95-d01a-4a3d-d2a2-822d96389320"
      },
      "execution_count": null,
      "outputs": [
        {
          "output_type": "execute_result",
          "data": {
            "text/plain": [
              "[<matplotlib.lines.Line2D at 0x7f6f43c147d0>]"
            ]
          },
          "metadata": {},
          "execution_count": 79
        },
        {
          "output_type": "display_data",
          "data": {
            "text/plain": [
              "<Figure size 432x288 with 1 Axes>"
            ],
            "image/png": "[encoded data removed]"
          },
          "metadata": {
            "needs_background": "light"
          }
        }
      ]
    },
    {
      "cell_type": "code",
      "source": [
        "plt.plot(model_info.history['accuracy'],\n",
        "         label='train accuracy augmented',\n",
        "         c='orange', ls='-')\n",
        "plt.plot(model_info.history['val_accuracy'],\n",
        "         label='test accuracy ',\n",
        "         c='red',ls='--')"
      ],
      "metadata": {
        "colab": {
          "base_uri": "https://localhost:8080/",
          "height": 282
        },
        "id": "DAOjhtPF7dPd",
        "outputId": "46589af6-9b11-4206-f01d-86dac428371f"
      },
      "execution_count": null,
      "outputs": [
        {
          "output_type": "execute_result",
          "data": {
            "text/plain": [
              "[<matplotlib.lines.Line2D at 0x7f6f46df4810>]"
            ]
          },
          "metadata": {},
          "execution_count": 75
        },
        {
          "output_type": "display_data",
          "data": {
            "text/plain": [
              "<Figure size 432x288 with 1 Axes>"
            ],
            "image/png": "[encoded data removed]"
          },
          "metadata": {
            "needs_background": "light"
          }
        }
      ]
    },
    {
      "cell_type": "code",
      "source": [
        "predictions = (model.predict(X_test) > 0.5).astype(\"int32\")\n",
        "\n",
        "print(classification_report(y_test, predictions))"
      ],
      "metadata": {
        "colab": {
          "base_uri": "https://localhost:8080/"
        },
        "id": "m4s3-Dw1Tn6A",
        "outputId": "56fe88c4-bb85-479b-89fd-146f9e21066f"
      },
      "execution_count": null,
      "outputs": [
        {
          "output_type": "stream",
          "name": "stdout",
          "text": [
            "              precision    recall  f1-score   support\n",
            "\n",
            "           0       0.99      0.74      0.85     10500\n",
            "           1       0.97      1.00      0.98     78490\n",
            "\n",
            "    accuracy                           0.97     88990\n",
            "   macro avg       0.98      0.87      0.91     88990\n",
            "weighted avg       0.97      0.97      0.97     88990\n",
            "\n"
          ]
        }
      ]
    },
    {
      "cell_type": "code",
      "source": [
        "pd.DataFrame(confusion_matrix(y_test, predictions))"
      ],
      "metadata": {
        "colab": {
          "base_uri": "https://localhost:8080/",
          "height": 112
        },
        "id": "9bFO51QkTsOI",
        "outputId": "2f513c21-2e80-4c50-e551-ee3328565153"
      },
      "execution_count": null,
      "outputs": [
        {
          "output_type": "execute_result",
          "data": {
            "text/plain": [
              "      0      1\n",
              "0  7767   2733\n",
              "1    88  78402"
            ],
            "text/html": [
              "\n",
              "  <div id=\"df-156fb8ee-4015-469b-a71e-babc0cac8c83\">\n",
              "    <div class=\"colab-df-container\">\n",
              "      <div>\n",
              "<style scoped>\n",
              "    .dataframe tbody tr th:only-of-type {\n",
              "        vertical-align: middle;\n",
              "    }\n",
              "\n",
              "    .dataframe tbody tr th {\n",
              "        vertical-align: top;\n",
              "    }\n",
              "\n",
              "    .dataframe thead th {\n",
              "        text-align: right;\n",
              "    }\n",
              "</style>\n",
              "<table border=\"1\" class=\"dataframe\">\n",
              "  <thead>\n",
              "    <tr style=\"text-align: right;\">\n",
              "      <th></th>\n",
              "      <th>0</th>\n",
              "      <th>1</th>\n",
              "    </tr>\n",
              "  </thead>\n",
              "  <tbody>\n",
              "    <tr>\n",
              "      <th>0</th>\n",
              "      <td>7767</td>\n",
              "      <td>2733</td>\n",
              "    </tr>\n",
              "    <tr>\n",
              "      <th>1</th>\n",
              "      <td>88</td>\n",
              "      <td>78402</td>\n",
              "    </tr>\n",
              "  </tbody>\n",
              "</table>\n",
              "</div>\n",
              "      <button class=\"colab-df-convert\" onclick=\"convertToInteractive('df-156fb8ee-4015-469b-a71e-babc0cac8c83')\"\n",
              "              title=\"Convert this dataframe to an interactive table.\"\n",
              "              style=\"display:none;\">\n",
              "        \n",
              "  <svg xmlns=\"http://www.w3.org/2000/svg\" height=\"24px\"viewBox=\"0 0 24 24\"\n",
              "       width=\"24px\">\n",
              "    <path d=\"M0 0h24v24H0V0z\" fill=\"none\"/>\n",
              "    <path d=\"M18.56 5.44l.94 2.06.94-2.06 2.06-.94-2.06-.94-.94-2.06-.94 2.06-2.06.94zm-11 1L8.5 8.5l.94-2.06 2.06-.94-2.06-.94L8.5 2.5l-.94 2.06-2.06.94zm10 10l.94 2.06.94-2.06 2.06-.94-2.06-.94-.94-2.06-.94 2.06-2.06.94z\"/><path d=\"M17.41 7.96l-1.37-1.37c-.4-.4-.92-.59-1.43-.59-.52 0-1.04.2-1.43.59L10.3 9.45l-7.72 7.72c-.78.78-.78 2.05 0 2.83L4 21.41c.39.39.9.59 1.41.59.51 0 1.02-.2 1.41-.59l7.78-7.78 2.81-2.81c.8-.78.8-2.07 0-2.86zM5.41 20L4 18.59l7.72-7.72 1.47 1.35L5.41 20z\"/>\n",
              "  </svg>\n",
              "      </button>\n",
              "      \n",
              "  <style>\n",
              "    .colab-df-container {\n",
              "      display:flex;\n",
              "      flex-wrap:wrap;\n",
              "      gap: 12px;\n",
              "    }\n",
              "\n",
              "    .colab-df-convert {\n",
              "      background-color: #E8F0FE;\n",
              "      border: none;\n",
              "      border-radius: 50%;\n",
              "      cursor: pointer;\n",
              "      display: none;\n",
              "      fill: #1967D2;\n",
              "      height: 32px;\n",
              "      padding: 0 0 0 0;\n",
              "      width: 32px;\n",
              "    }\n",
              "\n",
              "    .colab-df-convert:hover {\n",
              "      background-color: #E2EBFA;\n",
              "      box-shadow: 0px 1px 2px rgba(60, 64, 67, 0.3), 0px 1px 3px 1px rgba(60, 64, 67, 0.15);\n",
              "      fill: #174EA6;\n",
              "    }\n",
              "\n",
              "    [theme=dark] .colab-df-convert {\n",
              "      background-color: #3B4455;\n",
              "      fill: #D2E3FC;\n",
              "    }\n",
              "\n",
              "    [theme=dark] .colab-df-convert:hover {\n",
              "      background-color: #434B5C;\n",
              "      box-shadow: 0px 1px 3px 1px rgba(0, 0, 0, 0.15);\n",
              "      filter: drop-shadow(0px 1px 2px rgba(0, 0, 0, 0.3));\n",
              "      fill: #FFFFFF;\n",
              "    }\n",
              "  </style>\n",
              "\n",
              "      <script>\n",
              "        const buttonEl =\n",
              "          document.querySelector('#df-156fb8ee-4015-469b-a71e-babc0cac8c83 button.colab-df-convert');\n",
              "        buttonEl.style.display =\n",
              "          google.colab.kernel.accessAllowed ? 'block' : 'none';\n",
              "\n",
              "        async function convertToInteractive(key) {\n",
              "          const element = document.querySelector('#df-156fb8ee-4015-469b-a71e-babc0cac8c83');\n",
              "          const dataTable =\n",
              "            await google.colab.kernel.invokeFunction('convertToInteractive',\n",
              "                                                     [key], {});\n",
              "          if (!dataTable) return;\n",
              "\n",
              "          const docLinkHtml = 'Like what you see? Visit the ' +\n",
              "            '<a target=\"_blank\" href=https://colab.research.google.com/notebooks/data_table.ipynb>data table notebook</a>'\n",
              "            + ' to learn more about interactive tables.';\n",
              "          element.innerHTML = '';\n",
              "          dataTable['output_type'] = 'display_data';\n",
              "          await google.colab.output.renderOutput(dataTable, element);\n",
              "          const docLink = document.createElement('div');\n",
              "          docLink.innerHTML = docLinkHtml;\n",
              "          element.appendChild(docLink);\n",
              "        }\n",
              "      </script>\n",
              "    </div>\n",
              "  </div>\n",
              "  "
            ]
          },
          "metadata": {},
          "execution_count": 77
        }
      ]
    },
    {
      "cell_type": "code",
      "source": [
        ""
      ],
      "metadata": {
        "id": "1DzZ2pecTzAe"
      },
      "execution_count": null,
      "outputs": []
    },
    {
      "cell_type": "markdown",
      "source": [
        "# Simulating A new Customer"
      ],
      "metadata": {
        "id": "Y7FPiai-V9aB"
      }
    },
    {
      "cell_type": "code",
      "source": [
        "import random\n",
        "\n",
        "df_accepted = df.reset_index(drop=True)\n",
        "\n",
        "random.seed(101)\n",
        "random_ind = random.randint(0,len(df_accepted))\n",
        "\n",
        "new_customer = df_accepted.drop('loan_condition_int',axis=1).iloc[random_ind]\n",
        "new_customer"
      ],
      "metadata": {
        "colab": {
          "base_uri": "https://localhost:8080/"
        },
        "id": "io_SAJbmBYF6",
        "outputId": "d966f754-ca66-40f4-f3b8-5cbbfd286e67"
      },
      "execution_count": null,
      "outputs": [
        {
          "output_type": "execute_result",
          "data": {
            "text/plain": [
              "loan_amnt              10800.00\n",
              "funded_amnt            10800.00\n",
              "funded_amnt_inv        10800.00\n",
              "term                      36.00\n",
              "int_rate                  14.49\n",
              "installment              371.70\n",
              "grade                      2.00\n",
              "home_ownership             1.00\n",
              "verification_status        1.00\n",
              "issue_d                   14.00\n",
              "pymnt_plan                 0.00\n",
              "purpose                    2.00\n",
              "dti                       28.90\n",
              "delinq_2yrs                1.00\n",
              "open_acc                  16.00\n",
              "pub_rec                    0.00\n",
              "revol_bal              25235.00\n",
              "revol_util                67.70\n",
              "total_acc                 30.00\n",
              "initial_list_status        1.00\n",
              "out_prncp               6569.23\n",
              "out_prncp_inv           6569.23\n",
              "total_pymnt             5947.20\n",
              "total_pymnt_inv         5947.20\n",
              "total_rec_prncp         4230.77\n",
              "total_rec_int           1716.43\n",
              "total_rec_late_fee         0.00\n",
              "recoveries                 0.00\n",
              "last_pymnt_amnt          371.70\n",
              "application_type           0.00\n",
              "acc_now_delinq             0.00\n",
              "income_category_int        1.00\n",
              "emp_length_int             5.00\n",
              "Name: 304691, dtype: float64"
            ]
          },
          "metadata": {},
          "execution_count": 83
        }
      ]
    },
    {
      "cell_type": "code",
      "source": [
        "new_c = scaler.transform(new_customer.values.reshape(1,33))\n",
        "\n",
        "print(f\"model prediction: {(model.predict(new_c) > 0.5).astype('int32')[0][0]}\")"
      ],
      "metadata": {
        "colab": {
          "base_uri": "https://localhost:8080/"
        },
        "id": "H_rHExjOBrmZ",
        "outputId": "d5b8a220-9412-46f4-b10c-6512ae32f59b"
      },
      "execution_count": null,
      "outputs": [
        {
          "output_type": "stream",
          "name": "stderr",
          "text": [
            "/usr/local/lib/python3.7/dist-packages/sklearn/base.py:451: UserWarning:\n",
            "\n",
            "X does not have valid feature names, but MinMaxScaler was fitted with feature names\n",
            "\n"
          ]
        },
        {
          "output_type": "stream",
          "name": "stdout",
          "text": [
            "model prediction: 1\n"
          ]
        }
      ]
    },
    {
      "cell_type": "code",
      "source": [
        "# checking if this customer paid his loan\n",
        "\n",
        "df_accepted.loc[random_ind, 'loan_condition_int']\n"
      ],
      "metadata": {
        "colab": {
          "base_uri": "https://localhost:8080/"
        },
        "id": "nPcVoxB7B-Js",
        "outputId": "39ef41f5-7a0a-4851-a157-fd1e0e0febf8"
      },
      "execution_count": null,
      "outputs": [
        {
          "output_type": "execute_result",
          "data": {
            "text/plain": [
              "1"
            ]
          },
          "metadata": {},
          "execution_count": 87
        }
      ]
    },
    {
      "cell_type": "markdown",
      "source": [
        "**Description**\n",
        "\n",
        "0 = Bad Loan\n",
        "\n",
        "1 = Good Loan"
      ],
      "metadata": {
        "id": "B83FCOXzVPH8"
      }
    }
  ]
}
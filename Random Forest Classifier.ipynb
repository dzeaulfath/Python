{
  "nbformat": 4,
  "nbformat_minor": 0,
  "metadata": {
    "colab": {
      "name": "Random Forest Classifier.ipynb",
      "provenance": [],
      "authorship_tag": "ABX9TyOBr1XEZD/2+4S6miUy/Euh",
      "include_colab_link": true
    },
    "kernelspec": {
      "name": "python3",
      "display_name": "Python 3"
    },
    "language_info": {
      "name": "python"
    }
  },
  "cells": [
    {
      "cell_type": "markdown",
      "metadata": {
        "id": "view-in-github",
        "colab_type": "text"
      },
      "source": [
        "<a href=\"https://colab.research.google.com/github/dzeaulfath/Python/blob/main/Random%20Forest%20Classifier.ipynb\" target=\"_parent\"><img src=\"https://colab.research.google.com/assets/colab-badge.svg\" alt=\"Open In Colab\"/></a>"
      ]
    },
    {
      "cell_type": "code",
      "metadata": {
        "id": "VMIdBjIPp6Jv"
      },
      "source": [
        "import numpy as np\n",
        "import pandas as pd"
      ],
      "execution_count": null,
      "outputs": []
    },
    {
      "cell_type": "code",
      "metadata": {
        "colab": {
          "base_uri": "https://localhost:8080/"
        },
        "id": "shhocDCqp_-i",
        "outputId": "96397e8a-fcc4-4c15-fd21-ba050f9baa1e"
      },
      "source": [
        "!wget -O konsumen.csv https://raw.githubusercontent.com/jumadi-cloud/Fundamental-Python/main/Dataset/konsumen.csv"
      ],
      "execution_count": null,
      "outputs": [
        {
          "output_type": "stream",
          "name": "stdout",
          "text": [
            "--2021-10-24 14:08:34--  https://raw.githubusercontent.com/jumadi-cloud/Fundamental-Python/main/Dataset/konsumen.csv\n",
            "Resolving raw.githubusercontent.com (raw.githubusercontent.com)... 185.199.110.133, 185.199.108.133, 185.199.109.133, ...\n",
            "Connecting to raw.githubusercontent.com (raw.githubusercontent.com)|185.199.110.133|:443... connected.\n",
            "HTTP request sent, awaiting response... 200 OK\n",
            "Length: 5340501 (5.1M) [text/plain]\n",
            "Saving to: ‘konsumen.csv’\n",
            "\n",
            "konsumen.csv        100%[===================>]   5.09M  --.-KB/s    in 0.08s   \n",
            "\n",
            "2021-10-24 14:08:35 (61.5 MB/s) - ‘konsumen.csv’ saved [5340501/5340501]\n",
            "\n"
          ]
        }
      ]
    },
    {
      "cell_type": "code",
      "metadata": {
        "colab": {
          "base_uri": "https://localhost:8080/",
          "height": 496
        },
        "id": "ukFCbC98qPmm",
        "outputId": "9877e0fa-1d97-4f9c-af55-d8b467015376"
      },
      "source": [
        "#Menampilkan data\n",
        "df = pd.read_csv('konsumen.csv', delimiter=';', skiprows=0, low_memory=False)\n",
        "df.head()"
      ],
      "execution_count": null,
      "outputs": [
        {
          "output_type": "execute_result",
          "data": {
            "text/html": [
              "<div>\n",
              "<style scoped>\n",
              "    .dataframe tbody tr th:only-of-type {\n",
              "        vertical-align: middle;\n",
              "    }\n",
              "\n",
              "    .dataframe tbody tr th {\n",
              "        vertical-align: top;\n",
              "    }\n",
              "\n",
              "    .dataframe thead th {\n",
              "        text-align: right;\n",
              "    }\n",
              "</style>\n",
              "<table border=\"1\" class=\"dataframe\">\n",
              "  <thead>\n",
              "    <tr style=\"text-align: right;\">\n",
              "      <th></th>\n",
              "      <th>SALES DATE</th>\n",
              "      <th>TYPE MOTOR</th>\n",
              "      <th>COLOR</th>\n",
              "      <th>KODE CUSTOMER</th>\n",
              "      <th>JENIS KELAMIN</th>\n",
              "      <th>TANGGAL LAHIR</th>\n",
              "      <th>KECAMATAN SURAT</th>\n",
              "      <th>KOTA SURAT</th>\n",
              "      <th>PROPINSI</th>\n",
              "      <th>STATUS RUMAH</th>\n",
              "      <th>JENIS PENJUALAN STNK</th>\n",
              "      <th>JENIS PENJUALAN SSU</th>\n",
              "      <th>BESAR DP</th>\n",
              "      <th>BESAR CICILAN</th>\n",
              "      <th>LAMA CICILAN</th>\n",
              "      <th>AGAMA</th>\n",
              "      <th>PEKERJAAN</th>\n",
              "      <th>PENGELUARAN</th>\n",
              "      <th>PENDIDIKAN</th>\n",
              "      <th>KEBERSEDIAAN DIHUBUNGI</th>\n",
              "      <th>MERK MOTOR SBLMNYA</th>\n",
              "      <th>TYPE MOTOR SBLMNYA</th>\n",
              "      <th>SMH DIGUNAKAN UNTUK</th>\n",
              "      <th>YG MENGGUNAKAN SMH</th>\n",
              "      <th>HOBI</th>\n",
              "      <th>KETERANGAN</th>\n",
              "      <th>KEWARGANEGARAAN</th>\n",
              "    </tr>\n",
              "  </thead>\n",
              "  <tbody>\n",
              "    <tr>\n",
              "      <th>0</th>\n",
              "      <td>08/08/2019</td>\n",
              "      <td>REVO FIT FI</td>\n",
              "      <td>HITAM</td>\n",
              "      <td>INDIVIDUAL</td>\n",
              "      <td>LAKI-LAKI</td>\n",
              "      <td>25/08/1970</td>\n",
              "      <td>Manyar</td>\n",
              "      <td>Kab. Gresik</td>\n",
              "      <td>Jawa Timur</td>\n",
              "      <td>RUMAH SENDIRI</td>\n",
              "      <td>CASH</td>\n",
              "      <td>CASH</td>\n",
              "      <td>NaN</td>\n",
              "      <td>NaN</td>\n",
              "      <td>NaN</td>\n",
              "      <td>ISLAM</td>\n",
              "      <td>DOKTER</td>\n",
              "      <td>RP 2.000.001,- S/D RP 3.000.000,-</td>\n",
              "      <td>AKADEMI/DIPLOMA</td>\n",
              "      <td>YES</td>\n",
              "      <td>HONDA</td>\n",
              "      <td>AT AUTOMATIC</td>\n",
              "      <td>BERDAGANG</td>\n",
              "      <td>SAYA SENDIRI</td>\n",
              "      <td>Adventure (Petualangan)</td>\n",
              "      <td>NaN</td>\n",
              "      <td>WNI</td>\n",
              "    </tr>\n",
              "    <tr>\n",
              "      <th>1</th>\n",
              "      <td>16/10/2019</td>\n",
              "      <td>REVO FIT FI</td>\n",
              "      <td>HITAM</td>\n",
              "      <td>INDIVIDUAL</td>\n",
              "      <td>LAKI-LAKI</td>\n",
              "      <td>31/03/1972</td>\n",
              "      <td>Driyorejo</td>\n",
              "      <td>Kab. Gresik</td>\n",
              "      <td>Jawa Timur</td>\n",
              "      <td>RUMAH SENDIRI</td>\n",
              "      <td>CASH</td>\n",
              "      <td>CASH</td>\n",
              "      <td>NaN</td>\n",
              "      <td>NaN</td>\n",
              "      <td>NaN</td>\n",
              "      <td>ISLAM</td>\n",
              "      <td>PEGAWAI SWASTA, INDUSTRI</td>\n",
              "      <td>RP 3.000.001,- S/D RP 4.000.000,-</td>\n",
              "      <td>SLTA/SMU</td>\n",
              "      <td>YES</td>\n",
              "      <td>HONDA</td>\n",
              "      <td>SPORT</td>\n",
              "      <td>BERDAGANG</td>\n",
              "      <td>SAYA SENDIRI</td>\n",
              "      <td>Adventure (Petualangan)</td>\n",
              "      <td>NaN</td>\n",
              "      <td>WNI</td>\n",
              "    </tr>\n",
              "    <tr>\n",
              "      <th>2</th>\n",
              "      <td>07/10/2019</td>\n",
              "      <td>REVO FIT FI</td>\n",
              "      <td>HITAM</td>\n",
              "      <td>INDIVIDUAL</td>\n",
              "      <td>LAKI-LAKI</td>\n",
              "      <td>29/12/1998</td>\n",
              "      <td>Cerme</td>\n",
              "      <td>Kab. Gresik</td>\n",
              "      <td>Jawa Timur</td>\n",
              "      <td>RUMAH ORANG TUA / KELUARGA</td>\n",
              "      <td>CASH</td>\n",
              "      <td>CASH</td>\n",
              "      <td>NaN</td>\n",
              "      <td>NaN</td>\n",
              "      <td>NaN</td>\n",
              "      <td>ISLAM</td>\n",
              "      <td>MAHASISWA / PELAJAR</td>\n",
              "      <td>RP 1.000.001,- S/D RP 1.500.000,-</td>\n",
              "      <td>SLTA/SMU</td>\n",
              "      <td>YES</td>\n",
              "      <td>HONDA</td>\n",
              "      <td>SPORT</td>\n",
              "      <td>BERDAGANG</td>\n",
              "      <td>SAYA SENDIRI</td>\n",
              "      <td>Adventure (Petualangan)</td>\n",
              "      <td>NaN</td>\n",
              "      <td>WNI</td>\n",
              "    </tr>\n",
              "    <tr>\n",
              "      <th>3</th>\n",
              "      <td>09/09/2019</td>\n",
              "      <td>REVO FIT FI</td>\n",
              "      <td>HITAM</td>\n",
              "      <td>INDIVIDUAL</td>\n",
              "      <td>LAKI-LAKI</td>\n",
              "      <td>29/01/1983</td>\n",
              "      <td>Menganti</td>\n",
              "      <td>Kab. Gresik</td>\n",
              "      <td>Jawa Timur</td>\n",
              "      <td>RUMAH SENDIRI</td>\n",
              "      <td>CREDIT</td>\n",
              "      <td>CREDIT</td>\n",
              "      <td>1300000.0</td>\n",
              "      <td>634000.0</td>\n",
              "      <td>35.0</td>\n",
              "      <td>ISLAM</td>\n",
              "      <td>PEGAWAI SWASTA, INDUSTRI</td>\n",
              "      <td>RP 1.000.001,- S/D RP 1.500.000,-</td>\n",
              "      <td>SLTA/SMU</td>\n",
              "      <td>YES</td>\n",
              "      <td>HONDA</td>\n",
              "      <td>AT AUTOMATIC</td>\n",
              "      <td>PEMAKAIAN JARAK DEKAT</td>\n",
              "      <td>SAYA SENDIRI</td>\n",
              "      <td>Makan</td>\n",
              "      <td>SOPAN</td>\n",
              "      <td>WNI</td>\n",
              "    </tr>\n",
              "    <tr>\n",
              "      <th>4</th>\n",
              "      <td>07/10/2019</td>\n",
              "      <td>REVO FIT FI</td>\n",
              "      <td>HITAM</td>\n",
              "      <td>INDIVIDUAL</td>\n",
              "      <td>LAKI-LAKI</td>\n",
              "      <td>19/01/1996</td>\n",
              "      <td>Panceng</td>\n",
              "      <td>Kab. Gresik</td>\n",
              "      <td>Jawa Timur</td>\n",
              "      <td>RUMAH SENDIRI</td>\n",
              "      <td>CASH</td>\n",
              "      <td>CASH</td>\n",
              "      <td>NaN</td>\n",
              "      <td>NaN</td>\n",
              "      <td>NaN</td>\n",
              "      <td>ISLAM</td>\n",
              "      <td>MAHASISWA / PELAJAR</td>\n",
              "      <td>RP 1.000.001,- S/D RP 1.500.000,-</td>\n",
              "      <td>SLTA/SMU</td>\n",
              "      <td>YES</td>\n",
              "      <td>HONDA</td>\n",
              "      <td>SPORT</td>\n",
              "      <td>BERDAGANG</td>\n",
              "      <td>SAYA SENDIRI</td>\n",
              "      <td>Adventure (Petualangan)</td>\n",
              "      <td>NaN</td>\n",
              "      <td>WNI</td>\n",
              "    </tr>\n",
              "  </tbody>\n",
              "</table>\n",
              "</div>"
            ],
            "text/plain": [
              "   SALES DATE   TYPE MOTOR  ... KETERANGAN KEWARGANEGARAAN\n",
              "0  08/08/2019  REVO FIT FI  ...        NaN             WNI\n",
              "1  16/10/2019  REVO FIT FI  ...        NaN             WNI\n",
              "2  07/10/2019  REVO FIT FI  ...        NaN             WNI\n",
              "3  09/09/2019  REVO FIT FI  ...      SOPAN             WNI\n",
              "4  07/10/2019  REVO FIT FI  ...        NaN             WNI\n",
              "\n",
              "[5 rows x 27 columns]"
            ]
          },
          "metadata": {},
          "execution_count": 3
        }
      ]
    },
    {
      "cell_type": "markdown",
      "metadata": {
        "id": "a93zlZqFpN2d"
      },
      "source": [
        "# DATA PREPARATION"
      ]
    },
    {
      "cell_type": "code",
      "metadata": {
        "id": "IBcJsitnqhm0"
      },
      "source": [
        ""
      ],
      "execution_count": null,
      "outputs": []
    },
    {
      "cell_type": "code",
      "metadata": {
        "id": "t8-W81SLHm8b"
      },
      "source": [
        "df = df.drop(columns=['BESAR DP', 'BESAR CICILAN', 'LAMA CICILAN', 'KETERANGAN','SALES DATE', 'TANGGAL LAHIR'])"
      ],
      "execution_count": null,
      "outputs": []
    },
    {
      "cell_type": "code",
      "metadata": {
        "colab": {
          "base_uri": "https://localhost:8080/"
        },
        "id": "0_n71c98L_Ox",
        "outputId": "e274b226-c188-4550-8217-169fae363f40"
      },
      "source": [
        "df.isna().sum()"
      ],
      "execution_count": null,
      "outputs": [
        {
          "output_type": "execute_result",
          "data": {
            "text/plain": [
              "TYPE MOTOR                0\n",
              "COLOR                     0\n",
              "KODE CUSTOMER             0\n",
              "JENIS KELAMIN             0\n",
              "KECAMATAN SURAT           0\n",
              "KOTA SURAT                0\n",
              "PROPINSI                  0\n",
              "STATUS RUMAH              0\n",
              "JENIS PENJUALAN STNK      0\n",
              "JENIS PENJUALAN SSU       0\n",
              "AGAMA                     0\n",
              "PEKERJAAN                 0\n",
              "PENGELUARAN               0\n",
              "PENDIDIKAN                0\n",
              "KEBERSEDIAAN DIHUBUNGI    0\n",
              "MERK MOTOR SBLMNYA        0\n",
              "TYPE MOTOR SBLMNYA        0\n",
              "SMH DIGUNAKAN UNTUK       0\n",
              "YG MENGGUNAKAN SMH        0\n",
              "HOBI                      0\n",
              "KEWARGANEGARAAN           6\n",
              "dtype: int64"
            ]
          },
          "metadata": {},
          "execution_count": 5
        }
      ]
    },
    {
      "cell_type": "code",
      "metadata": {
        "id": "aynJMS4_MU_-"
      },
      "source": [
        "df.dropna(inplace=True)"
      ],
      "execution_count": null,
      "outputs": []
    },
    {
      "cell_type": "code",
      "metadata": {
        "colab": {
          "base_uri": "https://localhost:8080/"
        },
        "id": "UGMu5pMPMX47",
        "outputId": "2bd7b7a5-4ecb-456c-9fd1-493adbc1651f"
      },
      "source": [
        "df.isna().sum()"
      ],
      "execution_count": null,
      "outputs": [
        {
          "output_type": "execute_result",
          "data": {
            "text/plain": [
              "TYPE MOTOR                0\n",
              "COLOR                     0\n",
              "KODE CUSTOMER             0\n",
              "JENIS KELAMIN             0\n",
              "KECAMATAN SURAT           0\n",
              "KOTA SURAT                0\n",
              "PROPINSI                  0\n",
              "STATUS RUMAH              0\n",
              "JENIS PENJUALAN STNK      0\n",
              "JENIS PENJUALAN SSU       0\n",
              "AGAMA                     0\n",
              "PEKERJAAN                 0\n",
              "PENGELUARAN               0\n",
              "PENDIDIKAN                0\n",
              "KEBERSEDIAAN DIHUBUNGI    0\n",
              "MERK MOTOR SBLMNYA        0\n",
              "TYPE MOTOR SBLMNYA        0\n",
              "SMH DIGUNAKAN UNTUK       0\n",
              "YG MENGGUNAKAN SMH        0\n",
              "HOBI                      0\n",
              "KEWARGANEGARAAN           0\n",
              "dtype: int64"
            ]
          },
          "metadata": {},
          "execution_count": 7
        }
      ]
    },
    {
      "cell_type": "code",
      "metadata": {
        "id": "kJXiXHc-4c9u"
      },
      "source": [
        "#Mengencode Data Kategorikal\n",
        "\n",
        "list_1=list(df.columns)"
      ],
      "execution_count": null,
      "outputs": []
    },
    {
      "cell_type": "code",
      "metadata": {
        "id": "RxLo-ShMzWLX"
      },
      "source": [
        "list_cate=[]\n",
        "for i in list_1:\n",
        "    if df[i].dtype=='object':\n",
        "        list_cate.append(i)"
      ],
      "execution_count": null,
      "outputs": []
    },
    {
      "cell_type": "code",
      "metadata": {
        "id": "vq7aF_NDztQv"
      },
      "source": [
        "from sklearn.preprocessing import LabelEncoder\n",
        "le=LabelEncoder()"
      ],
      "execution_count": null,
      "outputs": []
    },
    {
      "cell_type": "code",
      "metadata": {
        "id": "YxBUT2GazwWp"
      },
      "source": [
        "for i in list_cate:\n",
        "    df[i]=le.fit_transform(df[i])"
      ],
      "execution_count": null,
      "outputs": []
    },
    {
      "cell_type": "code",
      "metadata": {
        "colab": {
          "base_uri": "https://localhost:8080/",
          "height": 461
        },
        "id": "9HQDigs-q1jl",
        "outputId": "b3d6aa2b-66dc-478c-b57d-3530f116f7f1"
      },
      "source": [
        "df"
      ],
      "execution_count": null,
      "outputs": [
        {
          "output_type": "execute_result",
          "data": {
            "text/html": [
              "<div>\n",
              "<style scoped>\n",
              "    .dataframe tbody tr th:only-of-type {\n",
              "        vertical-align: middle;\n",
              "    }\n",
              "\n",
              "    .dataframe tbody tr th {\n",
              "        vertical-align: top;\n",
              "    }\n",
              "\n",
              "    .dataframe thead th {\n",
              "        text-align: right;\n",
              "    }\n",
              "</style>\n",
              "<table border=\"1\" class=\"dataframe\">\n",
              "  <thead>\n",
              "    <tr style=\"text-align: right;\">\n",
              "      <th></th>\n",
              "      <th>TYPE MOTOR</th>\n",
              "      <th>COLOR</th>\n",
              "      <th>KODE CUSTOMER</th>\n",
              "      <th>JENIS KELAMIN</th>\n",
              "      <th>KECAMATAN SURAT</th>\n",
              "      <th>KOTA SURAT</th>\n",
              "      <th>PROPINSI</th>\n",
              "      <th>STATUS RUMAH</th>\n",
              "      <th>JENIS PENJUALAN STNK</th>\n",
              "      <th>JENIS PENJUALAN SSU</th>\n",
              "      <th>AGAMA</th>\n",
              "      <th>PEKERJAAN</th>\n",
              "      <th>PENGELUARAN</th>\n",
              "      <th>PENDIDIKAN</th>\n",
              "      <th>KEBERSEDIAAN DIHUBUNGI</th>\n",
              "      <th>MERK MOTOR SBLMNYA</th>\n",
              "      <th>TYPE MOTOR SBLMNYA</th>\n",
              "      <th>SMH DIGUNAKAN UNTUK</th>\n",
              "      <th>YG MENGGUNAKAN SMH</th>\n",
              "      <th>HOBI</th>\n",
              "      <th>KEWARGANEGARAAN</th>\n",
              "    </tr>\n",
              "  </thead>\n",
              "  <tbody>\n",
              "    <tr>\n",
              "      <th>0</th>\n",
              "      <td>30</td>\n",
              "      <td>5</td>\n",
              "      <td>0</td>\n",
              "      <td>0</td>\n",
              "      <td>10</td>\n",
              "      <td>0</td>\n",
              "      <td>0</td>\n",
              "      <td>1</td>\n",
              "      <td>0</td>\n",
              "      <td>0</td>\n",
              "      <td>2</td>\n",
              "      <td>0</td>\n",
              "      <td>4</td>\n",
              "      <td>0</td>\n",
              "      <td>1</td>\n",
              "      <td>1</td>\n",
              "      <td>0</td>\n",
              "      <td>1</td>\n",
              "      <td>3</td>\n",
              "      <td>0</td>\n",
              "      <td>0</td>\n",
              "    </tr>\n",
              "    <tr>\n",
              "      <th>1</th>\n",
              "      <td>30</td>\n",
              "      <td>5</td>\n",
              "      <td>0</td>\n",
              "      <td>0</td>\n",
              "      <td>4</td>\n",
              "      <td>0</td>\n",
              "      <td>0</td>\n",
              "      <td>1</td>\n",
              "      <td>0</td>\n",
              "      <td>0</td>\n",
              "      <td>2</td>\n",
              "      <td>8</td>\n",
              "      <td>5</td>\n",
              "      <td>4</td>\n",
              "      <td>1</td>\n",
              "      <td>1</td>\n",
              "      <td>3</td>\n",
              "      <td>1</td>\n",
              "      <td>3</td>\n",
              "      <td>0</td>\n",
              "      <td>0</td>\n",
              "    </tr>\n",
              "    <tr>\n",
              "      <th>2</th>\n",
              "      <td>30</td>\n",
              "      <td>5</td>\n",
              "      <td>0</td>\n",
              "      <td>0</td>\n",
              "      <td>3</td>\n",
              "      <td>0</td>\n",
              "      <td>0</td>\n",
              "      <td>0</td>\n",
              "      <td>0</td>\n",
              "      <td>0</td>\n",
              "      <td>2</td>\n",
              "      <td>4</td>\n",
              "      <td>2</td>\n",
              "      <td>4</td>\n",
              "      <td>1</td>\n",
              "      <td>1</td>\n",
              "      <td>3</td>\n",
              "      <td>1</td>\n",
              "      <td>3</td>\n",
              "      <td>0</td>\n",
              "      <td>0</td>\n",
              "    </tr>\n",
              "    <tr>\n",
              "      <th>3</th>\n",
              "      <td>30</td>\n",
              "      <td>5</td>\n",
              "      <td>0</td>\n",
              "      <td>0</td>\n",
              "      <td>11</td>\n",
              "      <td>0</td>\n",
              "      <td>0</td>\n",
              "      <td>1</td>\n",
              "      <td>1</td>\n",
              "      <td>1</td>\n",
              "      <td>2</td>\n",
              "      <td>8</td>\n",
              "      <td>2</td>\n",
              "      <td>4</td>\n",
              "      <td>1</td>\n",
              "      <td>1</td>\n",
              "      <td>0</td>\n",
              "      <td>5</td>\n",
              "      <td>3</td>\n",
              "      <td>20</td>\n",
              "      <td>0</td>\n",
              "    </tr>\n",
              "    <tr>\n",
              "      <th>4</th>\n",
              "      <td>30</td>\n",
              "      <td>5</td>\n",
              "      <td>0</td>\n",
              "      <td>0</td>\n",
              "      <td>12</td>\n",
              "      <td>0</td>\n",
              "      <td>0</td>\n",
              "      <td>1</td>\n",
              "      <td>0</td>\n",
              "      <td>0</td>\n",
              "      <td>2</td>\n",
              "      <td>4</td>\n",
              "      <td>2</td>\n",
              "      <td>4</td>\n",
              "      <td>1</td>\n",
              "      <td>1</td>\n",
              "      <td>3</td>\n",
              "      <td>1</td>\n",
              "      <td>3</td>\n",
              "      <td>0</td>\n",
              "      <td>0</td>\n",
              "    </tr>\n",
              "    <tr>\n",
              "      <th>...</th>\n",
              "      <td>...</td>\n",
              "      <td>...</td>\n",
              "      <td>...</td>\n",
              "      <td>...</td>\n",
              "      <td>...</td>\n",
              "      <td>...</td>\n",
              "      <td>...</td>\n",
              "      <td>...</td>\n",
              "      <td>...</td>\n",
              "      <td>...</td>\n",
              "      <td>...</td>\n",
              "      <td>...</td>\n",
              "      <td>...</td>\n",
              "      <td>...</td>\n",
              "      <td>...</td>\n",
              "      <td>...</td>\n",
              "      <td>...</td>\n",
              "      <td>...</td>\n",
              "      <td>...</td>\n",
              "      <td>...</td>\n",
              "      <td>...</td>\n",
              "    </tr>\n",
              "    <tr>\n",
              "      <th>18611</th>\n",
              "      <td>15</td>\n",
              "      <td>5</td>\n",
              "      <td>0</td>\n",
              "      <td>1</td>\n",
              "      <td>18</td>\n",
              "      <td>0</td>\n",
              "      <td>0</td>\n",
              "      <td>1</td>\n",
              "      <td>0</td>\n",
              "      <td>0</td>\n",
              "      <td>2</td>\n",
              "      <td>9</td>\n",
              "      <td>4</td>\n",
              "      <td>4</td>\n",
              "      <td>1</td>\n",
              "      <td>0</td>\n",
              "      <td>1</td>\n",
              "      <td>1</td>\n",
              "      <td>3</td>\n",
              "      <td>34</td>\n",
              "      <td>0</td>\n",
              "    </tr>\n",
              "    <tr>\n",
              "      <th>18612</th>\n",
              "      <td>14</td>\n",
              "      <td>5</td>\n",
              "      <td>0</td>\n",
              "      <td>0</td>\n",
              "      <td>7</td>\n",
              "      <td>0</td>\n",
              "      <td>0</td>\n",
              "      <td>2</td>\n",
              "      <td>1</td>\n",
              "      <td>0</td>\n",
              "      <td>2</td>\n",
              "      <td>8</td>\n",
              "      <td>2</td>\n",
              "      <td>4</td>\n",
              "      <td>1</td>\n",
              "      <td>5</td>\n",
              "      <td>0</td>\n",
              "      <td>4</td>\n",
              "      <td>2</td>\n",
              "      <td>25</td>\n",
              "      <td>0</td>\n",
              "    </tr>\n",
              "    <tr>\n",
              "      <th>18613</th>\n",
              "      <td>14</td>\n",
              "      <td>11</td>\n",
              "      <td>0</td>\n",
              "      <td>0</td>\n",
              "      <td>1</td>\n",
              "      <td>0</td>\n",
              "      <td>0</td>\n",
              "      <td>0</td>\n",
              "      <td>0</td>\n",
              "      <td>0</td>\n",
              "      <td>2</td>\n",
              "      <td>8</td>\n",
              "      <td>6</td>\n",
              "      <td>4</td>\n",
              "      <td>1</td>\n",
              "      <td>1</td>\n",
              "      <td>2</td>\n",
              "      <td>1</td>\n",
              "      <td>3</td>\n",
              "      <td>0</td>\n",
              "      <td>0</td>\n",
              "    </tr>\n",
              "    <tr>\n",
              "      <th>18614</th>\n",
              "      <td>31</td>\n",
              "      <td>2</td>\n",
              "      <td>0</td>\n",
              "      <td>0</td>\n",
              "      <td>8</td>\n",
              "      <td>0</td>\n",
              "      <td>0</td>\n",
              "      <td>0</td>\n",
              "      <td>1</td>\n",
              "      <td>0</td>\n",
              "      <td>2</td>\n",
              "      <td>8</td>\n",
              "      <td>4</td>\n",
              "      <td>0</td>\n",
              "      <td>1</td>\n",
              "      <td>1</td>\n",
              "      <td>0</td>\n",
              "      <td>1</td>\n",
              "      <td>3</td>\n",
              "      <td>20</td>\n",
              "      <td>0</td>\n",
              "    </tr>\n",
              "    <tr>\n",
              "      <th>18615</th>\n",
              "      <td>31</td>\n",
              "      <td>2</td>\n",
              "      <td>0</td>\n",
              "      <td>0</td>\n",
              "      <td>10</td>\n",
              "      <td>0</td>\n",
              "      <td>0</td>\n",
              "      <td>1</td>\n",
              "      <td>0</td>\n",
              "      <td>0</td>\n",
              "      <td>2</td>\n",
              "      <td>11</td>\n",
              "      <td>4</td>\n",
              "      <td>0</td>\n",
              "      <td>0</td>\n",
              "      <td>1</td>\n",
              "      <td>0</td>\n",
              "      <td>3</td>\n",
              "      <td>3</td>\n",
              "      <td>28</td>\n",
              "      <td>0</td>\n",
              "    </tr>\n",
              "  </tbody>\n",
              "</table>\n",
              "<p>18610 rows × 21 columns</p>\n",
              "</div>"
            ],
            "text/plain": [
              "       TYPE MOTOR  COLOR  ...  HOBI  KEWARGANEGARAAN\n",
              "0              30      5  ...     0                0\n",
              "1              30      5  ...     0                0\n",
              "2              30      5  ...     0                0\n",
              "3              30      5  ...    20                0\n",
              "4              30      5  ...     0                0\n",
              "...           ...    ...  ...   ...              ...\n",
              "18611          15      5  ...    34                0\n",
              "18612          14      5  ...    25                0\n",
              "18613          14     11  ...     0                0\n",
              "18614          31      2  ...    20                0\n",
              "18615          31      2  ...    28                0\n",
              "\n",
              "[18610 rows x 21 columns]"
            ]
          },
          "metadata": {},
          "execution_count": 12
        }
      ]
    },
    {
      "cell_type": "code",
      "metadata": {
        "colab": {
          "base_uri": "https://localhost:8080/"
        },
        "id": "8ZymRKqTOKlm",
        "outputId": "f29f91d6-dc5b-4b91-83b0-8f0dd5ddd178"
      },
      "source": [
        "df['SMH DIGUNAKAN UNTUK'].value_counts()"
      ],
      "execution_count": null,
      "outputs": [
        {
          "output_type": "execute_result",
          "data": {
            "text/plain": [
              "1    8443\n",
              "5    6365\n",
              "3    2422\n",
              "2     660\n",
              "4     532\n",
              "0     154\n",
              "6      34\n",
              "Name: SMH DIGUNAKAN UNTUK, dtype: int64"
            ]
          },
          "metadata": {},
          "execution_count": 13
        }
      ]
    },
    {
      "cell_type": "markdown",
      "metadata": {
        "id": "eMgh-8DyQ0J9"
      },
      "source": [
        "* BERDAGANG                8443\n",
        "\n",
        "---\n",
        "\n",
        "\n",
        "\n",
        "* PEMAKAIAN JARAK DEKAT    6365\n",
        "\n",
        "---\n",
        "\n",
        "\n",
        "\n",
        "* KEBUTUHAN KELUARGA       2422\n",
        "\n",
        "---\n",
        "\n",
        "\n",
        "\n",
        "* KE SEKOLAH/ KE KAMPUS     660\n",
        "\n",
        "---\n",
        "\n",
        "\n",
        "\n",
        "* LAIN-LAIN                 532\n",
        "\n",
        "---\n",
        "\n",
        "\n",
        "\n",
        "* BEKERJA                   154\n",
        "\n",
        "---\n",
        "\n",
        "\n",
        "\n",
        "* REKREASI/ OLAH RAGA        34"
      ]
    },
    {
      "cell_type": "code",
      "metadata": {
        "colab": {
          "base_uri": "https://localhost:8080/"
        },
        "id": "xQ1jqPpOOIoD",
        "outputId": "9618e695-6ee9-461a-afb6-81151e3209e5"
      },
      "source": [
        "df['PEKERJAAN'].value_counts()"
      ],
      "execution_count": null,
      "outputs": [
        {
          "output_type": "execute_result",
          "data": {
            "text/plain": [
              "8     5819\n",
              "4     3399\n",
              "2     2655\n",
              "9     1057\n",
              "22     987\n",
              "17     862\n",
              "14     756\n",
              "15     563\n",
              "20     491\n",
              "10     430\n",
              "1      337\n",
              "7      307\n",
              "18     246\n",
              "13     228\n",
              "16     149\n",
              "12     100\n",
              "19      71\n",
              "11      68\n",
              "21      30\n",
              "0       29\n",
              "6       14\n",
              "3       11\n",
              "5        1\n",
              "Name: PEKERJAAN, dtype: int64"
            ]
          },
          "metadata": {},
          "execution_count": 14
        }
      ]
    },
    {
      "cell_type": "markdown",
      "metadata": {
        "id": "uSLN7sUIRk-v"
      },
      "source": [
        "![image.png](data:image/png;base64,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)"
      ]
    },
    {
      "cell_type": "code",
      "metadata": {
        "colab": {
          "base_uri": "https://localhost:8080/"
        },
        "id": "HmAEtElaPA8K",
        "outputId": "64b564a1-98c7-47c9-f505-dc430e0a0c7b"
      },
      "source": [
        "df['HOBI'].value_counts()"
      ],
      "execution_count": null,
      "outputs": [
        {
          "output_type": "execute_result",
          "data": {
            "text/plain": [
              "0     4068\n",
              "20    2908\n",
              "24    2887\n",
              "23    2518\n",
              "25    1224\n",
              "48     486\n",
              "11     457\n",
              "22     425\n",
              "18     404\n",
              "14     397\n",
              "26     356\n",
              "21     336\n",
              "27     259\n",
              "44     191\n",
              "4      180\n",
              "28     164\n",
              "33     129\n",
              "2      113\n",
              "42      97\n",
              "50      90\n",
              "53      78\n",
              "40      77\n",
              "37      73\n",
              "5       62\n",
              "35      62\n",
              "47      50\n",
              "36      46\n",
              "7       45\n",
              "30      42\n",
              "29      41\n",
              "54      29\n",
              "31      29\n",
              "16      29\n",
              "46      29\n",
              "3       29\n",
              "13      27\n",
              "6       27\n",
              "41      21\n",
              "34      17\n",
              "32      15\n",
              "8       11\n",
              "15      11\n",
              "55      10\n",
              "51       9\n",
              "38       9\n",
              "39       8\n",
              "43       7\n",
              "10       5\n",
              "49       4\n",
              "17       4\n",
              "19       3\n",
              "9        3\n",
              "1        3\n",
              "52       2\n",
              "12       2\n",
              "45       2\n",
              "Name: HOBI, dtype: int64"
            ]
          },
          "metadata": {},
          "execution_count": 15
        }
      ]
    },
    {
      "cell_type": "markdown",
      "metadata": {
        "id": "zDROsqSxSH0d"
      },
      "source": [
        ""
      ]
    },
    {
      "cell_type": "code",
      "metadata": {
        "id": "H19cEV5Zq2m-",
        "colab": {
          "base_uri": "https://localhost:8080/"
        },
        "outputId": "2e9c8f0a-c935-4aef-dc17-2a9910eb844c"
      },
      "source": [
        "df['TYPE MOTOR'].value_counts()"
      ],
      "execution_count": null,
      "outputs": [
        {
          "output_type": "execute_result",
          "data": {
            "text/plain": [
              "3     5028\n",
              "35    2167\n",
              "33    1911\n",
              "6     1649\n",
              "34    1528\n",
              "27    1380\n",
              "7     1211\n",
              "8     1069\n",
              "26     514\n",
              "9      476\n",
              "18     390\n",
              "19     317\n",
              "1      150\n",
              "12     149\n",
              "22     143\n",
              "21     134\n",
              "16      76\n",
              "0       46\n",
              "13      46\n",
              "4       36\n",
              "30      35\n",
              "10      26\n",
              "29      25\n",
              "24      23\n",
              "25      15\n",
              "20      14\n",
              "32      13\n",
              "11       7\n",
              "15       6\n",
              "14       6\n",
              "23       6\n",
              "2        4\n",
              "28       3\n",
              "17       3\n",
              "31       3\n",
              "5        1\n",
              "Name: TYPE MOTOR, dtype: int64"
            ]
          },
          "metadata": {},
          "execution_count": 16
        }
      ]
    },
    {
      "cell_type": "markdown",
      "metadata": {
        "id": "97I94CaqmO4M"
      },
      "source": [
        "**SPLITTING DATA**"
      ]
    },
    {
      "cell_type": "code",
      "metadata": {
        "id": "rLlhoe36mS7W"
      },
      "source": [
        "y = df[['TYPE MOTOR']]\n",
        "X = df[['SMH DIGUNAKAN UNTUK','HOBI', 'PEKERJAAN']] "
      ],
      "execution_count": null,
      "outputs": []
    },
    {
      "cell_type": "code",
      "metadata": {
        "colab": {
          "base_uri": "https://localhost:8080/"
        },
        "id": "ayfpUa_Ymnos",
        "outputId": "1eb9c880-2a8b-4f3d-ca24-bb4252e20c37"
      },
      "source": [
        "from sklearn.ensemble import RandomForestClassifier\n",
        "from sklearn.model_selection import  train_test_split\n",
        "\n",
        "X_train, X_test, y_train, y_test = train_test_split(X, y, random_state = 0)\n",
        "\n",
        "clf = RandomForestClassifier(random_state = 0).fit(X_train, y_train)\n",
        "\n",
        "y_pred = clf.predict(X_test)"
      ],
      "execution_count": null,
      "outputs": [
        {
          "output_type": "stream",
          "name": "stderr",
          "text": [
            "/usr/local/lib/python3.7/dist-packages/ipykernel_launcher.py:6: DataConversionWarning: A column-vector y was passed when a 1d array was expected. Please change the shape of y to (n_samples,), for example using ravel().\n",
            "  \n"
          ]
        }
      ]
    },
    {
      "cell_type": "markdown",
      "metadata": {
        "id": "VcXHvlNamskS"
      },
      "source": [
        "# PREDICT THE VALUE"
      ]
    },
    {
      "cell_type": "code",
      "metadata": {
        "colab": {
          "base_uri": "https://localhost:8080/"
        },
        "id": "llnHmHVvmphA",
        "outputId": "b0c8476b-f55f-45c2-c6f8-bbfb693c4c95"
      },
      "source": [
        "print(\"Enter value:\")\n",
        "MOTOR = float(input(\"AKAN DIGUNAKAN UNTUK : \"))\n",
        "HOBI = float(input(\"HOBI : \"))\n",
        "PEKERJAAN = float(input(\"PEKERJAAN : \"))\n",
        "output = clf.predict([[MOTOR, HOBI, PEKERJAAN]])\n",
        "\n",
        "print(f'\\n Motor yang cocok untuk anda adalah {output}')\n"
      ],
      "execution_count": null,
      "outputs": [
        {
          "output_type": "stream",
          "name": "stdout",
          "text": [
            "Enter value:\n",
            "AKAN DIGUNAKAN UNTUK : 1\n",
            "HOBI : 1\n",
            "PEKERJAAN : 1\n",
            "Motor yang cocok untuk anda adalah [3]\n"
          ]
        }
      ]
    }
  ]
}